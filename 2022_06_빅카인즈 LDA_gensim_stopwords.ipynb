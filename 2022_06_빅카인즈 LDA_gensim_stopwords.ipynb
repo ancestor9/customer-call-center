{
 "cells": [
  {
   "cell_type": "code",
   "execution_count": 1,
   "id": "f98292e7",
   "metadata": {},
   "outputs": [],
   "source": [
    "from IPython.core.interactiveshell import InteractiveShell\n",
    "InteractiveShell.ast_node_interactivity = 'all'\n",
    "import numpy as np\n",
    "import pandas as pd\n",
    "import matplotlib.pyplot as plt\n",
    "get_ipython().run_line_magic('matplotlib', 'inline')\n",
    "import seaborn as sns\n",
    "#Configure Defaults\n",
    "import warnings\n",
    "warnings.filterwarnings('ignore')\n",
    "import missingno as msno\n",
    "from tqdm import tqdm_notebook\n",
    "\n",
    "plt.rcParams['font.family']='Malgun Gothic'\n",
    "plt.rcParams['axes.unicode_minus'] = False #한글 폰트 사용시 마이너스 폰트 깨짐 해결"
   ]
  },
  {
   "cell_type": "markdown",
   "id": "73a3d6bc",
   "metadata": {},
   "source": [
    "Spherical k-means for document clustering\n",
    "- https://lovit.github.io/nlp/machine%20learning/2018/10/16/spherical_kmeans/"
   ]
  },
  {
   "cell_type": "code",
   "execution_count": 2,
   "id": "417e011c",
   "metadata": {},
   "outputs": [],
   "source": [
    "def summary(df) :\n",
    "    pd.set_option('display.max_rows', 100)\n",
    "    tf = pd.DataFrame({'데이터형태(dtypes)' : df.dtypes, \n",
    "                        '비 결측치 수(notnull' : df.notnull().sum(),\n",
    "                        '결측치 수(null)' : df.isnull().sum(), \n",
    "                        '고유값 수(nunique)' : df.nunique()})\n",
    "    return tf"
   ]
  },
  {
   "cell_type": "code",
   "execution_count": 39,
   "id": "394c562a",
   "metadata": {
    "scrolled": false
   },
   "outputs": [
    {
     "data": {
      "text/plain": [
       "Timestamp('2022-02-28 00:00:00')"
      ]
     },
     "execution_count": 39,
     "metadata": {},
     "output_type": "execute_result"
    },
    {
     "data": {
      "text/plain": [
       "Timestamp('2017-01-01 00:00:00')"
      ]
     },
     "execution_count": 39,
     "metadata": {},
     "output_type": "execute_result"
    },
    {
     "data": {
      "text/html": [
       "<div>\n",
       "<style scoped>\n",
       "    .dataframe tbody tr th:only-of-type {\n",
       "        vertical-align: middle;\n",
       "    }\n",
       "\n",
       "    .dataframe tbody tr th {\n",
       "        vertical-align: top;\n",
       "    }\n",
       "\n",
       "    .dataframe thead th {\n",
       "        text-align: right;\n",
       "    }\n",
       "</style>\n",
       "<table border=\"1\" class=\"dataframe\">\n",
       "  <thead>\n",
       "    <tr style=\"text-align: right;\">\n",
       "      <th></th>\n",
       "      <th>일자</th>\n",
       "      <th>언론사</th>\n",
       "      <th>통합 분류1</th>\n",
       "      <th>통합 분류2</th>\n",
       "      <th>통합 분류3</th>\n",
       "      <th>키워드</th>\n",
       "      <th>특성추출(가중치순 상위 50개)</th>\n",
       "      <th>본문</th>\n",
       "    </tr>\n",
       "  </thead>\n",
       "  <tbody>\n",
       "    <tr>\n",
       "      <th>8674</th>\n",
       "      <td>2020-03-20</td>\n",
       "      <td>중도일보</td>\n",
       "      <td>경제&gt;자원</td>\n",
       "      <td>경제&gt;유통</td>\n",
       "      <td>지역&gt;경남</td>\n",
       "      <td>순수,국산,수매,밀가루,시범,판매,농산물,면역,증진,효과,노화,억제,한국농수산식품유...</td>\n",
       "      <td>시범판매,밀가루,농산물,밀산업,자급률,병해충,소비자,육성법,소비량,신규제품,16톤,...</td>\n",
       "      <td>한국농수산식품유통공사(aT, 사장 이병호)는 지난해 수매한 국산 밀가루 16톤을 오...</td>\n",
       "    </tr>\n",
       "    <tr>\n",
       "      <th>8675</th>\n",
       "      <td>2020-03-20</td>\n",
       "      <td>중도일보</td>\n",
       "      <td>지역&gt;전북</td>\n",
       "      <td>지역&gt;전남</td>\n",
       "      <td>지역&gt;강원</td>\n",
       "      <td>물고기,채소농사,고창군,아쿠아포닉스,채소,전국,출하,아쿠아포닉스,농법,착공,시설,출...</td>\n",
       "      <td>아쿠아포닉스,고창군,고창군청,지원사업,이영성,아쿠아포닉스코리아,재배법,수경재배,환경...</td>\n",
       "      <td>전북 고창군의 한 농장이 물고기 양식장에서 나온 유기물로 작물을 재배하는 '아쿠아포...</td>\n",
       "    </tr>\n",
       "    <tr>\n",
       "      <th>8678</th>\n",
       "      <td>2020-03-20</td>\n",
       "      <td>전북도민일보</td>\n",
       "      <td>지역&gt;충북</td>\n",
       "      <td>지역&gt;대전</td>\n",
       "      <td>지역&gt;전북</td>\n",
       "      <td>남부안농협,토양,개량제,무상,지원,남부안농협,조합장,최우식,로컬,푸드,농산물,생산,...</td>\n",
       "      <td>남부안농협,로컬푸드,토양개량제,직매장,농산물,고품질,무상지원,농가소득,732포,최우...</td>\n",
       "      <td>남부안농협(조합장 최우식)은 로컬푸드 고품질 농산물 생산을 위한 토양개량 지원사업...</td>\n",
       "    </tr>\n",
       "    <tr>\n",
       "      <th>8687</th>\n",
       "      <td>2020-03-20</td>\n",
       "      <td>충청투데이</td>\n",
       "      <td>경제&gt;유통</td>\n",
       "      <td>경제&gt;자원</td>\n",
       "      <td>NaN</td>\n",
       "      <td>취나물,부여,백마강,부여군농업기술센터,남면,지역,백마강,취나물,출하,본격적,시작,1...</td>\n",
       "      <td>면역력,백마강,부여군,관계자,부여군농업기술센터,병해충,클로로젠산,농약허용물질목록관리...</td>\n",
       "      <td>[충청투데이 김일순 기자] 부여군농업기술센터는 남면 지역에서 고품질 백마강 취나물 ...</td>\n",
       "    </tr>\n",
       "    <tr>\n",
       "      <th>8689</th>\n",
       "      <td>2020-03-19</td>\n",
       "      <td>대전일보</td>\n",
       "      <td>지역&gt;경기</td>\n",
       "      <td>지역&gt;충남</td>\n",
       "      <td>경제&gt;자원</td>\n",
       "      <td>보령시,공모,타작물,생산,장비,지원,사업,보령,보령시,타작물,재배,확산,타작물,재배...</td>\n",
       "      <td>타작물,보령시,농업인,간척지,ha,연명부,소재지,기반정비,선별기,방제기,수확기,농기...</td>\n",
       "      <td>[보령] 보령시는 논 타작물 재배 확산을 위해 타작물 재배에 필요한 기반정비 및 생...</td>\n",
       "    </tr>\n",
       "  </tbody>\n",
       "</table>\n",
       "</div>"
      ],
      "text/plain": [
       "             일자     언론사 통합 분류1  통합 분류2  통합 분류3  \\\n",
       "8674 2020-03-20    중도일보  경제>자원   경제>유통   지역>경남   \n",
       "8675 2020-03-20    중도일보  지역>전북   지역>전남   지역>강원   \n",
       "8678 2020-03-20  전북도민일보  지역>충북   지역>대전   지역>전북   \n",
       "8687 2020-03-20   충청투데이  경제>유통   경제>자원     NaN   \n",
       "8689 2020-03-19    대전일보  지역>경기   지역>충남   경제>자원   \n",
       "\n",
       "                                                    키워드  \\\n",
       "8674  순수,국산,수매,밀가루,시범,판매,농산물,면역,증진,효과,노화,억제,한국농수산식품유...   \n",
       "8675  물고기,채소농사,고창군,아쿠아포닉스,채소,전국,출하,아쿠아포닉스,농법,착공,시설,출...   \n",
       "8678  남부안농협,토양,개량제,무상,지원,남부안농협,조합장,최우식,로컬,푸드,농산물,생산,...   \n",
       "8687  취나물,부여,백마강,부여군농업기술센터,남면,지역,백마강,취나물,출하,본격적,시작,1...   \n",
       "8689  보령시,공모,타작물,생산,장비,지원,사업,보령,보령시,타작물,재배,확산,타작물,재배...   \n",
       "\n",
       "                                      특성추출(가중치순 상위 50개)  \\\n",
       "8674  시범판매,밀가루,농산물,밀산업,자급률,병해충,소비자,육성법,소비량,신규제품,16톤,...   \n",
       "8675  아쿠아포닉스,고창군,고창군청,지원사업,이영성,아쿠아포닉스코리아,재배법,수경재배,환경...   \n",
       "8678  남부안농협,로컬푸드,토양개량제,직매장,농산물,고품질,무상지원,농가소득,732포,최우...   \n",
       "8687  면역력,백마강,부여군,관계자,부여군농업기술센터,병해충,클로로젠산,농약허용물질목록관리...   \n",
       "8689  타작물,보령시,농업인,간척지,ha,연명부,소재지,기반정비,선별기,방제기,수확기,농기...   \n",
       "\n",
       "                                                     본문  \n",
       "8674  한국농수산식품유통공사(aT, 사장 이병호)는 지난해 수매한 국산 밀가루 16톤을 오...  \n",
       "8675  전북 고창군의 한 농장이 물고기 양식장에서 나온 유기물로 작물을 재배하는 '아쿠아포...  \n",
       "8678   남부안농협(조합장 최우식)은 로컬푸드 고품질 농산물 생산을 위한 토양개량 지원사업...  \n",
       "8687  [충청투데이 김일순 기자] 부여군농업기술센터는 남면 지역에서 고품질 백마강 취나물 ...  \n",
       "8689  [보령] 보령시는 논 타작물 재배 확산을 위해 타작물 재배에 필요한 기반정비 및 생...  "
      ]
     },
     "execution_count": 39,
     "metadata": {},
     "output_type": "execute_result"
    },
    {
     "data": {
      "text/plain": [
       "(570265, 8)"
      ]
     },
     "execution_count": 39,
     "metadata": {},
     "output_type": "execute_result"
    }
   ],
   "source": [
    "df = pd.read_pickle('../data/result.pkl')\n",
    "# 제목이 같은 항목 삭제 및 마지막 레코드만 남김\n",
    "df = df.drop_duplicates(subset=['일자','언론사', '본문'], keep=\"last\")\n",
    "df = df.dropna(subset=['특성추출(가중치순 상위 50개)'], axis=0)\n",
    "df['일자'].max(); df['일자'].min()\n",
    "df.head()\n",
    "df.shape"
   ]
  },
  {
   "cell_type": "code",
   "execution_count": 40,
   "id": "2f9bfd63",
   "metadata": {},
   "outputs": [
    {
     "data": {
      "text/plain": [
       "(464686, 8)"
      ]
     },
     "execution_count": 40,
     "metadata": {},
     "output_type": "execute_result"
    },
    {
     "data": {
      "text/plain": [
       "(105579, 8)"
      ]
     },
     "execution_count": 40,
     "metadata": {},
     "output_type": "execute_result"
    },
    {
     "data": {
      "text/plain": [
       "(105579, 8)"
      ]
     },
     "execution_count": 40,
     "metadata": {},
     "output_type": "execute_result"
    }
   ],
   "source": [
    "df[df['일자'] > '2020-02-20'].shape\n",
    "df[df['일자'] <= '2020-02-20'].shape\n",
    "\n",
    "df = df[df['일자'] <= '2020-02-20']\n",
    "df.shape"
   ]
  },
  {
   "cell_type": "markdown",
   "id": "a6f1e9fa",
   "metadata": {},
   "source": [
    "## 불용어 "
   ]
  },
  {
   "cell_type": "code",
   "execution_count": 5,
   "id": "ec6e2e41",
   "metadata": {},
   "outputs": [
    {
     "data": {
      "text/plain": [
       "(50000, 4)"
      ]
     },
     "execution_count": 5,
     "metadata": {},
     "output_type": "execute_result"
    },
    {
     "data": {
      "text/plain": [
       "(50000, 4)"
      ]
     },
     "execution_count": 5,
     "metadata": {},
     "output_type": "execute_result"
    },
    {
     "data": {
      "text/plain": [
       "(50000, 4)"
      ]
     },
     "execution_count": 5,
     "metadata": {},
     "output_type": "execute_result"
    },
    {
     "data": {
      "text/plain": [
       "(150000, 4)"
      ]
     },
     "execution_count": 5,
     "metadata": {},
     "output_type": "execute_result"
    }
   ],
   "source": [
    "data1 = pd.read_excel('../data/출현단어_5만 _박태욱.xlsx')\n",
    "data2 = pd.read_excel('../data/출현단어_10만_권성희.xlsx')\n",
    "data3 = pd.read_excel('../data/출현단어_20만_권성희.xlsx')\n",
    "\n",
    "data1.shape\n",
    "data2.shape\n",
    "data3.shape\n",
    "\n",
    "data = data1.append(data2).append(data3)\n",
    "data.shape"
   ]
  },
  {
   "cell_type": "code",
   "execution_count": 6,
   "id": "01ecdfed",
   "metadata": {},
   "outputs": [
    {
     "name": "stdout",
     "output_type": "stream",
     "text": [
      "채택단어 11465\n",
      "불용어비율 92.35466666666666\n"
     ]
    }
   ],
   "source": [
    "stop_words_01 = data[data['선택'] == 0]['출현단어'].tolist()\n",
    "print('채택단어', len(data[data['선택'] == 1]))\n",
    "print('불용어비율', len(data[data['선택'] == 0])/len(data)*100)\n",
    "stop_words = list(set(stop_words_01))"
   ]
  },
  {
   "cell_type": "code",
   "execution_count": 7,
   "id": "c050ff31",
   "metadata": {},
   "outputs": [
    {
     "data": {
      "text/plain": [
       "138564"
      ]
     },
     "execution_count": 7,
     "metadata": {},
     "output_type": "execute_result"
    }
   ],
   "source": [
    "for i in df.언론사.value_counts().index :\n",
    "    stop_words.append(i)\n",
    "    \n",
    "for i in ['미국', '국내', '한국', '대표', '중국','일본', '가격', '글로벌', '기업', '대상', '정부', '세계', '국회', '관심', '방송'] :\n",
    "    stop_words.append(i)\n",
    "\n",
    "for i in ['인사', '발령', '공개모집', '필기시험', '발령', '인사 발령', '과장', '전보', '일자', '공무원', '국장', '점검', '실시'] :\n",
    "    stop_words.append(i)\n",
    "    \n",
    "common = [\"전략\", \"연구\", \"평가\", \"마련\", \"조사\", \"관리\", \"보다\", \"관련\",\"전문가\",\"예정\",\"이번\", \"환경\", \"기술\", \"사업\", \"산업\", \"기업\",\"우리나라\", \"또한\",\n",
    "          \"총회\", \"대한\", \"통해\", \"한국\",\"국내\",\"개최\",\"행사\",\"우수\",\"장관\",\"피해\",\"해외\",\"일자리\",\"박람회\", \"지원\", \"위해\", \"총회\",\"국제\",\"분야\",\"세계\",\n",
    "          \"식품과학\",\"국립\",\"시민\",\"통합\", \"정책\", \"대해\", '선정', '아시아경제']\n",
    "for i in common :\n",
    "    stop_words.append(i)\n",
    "\n",
    "for i in ['두고', '농협', '시행', '식품안전', '안전', '참여', '이상', '조치', '개선', '관내', '참석', '대전', '확산', '조성', '홍보'] :\n",
    "    stop_words.append(i)\n",
    "    \n",
    "for i in ['대한민국', '홈페이지', '상반기', '시간date', '이명박', '박근혜', '청와대', '위원회',\n",
    "          '그동안', '1만', '회용', '사람들', '앤서니', '이재명', '더불어민주당', '민주당',\n",
    "         '봉준호', '시상식', '만큼','위원장', '관계자', '서울', '국민의힘', '윤석열', 'a씨', '식품의약품안전처', '식약처','소비자들', '농림축산식품부',\n",
    "         '식품부', '농식품부']:\n",
    "    stop_words.append(i)\n",
    "\n",
    "len(list(set(stop_words)))\n",
    "stop_words = list(set(stop_words))"
   ]
  },
  {
   "cell_type": "markdown",
   "id": "b0098b3f",
   "metadata": {},
   "source": [
    "# 1. 사이킷런 LDA\n",
    "## 불용어를 Countvector()에서 적용"
   ]
  },
  {
   "cell_type": "markdown",
   "id": "e2d6f424",
   "metadata": {},
   "source": [
    "## 특성추출(가중치순 상위 50개)로 corpus 구성"
   ]
  },
  {
   "cell_type": "code",
   "execution_count": 81,
   "id": "793a59e5",
   "metadata": {},
   "outputs": [
    {
     "data": {
      "text/plain": [
       "['천안사,화상병,개화기,그동안,강성수,기술교육,농가실천사항,관리제도,검역병,정보교환,농가들,기술향상,병해충,천안시농업기술센터,pls,천안,천안시,농가,교육,발전,농약,향상,방제,확대,사과,생산,소장,개최,제도,관리,목록,물질',\n",
       " '재활용품,괴산읍,괴산새마을회,비닐포대,재활용,농약봉지,회원들,재사용,마을회,노명식,농약병,홍범식고택,괴산군,수익금,행사,자원,일원,수집,지역,판매,의미,이웃,봉지,농약,발생,비닐,회원,주변,회장,포대,수거,방치,이날,환경,사용']"
      ]
     },
     "execution_count": 81,
     "metadata": {},
     "output_type": "execute_result"
    }
   ],
   "source": [
    "corpus = []\n",
    "\n",
    "for keywords in df['특성추출(가중치순 상위 50개)']:\n",
    "    corpus.append(keywords)\n",
    "\n",
    "corpus[:2]"
   ]
  },
  {
   "cell_type": "markdown",
   "id": "d978e294",
   "metadata": {},
   "source": [
    "### 불용어 적용"
   ]
  },
  {
   "cell_type": "code",
   "execution_count": 43,
   "id": "fad20e00",
   "metadata": {
    "scrolled": true
   },
   "outputs": [
    {
     "data": {
      "text/plain": [
       "192"
      ]
     },
     "execution_count": 43,
     "metadata": {},
     "output_type": "execute_result"
    },
    {
     "data": {
      "text/plain": [
       "<105579x192 sparse matrix of type '<class 'numpy.int64'>'\n",
       "\twith 131022 stored elements in Compressed Sparse Row format>"
      ]
     },
     "execution_count": 43,
     "metadata": {},
     "output_type": "execute_result"
    }
   ],
   "source": [
    "from sklearn.feature_extraction.text import CountVectorizer, TfidfVectorizer,TfidfTransformer\n",
    "vect = CountVectorizer(stop_words = stop_words, ngram_range=(1, 2), min_df= 0.0015, max_df= 0.9)\n",
    "X = vect.fit_transform(corpus) # Doc-Term Matrix 계산\n",
    "len(vect.get_feature_names())\n",
    "X\n",
    "\n",
    "#from scipy import sparse\n",
    "#X.toarray()\n",
    "#sparse.csr_matrix(X.toarray())"
   ]
  },
  {
   "cell_type": "code",
   "execution_count": 44,
   "id": "d05bdc81",
   "metadata": {},
   "outputs": [],
   "source": [
    "#pd.DataFrame(X.toarray(), columns = vect.get_feature_names())"
   ]
  },
  {
   "cell_type": "code",
   "execution_count": 45,
   "id": "6e8cb7dc",
   "metadata": {
    "scrolled": true
   },
   "outputs": [
    {
     "data": {
      "text/html": [
       "<style>#sk-container-id-2 {color: black;background-color: white;}#sk-container-id-2 pre{padding: 0;}#sk-container-id-2 div.sk-toggleable {background-color: white;}#sk-container-id-2 label.sk-toggleable__label {cursor: pointer;display: block;width: 100%;margin-bottom: 0;padding: 0.3em;box-sizing: border-box;text-align: center;}#sk-container-id-2 label.sk-toggleable__label-arrow:before {content: \"▸\";float: left;margin-right: 0.25em;color: #696969;}#sk-container-id-2 label.sk-toggleable__label-arrow:hover:before {color: black;}#sk-container-id-2 div.sk-estimator:hover label.sk-toggleable__label-arrow:before {color: black;}#sk-container-id-2 div.sk-toggleable__content {max-height: 0;max-width: 0;overflow: hidden;text-align: left;background-color: #f0f8ff;}#sk-container-id-2 div.sk-toggleable__content pre {margin: 0.2em;color: black;border-radius: 0.25em;background-color: #f0f8ff;}#sk-container-id-2 input.sk-toggleable__control:checked~div.sk-toggleable__content {max-height: 200px;max-width: 100%;overflow: auto;}#sk-container-id-2 input.sk-toggleable__control:checked~label.sk-toggleable__label-arrow:before {content: \"▾\";}#sk-container-id-2 div.sk-estimator input.sk-toggleable__control:checked~label.sk-toggleable__label {background-color: #d4ebff;}#sk-container-id-2 div.sk-label input.sk-toggleable__control:checked~label.sk-toggleable__label {background-color: #d4ebff;}#sk-container-id-2 input.sk-hidden--visually {border: 0;clip: rect(1px 1px 1px 1px);clip: rect(1px, 1px, 1px, 1px);height: 1px;margin: -1px;overflow: hidden;padding: 0;position: absolute;width: 1px;}#sk-container-id-2 div.sk-estimator {font-family: monospace;background-color: #f0f8ff;border: 1px dotted black;border-radius: 0.25em;box-sizing: border-box;margin-bottom: 0.5em;}#sk-container-id-2 div.sk-estimator:hover {background-color: #d4ebff;}#sk-container-id-2 div.sk-parallel-item::after {content: \"\";width: 100%;border-bottom: 1px solid gray;flex-grow: 1;}#sk-container-id-2 div.sk-label:hover label.sk-toggleable__label {background-color: #d4ebff;}#sk-container-id-2 div.sk-serial::before {content: \"\";position: absolute;border-left: 1px solid gray;box-sizing: border-box;top: 0;bottom: 0;left: 50%;z-index: 0;}#sk-container-id-2 div.sk-serial {display: flex;flex-direction: column;align-items: center;background-color: white;padding-right: 0.2em;padding-left: 0.2em;position: relative;}#sk-container-id-2 div.sk-item {position: relative;z-index: 1;}#sk-container-id-2 div.sk-parallel {display: flex;align-items: stretch;justify-content: center;background-color: white;position: relative;}#sk-container-id-2 div.sk-item::before, #sk-container-id-2 div.sk-parallel-item::before {content: \"\";position: absolute;border-left: 1px solid gray;box-sizing: border-box;top: 0;bottom: 0;left: 50%;z-index: -1;}#sk-container-id-2 div.sk-parallel-item {display: flex;flex-direction: column;z-index: 1;position: relative;background-color: white;}#sk-container-id-2 div.sk-parallel-item:first-child::after {align-self: flex-end;width: 50%;}#sk-container-id-2 div.sk-parallel-item:last-child::after {align-self: flex-start;width: 50%;}#sk-container-id-2 div.sk-parallel-item:only-child::after {width: 0;}#sk-container-id-2 div.sk-dashed-wrapped {border: 1px dashed gray;margin: 0 0.4em 0.5em 0.4em;box-sizing: border-box;padding-bottom: 0.4em;background-color: white;}#sk-container-id-2 div.sk-label label {font-family: monospace;font-weight: bold;display: inline-block;line-height: 1.2em;}#sk-container-id-2 div.sk-label-container {text-align: center;}#sk-container-id-2 div.sk-container {/* jupyter's `normalize.less` sets `[hidden] { display: none; }` but bootstrap.min.css set `[hidden] { display: none !important; }` so we also need the `!important` here to be able to override the default hidden behavior on the sphinx rendered scikit-learn.org. See: https://github.com/scikit-learn/scikit-learn/issues/21755 */display: inline-block !important;position: relative;}#sk-container-id-2 div.sk-text-repr-fallback {display: none;}</style><div id=\"sk-container-id-2\" class=\"sk-top-container\"><div class=\"sk-text-repr-fallback\"><pre>LatentDirichletAllocation(n_components=4, random_state=42)</pre><b>In a Jupyter environment, please rerun this cell to show the HTML representation or trust the notebook. <br />On GitHub, the HTML representation is unable to render, please try loading this page with nbviewer.org.</b></div><div class=\"sk-container\" hidden><div class=\"sk-item\"><div class=\"sk-estimator sk-toggleable\"><input class=\"sk-toggleable__control sk-hidden--visually\" id=\"sk-estimator-id-2\" type=\"checkbox\" checked><label for=\"sk-estimator-id-2\" class=\"sk-toggleable__label sk-toggleable__label-arrow\">LatentDirichletAllocation</label><div class=\"sk-toggleable__content\"><pre>LatentDirichletAllocation(n_components=4, random_state=42)</pre></div></div></div></div></div>"
      ],
      "text/plain": [
       "LatentDirichletAllocation(n_components=4, random_state=42)"
      ]
     },
     "execution_count": 45,
     "metadata": {},
     "output_type": "execute_result"
    },
    {
     "name": "stdout",
     "output_type": "stream",
     "text": [
      "(4, 192)\n",
      "[[7.50766062e-01 2.93628351e-01 2.60032246e-01 4.38396581e+01\n",
      "  1.66227960e+02 4.36882383e+02 2.54130701e-01 1.21327191e+01\n",
      "  2.54033705e-01 2.51603699e-01 8.02534339e-01 2.56463429e-01\n",
      "  2.53168473e-01 2.55713228e-01 3.80103281e+01 2.80820122e+02\n",
      "  2.52770389e-01 4.12075765e+01 2.84321139e-01 2.53426050e-01\n",
      "  2.52087170e-01 2.52500017e-01 2.52463100e-01 2.52922753e-01\n",
      "  2.52630873e-01 2.53704975e-01 2.51528065e-01 2.51664896e-01\n",
      "  2.54450359e-01 2.51903193e-01 5.45778073e-01 2.52500133e-01\n",
      "  2.52755676e-01 2.50658126e-01 2.51125337e-01 2.51548985e-01\n",
      "  2.51006506e-01 2.50905278e-01 2.50641877e-01 2.52063527e-01\n",
      "  2.52401922e-01 2.55811219e-01 3.59631242e-01 2.50989214e-01\n",
      "  2.54351214e-01 4.18798028e+01 1.03232289e+00 2.58417710e-01\n",
      "  2.54577802e-01 2.53447290e-01 2.52424684e-01 2.52449107e-01\n",
      "  2.52004673e-01 2.51986771e-01 2.51319573e-01 2.52104176e-01\n",
      "  2.51299002e-01 2.53871566e-01 2.38597038e+01 2.84883990e+01\n",
      "  2.58605826e-01 2.51826403e-01 2.53176999e-01 2.52056767e-01\n",
      "  2.55865236e-01 1.74236563e+02 2.53375186e-01 1.99028052e+02\n",
      "  2.35734063e+00 6.93791474e+00 2.51336292e-01 2.54158171e-01\n",
      "  2.53093912e-01 2.51694820e-01 2.51454575e-01 2.51732984e-01\n",
      "  2.53031957e-01 2.52187627e-01 2.70663996e-01 2.63263791e-01\n",
      "  2.53286986e-01 2.92458403e-01 2.52098553e-01 2.13938680e+03\n",
      "  1.05127119e+01 1.76241943e+02 2.50840757e-01 2.53579776e-01\n",
      "  7.59467482e+02 2.52589554e-01 2.51782402e-01 2.62661518e-01\n",
      "  1.81233942e+02 2.54613778e-01 2.71033409e+00 2.53459556e-01\n",
      "  1.81234708e+02 8.64743306e+01 2.53716224e-01 2.63674189e-01\n",
      "  2.52324419e-01 2.45974222e+00 2.53569599e-01 2.60655445e-01\n",
      "  1.48611671e+03 2.45519726e+02 1.86242767e+02 2.47235900e+02\n",
      "  3.53242598e+02 2.53768638e-01 2.53263522e-01 2.51556921e-01\n",
      "  2.33161262e+03 2.54233114e-01 2.50466205e-01 2.07244029e+02\n",
      "  2.55843113e-01 2.51874935e-01 2.51698080e-01 2.55124312e-01\n",
      "  2.53844312e-01 2.53168240e-01 2.53079315e-01 2.56175320e-01\n",
      "  1.55424686e+03 3.74724006e-01 2.52299632e-01 2.31247677e+02\n",
      "  2.55158623e+02 5.36231357e+02 8.01583199e+00 3.08714763e+01\n",
      "  2.54399806e-01 3.75219610e+02 2.36247233e+02 2.52791663e-01\n",
      "  2.51406200e-01 5.23691441e+02 2.51820563e-01 1.08560508e+03\n",
      "  1.34576703e+02 2.52765888e-01 2.53106254e-01 2.52028201e-01\n",
      "  6.95571471e-01 2.62360439e-01 1.62239766e+02 6.15948965e+03\n",
      "  2.55454501e-01 2.56415398e-01 2.65481850e+00 2.20378099e+02\n",
      "  6.56244642e+02 2.29075223e+03 1.64241867e+02 1.92753052e+02\n",
      "  5.11298360e+03 2.50679727e-01 2.53412029e-01 2.59156126e-01\n",
      "  3.33245196e+02 2.54598561e-01 2.30826817e+03 2.54885280e-01\n",
      "  2.54431241e-01 2.54651048e-01 2.50884148e-01 2.52509006e-01\n",
      "  3.98237167e+02 2.53146180e-01 2.53174447e-01 2.51226485e-01\n",
      "  2.56748283e-01 2.53785240e-01 2.54457073e-01 2.52400138e-01\n",
      "  2.51067948e-01 2.52734187e-01 2.52677297e-01 2.53110961e-01\n",
      "  4.47522708e-01 2.53451235e-01 1.48958040e+00 3.07244049e+02\n",
      "  2.22242438e+02 3.49761702e-01 2.50825119e-01 2.53240810e-01\n",
      "  2.52137561e-01 8.76227527e+02 2.56354935e-01 5.79236481e+02]\n",
      " [6.07747748e+02 2.51090724e-01 2.58795920e-01 4.30059540e+02\n",
      "  2.55493528e-01 1.62596480e+01 2.52982184e-01 2.52355171e-01\n",
      "  2.50523419e-01 2.51525034e-01 2.52084309e-01 2.53318727e-01\n",
      "  2.50467260e-01 2.59377803e-01 2.15904286e+01 1.67908576e+00\n",
      "  3.04023962e+03 2.62032115e-01 2.62474440e-01 2.52376815e-01\n",
      "  2.51285434e-01 2.50651593e-01 2.53116830e-01 2.50476216e-01\n",
      "  3.02910644e+02 1.68012525e+02 1.69247041e+02 1.77244932e+02\n",
      "  2.92259794e+03 1.67246455e+02 3.10668669e+02 4.01102425e+02\n",
      "  5.33105477e+02 1.68248758e+02 2.56635653e-01 2.67245418e+02\n",
      "  1.89246304e+02 1.03124723e+03 2.87248397e+02 4.27244652e+02\n",
      "  1.12766135e+02 1.94365334e+02 2.51065461e-01 1.66243601e+02\n",
      "  2.50692750e-01 2.54773537e-01 1.60716828e+02 1.11176902e+00\n",
      "  5.99299268e+01 2.51304160e-01 2.61426118e-01 2.53602334e-01\n",
      "  1.76229677e+02 2.50275157e-01 5.53240932e+02 2.51028431e-01\n",
      "  2.97211576e+02 3.87384530e+00 4.28909841e+02 2.03609596e+02\n",
      "  3.40523731e+03 2.50862899e-01 2.57821217e-01 1.67836812e+02\n",
      "  2.53841803e-01 2.52187878e-01 4.23124161e+01 2.52303614e-01\n",
      "  2.56124689e-01 2.95481246e-01 2.53778339e-01 2.50731908e-01\n",
      "  2.51866251e-01 2.50568790e-01 2.50963474e-01 2.51021648e-01\n",
      "  5.05511320e+02 2.52322023e-01 2.52761224e-01 2.50925389e-01\n",
      "  2.50774942e-01 5.08370220e-01 2.54778834e-01 5.51211178e+03\n",
      "  2.55638940e-01 2.51872239e-01 2.51996626e-01 2.52150270e-01\n",
      "  2.68929906e-01 2.52540165e-01 2.52158215e-01 2.53562642e-01\n",
      "  2.52194151e-01 2.54044552e-01 2.58348200e-01 2.52825292e-01\n",
      "  2.52492884e-01 2.49007680e+02 2.54541347e-01 2.53016429e-01\n",
      "  2.50803659e-01 1.24380868e+02 2.21227347e+00 8.66667861e+01\n",
      "  2.53968644e-01 2.50366083e-01 2.51272658e-01 2.55251295e-01\n",
      "  2.51230623e-01 2.54819025e-01 2.51528169e-01 2.53356864e-01\n",
      "  9.87802294e+00 2.52132521e-01 2.50956346e-01 2.52626909e-01\n",
      "  2.51013438e-01 2.50667834e-01 2.50551050e-01 2.54746364e-01\n",
      "  2.51834313e-01 2.52531078e-01 2.50451355e-01 2.55521837e-01\n",
      "  2.50793098e-01 2.54795542e-01 2.52807387e-01 2.51512182e-01\n",
      "  3.07807499e-01 2.57257499e-01 2.56471080e-01 2.53379499e-01\n",
      "  2.53314166e-01 1.82450271e+00 2.51626657e-01 2.51193732e-01\n",
      "  2.50679275e-01 2.55481956e-01 2.51043065e-01 6.15888273e+02\n",
      "  2.52850413e-01 2.51804166e-01 2.51576968e-01 2.52607635e-01\n",
      "  2.52979855e-01 2.53006945e-01 2.54052235e-01 2.26567758e+00\n",
      "  7.26235735e+02 2.65208735e+02 4.60838711e+02 2.55998778e-01\n",
      "  2.50939270e-01 2.54025323e-01 2.50904657e-01 2.54714076e-01\n",
      "  6.32567317e+00 2.50386810e-01 2.51783899e-01 2.54988037e-01\n",
      "  2.50545952e-01 2.39553044e+01 2.53521414e-01 2.51154544e-01\n",
      "  2.59084291e-01 2.73720453e-01 1.66244753e+02 1.09424333e+03\n",
      "  2.53685174e-01 2.50760552e-01 2.51087252e-01 2.50338120e-01\n",
      "  2.51991131e-01 1.93770556e+02 2.25741841e+02 3.20244471e+02\n",
      "  4.07239650e+02 2.51850694e-01 2.80140550e-01 2.50627495e-01\n",
      "  1.23771863e+02 2.51631197e-01 2.52128499e-01 2.53325043e-01\n",
      "  2.53396160e-01 2.51841254e-01 2.93238359e+02 2.51123732e-01\n",
      "  3.15245243e+02 2.64458928e-01 1.18623916e+03 2.55136928e-01]\n",
      " [2.50650148e-01 1.90198567e+02 2.51250321e-01 2.53542133e-01\n",
      "  2.58607948e-01 3.35853088e+01 3.31237373e+02 2.68666662e-01\n",
      "  2.52422529e-01 2.54070468e-01 1.59904657e+03 1.89744588e+02\n",
      "  2.54120348e-01 6.30804738e-01 2.73024210e-01 2.50417364e-01\n",
      "  2.55135993e-01 1.13168320e+02 6.64119162e+01 3.13240312e+02\n",
      "  2.46244064e+02 2.51229775e-01 8.23241905e+02 2.20245935e+02\n",
      "  2.52278522e-01 4.83023256e-01 2.50869816e-01 2.51342860e-01\n",
      "  2.52284377e-01 2.50598748e-01 2.54252290e-01 2.58211349e-01\n",
      "  2.52921200e-01 2.50100188e-01 2.51914945e-01 2.51457215e-01\n",
      "  2.50977942e-01 2.50712190e-01 2.50469934e-01 2.51435476e-01\n",
      "  2.55665714e-01 2.52337482e-01 2.81115603e+02 2.51674983e-01\n",
      "  2.89531465e+02 2.47030805e+02 3.47683737e-01 2.01896494e+00\n",
      "  2.50456369e+03 1.63243272e+02 2.89341575e-01 2.51882817e-01\n",
      "  2.51339229e-01 2.51782476e-01 2.56768828e-01 2.53881482e-01\n",
      "  2.53185922e-01 2.78634074e+02 1.37797648e+03 1.05583884e+02\n",
      "  2.51503055e-01 1.74243076e+02 2.55930557e-01 3.65707996e+00\n",
      "  2.50750620e-01 2.57595061e-01 5.93655552e+01 5.35465000e+02\n",
      "  2.77788070e+01 2.54168871e+00 1.71239227e+02 2.52275292e-01\n",
      "  2.52436101e-01 2.51715933e-01 1.96246492e+02 2.22244767e+02\n",
      "  2.51563428e-01 9.20243551e+02 1.61597788e+02 2.68866896e-01\n",
      "  2.52637514e-01 2.79947052e+02 5.90081732e+02 1.50708444e+03\n",
      "  2.51889517e-01 2.52732663e-01 3.26243313e+02 1.61460740e+02\n",
      "  2.59062984e-01 3.33243824e+02 4.52244991e+02 4.85226301e+02\n",
      "  2.57371294e-01 1.87236126e+02 1.93723634e+02 3.76388816e+02\n",
      "  2.58047346e-01 2.61122331e-01 2.82668370e-01 2.02121690e+01\n",
      "  1.77235801e+02 4.16506795e+02 1.40428229e+03 3.85819029e+02\n",
      "  2.78210525e+02 2.54228364e-01 2.52832620e-01 2.56870403e-01\n",
      "  2.53975729e-01 1.95348511e+01 4.25242473e+02 2.51062398e-01\n",
      "  2.55111301e-01 2.68109077e+02 2.39244413e+02 2.52056645e-01\n",
      "  1.90236807e+02 2.51460252e-01 2.94027539e-01 1.55636618e+02\n",
      "  6.52125346e-01 2.52563355e-01 2.51534951e-01 6.07236316e+02\n",
      "  2.50874159e-01 2.54941126e-01 2.52037839e-01 2.50660511e-01\n",
      "  1.78057807e+00 2.56270529e-01 1.71632813e+02 3.86622116e+02\n",
      "  2.69239008e+02 7.02956322e-01 2.50366498e-01 9.76449300e+02\n",
      "  2.33165052e+02 3.15795660e+02 2.40232037e+02 2.53021034e-01\n",
      "  2.99916744e+02 3.84243631e+02 4.36232399e+02 1.16124258e+03\n",
      "  7.81892804e+02 2.55230840e+02 2.52433692e-01 5.74192083e+00\n",
      "  2.55998158e-01 2.77519238e-01 2.54693040e-01 3.34453796e-01\n",
      "  2.52391625e-01 7.32038599e-01 2.52625232e-01 9.73320961e+00\n",
      "  2.54108081e-01 2.33677548e+01 2.52975002e-01 3.36609248e+02\n",
      "  2.52363073e-01 1.89532709e+02 1.33219271e+02 2.58136073e-01\n",
      "  2.53536684e-01 2.56519823e-01 2.53515274e-01 2.51825793e-01\n",
      "  2.57315037e-01 1.64242351e+02 2.81241909e+02 2.50792234e-01\n",
      "  1.73237152e+02 3.43786061e-01 2.37329550e+01 2.52662138e-01\n",
      "  2.57203764e-01 2.42235667e+02 5.80216259e+02 6.02818590e+02\n",
      "  2.62403820e-01 2.52161251e-01 1.52265816e+02 2.51116333e-01\n",
      "  2.51945077e-01 2.53697577e-01 2.59839229e-01 2.53493505e-01\n",
      "  2.50622903e-01 2.54851936e-01 2.52799481e-01 2.53124826e-01]\n",
      " [2.50835419e-01 2.56713665e-01 1.78229922e+02 6.84726018e+00\n",
      "  2.57938158e-01 1.43272660e+02 2.55514331e-01 1.97434626e+03\n",
      "  1.70243020e+02 8.97242801e+02 1.58989881e+03 6.35745630e+02\n",
      "  3.39242244e+02 2.80854104e+02 1.17126219e+02 2.50374520e-01\n",
      "  2.52470322e-01 2.33620715e+01 9.60412883e+01 2.53885051e-01\n",
      "  2.52563090e-01 3.80245619e+02 2.52514586e-01 2.50665868e-01\n",
      "  5.84446302e-01 2.50747230e-01 2.50561036e-01 2.52060632e-01\n",
      "  8.95328626e-01 2.51043549e-01 6.35313003e+01 3.86863515e-01\n",
      "  1.38884612e+00 2.50483589e-01 2.58240324e+02 2.51575601e-01\n",
      "  2.51711506e-01 2.51155688e-01 2.50491152e-01 2.51848711e-01\n",
      "  5.67257977e+01 1.12651769e+00 2.73700096e-01 2.53734634e-01\n",
      "  7.96349061e+00 3.98346188e+01 2.07990317e+03 3.25610848e+02\n",
      "  2.51806644e-01 2.51976503e-01 6.71196808e+02 2.22242066e+02\n",
      "  2.66978599e-01 2.99245956e+02 2.50979560e-01 1.89242986e+02\n",
      "  2.83939101e-01 1.65923821e+03 2.53973710e-01 3.18121273e-01\n",
      "  2.52582360e-01 2.54234759e-01 2.22233071e+02 2.54051683e-01\n",
      "  1.60239542e+02 2.53653984e-01 6.30686534e+01 2.54644239e-01\n",
      "  1.46607728e+02 2.06224915e+02 2.55658422e-01 2.76242835e+02\n",
      "  1.90242604e+02 2.19246020e+02 2.51090303e-01 2.52477992e-01\n",
      "  9.84084449e-01 2.51938958e-01 4.27878786e+02 5.80216944e+02\n",
      "  2.61243301e+02 2.52119502e-01 7.34113902e+01 1.22741698e+03\n",
      "  2.28979760e+02 2.53452287e-01 2.53849689e-01 1.03352997e+00\n",
      "  7.90004526e+02 2.51046709e-01 2.51068027e-01 2.57475221e-01\n",
      "  2.56492360e-01 2.55215839e-01 4.32307684e+02 4.01104900e+02\n",
      "  2.54752268e-01 2.56866611e-01 2.08209074e+02 4.05271140e+02\n",
      "  2.61070990e-01 5.55652595e+02 2.51869285e-01 2.53529624e-01\n",
      "  3.39418800e+02 6.97567981e+00 2.53128133e-01 2.51977996e-01\n",
      "  2.52196111e-01 1.56956561e+02 2.52735137e-01 2.26244024e+02\n",
      "  2.54244363e-01 4.53845578e+01 2.54164427e-01 2.51287247e-01\n",
      "  2.56336401e-01 4.06245997e+02 3.80203723e+02 1.63853512e+02\n",
      "  1.33084220e+03 3.86241737e+02 3.07244934e+02 2.51987186e-01\n",
      "  2.51477096e-01 3.36111554e+03 1.81242855e+02 2.50150033e-01\n",
      "  5.22752992e+02 2.55115325e-01 5.40948843e+01 2.53027898e-01\n",
      "  2.53278200e-01 2.52931242e-01 2.50773403e-01 1.68046714e+02\n",
      "  3.32862711e-01 2.57417010e-01 2.65099656e-01 2.53627276e-01\n",
      "  2.53702042e-01 2.51799343e-01 2.62918127e-01 2.52785720e-01\n",
      "  1.61586447e+01 2.53792783e-01 2.53748342e-01 4.50275224e+00\n",
      "  2.52812258e-01 2.57330164e-01 2.51777058e-01 4.99031448e+02\n",
      "  2.52027588e-01 2.61701387e-01 2.54603438e-01 2.59023860e-01\n",
      "  4.36623381e-01 1.37131179e+02 5.01241829e+02 6.85876607e+02\n",
      "  2.51894757e-01 2.57387742e-01 2.59035111e-01 1.45423582e+03\n",
      "  1.61232948e+02 1.55521511e+03 2.50847441e-01 2.52337800e-01\n",
      "  2.51832638e-01 2.53742178e-01 2.53829376e-01 3.31247643e+02\n",
      "  2.54108321e-01 1.63187265e+00 2.70746630e-01 2.50466760e-01\n",
      "  2.52078052e-01 2.59747971e-01 2.50923009e-01 6.56776712e+01\n",
      "  1.46518210e+02 7.37242756e+02 6.69924750e+01 2.51509896e-01\n",
      "  2.52220819e-01 2.52144699e+02 2.50976918e-01 9.16242142e+02\n",
      "  2.51996043e-01 2.53162392e-01 2.51686059e-01 2.55257344e-01]]\n"
     ]
    }
   ],
   "source": [
    "from sklearn.decomposition import LatentDirichletAllocation\n",
    "# 5개의 주제만 뽑았으니 n_components(토픽개수) 5로 설정\n",
    "lda = LatentDirichletAllocation(n_components=4, random_state=42)\n",
    "lda.fit(X)\n",
    "# components_속성은 8개의 토픽별(row)로 1000개의 feature(단어)들의 분포수치(column)를 보여줌\n",
    "print(lda.components_.shape)\n",
    "print(lda.components_)"
   ]
  },
  {
   "cell_type": "code",
   "execution_count": 46,
   "id": "2e65990a",
   "metadata": {},
   "outputs": [
    {
     "name": "stdout",
     "output_type": "stream",
     "text": [
      "\n",
      "Topic # 1\n",
      "의약품*6159.5+중금속*5113.0+안전성*2331.6+첨가물*2308.3+제품*2290.8+소비자*2139.4+오염수*1554.2+식품*1486.1+유해물질*1085.6+화학물질*876.2+수산물*759.5+제약사*656.2+환경호르몬*579.2+원재료*536.2+유통기한*523.7\n",
      "\n",
      "Topic # 2\n",
      "소비자*5512.1+발암물질*3405.2+곰팡이*3040.2+농산물*2922.6+화합물*1186.2+친환경*1094.2+농업인*1031.2+이물질*726.2+유해물질*615.9+bpa*607.7+맥도날드*553.2+농약*533.1+생산자*505.5+잔류농약*460.8+gmo*430.1\n",
      "\n",
      "Topic # 3\n",
      "대장균*2504.6+건강기능식품*1599.0+소비자*1507.1+식중독*1404.3+미생물*1378.0+음식물*1161.2+유산균*976.4+생수*920.2+냉장고*823.2+음식점*781.9+오염물질*607.2+프로바이오틱스*602.8+소고기*590.1+포도상구균*580.2+불량식품*535.5\n",
      "\n",
      "Topic # 4\n",
      "온라인*3361.1+단백질*2079.9+건강*1974.3+면역력*1659.2+건강기능식품*1589.9+축산물*1555.2+추출물*1454.2+영양소*1330.8+소비자*1227.4+호르몬*916.2+건강관리*897.2+수산물*790.0+항산화*737.2+지하수*685.9+돼지고기*671.2\n"
     ]
    }
   ],
   "source": [
    "# 이 때 lda_model이란, 벡터화시킨 텍스트 데이터를 fit까지만 적용한 모델!\n",
    "def display_topic_words(lda_model, feature_names, num_top_words):\n",
    "    for topic_idx, topic in enumerate(lda_model.components_):\n",
    "        print('\\nTopic #', topic_idx+1)\n",
    "        \n",
    "        # Topic별로 1000개의 단어들(features)중에서 높은 값 순으로 정렬 후 index를 반환해줌!\n",
    "        # argsort()는 디폴트가 오름차순임(1,2,3,...) 그래서 [::-1]로 내림차순으로 바꿔주기\n",
    "        topic_word_idx = topic.argsort()[::-1]\n",
    "        top_idx = topic_word_idx[:num_top_words]\n",
    "        \n",
    "        # CountVectorizer함수 할당시킨 객체에 get_feature_names()로 벡터화시킨 feature(단어들)볼 수 있음!\n",
    "        # 이 벡터화시킨 단어들(features)은 숫자-알파벳순으로 정렬되며, 단어들 순서는 fit_transform시키고 난 이후에도 동일!\n",
    "        # '문자열'.join 함수로 특정 문자열 사이에 끼고 문자열 합쳐줄 수 있음.\n",
    "        feature_concat = '+'.join([str(feature_names[i])+'*'+str(round(topic[i], 1)) for i in top_idx])\n",
    "        print(feature_concat)    \n",
    "        \n",
    "feature_names = vect.get_feature_names()\n",
    "display_topic_words(lda, feature_names, 15)"
   ]
  },
  {
   "cell_type": "code",
   "execution_count": 47,
   "id": "fe44d457",
   "metadata": {},
   "outputs": [
    {
     "name": "stdout",
     "output_type": "stream",
     "text": [
      "Topic #0: 의약품, 중금속, 안전성, 첨가물, 제품, 소비자, 오염수, 식품, 유해물질, 화학물질, 수산물, 제약사, 환경호르몬, 원재료, 유통기한, 가공식품, 커피, 위생법, 식품첨가물, 짜파구리\n",
      "Topic #1: 소비자, 발암물질, 곰팡이, 농산물, 화합물, 친환경, 농업인, 이물질, 유해물질, bpa, 맥도날드, 농약, 생산자, 잔류농약, gmo, 미생물, 농작물, 패티, 농식품, 패스트푸드점\n",
      "Topic #2: 대장균, 건강기능식품, 소비자, 식중독, 미생물, 음식물, 유산균, 생수, 냉장고, 음식점, 오염물질, 프로바이오틱스, 소고기, 포도상구균, 불량식품, 식감, 수질검사, 음식, 아이스크림, 식재료\n",
      "Topic #3: 온라인, 단백질, 건강, 면역력, 건강기능식품, 축산물, 추출물, 영양소, 소비자, 호르몬, 건강관리, 수산물, 항산화, 지하수, 돼지고기, 건강식품, 섭취량, 식재료, 원산지, 지방산\n"
     ]
    }
   ],
   "source": [
    "def print_top_words(model, feature_names, n_top_words):\n",
    "    for topic_idx, topic in enumerate(model.components_):\n",
    "        print(\"Topic #%d: \" % topic_idx, end='')\n",
    "        print(\", \".join([feature_names[i] \n",
    "                         for i in topic.argsort()[:-n_top_words - 1:-1]]))\n",
    "        \n",
    "print_top_words(lda, vect.get_feature_names(), 20)"
   ]
  },
  {
   "cell_type": "code",
   "execution_count": 48,
   "id": "ce3a92ba",
   "metadata": {},
   "outputs": [
    {
     "name": "stdout",
     "output_type": "stream",
     "text": [
      "(105579, 4)\n",
      "[[0.08333352 0.74999387 0.08333355 0.08333906]\n",
      " [0.12500023 0.62498531 0.12500027 0.12501419]]\n"
     ]
    }
   ],
   "source": [
    "# transform까지 수행하면, 문서별(row)로 토픽들(column)의 분포를 알려줌\n",
    "doc_topics = lda.transform(X)\n",
    "print(doc_topics.shape)\n",
    "print(doc_topics[:2])"
   ]
  },
  {
   "cell_type": "code",
   "execution_count": 49,
   "id": "c6d2a39d",
   "metadata": {},
   "outputs": [
    {
     "data": {
      "text/html": [
       "<div>\n",
       "<style scoped>\n",
       "    .dataframe tbody tr th:only-of-type {\n",
       "        vertical-align: middle;\n",
       "    }\n",
       "\n",
       "    .dataframe tbody tr th {\n",
       "        vertical-align: top;\n",
       "    }\n",
       "\n",
       "    .dataframe thead th {\n",
       "        text-align: right;\n",
       "    }\n",
       "</style>\n",
       "<table border=\"1\" class=\"dataframe\">\n",
       "  <thead>\n",
       "    <tr style=\"text-align: right;\">\n",
       "      <th></th>\n",
       "      <th>Topic #1</th>\n",
       "      <th>Topic #2</th>\n",
       "      <th>Topic #3</th>\n",
       "      <th>Topic #4</th>\n",
       "    </tr>\n",
       "    <tr>\n",
       "      <th>start</th>\n",
       "      <th></th>\n",
       "      <th></th>\n",
       "      <th></th>\n",
       "      <th></th>\n",
       "    </tr>\n",
       "  </thead>\n",
       "  <tbody>\n",
       "    <tr>\n",
       "      <th>2017-01-31</th>\n",
       "      <td>0.288418</td>\n",
       "      <td>0.238631</td>\n",
       "      <td>0.241675</td>\n",
       "      <td>0.231277</td>\n",
       "    </tr>\n",
       "    <tr>\n",
       "      <th>2017-02-28</th>\n",
       "      <td>0.260264</td>\n",
       "      <td>0.266229</td>\n",
       "      <td>0.248047</td>\n",
       "      <td>0.225460</td>\n",
       "    </tr>\n",
       "    <tr>\n",
       "      <th>2017-03-31</th>\n",
       "      <td>0.235816</td>\n",
       "      <td>0.280866</td>\n",
       "      <td>0.258988</td>\n",
       "      <td>0.224330</td>\n",
       "    </tr>\n",
       "    <tr>\n",
       "      <th>2017-04-30</th>\n",
       "      <td>0.281424</td>\n",
       "      <td>0.266181</td>\n",
       "      <td>0.229730</td>\n",
       "      <td>0.222665</td>\n",
       "    </tr>\n",
       "    <tr>\n",
       "      <th>2017-05-31</th>\n",
       "      <td>0.279639</td>\n",
       "      <td>0.244838</td>\n",
       "      <td>0.263512</td>\n",
       "      <td>0.212011</td>\n",
       "    </tr>\n",
       "    <tr>\n",
       "      <th>2017-06-30</th>\n",
       "      <td>0.289777</td>\n",
       "      <td>0.231992</td>\n",
       "      <td>0.259247</td>\n",
       "      <td>0.218985</td>\n",
       "    </tr>\n",
       "    <tr>\n",
       "      <th>2017-07-31</th>\n",
       "      <td>0.257190</td>\n",
       "      <td>0.266752</td>\n",
       "      <td>0.274236</td>\n",
       "      <td>0.201821</td>\n",
       "    </tr>\n",
       "    <tr>\n",
       "      <th>2017-08-31</th>\n",
       "      <td>0.276544</td>\n",
       "      <td>0.292478</td>\n",
       "      <td>0.238938</td>\n",
       "      <td>0.192040</td>\n",
       "    </tr>\n",
       "    <tr>\n",
       "      <th>2017-09-30</th>\n",
       "      <td>0.271128</td>\n",
       "      <td>0.262747</td>\n",
       "      <td>0.237352</td>\n",
       "      <td>0.228774</td>\n",
       "    </tr>\n",
       "    <tr>\n",
       "      <th>2017-10-31</th>\n",
       "      <td>0.283095</td>\n",
       "      <td>0.252082</td>\n",
       "      <td>0.223929</td>\n",
       "      <td>0.240894</td>\n",
       "    </tr>\n",
       "    <tr>\n",
       "      <th>2017-11-30</th>\n",
       "      <td>0.253667</td>\n",
       "      <td>0.239092</td>\n",
       "      <td>0.225063</td>\n",
       "      <td>0.282178</td>\n",
       "    </tr>\n",
       "    <tr>\n",
       "      <th>2017-12-31</th>\n",
       "      <td>0.251987</td>\n",
       "      <td>0.231037</td>\n",
       "      <td>0.247091</td>\n",
       "      <td>0.269885</td>\n",
       "    </tr>\n",
       "    <tr>\n",
       "      <th>2018-01-31</th>\n",
       "      <td>0.264508</td>\n",
       "      <td>0.227506</td>\n",
       "      <td>0.237774</td>\n",
       "      <td>0.270212</td>\n",
       "    </tr>\n",
       "    <tr>\n",
       "      <th>2018-02-28</th>\n",
       "      <td>0.255418</td>\n",
       "      <td>0.237032</td>\n",
       "      <td>0.248264</td>\n",
       "      <td>0.259286</td>\n",
       "    </tr>\n",
       "    <tr>\n",
       "      <th>2018-03-31</th>\n",
       "      <td>0.277237</td>\n",
       "      <td>0.251150</td>\n",
       "      <td>0.224707</td>\n",
       "      <td>0.246906</td>\n",
       "    </tr>\n",
       "    <tr>\n",
       "      <th>2018-04-30</th>\n",
       "      <td>0.245543</td>\n",
       "      <td>0.260225</td>\n",
       "      <td>0.243737</td>\n",
       "      <td>0.250495</td>\n",
       "    </tr>\n",
       "    <tr>\n",
       "      <th>2018-05-31</th>\n",
       "      <td>0.250893</td>\n",
       "      <td>0.281187</td>\n",
       "      <td>0.227556</td>\n",
       "      <td>0.240365</td>\n",
       "    </tr>\n",
       "    <tr>\n",
       "      <th>2018-06-30</th>\n",
       "      <td>0.240896</td>\n",
       "      <td>0.304470</td>\n",
       "      <td>0.226839</td>\n",
       "      <td>0.227796</td>\n",
       "    </tr>\n",
       "    <tr>\n",
       "      <th>2018-07-31</th>\n",
       "      <td>0.265984</td>\n",
       "      <td>0.260837</td>\n",
       "      <td>0.242629</td>\n",
       "      <td>0.230549</td>\n",
       "    </tr>\n",
       "    <tr>\n",
       "      <th>2018-08-31</th>\n",
       "      <td>0.256068</td>\n",
       "      <td>0.265558</td>\n",
       "      <td>0.252984</td>\n",
       "      <td>0.225390</td>\n",
       "    </tr>\n",
       "    <tr>\n",
       "      <th>2018-09-30</th>\n",
       "      <td>0.238814</td>\n",
       "      <td>0.251191</td>\n",
       "      <td>0.239753</td>\n",
       "      <td>0.270242</td>\n",
       "    </tr>\n",
       "    <tr>\n",
       "      <th>2018-10-31</th>\n",
       "      <td>0.247647</td>\n",
       "      <td>0.257449</td>\n",
       "      <td>0.238877</td>\n",
       "      <td>0.256026</td>\n",
       "    </tr>\n",
       "    <tr>\n",
       "      <th>2018-11-30</th>\n",
       "      <td>0.254977</td>\n",
       "      <td>0.256465</td>\n",
       "      <td>0.238319</td>\n",
       "      <td>0.250239</td>\n",
       "    </tr>\n",
       "    <tr>\n",
       "      <th>2018-12-31</th>\n",
       "      <td>0.257437</td>\n",
       "      <td>0.255523</td>\n",
       "      <td>0.229714</td>\n",
       "      <td>0.257327</td>\n",
       "    </tr>\n",
       "    <tr>\n",
       "      <th>2019-01-31</th>\n",
       "      <td>0.253193</td>\n",
       "      <td>0.262555</td>\n",
       "      <td>0.230309</td>\n",
       "      <td>0.253942</td>\n",
       "    </tr>\n",
       "    <tr>\n",
       "      <th>2019-02-28</th>\n",
       "      <td>0.250819</td>\n",
       "      <td>0.259443</td>\n",
       "      <td>0.241363</td>\n",
       "      <td>0.248374</td>\n",
       "    </tr>\n",
       "    <tr>\n",
       "      <th>2019-03-31</th>\n",
       "      <td>0.261638</td>\n",
       "      <td>0.252540</td>\n",
       "      <td>0.232229</td>\n",
       "      <td>0.253594</td>\n",
       "    </tr>\n",
       "    <tr>\n",
       "      <th>2019-04-30</th>\n",
       "      <td>0.239382</td>\n",
       "      <td>0.252827</td>\n",
       "      <td>0.236119</td>\n",
       "      <td>0.271673</td>\n",
       "    </tr>\n",
       "    <tr>\n",
       "      <th>2019-05-31</th>\n",
       "      <td>0.243191</td>\n",
       "      <td>0.255576</td>\n",
       "      <td>0.241617</td>\n",
       "      <td>0.259616</td>\n",
       "    </tr>\n",
       "    <tr>\n",
       "      <th>2019-06-30</th>\n",
       "      <td>0.238760</td>\n",
       "      <td>0.247844</td>\n",
       "      <td>0.257606</td>\n",
       "      <td>0.255790</td>\n",
       "    </tr>\n",
       "    <tr>\n",
       "      <th>2019-07-31</th>\n",
       "      <td>0.242645</td>\n",
       "      <td>0.241009</td>\n",
       "      <td>0.251087</td>\n",
       "      <td>0.265260</td>\n",
       "    </tr>\n",
       "    <tr>\n",
       "      <th>2019-08-31</th>\n",
       "      <td>0.280972</td>\n",
       "      <td>0.226047</td>\n",
       "      <td>0.243715</td>\n",
       "      <td>0.249265</td>\n",
       "    </tr>\n",
       "    <tr>\n",
       "      <th>2019-09-30</th>\n",
       "      <td>0.291154</td>\n",
       "      <td>0.230759</td>\n",
       "      <td>0.229698</td>\n",
       "      <td>0.248388</td>\n",
       "    </tr>\n",
       "    <tr>\n",
       "      <th>2019-10-31</th>\n",
       "      <td>0.263703</td>\n",
       "      <td>0.247784</td>\n",
       "      <td>0.228091</td>\n",
       "      <td>0.260421</td>\n",
       "    </tr>\n",
       "    <tr>\n",
       "      <th>2019-11-30</th>\n",
       "      <td>0.245561</td>\n",
       "      <td>0.252738</td>\n",
       "      <td>0.229100</td>\n",
       "      <td>0.272601</td>\n",
       "    </tr>\n",
       "    <tr>\n",
       "      <th>2019-12-31</th>\n",
       "      <td>0.257123</td>\n",
       "      <td>0.245863</td>\n",
       "      <td>0.227043</td>\n",
       "      <td>0.269971</td>\n",
       "    </tr>\n",
       "    <tr>\n",
       "      <th>2020-01-31</th>\n",
       "      <td>0.236937</td>\n",
       "      <td>0.246333</td>\n",
       "      <td>0.230598</td>\n",
       "      <td>0.286132</td>\n",
       "    </tr>\n",
       "    <tr>\n",
       "      <th>2020-02-29</th>\n",
       "      <td>0.249919</td>\n",
       "      <td>0.244653</td>\n",
       "      <td>0.238054</td>\n",
       "      <td>0.267374</td>\n",
       "    </tr>\n",
       "  </tbody>\n",
       "</table>\n",
       "</div>"
      ],
      "text/plain": [
       "            Topic #1  Topic #2  Topic #3  Topic #4\n",
       "start                                             \n",
       "2017-01-31  0.288418  0.238631  0.241675  0.231277\n",
       "2017-02-28  0.260264  0.266229  0.248047  0.225460\n",
       "2017-03-31  0.235816  0.280866  0.258988  0.224330\n",
       "2017-04-30  0.281424  0.266181  0.229730  0.222665\n",
       "2017-05-31  0.279639  0.244838  0.263512  0.212011\n",
       "2017-06-30  0.289777  0.231992  0.259247  0.218985\n",
       "2017-07-31  0.257190  0.266752  0.274236  0.201821\n",
       "2017-08-31  0.276544  0.292478  0.238938  0.192040\n",
       "2017-09-30  0.271128  0.262747  0.237352  0.228774\n",
       "2017-10-31  0.283095  0.252082  0.223929  0.240894\n",
       "2017-11-30  0.253667  0.239092  0.225063  0.282178\n",
       "2017-12-31  0.251987  0.231037  0.247091  0.269885\n",
       "2018-01-31  0.264508  0.227506  0.237774  0.270212\n",
       "2018-02-28  0.255418  0.237032  0.248264  0.259286\n",
       "2018-03-31  0.277237  0.251150  0.224707  0.246906\n",
       "2018-04-30  0.245543  0.260225  0.243737  0.250495\n",
       "2018-05-31  0.250893  0.281187  0.227556  0.240365\n",
       "2018-06-30  0.240896  0.304470  0.226839  0.227796\n",
       "2018-07-31  0.265984  0.260837  0.242629  0.230549\n",
       "2018-08-31  0.256068  0.265558  0.252984  0.225390\n",
       "2018-09-30  0.238814  0.251191  0.239753  0.270242\n",
       "2018-10-31  0.247647  0.257449  0.238877  0.256026\n",
       "2018-11-30  0.254977  0.256465  0.238319  0.250239\n",
       "2018-12-31  0.257437  0.255523  0.229714  0.257327\n",
       "2019-01-31  0.253193  0.262555  0.230309  0.253942\n",
       "2019-02-28  0.250819  0.259443  0.241363  0.248374\n",
       "2019-03-31  0.261638  0.252540  0.232229  0.253594\n",
       "2019-04-30  0.239382  0.252827  0.236119  0.271673\n",
       "2019-05-31  0.243191  0.255576  0.241617  0.259616\n",
       "2019-06-30  0.238760  0.247844  0.257606  0.255790\n",
       "2019-07-31  0.242645  0.241009  0.251087  0.265260\n",
       "2019-08-31  0.280972  0.226047  0.243715  0.249265\n",
       "2019-09-30  0.291154  0.230759  0.229698  0.248388\n",
       "2019-10-31  0.263703  0.247784  0.228091  0.260421\n",
       "2019-11-30  0.245561  0.252738  0.229100  0.272601\n",
       "2019-12-31  0.257123  0.245863  0.227043  0.269971\n",
       "2020-01-31  0.236937  0.246333  0.230598  0.286132\n",
       "2020-02-29  0.249919  0.244653  0.238054  0.267374"
      ]
     },
     "execution_count": 49,
     "metadata": {},
     "output_type": "execute_result"
    }
   ],
   "source": [
    "trend_data = pd.DataFrame(doc_topics, columns= ['Topic #1', 'Topic #2', 'Topic #3', 'Topic #4'])\n",
    "trend_data['start'] = df['일자'].values\n",
    "trend_data = trend_data.set_index('start')\n",
    "trend_data = trend_data.resample('M').mean()\n",
    "trend_data#.background_gradient(cmap='Blues')"
   ]
  },
  {
   "cell_type": "code",
   "execution_count": 63,
   "id": "17a3bc62",
   "metadata": {},
   "outputs": [
    {
     "data": {
      "text/plain": [
       "Text(0.5, 1.0, 'Topic #1')"
      ]
     },
     "execution_count": 63,
     "metadata": {},
     "output_type": "execute_result"
    },
    {
     "data": {
      "text/plain": [
       "[<matplotlib.lines.Line2D at 0x23e2f0f5580>]"
      ]
     },
     "execution_count": 63,
     "metadata": {},
     "output_type": "execute_result"
    },
    {
     "data": {
      "text/plain": [
       "Text(0.5, 1.0, 'Topic #2')"
      ]
     },
     "execution_count": 63,
     "metadata": {},
     "output_type": "execute_result"
    },
    {
     "data": {
      "text/plain": [
       "[<matplotlib.lines.Line2D at 0x23e26c72f40>]"
      ]
     },
     "execution_count": 63,
     "metadata": {},
     "output_type": "execute_result"
    },
    {
     "data": {
      "text/plain": [
       "Text(0.5, 1.0, 'Topic #3')"
      ]
     },
     "execution_count": 63,
     "metadata": {},
     "output_type": "execute_result"
    },
    {
     "data": {
      "text/plain": [
       "[<matplotlib.lines.Line2D at 0x23e26c727c0>]"
      ]
     },
     "execution_count": 63,
     "metadata": {},
     "output_type": "execute_result"
    },
    {
     "data": {
      "text/plain": [
       "Text(0.5, 1.0, 'Topic #4')"
      ]
     },
     "execution_count": 63,
     "metadata": {},
     "output_type": "execute_result"
    },
    {
     "data": {
      "text/plain": [
       "[<matplotlib.lines.Line2D at 0x23e26c72d30>]"
      ]
     },
     "execution_count": 63,
     "metadata": {},
     "output_type": "execute_result"
    },
    {
     "data": {
      "image/png": "[encoded data removed]",
      "text/plain": [
       "<Figure size 1800x576 with 4 Axes>"
      ]
     },
     "metadata": {
      "needs_background": "light"
     },
     "output_type": "display_data"
    }
   ],
   "source": [
    "fig, axes = plt.subplots(2, 2, sharex='col', figsize=(25, 8)) \n",
    "for col, ax in zip(trend_data.columns.tolist(), axes.ravel()): \n",
    "    ax.set_title(col)\n",
    "    ax.axes.xaxis.set_visible(False)\n",
    "    ax.plot(trend_data[col])\n",
    "plt.show()"
   ]
  },
  {
   "cell_type": "code",
   "execution_count": 73,
   "id": "dbca2ca9",
   "metadata": {},
   "outputs": [
    {
     "data": {
      "text/plain": [
       "<Figure size 1440x360 with 0 Axes>"
      ]
     },
     "execution_count": 73,
     "metadata": {},
     "output_type": "execute_result"
    },
    {
     "data": {
      "text/plain": [
       "[<matplotlib.lines.Line2D at 0x23e2a5e4a00>,\n",
       " <matplotlib.lines.Line2D at 0x23e29ec4a60>,\n",
       " <matplotlib.lines.Line2D at 0x23e29ec49a0>,\n",
       " <matplotlib.lines.Line2D at 0x23e29ec48e0>]"
      ]
     },
     "execution_count": 73,
     "metadata": {},
     "output_type": "execute_result"
    },
    {
     "data": {
      "text/plain": [
       "<matplotlib.legend.Legend at 0x23e48a1c7c0>"
      ]
     },
     "execution_count": 73,
     "metadata": {},
     "output_type": "execute_result"
    },
    {
     "data": {
      "image/png": "[encoded data removed]",
      "text/plain": [
       "<Figure size 1440x360 with 1 Axes>"
      ]
     },
     "metadata": {
      "needs_background": "light"
     },
     "output_type": "display_data"
    }
   ],
   "source": [
    "plt.figure(figsize=(20, 5))\n",
    "plt.plot(trend_data)\n",
    "plt.legend(labels=('Topic_1', 'Topic_2', 'Topic_3', 'Topic_4'), loc='best')"
   ]
  },
  {
   "cell_type": "code",
   "execution_count": 51,
   "id": "3ab6050e",
   "metadata": {},
   "outputs": [
    {
     "data": {
      "text/plain": [
       "192"
      ]
     },
     "execution_count": 51,
     "metadata": {},
     "output_type": "execute_result"
    },
    {
     "data": {
      "text/html": [
       "<div>\n",
       "<style scoped>\n",
       "    .dataframe tbody tr th:only-of-type {\n",
       "        vertical-align: middle;\n",
       "    }\n",
       "\n",
       "    .dataframe tbody tr th {\n",
       "        vertical-align: top;\n",
       "    }\n",
       "\n",
       "    .dataframe thead th {\n",
       "        text-align: right;\n",
       "    }\n",
       "</style>\n",
       "<table border=\"1\" class=\"dataframe\">\n",
       "  <thead>\n",
       "    <tr style=\"text-align: right;\">\n",
       "      <th></th>\n",
       "      <th>0</th>\n",
       "      <th>1</th>\n",
       "    </tr>\n",
       "  </thead>\n",
       "  <tbody>\n",
       "    <tr>\n",
       "      <th>0</th>\n",
       "      <td>소비자</td>\n",
       "      <td>10385</td>\n",
       "    </tr>\n",
       "    <tr>\n",
       "      <th>1</th>\n",
       "      <td>의약품</td>\n",
       "      <td>6171</td>\n",
       "    </tr>\n",
       "    <tr>\n",
       "      <th>2</th>\n",
       "      <td>중금속</td>\n",
       "      <td>5119</td>\n",
       "    </tr>\n",
       "    <tr>\n",
       "      <th>3</th>\n",
       "      <td>발암물질</td>\n",
       "      <td>3405</td>\n",
       "    </tr>\n",
       "    <tr>\n",
       "      <th>4</th>\n",
       "      <td>온라인</td>\n",
       "      <td>3361</td>\n",
       "    </tr>\n",
       "    <tr>\n",
       "      <th>5</th>\n",
       "      <td>건강기능식품</td>\n",
       "      <td>3189</td>\n",
       "    </tr>\n",
       "    <tr>\n",
       "      <th>6</th>\n",
       "      <td>곰팡이</td>\n",
       "      <td>3040</td>\n",
       "    </tr>\n",
       "    <tr>\n",
       "      <th>7</th>\n",
       "      <td>농산물</td>\n",
       "      <td>2923</td>\n",
       "    </tr>\n",
       "    <tr>\n",
       "      <th>8</th>\n",
       "      <td>대장균</td>\n",
       "      <td>2564</td>\n",
       "    </tr>\n",
       "    <tr>\n",
       "      <th>9</th>\n",
       "      <td>첨가물</td>\n",
       "      <td>2441</td>\n",
       "    </tr>\n",
       "    <tr>\n",
       "      <th>10</th>\n",
       "      <td>안전성</td>\n",
       "      <td>2341</td>\n",
       "    </tr>\n",
       "    <tr>\n",
       "      <th>11</th>\n",
       "      <td>제품</td>\n",
       "      <td>2291</td>\n",
       "    </tr>\n",
       "    <tr>\n",
       "      <th>12</th>\n",
       "      <td>단백질</td>\n",
       "      <td>2241</td>\n",
       "    </tr>\n",
       "    <tr>\n",
       "      <th>13</th>\n",
       "      <td>식품</td>\n",
       "      <td>2103</td>\n",
       "    </tr>\n",
       "    <tr>\n",
       "      <th>14</th>\n",
       "      <td>건강</td>\n",
       "      <td>1986</td>\n",
       "    </tr>\n",
       "    <tr>\n",
       "      <th>15</th>\n",
       "      <td>면역력</td>\n",
       "      <td>1941</td>\n",
       "    </tr>\n",
       "    <tr>\n",
       "      <th>16</th>\n",
       "      <td>미생물</td>\n",
       "      <td>1830</td>\n",
       "    </tr>\n",
       "    <tr>\n",
       "      <th>17</th>\n",
       "      <td>유해물질</td>\n",
       "      <td>1701</td>\n",
       "    </tr>\n",
       "    <tr>\n",
       "      <th>18</th>\n",
       "      <td>축산물</td>\n",
       "      <td>1555</td>\n",
       "    </tr>\n",
       "    <tr>\n",
       "      <th>19</th>\n",
       "      <td>오염수</td>\n",
       "      <td>1554</td>\n",
       "    </tr>\n",
       "  </tbody>\n",
       "</table>\n",
       "</div>"
      ],
      "text/plain": [
       "         0      1\n",
       "0      소비자  10385\n",
       "1      의약품   6171\n",
       "2      중금속   5119\n",
       "3     발암물질   3405\n",
       "4      온라인   3361\n",
       "5   건강기능식품   3189\n",
       "6      곰팡이   3040\n",
       "7      농산물   2923\n",
       "8      대장균   2564\n",
       "9      첨가물   2441\n",
       "10     안전성   2341\n",
       "11      제품   2291\n",
       "12     단백질   2241\n",
       "13      식품   2103\n",
       "14      건강   1986\n",
       "15     면역력   1941\n",
       "16     미생물   1830\n",
       "17    유해물질   1701\n",
       "18     축산물   1555\n",
       "19     오염수   1554"
      ]
     },
     "execution_count": 51,
     "metadata": {},
     "output_type": "execute_result"
    }
   ],
   "source": [
    "#X = TfidfTransformer().fit_transform(X)\n",
    "\n",
    "count = X.toarray().sum(axis=0) # Doc-Term Matrix 각 단어에 대한 합\n",
    "\n",
    "#count = np.random.permutation(X.toarray()).sum(axis=0) 행으로 permutation하여도 상관없음\n",
    "idx = np.argsort(-count)\n",
    "count = count[idx]\n",
    "\n",
    "feature_name = np.array(vect.get_feature_names())[idx]\n",
    "len(feature_name)\n",
    "keyword_list = list(zip(feature_name, count))\n",
    "result_df = pd.DataFrame(keyword_list)\n",
    "result_df.head(20)"
   ]
  },
  {
   "cell_type": "code",
   "execution_count": 52,
   "id": "e763daa1",
   "metadata": {
    "scrolled": false
   },
   "outputs": [
    {
     "data": {
      "text/plain": [
       "192"
      ]
     },
     "execution_count": 52,
     "metadata": {},
     "output_type": "execute_result"
    },
    {
     "data": {
      "text/plain": [
       "['bpa', 'cj제일제당', 'epa', 'gmo', 'haccp', '가공식품', '간편식', '건강', '건강 식품', '건강관리']"
      ]
     },
     "execution_count": 52,
     "metadata": {},
     "output_type": "execute_result"
    }
   ],
   "source": [
    "len(vect.get_feature_names())\n",
    "vect.get_feature_names()[:10]"
   ]
  },
  {
   "cell_type": "markdown",
   "id": "888bd008",
   "metadata": {},
   "source": [
    "### Topic에 속한 기사의 단어가 코사인 유사성을 구한다"
   ]
  },
  {
   "cell_type": "code",
   "execution_count": 137,
   "id": "4aba6748",
   "metadata": {},
   "outputs": [
    {
     "data": {
      "text/html": [
       "<div>\n",
       "<style scoped>\n",
       "    .dataframe tbody tr th:only-of-type {\n",
       "        vertical-align: middle;\n",
       "    }\n",
       "\n",
       "    .dataframe tbody tr th {\n",
       "        vertical-align: top;\n",
       "    }\n",
       "\n",
       "    .dataframe thead th {\n",
       "        text-align: right;\n",
       "    }\n",
       "</style>\n",
       "<table border=\"1\" class=\"dataframe\">\n",
       "  <thead>\n",
       "    <tr style=\"text-align: right;\">\n",
       "      <th></th>\n",
       "      <th>Topic #1</th>\n",
       "      <th>Topic #2</th>\n",
       "      <th>Topic #3</th>\n",
       "      <th>Topic #4</th>\n",
       "      <th>topic</th>\n",
       "    </tr>\n",
       "  </thead>\n",
       "  <tbody>\n",
       "    <tr>\n",
       "      <th>0</th>\n",
       "      <td>0.08</td>\n",
       "      <td>0.75</td>\n",
       "      <td>0.08</td>\n",
       "      <td>0.08</td>\n",
       "      <td>1</td>\n",
       "    </tr>\n",
       "    <tr>\n",
       "      <th>1</th>\n",
       "      <td>0.13</td>\n",
       "      <td>0.62</td>\n",
       "      <td>0.13</td>\n",
       "      <td>0.13</td>\n",
       "      <td>1</td>\n",
       "    </tr>\n",
       "    <tr>\n",
       "      <th>2</th>\n",
       "      <td>0.06</td>\n",
       "      <td>0.81</td>\n",
       "      <td>0.06</td>\n",
       "      <td>0.06</td>\n",
       "      <td>1</td>\n",
       "    </tr>\n",
       "    <tr>\n",
       "      <th>3</th>\n",
       "      <td>0.25</td>\n",
       "      <td>0.25</td>\n",
       "      <td>0.25</td>\n",
       "      <td>0.25</td>\n",
       "      <td>0</td>\n",
       "    </tr>\n",
       "    <tr>\n",
       "      <th>4</th>\n",
       "      <td>0.05</td>\n",
       "      <td>0.85</td>\n",
       "      <td>0.05</td>\n",
       "      <td>0.05</td>\n",
       "      <td>1</td>\n",
       "    </tr>\n",
       "    <tr>\n",
       "      <th>...</th>\n",
       "      <td>...</td>\n",
       "      <td>...</td>\n",
       "      <td>...</td>\n",
       "      <td>...</td>\n",
       "      <td>...</td>\n",
       "    </tr>\n",
       "    <tr>\n",
       "      <th>105574</th>\n",
       "      <td>0.45</td>\n",
       "      <td>0.07</td>\n",
       "      <td>0.41</td>\n",
       "      <td>0.06</td>\n",
       "      <td>0</td>\n",
       "    </tr>\n",
       "    <tr>\n",
       "      <th>105575</th>\n",
       "      <td>0.81</td>\n",
       "      <td>0.06</td>\n",
       "      <td>0.06</td>\n",
       "      <td>0.07</td>\n",
       "      <td>0</td>\n",
       "    </tr>\n",
       "    <tr>\n",
       "      <th>105576</th>\n",
       "      <td>0.25</td>\n",
       "      <td>0.25</td>\n",
       "      <td>0.25</td>\n",
       "      <td>0.25</td>\n",
       "      <td>0</td>\n",
       "    </tr>\n",
       "    <tr>\n",
       "      <th>105577</th>\n",
       "      <td>0.25</td>\n",
       "      <td>0.25</td>\n",
       "      <td>0.25</td>\n",
       "      <td>0.25</td>\n",
       "      <td>0</td>\n",
       "    </tr>\n",
       "    <tr>\n",
       "      <th>105578</th>\n",
       "      <td>0.84</td>\n",
       "      <td>0.05</td>\n",
       "      <td>0.05</td>\n",
       "      <td>0.05</td>\n",
       "      <td>0</td>\n",
       "    </tr>\n",
       "  </tbody>\n",
       "</table>\n",
       "<p>105579 rows × 5 columns</p>\n",
       "</div>"
      ],
      "text/plain": [
       "        Topic #1  Topic #2  Topic #3  Topic #4  topic\n",
       "0           0.08      0.75      0.08      0.08      1\n",
       "1           0.13      0.62      0.13      0.13      1\n",
       "2           0.06      0.81      0.06      0.06      1\n",
       "3           0.25      0.25      0.25      0.25      0\n",
       "4           0.05      0.85      0.05      0.05      1\n",
       "...          ...       ...       ...       ...    ...\n",
       "105574      0.45      0.07      0.41      0.06      0\n",
       "105575      0.81      0.06      0.06      0.07      0\n",
       "105576      0.25      0.25      0.25      0.25      0\n",
       "105577      0.25      0.25      0.25      0.25      0\n",
       "105578      0.84      0.05      0.05      0.05      0\n",
       "\n",
       "[105579 rows x 5 columns]"
      ]
     },
     "execution_count": 137,
     "metadata": {},
     "output_type": "execute_result"
    },
    {
     "data": {
      "text/plain": [
       "0    62727\n",
       "1    15944\n",
       "3    14958\n",
       "2    11950\n",
       "Name: topic, dtype: int64"
      ]
     },
     "execution_count": 137,
     "metadata": {},
     "output_type": "execute_result"
    }
   ],
   "source": [
    "from nltk.tokenize import RegexpTokenizer\n",
    "\n",
    "RegTok = RegexpTokenizer(\"[\\w']{2,}\") # 정규포현식으로 토크나이저를 정의\n",
    "food_stops = set(stop_words) # 불용어를 가져옴\n",
    "\n",
    "def tokenizer(text):\n",
    "    tokens = RegTok.tokenize(text) \n",
    "    # stopwords 제외\n",
    "    words = [word for word in tokens if (word not in food_stops) and len(word) >= 2] # 2글자 이상만\n",
    "    return words\n",
    "\n",
    "data = pd.DataFrame(doc_topics, columns= ['Topic #1', 'Topic #2', 'Topic #3', 'Topic #4'])\n",
    "\n",
    "data['topic'] = np.argmax(doc_topics, axis=1)\n",
    "data\n",
    "data['topic'].value_counts()\n",
    "\n",
    "df.index =np.arange(len(df))\n",
    "data = df.loc[data[data['topic'] == 0].index, :]\n",
    "\n",
    "corpus = [tokenizer(news) for news in data['특성추출(가중치순 상위 50개)']]"
   ]
  },
  {
   "cell_type": "code",
   "execution_count": 138,
   "id": "000fa9dd",
   "metadata": {},
   "outputs": [
    {
     "data": {
      "text/plain": [
       "[['노명식', '농약봉지', '농약병', '비닐포대', '홍범식고택'],\n",
       " ['불법경작지',\n",
       "  '연평리',\n",
       "  '경작금지',\n",
       "  '내각리',\n",
       "  '불법경작행위',\n",
       "  '하천정원화',\n",
       "  '남행정복지센터장',\n",
       "  '남행정복지센터남양주시',\n",
       "  '남행정복지센터']]"
      ]
     },
     "execution_count": 138,
     "metadata": {},
     "output_type": "execute_result"
    }
   ],
   "source": [
    "corpus[:2]"
   ]
  },
  {
   "cell_type": "code",
   "execution_count": 139,
   "id": "80446f6f",
   "metadata": {},
   "outputs": [
    {
     "data": {
      "text/plain": [
       "<gensim.models.keyedvectors.Word2VecKeyedVectors at 0x23dbb4f83a0>"
      ]
     },
     "execution_count": 139,
     "metadata": {},
     "output_type": "execute_result"
    },
    {
     "data": {
      "text/plain": [
       "dict_keys(['소비자', '의약품', '농산물', '안전성', '가공식품', '잔류농약', '의약외품', '제품', '식품', '온라인', '화학물질', 'haccp', '먹이사슬', '수입식품', '식중독', '유해물질', '수산물', '양식장', '해수부', '농수산물', '보존제', '음식점', '식수원', '식재료', '제약바이오', '유통기한', '천일염', '약사법', '무상급식', '제약사', '신약개발', '원재료', '제약업계', 'bpa', '해양수산부', '환경호르몬', '단맛', '일동제약', 'bse', '쇠고기', '원산지', '건강', '단백질', '의약국', 'gmo', '식품업', '식약청', '바이오의약품', '미생물', '건강기능식품', '롯데칠성음료', '식용유', '조미료', '식품위생법', '첨가물', '위생법', '세계무역기구', '일반의약품', '전문의약품', '자연주의', '면역력', '제약사들', '섭취', '건강식품', '벌집', '보령제약', '한미약품', '매일유업', '추출물', '중외제약', '원료의약품', '축산물', '이물질', '위생', '식도염', '사탕수수', '섭취량', '대웅제약', '영양소', '복제약', '주방용품', '식생활', '건강상태', '식약처장', '음료', '식중독균', '식품첨가물', '국민건강', '커피', '유해화학물질', '강수량', '곰팡이', '화합물', '의약품청', '발암성', '지하수', '술병', '중금속', '짜파구리', '짜파게티', '생수병', '냅킨', '절주', '대장균', '정수기', '구호품', '주스', '오염수', '혈압약', '오염물질', '발암물질', '위장약', '완제의약품', '고혈압약', '허용량', '허용치', '오염토', '호르몬제', '호르몬', 'wfp', '세계식량계획', '피임약', '합성첨가물', '코리티졸', '불량식품'])"
      ]
     },
     "execution_count": 139,
     "metadata": {},
     "output_type": "execute_result"
    },
    {
     "data": {
      "text/plain": [
       "125"
      ]
     },
     "execution_count": 139,
     "metadata": {},
     "output_type": "execute_result"
    }
   ],
   "source": [
    "from gensim.models import Word2Vec\n",
    "model = Word2Vec(sentences=corpus, size=100, window=5, min_count=50, workers=4, sg=0)\n",
    "\n",
    "word_vectors = model.wv\n",
    "word_vectors\n",
    "vocabs = word_vectors.vocab.keys()\n",
    "vocabs\n",
    "word_vectors_list = [word_vectors[v] for v in vocabs]\n",
    "len(word_vectors_list)"
   ]
  },
  {
   "cell_type": "markdown",
   "id": "09d2e06b",
   "metadata": {},
   "source": [
    "### 유사도는 −1에서 1까지의 값을 가지며, −1은 서로 완전히 반대되는 경우, 0은 서로 독립적인 경우, 1은 서로 완전히 같은 경우를 의미한다."
   ]
  },
  {
   "cell_type": "code",
   "execution_count": 140,
   "id": "55710540",
   "metadata": {
    "scrolled": false
   },
   "outputs": [],
   "source": [
    "from sklearn.metrics import pairwise_distances\n",
    "pd.options.display.float_format = '{:,.2f}'.format\n",
    "cosinematrix = pd.DataFrame(cosine_similarity(word_vectors_list,dense_output=False), columns=vocabs)\n",
    "cosinematrix.index = vocabs"
   ]
  },
  {
   "cell_type": "code",
   "execution_count": 141,
   "id": "2b631862",
   "metadata": {},
   "outputs": [],
   "source": [
    "# 단어와 2차원 X축의 값, Y축의 값을 입력받아 2차원 그래프를 그린다\n",
    "plt.rcParams['font.family']='Malgun Gothic'\n",
    "plt.rcParams['axes.unicode_minus'] = False #한글 폰트 사용시 마이너스 폰트 깨짐 해결\n",
    "\n",
    "def plot_2d_graph(vocabs, xs, ys):    \n",
    "    plt.figure(figsize=(10 ,10))\n",
    "    plt.scatter(xs, ys, marker = 'o')\n",
    "    for i, v in enumerate(vocabs):\n",
    "        plt.annotate(v, xy=(xs[i], ys[i]))"
   ]
  },
  {
   "cell_type": "code",
   "execution_count": 142,
   "id": "c1098325",
   "metadata": {},
   "outputs": [
    {
     "data": {
      "image/png": "[encoded data removed]",
      "text/plain": [
       "<Figure size 720x720 with 1 Axes>"
      ]
     },
     "metadata": {
      "needs_background": "light"
     },
     "output_type": "display_data"
    }
   ],
   "source": [
    "from sklearn.decomposition import PCA\n",
    "pca = PCA(n_components=2)\n",
    "xys = pca.fit_transform(word_vectors_list)\n",
    "xs = xys[:,0]\n",
    "ys = xys[:,1]\n",
    " \n",
    "# 결과2\n",
    "\n",
    "plot_2d_graph(vocabs, xs, ys)"
   ]
  },
  {
   "cell_type": "markdown",
   "id": "c7016f7e",
   "metadata": {},
   "source": [
    "# 2. Gensim 패키지 \n",
    "### perplex, coherence 적용 가능\n",
    "### 불용어를 원래 자료에서 적용하여야 함\n",
    "### https://www.machinelearningplus.com/nlp/topic-modeling-visualization-how-to-present-results-lda-models/"
   ]
  },
  {
   "cell_type": "code",
   "execution_count": 19,
   "id": "27274cf5",
   "metadata": {},
   "outputs": [],
   "source": [
    "import sys\n",
    "# !{sys.executable} -m spacy download en\n",
    "import re, numpy as np, pandas as pd\n",
    "from pprint import pprint\n",
    "\n",
    "# Gensim\n",
    "import gensim, spacy, logging, warnings\n",
    "import gensim.corpora as corpora\n",
    "from gensim.utils import lemmatize, simple_preprocess\n",
    "from gensim.models import CoherenceModel\n",
    "import matplotlib.pyplot as plt"
   ]
  },
  {
   "cell_type": "markdown",
   "id": "db5db027",
   "metadata": {},
   "source": [
    "## 불용어 정리"
   ]
  },
  {
   "cell_type": "code",
   "execution_count": 54,
   "id": "f17b5ce1",
   "metadata": {},
   "outputs": [],
   "source": [
    "from nltk.tokenize import RegexpTokenizer\n",
    "\n",
    "RegTok = RegexpTokenizer(\"[\\w']{2,}\") # 정규포현식으로 토크나이저를 정의\n",
    "food_stops = set(stop_words) # 불용어를 가져옴\n",
    "\n",
    "def tokenizer(text):\n",
    "    tokens = RegTok.tokenize(text) \n",
    "    # stopwords 제외\n",
    "    words = [word for word in tokens if (word not in food_stops) and len(word) >= 2] # 2글자 이상만\n",
    "    return words\n",
    "\n",
    "texts = [tokenizer(news) for news in df['특성추출(가중치순 상위 50개)']]"
   ]
  },
  {
   "cell_type": "markdown",
   "id": "662bc5b5",
   "metadata": {},
   "source": [
    "### 박상언교수\n",
    "https://github.com/wikibook/textmining/blob/main/Ch%2007.%20%ED%86%A0%ED%94%BD%EB%AA%A8%EB%8D%B8%EB%A7%81.ipynb\n",
    "https://www.machinelearningplus.com/nlp/topic-modeling-gensim-python/"
   ]
  },
  {
   "cell_type": "code",
   "execution_count": 55,
   "id": "ca34b046",
   "metadata": {},
   "outputs": [
    {
     "name": "stdout",
     "output_type": "stream",
     "text": [
      "#Number of initial unique words in documents: 171452\n",
      "#Number of unique words after removing rare and common words: 2000\n",
      "#Number of unique tokens: 2000\n",
      "#Number of documents: 105579\n"
     ]
    }
   ],
   "source": [
    "from gensim.corpora.dictionary import Dictionary\n",
    "\n",
    "# 토큰화 결과로부터 dictionay 생성\n",
    "dictionary = Dictionary(texts)\n",
    "print('#Number of initial unique words in documents:', len(dictionary))\n",
    "\n",
    "# 문서 빈도수가 너무 적거나 높은 단어를 필터링하고 특성을 단어의 빈도 순으로 선택\n",
    "dictionary.filter_extremes(keep_n=2000, no_below=5, no_above=0.5)\n",
    "print('#Number of unique words after removing rare and common words:', len(dictionary))\n",
    "\n",
    "# 카운트 벡터로 변환\n",
    "corpus = [dictionary.doc2bow(text) for text in texts]\n",
    "# Create Corpus: Term Document Frequency \n",
    "# corpus = [id2word.doc2bow(text) for text in data_words if text not in stop_words]\n",
    "print('#Number of unique tokens: %d' % len(dictionary))\n",
    "print('#Number of documents: %d' % len(corpus))"
   ]
  },
  {
   "cell_type": "code",
   "execution_count": 56,
   "id": "e72268e1",
   "metadata": {},
   "outputs": [
    {
     "name": "stdout",
     "output_type": "stream",
     "text": [
      "Wall time: 35.2 s\n"
     ]
    }
   ],
   "source": [
    "from gensim.models import LdaModel\n",
    "\n",
    "num_topics = 4\n",
    "passes = 5\n",
    "%time model = LdaModel(corpus=corpus, id2word=dictionary,\\\n",
    "                       passes=passes, num_topics=num_topics, \\\n",
    "                       random_state=7)"
   ]
  },
  {
   "cell_type": "code",
   "execution_count": 60,
   "id": "996679c5",
   "metadata": {
    "scrolled": false
   },
   "outputs": [
    {
     "data": {
      "text/plain": [
       "<BarContainer object of 10 artists>"
      ]
     },
     "execution_count": 60,
     "metadata": {},
     "output_type": "execute_result"
    },
    {
     "data": {
      "text/plain": [
       "<BarContainer object of 10 artists>"
      ]
     },
     "execution_count": 60,
     "metadata": {},
     "output_type": "execute_result"
    },
    {
     "data": {
      "text/plain": [
       "Text(0, 0.5, 'Word Count')"
      ]
     },
     "execution_count": 60,
     "metadata": {},
     "output_type": "execute_result"
    },
    {
     "data": {
      "text/plain": [
       "(0.0, 0.03)"
      ]
     },
     "execution_count": 60,
     "metadata": {},
     "output_type": "execute_result"
    },
    {
     "data": {
      "text/plain": [
       "(0.0, 10000.0)"
      ]
     },
     "execution_count": 60,
     "metadata": {},
     "output_type": "execute_result"
    },
    {
     "data": {
      "text/plain": [
       "Text(0.5, 1.0, 'Topic: 0')"
      ]
     },
     "execution_count": 60,
     "metadata": {},
     "output_type": "execute_result"
    },
    {
     "data": {
      "text/plain": [
       "[Text(0, 0, '소비자'),\n",
       " Text(1, 0, '불량식품'),\n",
       " Text(2, 0, '첨가물'),\n",
       " Text(3, 0, '의약품'),\n",
       " Text(4, 0, '온라인'),\n",
       " Text(5, 0, '식품'),\n",
       " Text(6, 0, '축산물'),\n",
       " Text(7, 0, '유통기한'),\n",
       " Text(8, 0, '농산물'),\n",
       " Text(9, 0, '원산지')]"
      ]
     },
     "execution_count": 60,
     "metadata": {},
     "output_type": "execute_result"
    },
    {
     "data": {
      "text/plain": [
       "<matplotlib.legend.Legend at 0x23e2f2f8550>"
      ]
     },
     "execution_count": 60,
     "metadata": {},
     "output_type": "execute_result"
    },
    {
     "data": {
      "text/plain": [
       "<matplotlib.legend.Legend at 0x23e2f2f8580>"
      ]
     },
     "execution_count": 60,
     "metadata": {},
     "output_type": "execute_result"
    },
    {
     "data": {
      "text/plain": [
       "<BarContainer object of 10 artists>"
      ]
     },
     "execution_count": 60,
     "metadata": {},
     "output_type": "execute_result"
    },
    {
     "data": {
      "text/plain": [
       "<BarContainer object of 10 artists>"
      ]
     },
     "execution_count": 60,
     "metadata": {},
     "output_type": "execute_result"
    },
    {
     "data": {
      "text/plain": [
       "Text(0, 0.5, 'Word Count')"
      ]
     },
     "execution_count": 60,
     "metadata": {},
     "output_type": "execute_result"
    },
    {
     "data": {
      "text/plain": [
       "(0.0, 0.03)"
      ]
     },
     "execution_count": 60,
     "metadata": {},
     "output_type": "execute_result"
    },
    {
     "data": {
      "text/plain": [
       "(0.0, 10000.0)"
      ]
     },
     "execution_count": 60,
     "metadata": {},
     "output_type": "execute_result"
    },
    {
     "data": {
      "text/plain": [
       "Text(0.5, 1.0, 'Topic: 1')"
      ]
     },
     "execution_count": 60,
     "metadata": {},
     "output_type": "execute_result"
    },
    {
     "data": {
      "text/plain": [
       "[Text(0, 0, '중금속'),\n",
       " Text(1, 0, '호르몬'),\n",
       " Text(2, 0, '제품'),\n",
       " Text(3, 0, '오염수'),\n",
       " Text(4, 0, '친환경'),\n",
       " Text(5, 0, '환경호르몬'),\n",
       " Text(6, 0, '음식점'),\n",
       " Text(7, 0, '유해물질'),\n",
       " Text(8, 0, '발암물질'),\n",
       " Text(9, 0, '음료')]"
      ]
     },
     "execution_count": 60,
     "metadata": {},
     "output_type": "execute_result"
    },
    {
     "data": {
      "text/plain": [
       "<matplotlib.legend.Legend at 0x23e29e95d60>"
      ]
     },
     "execution_count": 60,
     "metadata": {},
     "output_type": "execute_result"
    },
    {
     "data": {
      "text/plain": [
       "<matplotlib.legend.Legend at 0x23e29e95880>"
      ]
     },
     "execution_count": 60,
     "metadata": {},
     "output_type": "execute_result"
    },
    {
     "data": {
      "text/plain": [
       "<BarContainer object of 10 artists>"
      ]
     },
     "execution_count": 60,
     "metadata": {},
     "output_type": "execute_result"
    },
    {
     "data": {
      "text/plain": [
       "<BarContainer object of 10 artists>"
      ]
     },
     "execution_count": 60,
     "metadata": {},
     "output_type": "execute_result"
    },
    {
     "data": {
      "text/plain": [
       "Text(0, 0.5, 'Word Count')"
      ]
     },
     "execution_count": 60,
     "metadata": {},
     "output_type": "execute_result"
    },
    {
     "data": {
      "text/plain": [
       "(0.0, 0.03)"
      ]
     },
     "execution_count": 60,
     "metadata": {},
     "output_type": "execute_result"
    },
    {
     "data": {
      "text/plain": [
       "(0.0, 10000.0)"
      ]
     },
     "execution_count": 60,
     "metadata": {},
     "output_type": "execute_result"
    },
    {
     "data": {
      "text/plain": [
       "Text(0.5, 1.0, 'Topic: 2')"
      ]
     },
     "execution_count": 60,
     "metadata": {},
     "output_type": "execute_result"
    },
    {
     "data": {
      "text/plain": [
       "[Text(0, 0, '단백질'),\n",
       " Text(1, 0, '의약품'),\n",
       " Text(2, 0, '면역력'),\n",
       " Text(3, 0, '건강'),\n",
       " Text(4, 0, '식습관'),\n",
       " Text(5, 0, '영양소'),\n",
       " Text(6, 0, '음식물'),\n",
       " Text(7, 0, '추출물'),\n",
       " Text(8, 0, '건강기능식품'),\n",
       " Text(9, 0, '여성호르몬')]"
      ]
     },
     "execution_count": 60,
     "metadata": {},
     "output_type": "execute_result"
    },
    {
     "data": {
      "text/plain": [
       "<matplotlib.legend.Legend at 0x23e41c15430>"
      ]
     },
     "execution_count": 60,
     "metadata": {},
     "output_type": "execute_result"
    },
    {
     "data": {
      "text/plain": [
       "<matplotlib.legend.Legend at 0x23e35bfcac0>"
      ]
     },
     "execution_count": 60,
     "metadata": {},
     "output_type": "execute_result"
    },
    {
     "data": {
      "text/plain": [
       "<BarContainer object of 10 artists>"
      ]
     },
     "execution_count": 60,
     "metadata": {},
     "output_type": "execute_result"
    },
    {
     "data": {
      "text/plain": [
       "<BarContainer object of 10 artists>"
      ]
     },
     "execution_count": 60,
     "metadata": {},
     "output_type": "execute_result"
    },
    {
     "data": {
      "text/plain": [
       "Text(0, 0.5, 'Word Count')"
      ]
     },
     "execution_count": 60,
     "metadata": {},
     "output_type": "execute_result"
    },
    {
     "data": {
      "text/plain": [
       "(0.0, 0.03)"
      ]
     },
     "execution_count": 60,
     "metadata": {},
     "output_type": "execute_result"
    },
    {
     "data": {
      "text/plain": [
       "(0.0, 10000.0)"
      ]
     },
     "execution_count": 60,
     "metadata": {},
     "output_type": "execute_result"
    },
    {
     "data": {
      "text/plain": [
       "Text(0.5, 1.0, 'Topic: 3')"
      ]
     },
     "execution_count": 60,
     "metadata": {},
     "output_type": "execute_result"
    },
    {
     "data": {
      "text/plain": [
       "[Text(0, 0, '식중독'),\n",
       " Text(1, 0, '미생물'),\n",
       " Text(2, 0, '화학물질'),\n",
       " Text(3, 0, '돼지고기'),\n",
       " Text(4, 0, '위생'),\n",
       " Text(5, 0, '이물질'),\n",
       " Text(6, 0, '곰팡이'),\n",
       " Text(7, 0, '제약사'),\n",
       " Text(8, 0, '패스트푸드점'),\n",
       " Text(9, 0, '식중독균')]"
      ]
     },
     "execution_count": 60,
     "metadata": {},
     "output_type": "execute_result"
    },
    {
     "data": {
      "text/plain": [
       "<matplotlib.legend.Legend at 0x23e35bfc9d0>"
      ]
     },
     "execution_count": 60,
     "metadata": {},
     "output_type": "execute_result"
    },
    {
     "data": {
      "text/plain": [
       "<matplotlib.legend.Legend at 0x23e313c1b80>"
      ]
     },
     "execution_count": 60,
     "metadata": {},
     "output_type": "execute_result"
    },
    {
     "data": {
      "text/plain": [
       "<BarContainer object of 0 artists>"
      ]
     },
     "execution_count": 60,
     "metadata": {},
     "output_type": "execute_result"
    },
    {
     "data": {
      "text/plain": [
       "<BarContainer object of 0 artists>"
      ]
     },
     "execution_count": 60,
     "metadata": {},
     "output_type": "execute_result"
    },
    {
     "data": {
      "text/plain": [
       "Text(0, 0.5, 'Word Count')"
      ]
     },
     "execution_count": 60,
     "metadata": {},
     "output_type": "execute_result"
    },
    {
     "data": {
      "text/plain": [
       "(0.0, 0.03)"
      ]
     },
     "execution_count": 60,
     "metadata": {},
     "output_type": "execute_result"
    },
    {
     "data": {
      "text/plain": [
       "(0.0, 10000.0)"
      ]
     },
     "execution_count": 60,
     "metadata": {},
     "output_type": "execute_result"
    },
    {
     "data": {
      "text/plain": [
       "Text(0.5, 1.0, 'Topic: 4')"
      ]
     },
     "execution_count": 60,
     "metadata": {},
     "output_type": "execute_result"
    },
    {
     "data": {
      "text/plain": [
       "[Text(-0.06, 0, ''),\n",
       " Text(-0.039999999999999994, 0, ''),\n",
       " Text(-0.019999999999999997, 0, ''),\n",
       " Text(0.0, 0, ''),\n",
       " Text(0.020000000000000004, 0, ''),\n",
       " Text(0.04000000000000001, 0, ''),\n",
       " Text(0.06, 0, '')]"
      ]
     },
     "execution_count": 60,
     "metadata": {},
     "output_type": "execute_result"
    },
    {
     "data": {
      "text/plain": [
       "<matplotlib.legend.Legend at 0x23e313e0820>"
      ]
     },
     "execution_count": 60,
     "metadata": {},
     "output_type": "execute_result"
    },
    {
     "data": {
      "text/plain": [
       "<matplotlib.legend.Legend at 0x23e30aa7e20>"
      ]
     },
     "execution_count": 60,
     "metadata": {},
     "output_type": "execute_result"
    },
    {
     "data": {
      "text/plain": [
       "<BarContainer object of 0 artists>"
      ]
     },
     "execution_count": 60,
     "metadata": {},
     "output_type": "execute_result"
    },
    {
     "data": {
      "text/plain": [
       "<BarContainer object of 0 artists>"
      ]
     },
     "execution_count": 60,
     "metadata": {},
     "output_type": "execute_result"
    },
    {
     "data": {
      "text/plain": [
       "Text(0, 0.5, 'Word Count')"
      ]
     },
     "execution_count": 60,
     "metadata": {},
     "output_type": "execute_result"
    },
    {
     "data": {
      "text/plain": [
       "(0.0, 0.03)"
      ]
     },
     "execution_count": 60,
     "metadata": {},
     "output_type": "execute_result"
    },
    {
     "data": {
      "text/plain": [
       "(0.0, 10000.0)"
      ]
     },
     "execution_count": 60,
     "metadata": {},
     "output_type": "execute_result"
    },
    {
     "data": {
      "text/plain": [
       "Text(0.5, 1.0, 'Topic: 5')"
      ]
     },
     "execution_count": 60,
     "metadata": {},
     "output_type": "execute_result"
    },
    {
     "data": {
      "text/plain": [
       "[Text(-0.06, 0, ''),\n",
       " Text(-0.039999999999999994, 0, ''),\n",
       " Text(-0.019999999999999997, 0, ''),\n",
       " Text(0.0, 0, ''),\n",
       " Text(0.020000000000000004, 0, ''),\n",
       " Text(0.04000000000000001, 0, ''),\n",
       " Text(0.06, 0, '')]"
      ]
     },
     "execution_count": 60,
     "metadata": {},
     "output_type": "execute_result"
    },
    {
     "data": {
      "text/plain": [
       "<matplotlib.legend.Legend at 0x23e3008d310>"
      ]
     },
     "execution_count": 60,
     "metadata": {},
     "output_type": "execute_result"
    },
    {
     "data": {
      "text/plain": [
       "<matplotlib.legend.Legend at 0x23e3008dcd0>"
      ]
     },
     "execution_count": 60,
     "metadata": {},
     "output_type": "execute_result"
    },
    {
     "data": {
      "text/plain": [
       "Text(0.5, 1.05, 'Word Count and Importance of Topic Keywords')"
      ]
     },
     "execution_count": 60,
     "metadata": {},
     "output_type": "execute_result"
    },
    {
     "data": {
      "image/png": "[encoded data removed]",
      "text/plain": [
       "<Figure size 1280x960 with 12 Axes>"
      ]
     },
     "metadata": {
      "needs_background": "light"
     },
     "output_type": "display_data"
    }
   ],
   "source": [
    "from collections import Counter\n",
    "import matplotlib.colors as mcolors\n",
    "\n",
    "topics = model.show_topics(formatted=False)\n",
    "#topics = model.show_topics(num_words=10, formatted=False)\n",
    "\n",
    "data_flat = [w for w_list in texts for w in w_list]\n",
    "counter = Counter(data_flat)\n",
    "\n",
    "out = []\n",
    "for i, topic in topics:\n",
    "    for word, weight in topic:\n",
    "        out.append([word, i , weight, counter[word]])\n",
    "\n",
    "sf = pd.DataFrame(out, columns=['word', 'topic_id', 'importance', 'word_count'])        \n",
    "\n",
    "# Plot Word Count and Weights of Topic Keywords\n",
    "fig, axes = plt.subplots(3, 2, figsize=(8,6), sharey=True, dpi=160)\n",
    "cols = [color for name, color in mcolors.TABLEAU_COLORS.items()]\n",
    "for i, ax in enumerate(axes.flatten()):\n",
    "    ax.bar(x='word', height=\"word_count\", data=sf.loc[sf.topic_id==i, :], color=cols[i], width=0.5, alpha=0.3, label='Word Count')\n",
    "    ax_twin = ax.twinx()\n",
    "    ax_twin.bar(x='word', height=\"importance\", data=sf.loc[sf.topic_id==i, :], color=cols[i], width=0.2, label='Weights')\n",
    "    ax.set_ylabel('Word Count', color=cols[i])\n",
    "    ax_twin.set_ylim(0, 0.030); ax.set_ylim(0, 10000)\n",
    "    ax.set_title('Topic: ' + str(i), color=cols[i], fontsize=10)\n",
    "    ax.tick_params(axis='y', left=False)\n",
    "    ax.set_xticklabels(sf.loc[sf.topic_id==i, 'word'], rotation=30, horizontalalignment= 'right')\n",
    "    ax.legend(loc='upper left'); ax_twin.legend(loc='upper right')\n",
    "\n",
    "fig.tight_layout(w_pad=2)    \n",
    "fig.suptitle('Word Count and Importance of Topic Keywords', fontsize=10, y=1.05)    \n",
    "plt.show()"
   ]
  },
  {
   "cell_type": "code",
   "execution_count": null,
   "id": "3bf04194",
   "metadata": {},
   "outputs": [],
   "source": [
    "#df.to_excel('../data/코로나후.xlsx')"
   ]
  },
  {
   "cell_type": "code",
   "execution_count": null,
   "id": "9038eff6",
   "metadata": {},
   "outputs": [],
   "source": [
    "import pyLDAvis.gensim\n",
    "pyLDAvis.enable_notebook()\n",
    "vis = pyLDAvis.gensim.prepare(model, corpus, dictionary)\n",
    "vis"
   ]
  },
  {
   "cell_type": "code",
   "execution_count": 124,
   "id": "ee082ef6",
   "metadata": {
    "scrolled": true
   },
   "outputs": [
    {
     "name": "stderr",
     "output_type": "stream",
     "text": [
      "C:\\ProgramData\\Anaconda3\\lib\\site-packages\\ipykernel\\ipkernel.py:287: DeprecationWarning: `should_run_async` will not call `transform_cell` automatically in the future. Please pass the result to `transformed_cell` argument and any exception that happen during thetransform in `preprocessing_exc_tuple` in IPython 7.17 and above.\n",
      "  and should_run_async(code)\n"
     ]
    }
   ],
   "source": [
    "pyLDAvis.save_html(vis, '../data/002.html')"
   ]
  },
  {
   "cell_type": "markdown",
   "id": "68d2c034",
   "metadata": {},
   "source": [
    "### 혼란도와 토픽 응집도를 이용한 최적값 선택"
   ]
  },
  {
   "cell_type": "code",
   "execution_count": 125,
   "id": "7fc0d950",
   "metadata": {},
   "outputs": [
    {
     "name": "stderr",
     "output_type": "stream",
     "text": [
      "C:\\ProgramData\\Anaconda3\\lib\\site-packages\\ipykernel\\ipkernel.py:287: DeprecationWarning: `should_run_async` will not call `transform_cell` automatically in the future. Please pass the result to `transformed_cell` argument and any exception that happen during thetransform in `preprocessing_exc_tuple` in IPython 7.17 and above.\n",
      "  and should_run_async(code)\n"
     ]
    },
    {
     "name": "stdout",
     "output_type": "stream",
     "text": [
      "-8.870521538093708\n"
     ]
    }
   ],
   "source": [
    "from gensim.models import CoherenceModel\n",
    "\n",
    "cm = CoherenceModel(model=model, corpus=corpus, coherence='u_mass')\n",
    "coherence = cm.get_coherence()\n",
    "print(coherence)"
   ]
  },
  {
   "cell_type": "code",
   "execution_count": 126,
   "id": "d26442bd",
   "metadata": {},
   "outputs": [
    {
     "name": "stderr",
     "output_type": "stream",
     "text": [
      "C:\\ProgramData\\Anaconda3\\lib\\site-packages\\ipykernel\\ipkernel.py:287: DeprecationWarning: `should_run_async` will not call `transform_cell` automatically in the future. Please pass the result to `transformed_cell` argument and any exception that happen during thetransform in `preprocessing_exc_tuple` in IPython 7.17 and above.\n",
      "  and should_run_async(code)\n"
     ]
    },
    {
     "name": "stdout",
     "output_type": "stream",
     "text": [
      "num_topics: 3, perplexity: -6.615, coherence: -7.806\n",
      "num_topics: 4, perplexity: -6.645, coherence: -9.377\n",
      "num_topics: 5, perplexity: -6.663, coherence: -9.343\n",
      "num_topics: 6, perplexity: -6.723, coherence: -10.155\n",
      "num_topics: 7, perplexity: -6.728, coherence: -10.520\n",
      "num_topics: 8, perplexity: -6.736, coherence: -10.309\n",
      "num_topics: 9, perplexity: -6.826, coherence: -12.270\n",
      "num_topics: 10, perplexity: -6.840, coherence: -12.302\n",
      "num_topics: 11, perplexity: -6.879, coherence: -11.413\n",
      "num_topics: 12, perplexity: -6.920, coherence: -12.187\n",
      "num_topics: 13, perplexity: -7.401, coherence: -12.739\n",
      "num_topics: 14, perplexity: -8.123, coherence: -12.494\n",
      "num_topics: 15, perplexity: -9.571, coherence: -12.522\n"
     ]
    },
    {
     "data": {
      "image/png": "[encoded data removed]",
      "text/plain": [
       "<Figure size 432x288 with 1 Axes>"
      ]
     },
     "metadata": {
      "needs_background": "light"
     },
     "output_type": "display_data"
    },
    {
     "data": {
      "image/png": "[encoded data removed]",
      "text/plain": [
       "<Figure size 432x288 with 1 Axes>"
      ]
     },
     "metadata": {
      "needs_background": "light"
     },
     "output_type": "display_data"
    }
   ],
   "source": [
    "def show_coherence(corpus, dictionary, start=3, end=15):\n",
    "    iter_num = []\n",
    "    per_value = []\n",
    "    coh_value = []\n",
    "\n",
    "    for i in range(start, end + 1):\n",
    "        model = LdaModel(corpus=corpus, id2word=dictionary,\n",
    "                 chunksize=1000, num_topics=i,\n",
    "                 random_state=7)\n",
    "        iter_num.append(i)\n",
    "        pv = model.log_perplexity(corpus)\n",
    "        per_value.append(pv)\n",
    "        \n",
    "        cm = CoherenceModel(model=model, corpus=corpus, \n",
    "                            coherence='u_mass')\n",
    "        cv = cm.get_coherence()\n",
    "        coh_value.append(cv)\n",
    "        print(f'num_topics: {i}, perplexity: {pv:0.3f}, coherence: {cv:0.3f}')\n",
    "\n",
    "    plt.plot(iter_num, per_value, 'g-')\n",
    "    plt.xlabel(\"num_topics\")\n",
    "    plt.ylabel(\"perplexity\")\n",
    "    plt.show()\n",
    "\n",
    "    plt.plot(iter_num, coh_value, 'r--')\n",
    "    plt.xlabel(\"num_topics\")\n",
    "    plt.ylabel(\"coherence\")\n",
    "    plt.show()\n",
    "\n",
    "show_coherence(corpus, dictionary, start=3, end=15)"
   ]
  },
  {
   "cell_type": "markdown",
   "id": "eba7bc04",
   "metadata": {},
   "source": [
    "### Dynamic Topic Modeling in Python\n",
    "- https://radimrehurek.com/gensim/models/ldaseqmodel.html\n",
    "-= https://markroxor.github.io/gensim/static/notebooks/ldaseqmodel.html#topic=0&lambda=1&term="
   ]
  },
  {
   "cell_type": "code",
   "execution_count": 61,
   "id": "f117e8bf",
   "metadata": {
    "scrolled": true
   },
   "outputs": [
    {
     "data": {
      "text/plain": [
       "[847,\n",
       " 2723,\n",
       " 3280,\n",
       " 4478,\n",
       " 5020,\n",
       " 5271,\n",
       " 8464,\n",
       " 7489,\n",
       " 7748,\n",
       " 10060,\n",
       " 12965,\n",
       " 13683,\n",
       " 15421,\n",
       " 8130]"
      ]
     },
     "execution_count": 61,
     "metadata": {},
     "output_type": "execute_result"
    }
   ],
   "source": [
    "time_slice = df.set_index('일자').resample('3M')['특성추출(가중치순 상위 50개)'].count().tolist()\n",
    "time_slice"
   ]
  },
  {
   "cell_type": "code",
   "execution_count": 91,
   "id": "ac60b5f4",
   "metadata": {},
   "outputs": [],
   "source": [
    "from gensim.test.utils import common_corpus\n",
    "from gensim.models import LdaSeqModel\n",
    "\n",
    "#ldaseq = LdaSeqModel(corpus=corpus, time_slice=time_slice, num_topics=4, chunksize=1)"
   ]
  },
  {
   "cell_type": "code",
   "execution_count": null,
   "id": "eeff2c05",
   "metadata": {},
   "outputs": [],
   "source": []
  },
  {
   "cell_type": "code",
   "execution_count": null,
   "id": "e5aa41f6",
   "metadata": {},
   "outputs": [],
   "source": []
  },
  {
   "cell_type": "markdown",
   "id": "f65146c8",
   "metadata": {},
   "source": [
    "# 문서간 Cosine similarity와 1 kernel density estimation을 이용한 군집 개수 정의\n",
    "### word2vec cosine similarity"
   ]
  },
  {
   "cell_type": "code",
   "execution_count": 74,
   "id": "4a25ba04",
   "metadata": {},
   "outputs": [
    {
     "data": {
      "text/plain": [
       "(105579, 192)"
      ]
     },
     "execution_count": 74,
     "metadata": {},
     "output_type": "execute_result"
    }
   ],
   "source": [
    "tfidf_matrix = TfidfTransformer().fit_transform(X)\n",
    "tfidf_matrix.toarray().shape"
   ]
  },
  {
   "cell_type": "code",
   "execution_count": 75,
   "id": "fb8dfadd",
   "metadata": {},
   "outputs": [
    {
     "data": {
      "text/html": [
       "<div>\n",
       "<style scoped>\n",
       "    .dataframe tbody tr th:only-of-type {\n",
       "        vertical-align: middle;\n",
       "    }\n",
       "\n",
       "    .dataframe tbody tr th {\n",
       "        vertical-align: top;\n",
       "    }\n",
       "\n",
       "    .dataframe thead th {\n",
       "        text-align: right;\n",
       "    }\n",
       "</style>\n",
       "<table border=\"1\" class=\"dataframe\">\n",
       "  <thead>\n",
       "    <tr style=\"text-align: right;\">\n",
       "      <th></th>\n",
       "      <th>bpa</th>\n",
       "      <th>cj제일제당</th>\n",
       "      <th>epa</th>\n",
       "      <th>gmo</th>\n",
       "      <th>haccp</th>\n",
       "      <th>가공식품</th>\n",
       "      <th>간편식</th>\n",
       "      <th>건강</th>\n",
       "      <th>건강 식품</th>\n",
       "      <th>건강관리</th>\n",
       "      <th>...</th>\n",
       "      <th>해산물</th>\n",
       "      <th>해수부</th>\n",
       "      <th>해양수산부</th>\n",
       "      <th>해조류</th>\n",
       "      <th>햄버거병</th>\n",
       "      <th>호르몬</th>\n",
       "      <th>호박즙</th>\n",
       "      <th>화학물질</th>\n",
       "      <th>화합물</th>\n",
       "      <th>환경호르몬</th>\n",
       "    </tr>\n",
       "  </thead>\n",
       "  <tbody>\n",
       "    <tr>\n",
       "      <th>34406</th>\n",
       "      <td>0.0</td>\n",
       "      <td>0.0</td>\n",
       "      <td>0.0</td>\n",
       "      <td>0.0</td>\n",
       "      <td>0.0</td>\n",
       "      <td>0.0</td>\n",
       "      <td>0.0</td>\n",
       "      <td>0.0</td>\n",
       "      <td>0.0</td>\n",
       "      <td>0.0</td>\n",
       "      <td>...</td>\n",
       "      <td>0.0</td>\n",
       "      <td>0.0</td>\n",
       "      <td>0.0</td>\n",
       "      <td>0.0</td>\n",
       "      <td>0.0</td>\n",
       "      <td>0.0</td>\n",
       "      <td>0.0</td>\n",
       "      <td>0.0</td>\n",
       "      <td>0.0</td>\n",
       "      <td>0.0</td>\n",
       "    </tr>\n",
       "    <tr>\n",
       "      <th>71958</th>\n",
       "      <td>0.0</td>\n",
       "      <td>0.0</td>\n",
       "      <td>0.0</td>\n",
       "      <td>0.0</td>\n",
       "      <td>0.0</td>\n",
       "      <td>0.0</td>\n",
       "      <td>0.0</td>\n",
       "      <td>0.0</td>\n",
       "      <td>0.0</td>\n",
       "      <td>0.0</td>\n",
       "      <td>...</td>\n",
       "      <td>0.0</td>\n",
       "      <td>0.0</td>\n",
       "      <td>0.0</td>\n",
       "      <td>0.0</td>\n",
       "      <td>0.0</td>\n",
       "      <td>0.0</td>\n",
       "      <td>0.0</td>\n",
       "      <td>0.0</td>\n",
       "      <td>0.0</td>\n",
       "      <td>0.0</td>\n",
       "    </tr>\n",
       "    <tr>\n",
       "      <th>31558</th>\n",
       "      <td>0.0</td>\n",
       "      <td>0.0</td>\n",
       "      <td>0.0</td>\n",
       "      <td>0.0</td>\n",
       "      <td>0.0</td>\n",
       "      <td>0.0</td>\n",
       "      <td>0.0</td>\n",
       "      <td>0.0</td>\n",
       "      <td>0.0</td>\n",
       "      <td>0.0</td>\n",
       "      <td>...</td>\n",
       "      <td>0.0</td>\n",
       "      <td>0.0</td>\n",
       "      <td>0.0</td>\n",
       "      <td>0.0</td>\n",
       "      <td>0.0</td>\n",
       "      <td>0.0</td>\n",
       "      <td>0.0</td>\n",
       "      <td>0.0</td>\n",
       "      <td>0.0</td>\n",
       "      <td>0.0</td>\n",
       "    </tr>\n",
       "    <tr>\n",
       "      <th>77563</th>\n",
       "      <td>0.0</td>\n",
       "      <td>0.0</td>\n",
       "      <td>0.0</td>\n",
       "      <td>0.0</td>\n",
       "      <td>0.0</td>\n",
       "      <td>0.0</td>\n",
       "      <td>0.0</td>\n",
       "      <td>0.0</td>\n",
       "      <td>0.0</td>\n",
       "      <td>0.0</td>\n",
       "      <td>...</td>\n",
       "      <td>0.0</td>\n",
       "      <td>0.0</td>\n",
       "      <td>0.0</td>\n",
       "      <td>0.0</td>\n",
       "      <td>0.0</td>\n",
       "      <td>0.0</td>\n",
       "      <td>0.0</td>\n",
       "      <td>0.0</td>\n",
       "      <td>0.0</td>\n",
       "      <td>0.0</td>\n",
       "    </tr>\n",
       "    <tr>\n",
       "      <th>81070</th>\n",
       "      <td>0.0</td>\n",
       "      <td>0.0</td>\n",
       "      <td>0.0</td>\n",
       "      <td>0.0</td>\n",
       "      <td>0.0</td>\n",
       "      <td>0.0</td>\n",
       "      <td>0.0</td>\n",
       "      <td>0.0</td>\n",
       "      <td>0.0</td>\n",
       "      <td>0.0</td>\n",
       "      <td>...</td>\n",
       "      <td>0.0</td>\n",
       "      <td>0.0</td>\n",
       "      <td>0.0</td>\n",
       "      <td>0.0</td>\n",
       "      <td>0.0</td>\n",
       "      <td>0.0</td>\n",
       "      <td>0.0</td>\n",
       "      <td>0.0</td>\n",
       "      <td>0.0</td>\n",
       "      <td>0.0</td>\n",
       "    </tr>\n",
       "    <tr>\n",
       "      <th>...</th>\n",
       "      <td>...</td>\n",
       "      <td>...</td>\n",
       "      <td>...</td>\n",
       "      <td>...</td>\n",
       "      <td>...</td>\n",
       "      <td>...</td>\n",
       "      <td>...</td>\n",
       "      <td>...</td>\n",
       "      <td>...</td>\n",
       "      <td>...</td>\n",
       "      <td>...</td>\n",
       "      <td>...</td>\n",
       "      <td>...</td>\n",
       "      <td>...</td>\n",
       "      <td>...</td>\n",
       "      <td>...</td>\n",
       "      <td>...</td>\n",
       "      <td>...</td>\n",
       "      <td>...</td>\n",
       "      <td>...</td>\n",
       "      <td>...</td>\n",
       "    </tr>\n",
       "    <tr>\n",
       "      <th>47099</th>\n",
       "      <td>0.0</td>\n",
       "      <td>0.0</td>\n",
       "      <td>0.0</td>\n",
       "      <td>0.0</td>\n",
       "      <td>0.0</td>\n",
       "      <td>0.0</td>\n",
       "      <td>0.0</td>\n",
       "      <td>0.0</td>\n",
       "      <td>0.0</td>\n",
       "      <td>0.0</td>\n",
       "      <td>...</td>\n",
       "      <td>0.0</td>\n",
       "      <td>0.0</td>\n",
       "      <td>0.0</td>\n",
       "      <td>0.0</td>\n",
       "      <td>0.0</td>\n",
       "      <td>0.0</td>\n",
       "      <td>0.0</td>\n",
       "      <td>0.0</td>\n",
       "      <td>0.0</td>\n",
       "      <td>0.0</td>\n",
       "    </tr>\n",
       "    <tr>\n",
       "      <th>51794</th>\n",
       "      <td>0.0</td>\n",
       "      <td>0.0</td>\n",
       "      <td>0.0</td>\n",
       "      <td>0.0</td>\n",
       "      <td>0.0</td>\n",
       "      <td>0.0</td>\n",
       "      <td>0.0</td>\n",
       "      <td>0.0</td>\n",
       "      <td>0.0</td>\n",
       "      <td>0.0</td>\n",
       "      <td>...</td>\n",
       "      <td>0.0</td>\n",
       "      <td>0.0</td>\n",
       "      <td>0.0</td>\n",
       "      <td>0.0</td>\n",
       "      <td>0.0</td>\n",
       "      <td>0.0</td>\n",
       "      <td>0.0</td>\n",
       "      <td>0.0</td>\n",
       "      <td>0.0</td>\n",
       "      <td>0.0</td>\n",
       "    </tr>\n",
       "    <tr>\n",
       "      <th>5926</th>\n",
       "      <td>0.0</td>\n",
       "      <td>0.0</td>\n",
       "      <td>0.0</td>\n",
       "      <td>0.0</td>\n",
       "      <td>0.0</td>\n",
       "      <td>0.0</td>\n",
       "      <td>0.0</td>\n",
       "      <td>0.0</td>\n",
       "      <td>0.0</td>\n",
       "      <td>0.0</td>\n",
       "      <td>...</td>\n",
       "      <td>0.0</td>\n",
       "      <td>0.0</td>\n",
       "      <td>0.0</td>\n",
       "      <td>0.0</td>\n",
       "      <td>0.0</td>\n",
       "      <td>0.0</td>\n",
       "      <td>0.0</td>\n",
       "      <td>0.0</td>\n",
       "      <td>0.0</td>\n",
       "      <td>0.0</td>\n",
       "    </tr>\n",
       "    <tr>\n",
       "      <th>64275</th>\n",
       "      <td>0.0</td>\n",
       "      <td>0.0</td>\n",
       "      <td>0.0</td>\n",
       "      <td>0.0</td>\n",
       "      <td>0.0</td>\n",
       "      <td>0.0</td>\n",
       "      <td>0.0</td>\n",
       "      <td>0.0</td>\n",
       "      <td>0.0</td>\n",
       "      <td>0.0</td>\n",
       "      <td>...</td>\n",
       "      <td>0.0</td>\n",
       "      <td>0.0</td>\n",
       "      <td>0.0</td>\n",
       "      <td>0.0</td>\n",
       "      <td>0.0</td>\n",
       "      <td>0.0</td>\n",
       "      <td>0.0</td>\n",
       "      <td>0.0</td>\n",
       "      <td>0.0</td>\n",
       "      <td>0.0</td>\n",
       "    </tr>\n",
       "    <tr>\n",
       "      <th>88650</th>\n",
       "      <td>0.0</td>\n",
       "      <td>0.0</td>\n",
       "      <td>0.0</td>\n",
       "      <td>0.0</td>\n",
       "      <td>0.0</td>\n",
       "      <td>0.0</td>\n",
       "      <td>0.0</td>\n",
       "      <td>0.0</td>\n",
       "      <td>0.0</td>\n",
       "      <td>0.0</td>\n",
       "      <td>...</td>\n",
       "      <td>0.0</td>\n",
       "      <td>0.0</td>\n",
       "      <td>0.0</td>\n",
       "      <td>0.0</td>\n",
       "      <td>0.0</td>\n",
       "      <td>0.0</td>\n",
       "      <td>0.0</td>\n",
       "      <td>0.0</td>\n",
       "      <td>0.0</td>\n",
       "      <td>0.0</td>\n",
       "    </tr>\n",
       "  </tbody>\n",
       "</table>\n",
       "<p>105579 rows × 192 columns</p>\n",
       "</div>"
      ],
      "text/plain": [
       "       bpa  cj제일제당  epa  gmo  haccp  가공식품  간편식   건강  건강 식품  건강관리  ...  해산물  \\\n",
       "34406  0.0     0.0  0.0  0.0    0.0   0.0  0.0  0.0    0.0   0.0  ...  0.0   \n",
       "71958  0.0     0.0  0.0  0.0    0.0   0.0  0.0  0.0    0.0   0.0  ...  0.0   \n",
       "31558  0.0     0.0  0.0  0.0    0.0   0.0  0.0  0.0    0.0   0.0  ...  0.0   \n",
       "77563  0.0     0.0  0.0  0.0    0.0   0.0  0.0  0.0    0.0   0.0  ...  0.0   \n",
       "81070  0.0     0.0  0.0  0.0    0.0   0.0  0.0  0.0    0.0   0.0  ...  0.0   \n",
       "...    ...     ...  ...  ...    ...   ...  ...  ...    ...   ...  ...  ...   \n",
       "47099  0.0     0.0  0.0  0.0    0.0   0.0  0.0  0.0    0.0   0.0  ...  0.0   \n",
       "51794  0.0     0.0  0.0  0.0    0.0   0.0  0.0  0.0    0.0   0.0  ...  0.0   \n",
       "5926   0.0     0.0  0.0  0.0    0.0   0.0  0.0  0.0    0.0   0.0  ...  0.0   \n",
       "64275  0.0     0.0  0.0  0.0    0.0   0.0  0.0  0.0    0.0   0.0  ...  0.0   \n",
       "88650  0.0     0.0  0.0  0.0    0.0   0.0  0.0  0.0    0.0   0.0  ...  0.0   \n",
       "\n",
       "       해수부  해양수산부  해조류  햄버거병  호르몬  호박즙  화학물질  화합물  환경호르몬  \n",
       "34406  0.0    0.0  0.0   0.0  0.0  0.0   0.0  0.0    0.0  \n",
       "71958  0.0    0.0  0.0   0.0  0.0  0.0   0.0  0.0    0.0  \n",
       "31558  0.0    0.0  0.0   0.0  0.0  0.0   0.0  0.0    0.0  \n",
       "77563  0.0    0.0  0.0   0.0  0.0  0.0   0.0  0.0    0.0  \n",
       "81070  0.0    0.0  0.0   0.0  0.0  0.0   0.0  0.0    0.0  \n",
       "...    ...    ...  ...   ...  ...  ...   ...  ...    ...  \n",
       "47099  0.0    0.0  0.0   0.0  0.0  0.0   0.0  0.0    0.0  \n",
       "51794  0.0    0.0  0.0   0.0  0.0  0.0   0.0  0.0    0.0  \n",
       "5926   0.0    0.0  0.0   0.0  0.0  0.0   0.0  0.0    0.0  \n",
       "64275  0.0    0.0  0.0   0.0  0.0  0.0   0.0  0.0    0.0  \n",
       "88650  0.0    0.0  0.0   0.0  0.0  0.0   0.0  0.0    0.0  \n",
       "\n",
       "[105579 rows x 192 columns]"
      ]
     },
     "execution_count": 75,
     "metadata": {},
     "output_type": "execute_result"
    }
   ],
   "source": [
    "pd.DataFrame(tfidf_matrix.toarray(), columns = vect.get_feature_names()).sample(frac=1, random_state=114)"
   ]
  },
  {
   "cell_type": "code",
   "execution_count": 76,
   "id": "cda0c85f",
   "metadata": {},
   "outputs": [
    {
     "data": {
      "text/plain": [
       "(105579, 192)"
      ]
     },
     "execution_count": 76,
     "metadata": {},
     "output_type": "execute_result"
    }
   ],
   "source": [
    "tfidf_matrix.shape"
   ]
  },
  {
   "cell_type": "code",
   "execution_count": 77,
   "id": "acd6a59c",
   "metadata": {},
   "outputs": [
    {
     "ename": "MemoryError",
     "evalue": "Unable to allocate 83.1 GiB for an array with shape (105579, 105579) and data type float64",
     "output_type": "error",
     "traceback": [
      "\u001b[1;31m---------------------------------------------------------------------------\u001b[0m",
      "\u001b[1;31mMemoryError\u001b[0m                               Traceback (most recent call last)",
      "\u001b[1;32m<ipython-input-77-255cd2c1fb70>\u001b[0m in \u001b[0;36m<module>\u001b[1;34m\u001b[0m\n\u001b[0;32m      1\u001b[0m \u001b[1;32mfrom\u001b[0m \u001b[0msklearn\u001b[0m\u001b[1;33m.\u001b[0m\u001b[0mmetrics\u001b[0m\u001b[1;33m.\u001b[0m\u001b[0mpairwise\u001b[0m \u001b[1;32mimport\u001b[0m \u001b[0mcosine_similarity\u001b[0m\u001b[1;33m\u001b[0m\u001b[1;33m\u001b[0m\u001b[0m\n\u001b[1;32m----> 2\u001b[1;33m \u001b[0mcosine_matrix\u001b[0m \u001b[1;33m=\u001b[0m \u001b[0mcosine_similarity\u001b[0m\u001b[1;33m(\u001b[0m\u001b[0mtfidf_matrix\u001b[0m\u001b[1;33m,\u001b[0m \u001b[0mtfidf_matrix\u001b[0m\u001b[1;33m)\u001b[0m\u001b[1;33m\u001b[0m\u001b[1;33m\u001b[0m\u001b[0m\n\u001b[0m\u001b[0;32m      3\u001b[0m \u001b[0mcosine_matrix\u001b[0m\u001b[1;33m\u001b[0m\u001b[1;33m\u001b[0m\u001b[0m\n",
      "\u001b[1;32m~\\AppData\\Roaming\\Python\\Python38\\site-packages\\sklearn\\metrics\\pairwise.py\u001b[0m in \u001b[0;36mcosine_similarity\u001b[1;34m(X, Y, dense_output)\u001b[0m\n\u001b[0;32m   1357\u001b[0m         \u001b[0mY_normalized\u001b[0m \u001b[1;33m=\u001b[0m \u001b[0mnormalize\u001b[0m\u001b[1;33m(\u001b[0m\u001b[0mY\u001b[0m\u001b[1;33m,\u001b[0m \u001b[0mcopy\u001b[0m\u001b[1;33m=\u001b[0m\u001b[1;32mTrue\u001b[0m\u001b[1;33m)\u001b[0m\u001b[1;33m\u001b[0m\u001b[1;33m\u001b[0m\u001b[0m\n\u001b[0;32m   1358\u001b[0m \u001b[1;33m\u001b[0m\u001b[0m\n\u001b[1;32m-> 1359\u001b[1;33m     \u001b[0mK\u001b[0m \u001b[1;33m=\u001b[0m \u001b[0msafe_sparse_dot\u001b[0m\u001b[1;33m(\u001b[0m\u001b[0mX_normalized\u001b[0m\u001b[1;33m,\u001b[0m \u001b[0mY_normalized\u001b[0m\u001b[1;33m.\u001b[0m\u001b[0mT\u001b[0m\u001b[1;33m,\u001b[0m \u001b[0mdense_output\u001b[0m\u001b[1;33m=\u001b[0m\u001b[0mdense_output\u001b[0m\u001b[1;33m)\u001b[0m\u001b[1;33m\u001b[0m\u001b[1;33m\u001b[0m\u001b[0m\n\u001b[0m\u001b[0;32m   1360\u001b[0m \u001b[1;33m\u001b[0m\u001b[0m\n\u001b[0;32m   1361\u001b[0m     \u001b[1;32mreturn\u001b[0m \u001b[0mK\u001b[0m\u001b[1;33m\u001b[0m\u001b[1;33m\u001b[0m\u001b[0m\n",
      "\u001b[1;32m~\\AppData\\Roaming\\Python\\Python38\\site-packages\\sklearn\\utils\\extmath.py\u001b[0m in \u001b[0;36msafe_sparse_dot\u001b[1;34m(a, b, dense_output)\u001b[0m\n\u001b[0;32m    158\u001b[0m         \u001b[1;32mand\u001b[0m \u001b[0mhasattr\u001b[0m\u001b[1;33m(\u001b[0m\u001b[0mret\u001b[0m\u001b[1;33m,\u001b[0m \u001b[1;34m\"toarray\"\u001b[0m\u001b[1;33m)\u001b[0m\u001b[1;33m\u001b[0m\u001b[1;33m\u001b[0m\u001b[0m\n\u001b[0;32m    159\u001b[0m     ):\n\u001b[1;32m--> 160\u001b[1;33m         \u001b[1;32mreturn\u001b[0m \u001b[0mret\u001b[0m\u001b[1;33m.\u001b[0m\u001b[0mtoarray\u001b[0m\u001b[1;33m(\u001b[0m\u001b[1;33m)\u001b[0m\u001b[1;33m\u001b[0m\u001b[1;33m\u001b[0m\u001b[0m\n\u001b[0m\u001b[0;32m    161\u001b[0m     \u001b[1;32mreturn\u001b[0m \u001b[0mret\u001b[0m\u001b[1;33m\u001b[0m\u001b[1;33m\u001b[0m\u001b[0m\n\u001b[0;32m    162\u001b[0m \u001b[1;33m\u001b[0m\u001b[0m\n",
      "\u001b[1;32m~\\AppData\\Roaming\\Python\\Python38\\site-packages\\scipy\\sparse\\compressed.py\u001b[0m in \u001b[0;36mtoarray\u001b[1;34m(self, order, out)\u001b[0m\n\u001b[0;32m   1027\u001b[0m         \u001b[1;32mif\u001b[0m \u001b[0mout\u001b[0m \u001b[1;32mis\u001b[0m \u001b[1;32mNone\u001b[0m \u001b[1;32mand\u001b[0m \u001b[0morder\u001b[0m \u001b[1;32mis\u001b[0m \u001b[1;32mNone\u001b[0m\u001b[1;33m:\u001b[0m\u001b[1;33m\u001b[0m\u001b[1;33m\u001b[0m\u001b[0m\n\u001b[0;32m   1028\u001b[0m             \u001b[0morder\u001b[0m \u001b[1;33m=\u001b[0m \u001b[0mself\u001b[0m\u001b[1;33m.\u001b[0m\u001b[0m_swap\u001b[0m\u001b[1;33m(\u001b[0m\u001b[1;34m'cf'\u001b[0m\u001b[1;33m)\u001b[0m\u001b[1;33m[\u001b[0m\u001b[1;36m0\u001b[0m\u001b[1;33m]\u001b[0m\u001b[1;33m\u001b[0m\u001b[1;33m\u001b[0m\u001b[0m\n\u001b[1;32m-> 1029\u001b[1;33m         \u001b[0mout\u001b[0m \u001b[1;33m=\u001b[0m \u001b[0mself\u001b[0m\u001b[1;33m.\u001b[0m\u001b[0m_process_toarray_args\u001b[0m\u001b[1;33m(\u001b[0m\u001b[0morder\u001b[0m\u001b[1;33m,\u001b[0m \u001b[0mout\u001b[0m\u001b[1;33m)\u001b[0m\u001b[1;33m\u001b[0m\u001b[1;33m\u001b[0m\u001b[0m\n\u001b[0m\u001b[0;32m   1030\u001b[0m         \u001b[1;32mif\u001b[0m \u001b[1;32mnot\u001b[0m \u001b[1;33m(\u001b[0m\u001b[0mout\u001b[0m\u001b[1;33m.\u001b[0m\u001b[0mflags\u001b[0m\u001b[1;33m.\u001b[0m\u001b[0mc_contiguous\u001b[0m \u001b[1;32mor\u001b[0m \u001b[0mout\u001b[0m\u001b[1;33m.\u001b[0m\u001b[0mflags\u001b[0m\u001b[1;33m.\u001b[0m\u001b[0mf_contiguous\u001b[0m\u001b[1;33m)\u001b[0m\u001b[1;33m:\u001b[0m\u001b[1;33m\u001b[0m\u001b[1;33m\u001b[0m\u001b[0m\n\u001b[0;32m   1031\u001b[0m             \u001b[1;32mraise\u001b[0m \u001b[0mValueError\u001b[0m\u001b[1;33m(\u001b[0m\u001b[1;34m'Output array must be C or F contiguous'\u001b[0m\u001b[1;33m)\u001b[0m\u001b[1;33m\u001b[0m\u001b[1;33m\u001b[0m\u001b[0m\n",
      "\u001b[1;32m~\\AppData\\Roaming\\Python\\Python38\\site-packages\\scipy\\sparse\\base.py\u001b[0m in \u001b[0;36m_process_toarray_args\u001b[1;34m(self, order, out)\u001b[0m\n\u001b[0;32m   1183\u001b[0m             \u001b[1;32mreturn\u001b[0m \u001b[0mout\u001b[0m\u001b[1;33m\u001b[0m\u001b[1;33m\u001b[0m\u001b[0m\n\u001b[0;32m   1184\u001b[0m         \u001b[1;32melse\u001b[0m\u001b[1;33m:\u001b[0m\u001b[1;33m\u001b[0m\u001b[1;33m\u001b[0m\u001b[0m\n\u001b[1;32m-> 1185\u001b[1;33m             \u001b[1;32mreturn\u001b[0m \u001b[0mnp\u001b[0m\u001b[1;33m.\u001b[0m\u001b[0mzeros\u001b[0m\u001b[1;33m(\u001b[0m\u001b[0mself\u001b[0m\u001b[1;33m.\u001b[0m\u001b[0mshape\u001b[0m\u001b[1;33m,\u001b[0m \u001b[0mdtype\u001b[0m\u001b[1;33m=\u001b[0m\u001b[0mself\u001b[0m\u001b[1;33m.\u001b[0m\u001b[0mdtype\u001b[0m\u001b[1;33m,\u001b[0m \u001b[0morder\u001b[0m\u001b[1;33m=\u001b[0m\u001b[0morder\u001b[0m\u001b[1;33m)\u001b[0m\u001b[1;33m\u001b[0m\u001b[1;33m\u001b[0m\u001b[0m\n\u001b[0m\u001b[0;32m   1186\u001b[0m \u001b[1;33m\u001b[0m\u001b[0m\n\u001b[0;32m   1187\u001b[0m \u001b[1;33m\u001b[0m\u001b[0m\n",
      "\u001b[1;31mMemoryError\u001b[0m: Unable to allocate 83.1 GiB for an array with shape (105579, 105579) and data type float64"
     ]
    }
   ],
   "source": [
    "from sklearn.metrics.pairwise import cosine_similarity\n",
    "cosine_matrix = cosine_similarity(tfidf_matrix, tfidf_matrix)\n",
    "cosine_matrix"
   ]
  },
  {
   "cell_type": "code",
   "execution_count": null,
   "id": "60154f17",
   "metadata": {},
   "outputs": [],
   "source": []
  },
  {
   "cell_type": "code",
   "execution_count": null,
   "id": "68ad663c",
   "metadata": {},
   "outputs": [],
   "source": []
  },
  {
   "cell_type": "code",
   "execution_count": null,
   "id": "44cc1851",
   "metadata": {},
   "outputs": [],
   "source": []
  },
  {
   "cell_type": "code",
   "execution_count": null,
   "id": "7b89f8ba",
   "metadata": {},
   "outputs": [],
   "source": []
  },
  {
   "cell_type": "code",
   "execution_count": null,
   "id": "94613329",
   "metadata": {},
   "outputs": [],
   "source": []
  },
  {
   "cell_type": "code",
   "execution_count": null,
   "id": "e8528c04",
   "metadata": {},
   "outputs": [],
   "source": []
  },
  {
   "cell_type": "code",
   "execution_count": 36,
   "id": "c3dd1969",
   "metadata": {},
   "outputs": [
    {
     "ename": "ValueError",
     "evalue": "too many values to unpack (expected 3)",
     "output_type": "error",
     "traceback": [
      "\u001b[1;31m---------------------------------------------------------------------------\u001b[0m",
      "\u001b[1;31mValueError\u001b[0m                                Traceback (most recent call last)",
      "\u001b[1;32m<ipython-input-36-7dafd03c739c>\u001b[0m in \u001b[0;36m<module>\u001b[1;34m\u001b[0m\n\u001b[0;32m     42\u001b[0m     \u001b[0mplt\u001b[0m\u001b[1;33m.\u001b[0m\u001b[0mshow\u001b[0m\u001b[1;33m(\u001b[0m\u001b[1;33m)\u001b[0m\u001b[1;33m\u001b[0m\u001b[1;33m\u001b[0m\u001b[0m\n\u001b[0;32m     43\u001b[0m \u001b[1;33m\u001b[0m\u001b[0m\n\u001b[1;32m---> 44\u001b[1;33m \u001b[0msentences_chart\u001b[0m\u001b[1;33m(\u001b[0m\u001b[1;33m)\u001b[0m\u001b[1;33m\u001b[0m\u001b[1;33m\u001b[0m\u001b[0m\n\u001b[0m",
      "\u001b[1;32m<ipython-input-36-7dafd03c739c>\u001b[0m in \u001b[0;36msentences_chart\u001b[1;34m(lda_model, corpus, start, end)\u001b[0m\n\u001b[0;32m     11\u001b[0m         \u001b[1;32mif\u001b[0m \u001b[0mi\u001b[0m \u001b[1;33m>\u001b[0m \u001b[1;36m0\u001b[0m\u001b[1;33m:\u001b[0m\u001b[1;33m\u001b[0m\u001b[1;33m\u001b[0m\u001b[0m\n\u001b[0;32m     12\u001b[0m             \u001b[0mcorp_cur\u001b[0m \u001b[1;33m=\u001b[0m \u001b[0mcorp\u001b[0m\u001b[1;33m[\u001b[0m\u001b[0mi\u001b[0m\u001b[1;33m-\u001b[0m\u001b[1;36m1\u001b[0m\u001b[1;33m]\u001b[0m\u001b[1;33m\u001b[0m\u001b[1;33m\u001b[0m\u001b[0m\n\u001b[1;32m---> 13\u001b[1;33m             \u001b[0mtopic_percs\u001b[0m\u001b[1;33m,\u001b[0m \u001b[0mwordid_topics\u001b[0m\u001b[1;33m,\u001b[0m \u001b[0mwordid_phivalues\u001b[0m \u001b[1;33m=\u001b[0m \u001b[0mlda_model\u001b[0m\u001b[1;33m[\u001b[0m\u001b[0mcorp_cur\u001b[0m\u001b[1;33m]\u001b[0m\u001b[1;33m\u001b[0m\u001b[1;33m\u001b[0m\u001b[0m\n\u001b[0m\u001b[0;32m     14\u001b[0m             \u001b[0mword_dominanttopic\u001b[0m \u001b[1;33m=\u001b[0m \u001b[1;33m[\u001b[0m\u001b[1;33m(\u001b[0m\u001b[0mlda_model\u001b[0m\u001b[1;33m.\u001b[0m\u001b[0mid2word\u001b[0m\u001b[1;33m[\u001b[0m\u001b[0mwd\u001b[0m\u001b[1;33m]\u001b[0m\u001b[1;33m,\u001b[0m \u001b[0mtopic\u001b[0m\u001b[1;33m[\u001b[0m\u001b[1;36m0\u001b[0m\u001b[1;33m]\u001b[0m\u001b[1;33m)\u001b[0m \u001b[1;32mfor\u001b[0m \u001b[0mwd\u001b[0m\u001b[1;33m,\u001b[0m \u001b[0mtopic\u001b[0m \u001b[1;32min\u001b[0m \u001b[0mwordid_topics\u001b[0m\u001b[1;33m]\u001b[0m\u001b[1;33m\u001b[0m\u001b[1;33m\u001b[0m\u001b[0m\n\u001b[0;32m     15\u001b[0m             ax.text(0.01, 0.5, \"Doc \" + str(i-1) + \": \", verticalalignment='center',\n",
      "\u001b[1;31mValueError\u001b[0m: too many values to unpack (expected 3)"
     ]
    },
    {
     "data": {
      "image/png": "[encoded data removed]",
      "text/plain": [
       "<Figure size 3200x1520 with 10 Axes>"
      ]
     },
     "metadata": {
      "needs_background": "light"
     },
     "output_type": "display_data"
    }
   ],
   "source": [
    "# Sentence Coloring of N Sentences\n",
    "from matplotlib.patches import Rectangle\n",
    "\n",
    "def sentences_chart(lda_model=model, corpus=corpus, start = 0, end = 10):\n",
    "    corp = corpus[start:end]\n",
    "    mycolors = [color for name, color in mcolors.TABLEAU_COLORS.items()]\n",
    "\n",
    "    fig, axes = plt.subplots(end-start, 1, figsize=(20, (end-start)*0.95), dpi=160)       \n",
    "    axes[0].axis('off')\n",
    "    for i, ax in enumerate(axes):\n",
    "        if i > 0:\n",
    "            corp_cur = corp[i-1] \n",
    "            topic_percs, wordid_topics, wordid_phivalues = lda_model[corp_cur]\n",
    "            word_dominanttopic = [(lda_model.id2word[wd], topic[0]) for wd, topic in wordid_topics]    \n",
    "            ax.text(0.01, 0.5, \"Doc \" + str(i-1) + \": \", verticalalignment='center',\n",
    "                    fontsize=16, color='black', transform=ax.transAxes, fontweight=700)\n",
    "\n",
    "            # Draw Rectange\n",
    "            topic_percs_sorted = sorted(topic_percs, key=lambda x: (x[1]), reverse=True)\n",
    "            ax.add_patch(Rectangle((0.0, 0.05), 0.99, 0.90, fill=None, alpha=1, \n",
    "                                   color=mycolors[topic_percs_sorted[0][0]], linewidth=2))\n",
    "\n",
    "            word_pos = 0.06\n",
    "            for j, (word, topics) in enumerate(word_dominanttopic):\n",
    "                if j < 14:\n",
    "                    ax.text(word_pos, 0.5, word,\n",
    "                            horizontalalignment='left',\n",
    "                            verticalalignment='center',\n",
    "                            fontsize=12, color=mycolors[topics],\n",
    "                            transform=ax.transAxes, fontweight=700)\n",
    "                    word_pos += .009 * len(word)  # to move the word for the next iter\n",
    "                    ax.axis('off')\n",
    "            ax.text(word_pos, 0.5, '. . .',\n",
    "                    horizontalalignment='left',\n",
    "                    verticalalignment='center',\n",
    "                    fontsize=12, color='black',\n",
    "                    transform=ax.transAxes)       \n",
    "\n",
    "    plt.subplots_adjust(wspace=0, hspace=0)\n",
    "    plt.suptitle('Sentence Topic Coloring for Documents: ' + str(start) + ' to ' + str(end-2), fontsize=18, y=0.95, fontweight=700)\n",
    "    plt.tight_layout()\n",
    "    plt.show()\n",
    "\n",
    "sentences_chart()    "
   ]
  },
  {
   "cell_type": "code",
   "execution_count": 157,
   "id": "1aaafb4a",
   "metadata": {},
   "outputs": [
    {
     "ename": "KeyboardInterrupt",
     "evalue": "",
     "output_type": "error",
     "traceback": [
      "\u001b[1;31m---------------------------------------------------------------------------\u001b[0m",
      "\u001b[1;31mOSError\u001b[0m                                   Traceback (most recent call last)",
      "\u001b[1;32mC:\\ProgramData\\Anaconda3\\lib\\linecache.py\u001b[0m in \u001b[0;36mcheckcache\u001b[1;34m(filename)\u001b[0m\n\u001b[0;32m     73\u001b[0m         \u001b[1;32mtry\u001b[0m\u001b[1;33m:\u001b[0m\u001b[1;33m\u001b[0m\u001b[1;33m\u001b[0m\u001b[0m\n\u001b[1;32m---> 74\u001b[1;33m             \u001b[0mstat\u001b[0m \u001b[1;33m=\u001b[0m \u001b[0mos\u001b[0m\u001b[1;33m.\u001b[0m\u001b[0mstat\u001b[0m\u001b[1;33m(\u001b[0m\u001b[0mfullname\u001b[0m\u001b[1;33m)\u001b[0m\u001b[1;33m\u001b[0m\u001b[1;33m\u001b[0m\u001b[0m\n\u001b[0m\u001b[0;32m     75\u001b[0m         \u001b[1;32mexcept\u001b[0m \u001b[0mOSError\u001b[0m\u001b[1;33m:\u001b[0m\u001b[1;33m\u001b[0m\u001b[1;33m\u001b[0m\u001b[0m\n",
      "\u001b[1;31mOSError\u001b[0m: [WinError 123] 파일 이름, 디렉터리 이름 또는 볼륨 레이블 구문이 잘못되었습니다: '<ipython-input-157-b7c0c100330b>'",
      "\nDuring handling of the above exception, another exception occurred:\n",
      "\u001b[1;31mKeyboardInterrupt\u001b[0m                         Traceback (most recent call last)",
      "\u001b[1;32m<ipython-input-157-b7c0c100330b>\u001b[0m in \u001b[0;36m<module>\u001b[1;34m\u001b[0m\n\u001b[0;32m     26\u001b[0m \u001b[1;33m\u001b[0m\u001b[0m\n\u001b[0;32m     27\u001b[0m \u001b[1;33m\u001b[0m\u001b[0m\n\u001b[1;32m---> 28\u001b[1;33m \u001b[0mdf_topic_sents_keywords\u001b[0m \u001b[1;33m=\u001b[0m \u001b[0mformat_topics_sentences\u001b[0m\u001b[1;33m(\u001b[0m\u001b[0mldamodel\u001b[0m\u001b[1;33m=\u001b[0m\u001b[0mlda_model\u001b[0m\u001b[1;33m,\u001b[0m \u001b[0mcorpus\u001b[0m\u001b[1;33m=\u001b[0m\u001b[0mcorpus\u001b[0m\u001b[1;33m,\u001b[0m \u001b[0mtexts\u001b[0m\u001b[1;33m=\u001b[0m\u001b[0mdata_ready\u001b[0m\u001b[1;33m)\u001b[0m\u001b[1;33m\u001b[0m\u001b[1;33m\u001b[0m\u001b[0m\n\u001b[0m\u001b[0;32m     29\u001b[0m \u001b[1;33m\u001b[0m\u001b[0m\n\u001b[0;32m     30\u001b[0m \u001b[1;31m# Format\u001b[0m\u001b[1;33m\u001b[0m\u001b[1;33m\u001b[0m\u001b[1;33m\u001b[0m\u001b[0m\n",
      "\u001b[1;32m<ipython-input-157-b7c0c100330b>\u001b[0m in \u001b[0;36mformat_topics_sentences\u001b[1;34m(ldamodel, corpus, texts)\u001b[0m\n\u001b[0;32m     15\u001b[0m                 \u001b[0mwp\u001b[0m \u001b[1;33m=\u001b[0m \u001b[0mldamodel\u001b[0m\u001b[1;33m.\u001b[0m\u001b[0mshow_topic\u001b[0m\u001b[1;33m(\u001b[0m\u001b[0mtopic_num\u001b[0m\u001b[1;33m)\u001b[0m\u001b[1;33m\u001b[0m\u001b[1;33m\u001b[0m\u001b[0m\n\u001b[0;32m     16\u001b[0m                 \u001b[0mtopic_keywords\u001b[0m \u001b[1;33m=\u001b[0m \u001b[1;34m\", \"\u001b[0m\u001b[1;33m.\u001b[0m\u001b[0mjoin\u001b[0m\u001b[1;33m(\u001b[0m\u001b[1;33m[\u001b[0m\u001b[0mword\u001b[0m \u001b[1;32mfor\u001b[0m \u001b[0mword\u001b[0m\u001b[1;33m,\u001b[0m \u001b[0mprop\u001b[0m \u001b[1;32min\u001b[0m \u001b[0mwp\u001b[0m\u001b[1;33m]\u001b[0m\u001b[1;33m)\u001b[0m\u001b[1;33m\u001b[0m\u001b[1;33m\u001b[0m\u001b[0m\n\u001b[1;32m---> 17\u001b[1;33m                 \u001b[0msent_topics_df\u001b[0m \u001b[1;33m=\u001b[0m \u001b[0msent_topics_df\u001b[0m\u001b[1;33m.\u001b[0m\u001b[0mappend\u001b[0m\u001b[1;33m(\u001b[0m\u001b[0mpd\u001b[0m\u001b[1;33m.\u001b[0m\u001b[0mSeries\u001b[0m\u001b[1;33m(\u001b[0m\u001b[1;33m[\u001b[0m\u001b[0mint\u001b[0m\u001b[1;33m(\u001b[0m\u001b[0mtopic_num\u001b[0m\u001b[1;33m)\u001b[0m\u001b[1;33m,\u001b[0m \u001b[0mround\u001b[0m\u001b[1;33m(\u001b[0m\u001b[0mprop_topic\u001b[0m\u001b[1;33m,\u001b[0m\u001b[1;36m4\u001b[0m\u001b[1;33m)\u001b[0m\u001b[1;33m,\u001b[0m \u001b[0mtopic_keywords\u001b[0m\u001b[1;33m]\u001b[0m\u001b[1;33m)\u001b[0m\u001b[1;33m,\u001b[0m \u001b[0mignore_index\u001b[0m\u001b[1;33m=\u001b[0m\u001b[1;32mTrue\u001b[0m\u001b[1;33m)\u001b[0m\u001b[1;33m\u001b[0m\u001b[1;33m\u001b[0m\u001b[0m\n\u001b[0m\u001b[0;32m     18\u001b[0m             \u001b[1;32melse\u001b[0m\u001b[1;33m:\u001b[0m\u001b[1;33m\u001b[0m\u001b[1;33m\u001b[0m\u001b[0m\n\u001b[0;32m     19\u001b[0m                 \u001b[1;32mbreak\u001b[0m\u001b[1;33m\u001b[0m\u001b[1;33m\u001b[0m\u001b[0m\n",
      "\u001b[1;32mC:\\ProgramData\\Anaconda3\\lib\\site-packages\\pandas\\core\\frame.py\u001b[0m in \u001b[0;36mappend\u001b[1;34m(self, other, ignore_index, verify_integrity, sort)\u001b[0m\n\u001b[0;32m   9028\u001b[0m             \u001b[1;34m\"Use pandas.concat instead.\"\u001b[0m\u001b[1;33m,\u001b[0m\u001b[1;33m\u001b[0m\u001b[1;33m\u001b[0m\u001b[0m\n\u001b[0;32m   9029\u001b[0m             \u001b[0mFutureWarning\u001b[0m\u001b[1;33m,\u001b[0m\u001b[1;33m\u001b[0m\u001b[1;33m\u001b[0m\u001b[0m\n\u001b[1;32m-> 9030\u001b[1;33m             \u001b[0mstacklevel\u001b[0m\u001b[1;33m=\u001b[0m\u001b[0mfind_stack_level\u001b[0m\u001b[1;33m(\u001b[0m\u001b[1;33m)\u001b[0m\u001b[1;33m,\u001b[0m\u001b[1;33m\u001b[0m\u001b[1;33m\u001b[0m\u001b[0m\n\u001b[0m\u001b[0;32m   9031\u001b[0m         )\n\u001b[0;32m   9032\u001b[0m \u001b[1;33m\u001b[0m\u001b[0m\n",
      "\u001b[1;32mC:\\ProgramData\\Anaconda3\\lib\\site-packages\\pandas\\util\\_exceptions.py\u001b[0m in \u001b[0;36mfind_stack_level\u001b[1;34m()\u001b[0m\n\u001b[0;32m     30\u001b[0m     \u001b[1;33m(\u001b[0m\u001b[0mtests\u001b[0m \u001b[0mnotwithstanding\u001b[0m\u001b[1;33m)\u001b[0m\u001b[1;33m.\u001b[0m\u001b[1;33m\u001b[0m\u001b[1;33m\u001b[0m\u001b[0m\n\u001b[0;32m     31\u001b[0m     \"\"\"\n\u001b[1;32m---> 32\u001b[1;33m     \u001b[0mstack\u001b[0m \u001b[1;33m=\u001b[0m \u001b[0minspect\u001b[0m\u001b[1;33m.\u001b[0m\u001b[0mstack\u001b[0m\u001b[1;33m(\u001b[0m\u001b[1;33m)\u001b[0m\u001b[1;33m\u001b[0m\u001b[1;33m\u001b[0m\u001b[0m\n\u001b[0m\u001b[0;32m     33\u001b[0m \u001b[1;33m\u001b[0m\u001b[0m\n\u001b[0;32m     34\u001b[0m     \u001b[1;32mimport\u001b[0m \u001b[0mpandas\u001b[0m \u001b[1;32mas\u001b[0m \u001b[0mpd\u001b[0m\u001b[1;33m\u001b[0m\u001b[1;33m\u001b[0m\u001b[0m\n",
      "\u001b[1;32mC:\\ProgramData\\Anaconda3\\lib\\inspect.py\u001b[0m in \u001b[0;36mstack\u001b[1;34m(context)\u001b[0m\n\u001b[0;32m   1524\u001b[0m \u001b[1;32mdef\u001b[0m \u001b[0mstack\u001b[0m\u001b[1;33m(\u001b[0m\u001b[0mcontext\u001b[0m\u001b[1;33m=\u001b[0m\u001b[1;36m1\u001b[0m\u001b[1;33m)\u001b[0m\u001b[1;33m:\u001b[0m\u001b[1;33m\u001b[0m\u001b[1;33m\u001b[0m\u001b[0m\n\u001b[0;32m   1525\u001b[0m     \u001b[1;34m\"\"\"Return a list of records for the stack above the caller's frame.\"\"\"\u001b[0m\u001b[1;33m\u001b[0m\u001b[1;33m\u001b[0m\u001b[0m\n\u001b[1;32m-> 1526\u001b[1;33m     \u001b[1;32mreturn\u001b[0m \u001b[0mgetouterframes\u001b[0m\u001b[1;33m(\u001b[0m\u001b[0msys\u001b[0m\u001b[1;33m.\u001b[0m\u001b[0m_getframe\u001b[0m\u001b[1;33m(\u001b[0m\u001b[1;36m1\u001b[0m\u001b[1;33m)\u001b[0m\u001b[1;33m,\u001b[0m \u001b[0mcontext\u001b[0m\u001b[1;33m)\u001b[0m\u001b[1;33m\u001b[0m\u001b[1;33m\u001b[0m\u001b[0m\n\u001b[0m\u001b[0;32m   1527\u001b[0m \u001b[1;33m\u001b[0m\u001b[0m\n\u001b[0;32m   1528\u001b[0m \u001b[1;32mdef\u001b[0m \u001b[0mtrace\u001b[0m\u001b[1;33m(\u001b[0m\u001b[0mcontext\u001b[0m\u001b[1;33m=\u001b[0m\u001b[1;36m1\u001b[0m\u001b[1;33m)\u001b[0m\u001b[1;33m:\u001b[0m\u001b[1;33m\u001b[0m\u001b[1;33m\u001b[0m\u001b[0m\n",
      "\u001b[1;32mC:\\ProgramData\\Anaconda3\\lib\\inspect.py\u001b[0m in \u001b[0;36mgetouterframes\u001b[1;34m(frame, context)\u001b[0m\n\u001b[0;32m   1501\u001b[0m     \u001b[0mframelist\u001b[0m \u001b[1;33m=\u001b[0m \u001b[1;33m[\u001b[0m\u001b[1;33m]\u001b[0m\u001b[1;33m\u001b[0m\u001b[1;33m\u001b[0m\u001b[0m\n\u001b[0;32m   1502\u001b[0m     \u001b[1;32mwhile\u001b[0m \u001b[0mframe\u001b[0m\u001b[1;33m:\u001b[0m\u001b[1;33m\u001b[0m\u001b[1;33m\u001b[0m\u001b[0m\n\u001b[1;32m-> 1503\u001b[1;33m         \u001b[0mframeinfo\u001b[0m \u001b[1;33m=\u001b[0m \u001b[1;33m(\u001b[0m\u001b[0mframe\u001b[0m\u001b[1;33m,\u001b[0m\u001b[1;33m)\u001b[0m \u001b[1;33m+\u001b[0m \u001b[0mgetframeinfo\u001b[0m\u001b[1;33m(\u001b[0m\u001b[0mframe\u001b[0m\u001b[1;33m,\u001b[0m \u001b[0mcontext\u001b[0m\u001b[1;33m)\u001b[0m\u001b[1;33m\u001b[0m\u001b[1;33m\u001b[0m\u001b[0m\n\u001b[0m\u001b[0;32m   1504\u001b[0m         \u001b[0mframelist\u001b[0m\u001b[1;33m.\u001b[0m\u001b[0mappend\u001b[0m\u001b[1;33m(\u001b[0m\u001b[0mFrameInfo\u001b[0m\u001b[1;33m(\u001b[0m\u001b[1;33m*\u001b[0m\u001b[0mframeinfo\u001b[0m\u001b[1;33m)\u001b[0m\u001b[1;33m)\u001b[0m\u001b[1;33m\u001b[0m\u001b[1;33m\u001b[0m\u001b[0m\n\u001b[0;32m   1505\u001b[0m         \u001b[0mframe\u001b[0m \u001b[1;33m=\u001b[0m \u001b[0mframe\u001b[0m\u001b[1;33m.\u001b[0m\u001b[0mf_back\u001b[0m\u001b[1;33m\u001b[0m\u001b[1;33m\u001b[0m\u001b[0m\n",
      "\u001b[1;32mC:\\ProgramData\\Anaconda3\\lib\\inspect.py\u001b[0m in \u001b[0;36mgetframeinfo\u001b[1;34m(frame, context)\u001b[0m\n\u001b[0;32m   1475\u001b[0m         \u001b[0mstart\u001b[0m \u001b[1;33m=\u001b[0m \u001b[0mlineno\u001b[0m \u001b[1;33m-\u001b[0m \u001b[1;36m1\u001b[0m \u001b[1;33m-\u001b[0m \u001b[0mcontext\u001b[0m\u001b[1;33m//\u001b[0m\u001b[1;36m2\u001b[0m\u001b[1;33m\u001b[0m\u001b[1;33m\u001b[0m\u001b[0m\n\u001b[0;32m   1476\u001b[0m         \u001b[1;32mtry\u001b[0m\u001b[1;33m:\u001b[0m\u001b[1;33m\u001b[0m\u001b[1;33m\u001b[0m\u001b[0m\n\u001b[1;32m-> 1477\u001b[1;33m             \u001b[0mlines\u001b[0m\u001b[1;33m,\u001b[0m \u001b[0mlnum\u001b[0m \u001b[1;33m=\u001b[0m \u001b[0mfindsource\u001b[0m\u001b[1;33m(\u001b[0m\u001b[0mframe\u001b[0m\u001b[1;33m)\u001b[0m\u001b[1;33m\u001b[0m\u001b[1;33m\u001b[0m\u001b[0m\n\u001b[0m\u001b[0;32m   1478\u001b[0m         \u001b[1;32mexcept\u001b[0m \u001b[0mOSError\u001b[0m\u001b[1;33m:\u001b[0m\u001b[1;33m\u001b[0m\u001b[1;33m\u001b[0m\u001b[0m\n\u001b[0;32m   1479\u001b[0m             \u001b[0mlines\u001b[0m \u001b[1;33m=\u001b[0m \u001b[0mindex\u001b[0m \u001b[1;33m=\u001b[0m \u001b[1;32mNone\u001b[0m\u001b[1;33m\u001b[0m\u001b[1;33m\u001b[0m\u001b[0m\n",
      "\u001b[1;32mC:\\ProgramData\\Anaconda3\\lib\\inspect.py\u001b[0m in \u001b[0;36mfindsource\u001b[1;34m(object)\u001b[0m\n\u001b[0;32m    781\u001b[0m     \u001b[1;32mif\u001b[0m \u001b[0mfile\u001b[0m\u001b[1;33m:\u001b[0m\u001b[1;33m\u001b[0m\u001b[1;33m\u001b[0m\u001b[0m\n\u001b[0;32m    782\u001b[0m         \u001b[1;31m# Invalidate cache if needed.\u001b[0m\u001b[1;33m\u001b[0m\u001b[1;33m\u001b[0m\u001b[1;33m\u001b[0m\u001b[0m\n\u001b[1;32m--> 783\u001b[1;33m         \u001b[0mlinecache\u001b[0m\u001b[1;33m.\u001b[0m\u001b[0mcheckcache\u001b[0m\u001b[1;33m(\u001b[0m\u001b[0mfile\u001b[0m\u001b[1;33m)\u001b[0m\u001b[1;33m\u001b[0m\u001b[1;33m\u001b[0m\u001b[0m\n\u001b[0m\u001b[0;32m    784\u001b[0m     \u001b[1;32melse\u001b[0m\u001b[1;33m:\u001b[0m\u001b[1;33m\u001b[0m\u001b[1;33m\u001b[0m\u001b[0m\n\u001b[0;32m    785\u001b[0m         \u001b[0mfile\u001b[0m \u001b[1;33m=\u001b[0m \u001b[0mgetfile\u001b[0m\u001b[1;33m(\u001b[0m\u001b[0mobject\u001b[0m\u001b[1;33m)\u001b[0m\u001b[1;33m\u001b[0m\u001b[1;33m\u001b[0m\u001b[0m\n",
      "\u001b[1;32mC:\\ProgramData\\Anaconda3\\lib\\site-packages\\IPython\\core\\compilerop.py\u001b[0m in \u001b[0;36mcheck_linecache_ipython\u001b[1;34m(*args)\u001b[0m\n\u001b[0;32m    183\u001b[0m     \"\"\"\n\u001b[0;32m    184\u001b[0m     \u001b[1;31m# First call the original checkcache as intended\u001b[0m\u001b[1;33m\u001b[0m\u001b[1;33m\u001b[0m\u001b[1;33m\u001b[0m\u001b[0m\n\u001b[1;32m--> 185\u001b[1;33m     \u001b[0mlinecache\u001b[0m\u001b[1;33m.\u001b[0m\u001b[0m_checkcache_ori\u001b[0m\u001b[1;33m(\u001b[0m\u001b[1;33m*\u001b[0m\u001b[0margs\u001b[0m\u001b[1;33m)\u001b[0m\u001b[1;33m\u001b[0m\u001b[1;33m\u001b[0m\u001b[0m\n\u001b[0m\u001b[0;32m    186\u001b[0m     \u001b[1;31m# Then, update back the cache with our data, so that tracebacks related\u001b[0m\u001b[1;33m\u001b[0m\u001b[1;33m\u001b[0m\u001b[1;33m\u001b[0m\u001b[0m\n\u001b[0;32m    187\u001b[0m     \u001b[1;31m# to our compiled codes can be produced.\u001b[0m\u001b[1;33m\u001b[0m\u001b[1;33m\u001b[0m\u001b[1;33m\u001b[0m\u001b[0m\n",
      "\u001b[1;32mC:\\ProgramData\\Anaconda3\\lib\\linecache.py\u001b[0m in \u001b[0;36mcheckcache\u001b[1;34m(filename)\u001b[0m\n\u001b[0;32m     72\u001b[0m             \u001b[1;32mcontinue\u001b[0m   \u001b[1;31m# no-op for files loaded via a __loader__\u001b[0m\u001b[1;33m\u001b[0m\u001b[1;33m\u001b[0m\u001b[0m\n\u001b[0;32m     73\u001b[0m         \u001b[1;32mtry\u001b[0m\u001b[1;33m:\u001b[0m\u001b[1;33m\u001b[0m\u001b[1;33m\u001b[0m\u001b[0m\n\u001b[1;32m---> 74\u001b[1;33m             \u001b[0mstat\u001b[0m \u001b[1;33m=\u001b[0m \u001b[0mos\u001b[0m\u001b[1;33m.\u001b[0m\u001b[0mstat\u001b[0m\u001b[1;33m(\u001b[0m\u001b[0mfullname\u001b[0m\u001b[1;33m)\u001b[0m\u001b[1;33m\u001b[0m\u001b[1;33m\u001b[0m\u001b[0m\n\u001b[0m\u001b[0;32m     75\u001b[0m         \u001b[1;32mexcept\u001b[0m \u001b[0mOSError\u001b[0m\u001b[1;33m:\u001b[0m\u001b[1;33m\u001b[0m\u001b[1;33m\u001b[0m\u001b[0m\n\u001b[0;32m     76\u001b[0m             \u001b[0mcache\u001b[0m\u001b[1;33m.\u001b[0m\u001b[0mpop\u001b[0m\u001b[1;33m(\u001b[0m\u001b[0mfilename\u001b[0m\u001b[1;33m,\u001b[0m \u001b[1;32mNone\u001b[0m\u001b[1;33m)\u001b[0m\u001b[1;33m\u001b[0m\u001b[1;33m\u001b[0m\u001b[0m\n",
      "\u001b[1;31mKeyboardInterrupt\u001b[0m: "
     ]
    }
   ],
   "source": [
    "data_ready = data_words\n",
    "\n",
    "def format_topics_sentences(ldamodel=None, corpus=corpus, texts=data):\n",
    "    # Init output\n",
    "    sent_topics_df = pd.DataFrame()\n",
    "\n",
    "    # Get main topic in each document\n",
    "    for i, row_list in enumerate(ldamodel[corpus]):\n",
    "        row = row_list[0] if ldamodel.per_word_topics else row_list            \n",
    "        # print(row)\n",
    "        row = sorted(row, key=lambda x: (x[1]), reverse=True)\n",
    "        # Get the Dominant topic, Perc Contribution and Keywords for each document\n",
    "        for j, (topic_num, prop_topic) in enumerate(row):\n",
    "            if j == 0:  # => dominant topic\n",
    "                wp = ldamodel.show_topic(topic_num)\n",
    "                topic_keywords = \", \".join([word for word, prop in wp])\n",
    "                sent_topics_df = sent_topics_df.append(pd.Series([int(topic_num), round(prop_topic,4), topic_keywords]), ignore_index=True)\n",
    "            else:\n",
    "                break\n",
    "    sent_topics_df.columns = ['Dominant_Topic', 'Perc_Contribution', 'Topic_Keywords']\n",
    "\n",
    "    # Add original text to the end of the output\n",
    "    contents = pd.Series(texts)\n",
    "    sent_topics_df = pd.concat([sent_topics_df, contents], axis=1)\n",
    "    return(sent_topics_df)\n",
    "\n",
    "\n",
    "df_topic_sents_keywords = format_topics_sentences(ldamodel=lda_model, corpus=corpus, texts=data_ready)\n",
    "\n",
    "# Format\n",
    "df_dominant_topic = df_topic_sents_keywords.reset_index()\n",
    "df_dominant_topic.columns = ['Document_No', 'Dominant_Topic', 'Topic_Perc_Contrib', 'Keywords', 'Text']\n",
    "df_dominant_topic.head(10)"
   ]
  },
  {
   "cell_type": "code",
   "execution_count": 34,
   "id": "4d63e963",
   "metadata": {},
   "outputs": [
    {
     "data": {
      "text/html": [
       "<div>\n",
       "<style scoped>\n",
       "    .dataframe tbody tr th:only-of-type {\n",
       "        vertical-align: middle;\n",
       "    }\n",
       "\n",
       "    .dataframe tbody tr th {\n",
       "        vertical-align: top;\n",
       "    }\n",
       "\n",
       "    .dataframe thead th {\n",
       "        text-align: right;\n",
       "    }\n",
       "</style>\n",
       "<table border=\"1\" class=\"dataframe\">\n",
       "  <thead>\n",
       "    <tr style=\"text-align: right;\">\n",
       "      <th></th>\n",
       "      <th>Document_No</th>\n",
       "      <th>Dominant_Topic</th>\n",
       "      <th>Topic_Perc_Contrib</th>\n",
       "      <th>Keywords</th>\n",
       "      <th>Text</th>\n",
       "    </tr>\n",
       "  </thead>\n",
       "  <tbody>\n",
       "    <tr>\n",
       "      <th>0</th>\n",
       "      <td>0</td>\n",
       "      <td>2</td>\n",
       "      <td>1.0</td>\n",
       "      <td>그동안,별자리,웬수,부모님,게자리,찜질방,금전운,황소자리,일들,대인관계,동아리회식,...</td>\n",
       "      <td>[시범판매,밀가루,농산물,밀산업,자급률,병해충,소비자,육성법,소비량,신규제품,16톤...</td>\n",
       "    </tr>\n",
       "  </tbody>\n",
       "</table>\n",
       "</div>"
      ],
      "text/plain": [
       "   Document_No  Dominant_Topic  Topic_Perc_Contrib  \\\n",
       "0            0               2                 1.0   \n",
       "\n",
       "                                            Keywords  \\\n",
       "0  그동안,별자리,웬수,부모님,게자리,찜질방,금전운,황소자리,일들,대인관계,동아리회식,...   \n",
       "\n",
       "                                                Text  \n",
       "0  [시범판매,밀가루,농산물,밀산업,자급률,병해충,소비자,육성법,소비량,신규제품,16톤...  "
      ]
     },
     "execution_count": 34,
     "metadata": {},
     "output_type": "execute_result"
    }
   ],
   "source": [
    "df_dominant_topic"
   ]
  },
  {
   "cell_type": "code",
   "execution_count": 160,
   "id": "aaae95b6",
   "metadata": {
    "scrolled": true
   },
   "outputs": [
    {
     "data": {
      "text/html": [
       "<div>\n",
       "<style scoped>\n",
       "    .dataframe tbody tr th:only-of-type {\n",
       "        vertical-align: middle;\n",
       "    }\n",
       "\n",
       "    .dataframe tbody tr th {\n",
       "        vertical-align: top;\n",
       "    }\n",
       "\n",
       "    .dataframe thead th {\n",
       "        text-align: right;\n",
       "    }\n",
       "</style>\n",
       "<table border=\"1\" class=\"dataframe\">\n",
       "  <thead>\n",
       "    <tr style=\"text-align: right;\">\n",
       "      <th></th>\n",
       "      <th>Topic_Num</th>\n",
       "      <th>Topic_Perc_Contrib</th>\n",
       "      <th>Keywords</th>\n",
       "      <th>Representative Text</th>\n",
       "    </tr>\n",
       "  </thead>\n",
       "  <tbody>\n",
       "    <tr>\n",
       "      <th>0</th>\n",
       "      <td>2</td>\n",
       "      <td>1.0</td>\n",
       "      <td>그동안,별자리,웬수,부모님,게자리,찜질방,금전운,황소자리,일들,대인관계,동아리회식,...</td>\n",
       "      <td>[시범판매,밀가루,농산물,밀산업,자급률,병해충,소비자,육성법,소비량,신규제품,16톤...</td>\n",
       "    </tr>\n",
       "  </tbody>\n",
       "</table>\n",
       "</div>"
      ],
      "text/plain": [
       "   Topic_Num  Topic_Perc_Contrib  \\\n",
       "0          2                 1.0   \n",
       "\n",
       "                                            Keywords  \\\n",
       "0  그동안,별자리,웬수,부모님,게자리,찜질방,금전운,황소자리,일들,대인관계,동아리회식,...   \n",
       "\n",
       "                                 Representative Text  \n",
       "0  [시범판매,밀가루,농산물,밀산업,자급률,병해충,소비자,육성법,소비량,신규제품,16톤...  "
      ]
     },
     "execution_count": 160,
     "metadata": {},
     "output_type": "execute_result"
    }
   ],
   "source": [
    "# Display setting to show more characters in column\n",
    "sent_topics_sorteddf_mallet = pd.DataFrame()\n",
    "sent_topics_outdf_grpd = df_topic_sents_keywords.groupby('Dominant_Topic')\n",
    "\n",
    "for i, grp in sent_topics_outdf_grpd:\n",
    "    sent_topics_sorteddf_mallet = pd.concat([sent_topics_sorteddf_mallet, \n",
    "                                             grp.sort_values(['Perc_Contribution'], ascending=False).head(1)], \n",
    "                                            axis=0)\n",
    "\n",
    "# Reset Index    \n",
    "sent_topics_sorteddf_mallet.reset_index(drop=True, inplace=True)\n",
    "\n",
    "# Format\n",
    "sent_topics_sorteddf_mallet.columns = ['Topic_Num', \"Topic_Perc_Contrib\", \"Keywords\", \"Representative Text\"]\n",
    "\n",
    "# Show\n",
    "sent_topics_sorteddf_mallet.head(10)"
   ]
  },
  {
   "cell_type": "code",
   "execution_count": 56,
   "id": "8b685bd0",
   "metadata": {
    "scrolled": false
   },
   "outputs": [
    {
     "data": {
      "text/plain": [
       "<AxesSubplot:>"
      ]
     },
     "execution_count": 56,
     "metadata": {},
     "output_type": "execute_result"
    },
    {
     "data": {
      "text/plain": [
       "<wordcloud.wordcloud.WordCloud at 0x265e3309f10>"
      ]
     },
     "execution_count": 56,
     "metadata": {},
     "output_type": "execute_result"
    },
    {
     "data": {
      "text/plain": [
       "<matplotlib.image.AxesImage at 0x265e33ee400>"
      ]
     },
     "execution_count": 56,
     "metadata": {},
     "output_type": "execute_result"
    },
    {
     "data": {
      "text/plain": [
       "Text(0.5, 1.0, 'Topic 0')"
      ]
     },
     "execution_count": 56,
     "metadata": {},
     "output_type": "execute_result"
    },
    {
     "data": {
      "text/plain": [
       "(-0.5, 2499.5, 1799.5, -0.5)"
      ]
     },
     "execution_count": 56,
     "metadata": {},
     "output_type": "execute_result"
    },
    {
     "data": {
      "text/plain": [
       "<AxesSubplot:>"
      ]
     },
     "execution_count": 56,
     "metadata": {},
     "output_type": "execute_result"
    },
    {
     "data": {
      "text/plain": [
       "<wordcloud.wordcloud.WordCloud at 0x265e3309f10>"
      ]
     },
     "execution_count": 56,
     "metadata": {},
     "output_type": "execute_result"
    },
    {
     "data": {
      "text/plain": [
       "<matplotlib.image.AxesImage at 0x265e33ee6d0>"
      ]
     },
     "execution_count": 56,
     "metadata": {},
     "output_type": "execute_result"
    },
    {
     "data": {
      "text/plain": [
       "Text(0.5, 1.0, 'Topic 1')"
      ]
     },
     "execution_count": 56,
     "metadata": {},
     "output_type": "execute_result"
    },
    {
     "data": {
      "text/plain": [
       "(-0.5, 2499.5, 1799.5, -0.5)"
      ]
     },
     "execution_count": 56,
     "metadata": {},
     "output_type": "execute_result"
    },
    {
     "data": {
      "text/plain": [
       "<AxesSubplot:>"
      ]
     },
     "execution_count": 56,
     "metadata": {},
     "output_type": "execute_result"
    },
    {
     "data": {
      "text/plain": [
       "<wordcloud.wordcloud.WordCloud at 0x265e3309f10>"
      ]
     },
     "execution_count": 56,
     "metadata": {},
     "output_type": "execute_result"
    },
    {
     "data": {
      "text/plain": [
       "<matplotlib.image.AxesImage at 0x265e33ee8b0>"
      ]
     },
     "execution_count": 56,
     "metadata": {},
     "output_type": "execute_result"
    },
    {
     "data": {
      "text/plain": [
       "Text(0.5, 1.0, 'Topic 2')"
      ]
     },
     "execution_count": 56,
     "metadata": {},
     "output_type": "execute_result"
    },
    {
     "data": {
      "text/plain": [
       "(-0.5, 2499.5, 1799.5, -0.5)"
      ]
     },
     "execution_count": 56,
     "metadata": {},
     "output_type": "execute_result"
    },
    {
     "data": {
      "text/plain": [
       "<AxesSubplot:>"
      ]
     },
     "execution_count": 56,
     "metadata": {},
     "output_type": "execute_result"
    },
    {
     "data": {
      "text/plain": [
       "<wordcloud.wordcloud.WordCloud at 0x265e3309f10>"
      ]
     },
     "execution_count": 56,
     "metadata": {},
     "output_type": "execute_result"
    },
    {
     "data": {
      "text/plain": [
       "<matplotlib.image.AxesImage at 0x265e33eea90>"
      ]
     },
     "execution_count": 56,
     "metadata": {},
     "output_type": "execute_result"
    },
    {
     "data": {
      "text/plain": [
       "Text(0.5, 1.0, 'Topic 3')"
      ]
     },
     "execution_count": 56,
     "metadata": {},
     "output_type": "execute_result"
    },
    {
     "data": {
      "text/plain": [
       "(-0.5, 2499.5, 1799.5, -0.5)"
      ]
     },
     "execution_count": 56,
     "metadata": {},
     "output_type": "execute_result"
    },
    {
     "data": {
      "text/plain": [
       "(-0.5, 2499.5, 1799.5, -0.5)"
      ]
     },
     "execution_count": 56,
     "metadata": {},
     "output_type": "execute_result"
    },
    {
     "data": {
      "image/png": "[encoded data removed]",
      "text/plain": [
       "<Figure size 720x720 with 4 Axes>"
      ]
     },
     "metadata": {
      "needs_background": "light"
     },
     "output_type": "display_data"
    }
   ],
   "source": [
    "# 1. Wordcloud of Top N words in each topic\n",
    "from matplotlib import pyplot as plt\n",
    "from wordcloud import WordCloud, STOPWORDS\n",
    "import matplotlib.colors as mcolors\n",
    "\n",
    "plt.rcParams['font.family']='Malgun Gothic'\n",
    "\n",
    "cols = [color for name, color in mcolors.TABLEAU_COLORS.items()]  # more colors: 'mcolors.XKCD_COLORS'\n",
    "\n",
    "cloud = WordCloud(stopwords=stop_words,\n",
    "                  background_color='white',\n",
    "                  width=2500,\n",
    "                  height=1800,\n",
    "                  max_words=10,\n",
    "                  colormap='tab10',\n",
    "                  color_func=lambda *args, **kwargs: cols[i],\n",
    "                  prefer_horizontal=1.0\n",
    "                 )\n",
    "\n",
    "fig, axes = plt.subplots(2, 2, figsize=(10,10), sharex=True, sharey=True)\n",
    "\n",
    "for i, ax in enumerate(axes.flatten()):\n",
    "    fig.add_subplot(ax)\n",
    "    topic_words = dict(topics[i][1])\n",
    "    cloud.generate_from_frequencies(topic_words, max_font_size=300)\n",
    "    plt.gca().imshow(cloud)\n",
    "    plt.gca().set_title('Topic ' + str(i), fontdict=dict(size=16))\n",
    "    plt.gca().axis('off')\n",
    "\n",
    "\n",
    "plt.subplots_adjust(wspace=0, hspace=0)\n",
    "plt.axis('off')\n",
    "plt.margins(x=0, y=0)\n",
    "plt.tight_layout()\n",
    "plt.show()"
   ]
  },
  {
   "cell_type": "code",
   "execution_count": null,
   "id": "6702b2fb",
   "metadata": {},
   "outputs": [],
   "source": []
  },
  {
   "cell_type": "code",
   "execution_count": null,
   "id": "9cdb5c5a",
   "metadata": {},
   "outputs": [],
   "source": []
  },
  {
   "cell_type": "code",
   "execution_count": null,
   "id": "858cf8ae",
   "metadata": {},
   "outputs": [],
   "source": []
  },
  {
   "cell_type": "code",
   "execution_count": null,
   "id": "676e90a8",
   "metadata": {},
   "outputs": [],
   "source": []
  },
  {
   "cell_type": "code",
   "execution_count": null,
   "id": "fc9e9a01",
   "metadata": {},
   "outputs": [],
   "source": []
  },
  {
   "cell_type": "code",
   "execution_count": null,
   "id": "2122f869",
   "metadata": {},
   "outputs": [],
   "source": []
  },
  {
   "cell_type": "code",
   "execution_count": null,
   "id": "75b75eab",
   "metadata": {},
   "outputs": [],
   "source": []
  },
  {
   "cell_type": "code",
   "execution_count": null,
   "id": "3e03ce78",
   "metadata": {},
   "outputs": [],
   "source": []
  },
  {
   "cell_type": "code",
   "execution_count": null,
   "id": "b0f68f75",
   "metadata": {},
   "outputs": [],
   "source": []
  },
  {
   "cell_type": "code",
   "execution_count": null,
   "id": "08686177",
   "metadata": {},
   "outputs": [],
   "source": []
  },
  {
   "cell_type": "code",
   "execution_count": null,
   "id": "4e0cd7ea",
   "metadata": {},
   "outputs": [],
   "source": []
  }
 ],
 "metadata": {
  "kernelspec": {
   "display_name": "Python 3",
   "language": "python",
   "name": "python3"
  },
  "language_info": {
   "codemirror_mode": {
    "name": "ipython",
    "version": 3
   },
   "file_extension": ".py",
   "mimetype": "text/x-python",
   "name": "python",
   "nbconvert_exporter": "python",
   "pygments_lexer": "ipython3",
   "version": "3.8.8"
  }
 },
 "nbformat": 4,
 "nbformat_minor": 5
}
