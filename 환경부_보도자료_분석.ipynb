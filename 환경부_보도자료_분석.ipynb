{
 "cells": [
  {
   "cell_type": "markdown",
   "metadata": {},
   "source": [
    "# 환경부 보도자료 분석 (튜토리얼 형태 Ver)\n",
    "https://github.com/dyjin1217/2019_NFSI_Text_Mining"
   ]
  },
  {
   "cell_type": "markdown",
   "metadata": {},
   "source": [
    "## 관련 라이브러리 import\n",
    "- https://github.com/lovit/customized_konlpy\n",
    "- pip install customized_konlpy\n",
    "- pip install textrankr"
   ]
  },
  {
   "cell_type": "code",
   "execution_count": 4,
   "metadata": {},
   "outputs": [],
   "source": [
    "from IPython.core.interactiveshell import InteractiveShell\n",
    "InteractiveShell.ast_node_interactivity = \"all\"\n",
    "import warnings\n",
    "warnings.filterwarnings('ignore')\n",
    "warnings.simplefilter(\"ignore\")"
   ]
  },
  {
   "cell_type": "code",
   "execution_count": 5,
   "metadata": {},
   "outputs": [],
   "source": [
    "import re\n",
    "import gensim \n",
    "import mglearn\n",
    "import numpy as np\n",
    "import pandas as pd\n",
    "import os"
   ]
  },
  {
   "cell_type": "code",
   "execution_count": 6,
   "metadata": {},
   "outputs": [],
   "source": [
    "import konlpy"
   ]
  },
  {
   "cell_type": "code",
   "execution_count": 7,
   "metadata": {},
   "outputs": [],
   "source": [
    "from konlpy.utils import pprint\n",
    "from sklearn.feature_extraction.text import CountVectorizer, TfidfVectorizer,TfidfTransformer\n",
    "from sklearn.decomposition import LatentDirichletAllocation\n",
    "import pyLDAvis.gensim\n",
    "import pyLDAvis.sklearn\n",
    "import collections\n",
    "from konlpy.tag import Kkma\n",
    "from konlpy.tag import Twitter\n",
    "from gensim.models.word2vec import Word2Vec\n",
    "# from eunjeon import Mecab  # KoNLPy style mecab wrapper, Win환경에서는 구동되지 않음\n",
    "import copy\n",
    "import networkx as nx\n",
    "import matplotlib.pyplot as plt\n",
    "import matplotlib\n",
    "#from textrankr import TextRank\n",
    "\n",
    "# 명사인식\n",
    "import soynlp\n",
    "from soynlp.utils import DoublespaceLineCorpus\n",
    "from soynlp.noun import LRNounExtractor_v2\n",
    "\n",
    "plt.rc('font', family='NanumBarunGothicOTF')"
   ]
  },
  {
   "cell_type": "markdown",
   "metadata": {},
   "source": [
    "# 8장 자연어처리시작하기\n",
    "## 8-2. 한글 자연어 처리 기초"
   ]
  },
  {
   "cell_type": "code",
   "execution_count": 8,
   "metadata": {},
   "outputs": [],
   "source": [
    "from IPython.core.interactiveshell import InteractiveShell\n",
    "InteractiveShell.ast_node_interactivity = 'all'"
   ]
  },
  {
   "cell_type": "code",
   "execution_count": 9,
   "metadata": {},
   "outputs": [
    {
     "ename": "TypeError",
     "evalue": "startJVM() got an unexpected keyword argument 'convertStrings'",
     "output_type": "error",
     "traceback": [
      "\u001b[1;31m---------------------------------------------------------------------------\u001b[0m",
      "\u001b[1;31mTypeError\u001b[0m                                 Traceback (most recent call last)",
      "\u001b[1;32m<ipython-input-9-d44a299432f4>\u001b[0m in \u001b[0;36m<module>\u001b[1;34m\u001b[0m\n\u001b[0;32m      1\u001b[0m \u001b[1;32mfrom\u001b[0m \u001b[0mkonlpy\u001b[0m\u001b[1;33m.\u001b[0m\u001b[0mtag\u001b[0m \u001b[1;32mimport\u001b[0m \u001b[0mKkma\u001b[0m\u001b[1;33m\u001b[0m\u001b[1;33m\u001b[0m\u001b[0m\n\u001b[1;32m----> 2\u001b[1;33m \u001b[0mkkma\u001b[0m \u001b[1;33m=\u001b[0m\u001b[0mKkma\u001b[0m\u001b[1;33m(\u001b[0m\u001b[1;33m)\u001b[0m\u001b[1;33m\u001b[0m\u001b[1;33m\u001b[0m\u001b[0m\n\u001b[0m",
      "\u001b[1;32mC:\\ProgramData\\Anaconda3\\lib\\site-packages\\konlpy\\tag\\_kkma.py\u001b[0m in \u001b[0;36m__init__\u001b[1;34m(self, jvmpath, max_heap_size)\u001b[0m\n\u001b[0;32m     93\u001b[0m     \u001b[1;32mdef\u001b[0m \u001b[0m__init__\u001b[0m\u001b[1;33m(\u001b[0m\u001b[0mself\u001b[0m\u001b[1;33m,\u001b[0m \u001b[0mjvmpath\u001b[0m\u001b[1;33m=\u001b[0m\u001b[1;32mNone\u001b[0m\u001b[1;33m,\u001b[0m \u001b[0mmax_heap_size\u001b[0m\u001b[1;33m=\u001b[0m\u001b[1;36m1024\u001b[0m\u001b[1;33m)\u001b[0m\u001b[1;33m:\u001b[0m\u001b[1;33m\u001b[0m\u001b[1;33m\u001b[0m\u001b[0m\n\u001b[0;32m     94\u001b[0m         \u001b[1;32mif\u001b[0m \u001b[1;32mnot\u001b[0m \u001b[0mjpype\u001b[0m\u001b[1;33m.\u001b[0m\u001b[0misJVMStarted\u001b[0m\u001b[1;33m(\u001b[0m\u001b[1;33m)\u001b[0m\u001b[1;33m:\u001b[0m\u001b[1;33m\u001b[0m\u001b[1;33m\u001b[0m\u001b[0m\n\u001b[1;32m---> 95\u001b[1;33m             \u001b[0mjvm\u001b[0m\u001b[1;33m.\u001b[0m\u001b[0minit_jvm\u001b[0m\u001b[1;33m(\u001b[0m\u001b[0mjvmpath\u001b[0m\u001b[1;33m,\u001b[0m \u001b[0mmax_heap_size\u001b[0m\u001b[1;33m)\u001b[0m\u001b[1;33m\u001b[0m\u001b[1;33m\u001b[0m\u001b[0m\n\u001b[0m\u001b[0;32m     96\u001b[0m \u001b[1;33m\u001b[0m\u001b[0m\n\u001b[0;32m     97\u001b[0m         \u001b[0mkkmaJavaPackage\u001b[0m \u001b[1;33m=\u001b[0m \u001b[0mjpype\u001b[0m\u001b[1;33m.\u001b[0m\u001b[0mJPackage\u001b[0m\u001b[1;33m(\u001b[0m\u001b[1;34m'kr.lucypark.kkma'\u001b[0m\u001b[1;33m)\u001b[0m\u001b[1;33m\u001b[0m\u001b[1;33m\u001b[0m\u001b[0m\n",
      "\u001b[1;32mC:\\ProgramData\\Anaconda3\\lib\\site-packages\\konlpy\\jvm.py\u001b[0m in \u001b[0;36minit_jvm\u001b[1;34m(jvmpath, max_heap_size)\u001b[0m\n\u001b[0;32m     65\u001b[0m                                 \u001b[1;34m'-Dfile.encoding=UTF8'\u001b[0m\u001b[1;33m,\u001b[0m\u001b[1;33m\u001b[0m\u001b[1;33m\u001b[0m\u001b[0m\n\u001b[0;32m     66\u001b[0m                                 \u001b[1;34m'-ea'\u001b[0m\u001b[1;33m,\u001b[0m \u001b[1;34m'-Xmx{}m'\u001b[0m\u001b[1;33m.\u001b[0m\u001b[0mformat\u001b[0m\u001b[1;33m(\u001b[0m\u001b[0mmax_heap_size\u001b[0m\u001b[1;33m)\u001b[0m\u001b[1;33m,\u001b[0m\u001b[1;33m\u001b[0m\u001b[1;33m\u001b[0m\u001b[0m\n\u001b[1;32m---> 67\u001b[1;33m                                 convertStrings=True)\n\u001b[0m\u001b[0;32m     68\u001b[0m     \u001b[1;32melse\u001b[0m\u001b[1;33m:\u001b[0m\u001b[1;33m\u001b[0m\u001b[1;33m\u001b[0m\u001b[0m\n\u001b[0;32m     69\u001b[0m         \u001b[1;32mraise\u001b[0m \u001b[0mValueError\u001b[0m\u001b[1;33m(\u001b[0m\u001b[1;34m\"Please specify the JVM path.\"\u001b[0m\u001b[1;33m)\u001b[0m\u001b[1;33m\u001b[0m\u001b[1;33m\u001b[0m\u001b[0m\n",
      "\u001b[1;31mTypeError\u001b[0m: startJVM() got an unexpected keyword argument 'convertStrings'"
     ]
    }
   ],
   "source": [
    "from konlpy.tag import Kkma\n",
    "kkma =Kkma()"
   ]
  },
  {
   "cell_type": "code",
   "execution_count": 10,
   "metadata": {},
   "outputs": [
    {
     "ename": "TypeError",
     "evalue": "startJVM() got an unexpected keyword argument 'convertStrings'",
     "output_type": "error",
     "traceback": [
      "\u001b[1;31m---------------------------------------------------------------------------\u001b[0m",
      "\u001b[1;31mTypeError\u001b[0m                                 Traceback (most recent call last)",
      "\u001b[1;32m<ipython-input-10-79be1363c460>\u001b[0m in \u001b[0;36m<module>\u001b[1;34m\u001b[0m\n\u001b[0;32m      1\u001b[0m \u001b[1;32mfrom\u001b[0m \u001b[0mkonlpy\u001b[0m\u001b[1;33m.\u001b[0m\u001b[0mtag\u001b[0m \u001b[1;32mimport\u001b[0m \u001b[0mHannanum\u001b[0m\u001b[1;33m\u001b[0m\u001b[1;33m\u001b[0m\u001b[0m\n\u001b[1;32m----> 2\u001b[1;33m \u001b[0mhannanum\u001b[0m \u001b[1;33m=\u001b[0m\u001b[0mHannanum\u001b[0m\u001b[1;33m(\u001b[0m\u001b[1;33m)\u001b[0m\u001b[1;33m\u001b[0m\u001b[1;33m\u001b[0m\u001b[0m\n\u001b[0m",
      "\u001b[1;32mC:\\ProgramData\\Anaconda3\\lib\\site-packages\\konlpy\\tag\\_hannanum.py\u001b[0m in \u001b[0;36m__init__\u001b[1;34m(self, jvmpath, max_heap_size)\u001b[0m\n\u001b[0;32m    106\u001b[0m     \u001b[1;32mdef\u001b[0m \u001b[0m__init__\u001b[0m\u001b[1;33m(\u001b[0m\u001b[0mself\u001b[0m\u001b[1;33m,\u001b[0m \u001b[0mjvmpath\u001b[0m\u001b[1;33m=\u001b[0m\u001b[1;32mNone\u001b[0m\u001b[1;33m,\u001b[0m \u001b[0mmax_heap_size\u001b[0m\u001b[1;33m=\u001b[0m\u001b[1;36m1024\u001b[0m\u001b[1;33m)\u001b[0m\u001b[1;33m:\u001b[0m\u001b[1;33m\u001b[0m\u001b[1;33m\u001b[0m\u001b[0m\n\u001b[0;32m    107\u001b[0m         \u001b[1;32mif\u001b[0m \u001b[1;32mnot\u001b[0m \u001b[0mjpype\u001b[0m\u001b[1;33m.\u001b[0m\u001b[0misJVMStarted\u001b[0m\u001b[1;33m(\u001b[0m\u001b[1;33m)\u001b[0m\u001b[1;33m:\u001b[0m\u001b[1;33m\u001b[0m\u001b[1;33m\u001b[0m\u001b[0m\n\u001b[1;32m--> 108\u001b[1;33m             \u001b[0mjvm\u001b[0m\u001b[1;33m.\u001b[0m\u001b[0minit_jvm\u001b[0m\u001b[1;33m(\u001b[0m\u001b[0mjvmpath\u001b[0m\u001b[1;33m,\u001b[0m \u001b[0mmax_heap_size\u001b[0m\u001b[1;33m)\u001b[0m\u001b[1;33m\u001b[0m\u001b[1;33m\u001b[0m\u001b[0m\n\u001b[0m\u001b[0;32m    109\u001b[0m \u001b[1;33m\u001b[0m\u001b[0m\n\u001b[0;32m    110\u001b[0m         \u001b[0mjhannanumJavaPackage\u001b[0m \u001b[1;33m=\u001b[0m \u001b[0mjpype\u001b[0m\u001b[1;33m.\u001b[0m\u001b[0mJPackage\u001b[0m\u001b[1;33m(\u001b[0m\u001b[1;34m'kr.lucypark.jhannanum.comm'\u001b[0m\u001b[1;33m)\u001b[0m\u001b[1;33m\u001b[0m\u001b[1;33m\u001b[0m\u001b[0m\n",
      "\u001b[1;32mC:\\ProgramData\\Anaconda3\\lib\\site-packages\\konlpy\\jvm.py\u001b[0m in \u001b[0;36minit_jvm\u001b[1;34m(jvmpath, max_heap_size)\u001b[0m\n\u001b[0;32m     65\u001b[0m                                 \u001b[1;34m'-Dfile.encoding=UTF8'\u001b[0m\u001b[1;33m,\u001b[0m\u001b[1;33m\u001b[0m\u001b[1;33m\u001b[0m\u001b[0m\n\u001b[0;32m     66\u001b[0m                                 \u001b[1;34m'-ea'\u001b[0m\u001b[1;33m,\u001b[0m \u001b[1;34m'-Xmx{}m'\u001b[0m\u001b[1;33m.\u001b[0m\u001b[0mformat\u001b[0m\u001b[1;33m(\u001b[0m\u001b[0mmax_heap_size\u001b[0m\u001b[1;33m)\u001b[0m\u001b[1;33m,\u001b[0m\u001b[1;33m\u001b[0m\u001b[1;33m\u001b[0m\u001b[0m\n\u001b[1;32m---> 67\u001b[1;33m                                 convertStrings=True)\n\u001b[0m\u001b[0;32m     68\u001b[0m     \u001b[1;32melse\u001b[0m\u001b[1;33m:\u001b[0m\u001b[1;33m\u001b[0m\u001b[1;33m\u001b[0m\u001b[0m\n\u001b[0;32m     69\u001b[0m         \u001b[1;32mraise\u001b[0m \u001b[0mValueError\u001b[0m\u001b[1;33m(\u001b[0m\u001b[1;34m\"Please specify the JVM path.\"\u001b[0m\u001b[1;33m)\u001b[0m\u001b[1;33m\u001b[0m\u001b[1;33m\u001b[0m\u001b[0m\n",
      "\u001b[1;31mTypeError\u001b[0m: startJVM() got an unexpected keyword argument 'convertStrings'"
     ]
    }
   ],
   "source": [
    "from konlpy.tag import Hannanum\n",
    "hannanum =Hannanum()"
   ]
  },
  {
   "cell_type": "code",
   "execution_count": 11,
   "metadata": {},
   "outputs": [
    {
     "ename": "TypeError",
     "evalue": "startJVM() got an unexpected keyword argument 'convertStrings'",
     "output_type": "error",
     "traceback": [
      "\u001b[1;31m---------------------------------------------------------------------------\u001b[0m",
      "\u001b[1;31mTypeError\u001b[0m                                 Traceback (most recent call last)",
      "\u001b[1;32m<ipython-input-11-333ff07b9fbc>\u001b[0m in \u001b[0;36m<module>\u001b[1;34m\u001b[0m\n\u001b[0;32m      1\u001b[0m \u001b[1;32mfrom\u001b[0m \u001b[0mkonlpy\u001b[0m\u001b[1;33m.\u001b[0m\u001b[0mtag\u001b[0m \u001b[1;32mimport\u001b[0m \u001b[0mTwitter\u001b[0m\u001b[1;33m\u001b[0m\u001b[1;33m\u001b[0m\u001b[0m\n\u001b[0;32m      2\u001b[0m \u001b[1;32mfrom\u001b[0m \u001b[0mkonlpy\u001b[0m\u001b[1;33m.\u001b[0m\u001b[0mtag\u001b[0m \u001b[1;32mimport\u001b[0m \u001b[0mTwitter\u001b[0m\u001b[1;33m\u001b[0m\u001b[1;33m\u001b[0m\u001b[0m\n\u001b[1;32m----> 3\u001b[1;33m \u001b[0mtwitter\u001b[0m \u001b[1;33m=\u001b[0m \u001b[0mTwitter\u001b[0m\u001b[1;33m(\u001b[0m\u001b[1;33m)\u001b[0m\u001b[1;33m\u001b[0m\u001b[1;33m\u001b[0m\u001b[0m\n\u001b[0m",
      "\u001b[1;32mC:\\ProgramData\\Anaconda3\\lib\\site-packages\\konlpy\\tag\\_okt.py\u001b[0m in \u001b[0;36mTwitter\u001b[1;34m(jvmpath)\u001b[0m\n\u001b[0;32m     15\u001b[0m     \u001b[1;32mfrom\u001b[0m \u001b[0mwarnings\u001b[0m \u001b[1;32mimport\u001b[0m \u001b[0mwarn\u001b[0m\u001b[1;33m\u001b[0m\u001b[1;33m\u001b[0m\u001b[0m\n\u001b[0;32m     16\u001b[0m     \u001b[0mwarn\u001b[0m\u001b[1;33m(\u001b[0m\u001b[1;34m'\"Twitter\" has changed to \"Okt\" since KoNLPy v0.4.5.'\u001b[0m\u001b[1;33m)\u001b[0m\u001b[1;33m\u001b[0m\u001b[1;33m\u001b[0m\u001b[0m\n\u001b[1;32m---> 17\u001b[1;33m     \u001b[1;32mreturn\u001b[0m \u001b[0mOkt\u001b[0m\u001b[1;33m(\u001b[0m\u001b[0mjvmpath\u001b[0m\u001b[1;33m)\u001b[0m\u001b[1;33m\u001b[0m\u001b[1;33m\u001b[0m\u001b[0m\n\u001b[0m\u001b[0;32m     18\u001b[0m \u001b[1;33m\u001b[0m\u001b[0m\n\u001b[0;32m     19\u001b[0m \u001b[1;33m\u001b[0m\u001b[0m\n",
      "\u001b[1;32mC:\\ProgramData\\Anaconda3\\lib\\site-packages\\konlpy\\tag\\_okt.py\u001b[0m in \u001b[0;36m__init__\u001b[1;34m(self, jvmpath, max_heap_size)\u001b[0m\n\u001b[0;32m     89\u001b[0m     \u001b[1;32mdef\u001b[0m \u001b[0m__init__\u001b[0m\u001b[1;33m(\u001b[0m\u001b[0mself\u001b[0m\u001b[1;33m,\u001b[0m \u001b[0mjvmpath\u001b[0m\u001b[1;33m=\u001b[0m\u001b[1;32mNone\u001b[0m\u001b[1;33m,\u001b[0m \u001b[0mmax_heap_size\u001b[0m\u001b[1;33m=\u001b[0m\u001b[1;36m1024\u001b[0m\u001b[1;33m)\u001b[0m\u001b[1;33m:\u001b[0m\u001b[1;33m\u001b[0m\u001b[1;33m\u001b[0m\u001b[0m\n\u001b[0;32m     90\u001b[0m         \u001b[1;32mif\u001b[0m \u001b[1;32mnot\u001b[0m \u001b[0mjpype\u001b[0m\u001b[1;33m.\u001b[0m\u001b[0misJVMStarted\u001b[0m\u001b[1;33m(\u001b[0m\u001b[1;33m)\u001b[0m\u001b[1;33m:\u001b[0m\u001b[1;33m\u001b[0m\u001b[1;33m\u001b[0m\u001b[0m\n\u001b[1;32m---> 91\u001b[1;33m             \u001b[0mjvm\u001b[0m\u001b[1;33m.\u001b[0m\u001b[0minit_jvm\u001b[0m\u001b[1;33m(\u001b[0m\u001b[0mjvmpath\u001b[0m\u001b[1;33m,\u001b[0m \u001b[0mmax_heap_size\u001b[0m\u001b[1;33m)\u001b[0m\u001b[1;33m\u001b[0m\u001b[1;33m\u001b[0m\u001b[0m\n\u001b[0m\u001b[0;32m     92\u001b[0m \u001b[1;33m\u001b[0m\u001b[0m\n\u001b[0;32m     93\u001b[0m         \u001b[0moktJavaPackage\u001b[0m \u001b[1;33m=\u001b[0m \u001b[0mjpype\u001b[0m\u001b[1;33m.\u001b[0m\u001b[0mJPackage\u001b[0m\u001b[1;33m(\u001b[0m\u001b[1;34m'kr.lucypark.okt'\u001b[0m\u001b[1;33m)\u001b[0m\u001b[1;33m\u001b[0m\u001b[1;33m\u001b[0m\u001b[0m\n",
      "\u001b[1;32mC:\\ProgramData\\Anaconda3\\lib\\site-packages\\konlpy\\jvm.py\u001b[0m in \u001b[0;36minit_jvm\u001b[1;34m(jvmpath, max_heap_size)\u001b[0m\n\u001b[0;32m     65\u001b[0m                                 \u001b[1;34m'-Dfile.encoding=UTF8'\u001b[0m\u001b[1;33m,\u001b[0m\u001b[1;33m\u001b[0m\u001b[1;33m\u001b[0m\u001b[0m\n\u001b[0;32m     66\u001b[0m                                 \u001b[1;34m'-ea'\u001b[0m\u001b[1;33m,\u001b[0m \u001b[1;34m'-Xmx{}m'\u001b[0m\u001b[1;33m.\u001b[0m\u001b[0mformat\u001b[0m\u001b[1;33m(\u001b[0m\u001b[0mmax_heap_size\u001b[0m\u001b[1;33m)\u001b[0m\u001b[1;33m,\u001b[0m\u001b[1;33m\u001b[0m\u001b[1;33m\u001b[0m\u001b[0m\n\u001b[1;32m---> 67\u001b[1;33m                                 convertStrings=True)\n\u001b[0m\u001b[0;32m     68\u001b[0m     \u001b[1;32melse\u001b[0m\u001b[1;33m:\u001b[0m\u001b[1;33m\u001b[0m\u001b[1;33m\u001b[0m\u001b[0m\n\u001b[0;32m     69\u001b[0m         \u001b[1;32mraise\u001b[0m \u001b[0mValueError\u001b[0m\u001b[1;33m(\u001b[0m\u001b[1;34m\"Please specify the JVM path.\"\u001b[0m\u001b[1;33m)\u001b[0m\u001b[1;33m\u001b[0m\u001b[1;33m\u001b[0m\u001b[0m\n",
      "\u001b[1;31mTypeError\u001b[0m: startJVM() got an unexpected keyword argument 'convertStrings'"
     ]
    }
   ],
   "source": [
    "from konlpy.tag import Twitter\n",
    "from konlpy.tag import Twitter\n",
    "twitter = Twitter()"
   ]
  },
  {
   "cell_type": "code",
   "execution_count": 12,
   "metadata": {},
   "outputs": [],
   "source": [
    "texts = '조국 전 법무부 장관의 가족비리·감찰무마 의혹과 청와대 하명수사·선거개입 의혹 수사를 지휘한 일선 검찰청 차장검사 3명이 모두 교체됐다.'"
   ]
  },
  {
   "cell_type": "code",
   "execution_count": 13,
   "metadata": {},
   "outputs": [
    {
     "ename": "NameError",
     "evalue": "name 'kkma' is not defined",
     "output_type": "error",
     "traceback": [
      "\u001b[1;31m---------------------------------------------------------------------------\u001b[0m",
      "\u001b[1;31mNameError\u001b[0m                                 Traceback (most recent call last)",
      "\u001b[1;32m<ipython-input-13-7a1d7c58d3ce>\u001b[0m in \u001b[0;36m<module>\u001b[1;34m\u001b[0m\n\u001b[1;32m----> 1\u001b[1;33m \u001b[0mkkma\u001b[0m\u001b[1;33m.\u001b[0m\u001b[0msentences\u001b[0m\u001b[1;33m(\u001b[0m\u001b[1;34m'한국어 분석을 시작합니다. 재미있어요~~'\u001b[0m\u001b[1;33m)\u001b[0m\u001b[1;33m\u001b[0m\u001b[1;33m\u001b[0m\u001b[0m\n\u001b[0m\u001b[0;32m      2\u001b[0m \u001b[0mhannanum\u001b[0m\u001b[1;33m.\u001b[0m\u001b[0mmorphs\u001b[0m\u001b[1;33m(\u001b[0m\u001b[1;34m'한국어 분석을 시작합니다. 재미있어요~~'\u001b[0m\u001b[1;33m)\u001b[0m\u001b[1;33m\u001b[0m\u001b[1;33m\u001b[0m\u001b[0m\n\u001b[0;32m      3\u001b[0m \u001b[0mtwitter\u001b[0m\u001b[1;33m.\u001b[0m\u001b[0mmorphs\u001b[0m\u001b[1;33m(\u001b[0m\u001b[1;34m'한국어 분석을 시작합니다'\u001b[0m\u001b[1;33m)\u001b[0m\u001b[1;33m\u001b[0m\u001b[1;33m\u001b[0m\u001b[0m\n",
      "\u001b[1;31mNameError\u001b[0m: name 'kkma' is not defined"
     ]
    }
   ],
   "source": [
    "kkma.sentences('한국어 분석을 시작합니다. 재미있어요~~')\n",
    "hannanum.morphs('한국어 분석을 시작합니다. 재미있어요~~')\n",
    "twitter.morphs('한국어 분석을 시작합니다')"
   ]
  },
  {
   "cell_type": "code",
   "execution_count": 14,
   "metadata": {},
   "outputs": [
    {
     "ename": "NameError",
     "evalue": "name 'kkma' is not defined",
     "output_type": "error",
     "traceback": [
      "\u001b[1;31m---------------------------------------------------------------------------\u001b[0m",
      "\u001b[1;31mNameError\u001b[0m                                 Traceback (most recent call last)",
      "\u001b[1;32m<ipython-input-14-13295ec40626>\u001b[0m in \u001b[0;36m<module>\u001b[1;34m\u001b[0m\n\u001b[1;32m----> 1\u001b[1;33m \u001b[0mkkma\u001b[0m\u001b[1;33m.\u001b[0m\u001b[0mnouns\u001b[0m\u001b[1;33m(\u001b[0m\u001b[1;34m'한국어 분석을 시작합니다. 재미있어요~~'\u001b[0m\u001b[1;33m)\u001b[0m\u001b[1;33m\u001b[0m\u001b[1;33m\u001b[0m\u001b[0m\n\u001b[0m\u001b[0;32m      2\u001b[0m \u001b[0mhannanum\u001b[0m\u001b[1;33m.\u001b[0m\u001b[0mnouns\u001b[0m\u001b[1;33m(\u001b[0m\u001b[1;34m'한국어 분석을 시작합니다'\u001b[0m\u001b[1;33m)\u001b[0m\u001b[1;33m\u001b[0m\u001b[1;33m\u001b[0m\u001b[0m\n\u001b[0;32m      3\u001b[0m \u001b[0mtwitter\u001b[0m\u001b[1;33m.\u001b[0m\u001b[0mnouns\u001b[0m\u001b[1;33m(\u001b[0m\u001b[1;34m'한국어 분석을 시작합니다'\u001b[0m\u001b[1;33m)\u001b[0m\u001b[1;33m\u001b[0m\u001b[1;33m\u001b[0m\u001b[0m\n",
      "\u001b[1;31mNameError\u001b[0m: name 'kkma' is not defined"
     ]
    }
   ],
   "source": [
    "kkma.nouns('한국어 분석을 시작합니다. 재미있어요~~')\n",
    "hannanum.nouns('한국어 분석을 시작합니다')\n",
    "twitter.nouns('한국어 분석을 시작합니다')"
   ]
  },
  {
   "cell_type": "code",
   "execution_count": 22,
   "metadata": {},
   "outputs": [
    {
     "ename": "NameError",
     "evalue": "name 'kkma' is not defined",
     "output_type": "error",
     "traceback": [
      "\u001b[1;31m---------------------------------------------------------------------------\u001b[0m",
      "\u001b[1;31mNameError\u001b[0m                                 Traceback (most recent call last)",
      "\u001b[1;32m<ipython-input-22-2ce910bc9230>\u001b[0m in \u001b[0;36m<module>\u001b[1;34m\u001b[0m\n\u001b[1;32m----> 1\u001b[1;33m \u001b[0mkkma\u001b[0m\u001b[1;33m.\u001b[0m\u001b[0mpos\u001b[0m\u001b[1;33m(\u001b[0m\u001b[1;34m'한국어 분석을 시작합니다. 재미있어요~~'\u001b[0m\u001b[1;33m)\u001b[0m \u001b[1;31m# 형태소분석\u001b[0m\u001b[1;33m\u001b[0m\u001b[1;33m\u001b[0m\u001b[0m\n\u001b[0m\u001b[0;32m      2\u001b[0m \u001b[0mhannanum\u001b[0m\u001b[1;33m.\u001b[0m\u001b[0mpos\u001b[0m\u001b[1;33m(\u001b[0m\u001b[1;34m'한국어 분석을 시작합니다'\u001b[0m\u001b[1;33m)\u001b[0m\u001b[1;33m\u001b[0m\u001b[1;33m\u001b[0m\u001b[0m\n\u001b[0;32m      3\u001b[0m \u001b[0mtwitter\u001b[0m\u001b[1;33m.\u001b[0m\u001b[0mpos\u001b[0m\u001b[1;33m(\u001b[0m\u001b[1;34m'한국어 분석을 시작합니다'\u001b[0m\u001b[1;33m)\u001b[0m\u001b[1;33m\u001b[0m\u001b[1;33m\u001b[0m\u001b[0m\n",
      "\u001b[1;31mNameError\u001b[0m: name 'kkma' is not defined"
     ]
    }
   ],
   "source": [
    "kkma.pos('한국어 분석을 시작합니다. 재미있어요~~') # 형태소분석\n",
    "hannanum.pos('한국어 분석을 시작합니다')\n",
    "twitter.pos('한국어 분석을 시작합니다')"
   ]
  },
  {
   "cell_type": "markdown",
   "metadata": {},
   "source": [
    "## 8-3. 워드 구름"
   ]
  },
  {
   "cell_type": "code",
   "execution_count": 23,
   "metadata": {},
   "outputs": [
    {
     "ename": "ModuleNotFoundError",
     "evalue": "No module named 'wordcolud'",
     "output_type": "error",
     "traceback": [
      "\u001b[1;31m---------------------------------------------------------------------------\u001b[0m",
      "\u001b[1;31mModuleNotFoundError\u001b[0m                       Traceback (most recent call last)",
      "\u001b[1;32m<ipython-input-23-1481308f4ee9>\u001b[0m in \u001b[0;36m<module>\u001b[1;34m\u001b[0m\n\u001b[1;32m----> 1\u001b[1;33m \u001b[1;32mfrom\u001b[0m \u001b[0mwordcolud\u001b[0m \u001b[1;32mimport\u001b[0m \u001b[0mWordCloud\u001b[0m\u001b[1;33m,\u001b[0m \u001b[0mSTOPWORDS\u001b[0m\u001b[1;33m\u001b[0m\u001b[1;33m\u001b[0m\u001b[0m\n\u001b[0m",
      "\u001b[1;31mModuleNotFoundError\u001b[0m: No module named 'wordcolud'"
     ]
    }
   ],
   "source": [
    "from wordcolud import WordCloud, STOPWORDS"
   ]
  },
  {
   "cell_type": "code",
   "execution_count": 24,
   "metadata": {},
   "outputs": [],
   "source": [
    "import numpy as np\n",
    "from PIL import Image"
   ]
  },
  {
   "cell_type": "code",
   "execution_count": 25,
   "metadata": {},
   "outputs": [],
   "source": [
    "from wordcloud import WordCloud"
   ]
  },
  {
   "cell_type": "code",
   "execution_count": 26,
   "metadata": {
    "scrolled": true
   },
   "outputs": [
    {
     "name": "stderr",
     "output_type": "stream",
     "text": [
      "C:\\ProgramData\\Anaconda3\\lib\\site-packages\\nltk\\decorators.py:68: DeprecationWarning: `formatargspec` is deprecated since Python 3.5. Use `signature` and the `Signature` object directly\n",
      "  regargs, varargs, varkwargs, defaults, formatvalue=lambda value: \"\"\n",
      "C:\\ProgramData\\Anaconda3\\lib\\site-packages\\nltk\\lm\\counter.py:15: DeprecationWarning: Using or importing the ABCs from 'collections' instead of from 'collections.abc' is deprecated, and in 3.8 it will stop working\n",
      "  from collections import Sequence, defaultdict\n"
     ]
    }
   ],
   "source": [
    "from nltk.corpus import stopwords\n",
    "# from stop_words import get_stop_words # pip install stopwords, pip install stop-words\n",
    "\n",
    "text = open('../data/09. alice.txt').read()\n",
    "alice_mask = np.array(Image.open('../data/09. alice_mask.png'))\n",
    "stopwords = set(stopwords.words('english'))"
   ]
  },
  {
   "cell_type": "code",
   "execution_count": 27,
   "metadata": {},
   "outputs": [],
   "source": [
    "stopwords.add('said')"
   ]
  },
  {
   "cell_type": "code",
   "execution_count": 28,
   "metadata": {},
   "outputs": [],
   "source": [
    "import matplotlib.pyplot as plt\n",
    "import platform\n",
    "\n",
    "path = 'c:/Windows/Fonts/malgun.ttf'\n",
    "from matplotlib import font_manager, rc\n",
    "\n",
    "if platform.system() == 'Darwin' :\n",
    "    rc('font', family = 'AppleGothic')\n",
    "elif platform.system() == 'Windows' :\n",
    "    font_name = font_manager.FontProperties(fname=path).get_name()\n",
    "    rc('font', family = font_name)\n",
    "else:\n",
    "    print('Unkown system... sorry~~~~')\n",
    "\n",
    "%matplotlib inline"
   ]
  },
  {
   "cell_type": "code",
   "execution_count": 29,
   "metadata": {},
   "outputs": [
    {
     "data": {
      "text/plain": [
       "'C:\\\\Users\\\\NFSI291\\\\2019_NFSI_Text_Mining\\\\보도자료_분석'"
      ]
     },
     "execution_count": 29,
     "metadata": {},
     "output_type": "execute_result"
    },
    {
     "data": {
      "text/plain": [
       "<Figure size 360x360 with 0 Axes>"
      ]
     },
     "execution_count": 29,
     "metadata": {},
     "output_type": "execute_result"
    },
    {
     "data": {
      "text/plain": [
       "<matplotlib.image.AxesImage at 0x1d4b5659648>"
      ]
     },
     "execution_count": 29,
     "metadata": {},
     "output_type": "execute_result"
    },
    {
     "data": {
      "text/plain": [
       "(-0.5, 224.5, 224.5, -0.5)"
      ]
     },
     "execution_count": 29,
     "metadata": {},
     "output_type": "execute_result"
    },
    {
     "data": {
      "image/png": "[encoded data removed]",
      "text/plain": [
       "<Figure size 360x360 with 1 Axes>"
      ]
     },
     "metadata": {
      "needs_background": "light"
     },
     "output_type": "display_data"
    }
   ],
   "source": [
    "%pwd\n",
    "plt.figure(figsize=(5,5))\n",
    "plt.imshow(alice_mask, cmap=plt.cm.gray, interpolation = 'bilinear')\n",
    "plt.axis('off')\n",
    "plt.show()"
   ]
  },
  {
   "cell_type": "code",
   "execution_count": 30,
   "metadata": {
    "scrolled": true
   },
   "outputs": [
    {
     "data": {
      "text/plain": [
       "{'Alice': 1.0,\n",
       " 'little': 0.29916897506925205,\n",
       " 'one': 0.2631578947368421,\n",
       " 'know': 0.24930747922437674,\n",
       " 'like': 0.23822714681440443,\n",
       " 'would': 0.2299168975069252,\n",
       " 'went': 0.2299168975069252,\n",
       " 'thing': 0.22160664819944598,\n",
       " 'could': 0.21329639889196675,\n",
       " 'time': 0.21329639889196675,\n",
       " 'Queen': 0.21052631578947367,\n",
       " 'see': 0.18559556786703602,\n",
       " 'King': 0.1772853185595568,\n",
       " 'began': 0.16066481994459833,\n",
       " 'way': 0.15789473684210525,\n",
       " 'Hatter': 0.15789473684210525,\n",
       " 'head': 0.15512465373961218,\n",
       " 'Mock Turtle': 0.15512465373961218,\n",
       " 'say': 0.1523545706371191,\n",
       " 'Gryphon': 0.1523545706371191,\n",
       " 'well': 0.14958448753462603,\n",
       " 'think': 0.14681440443213298,\n",
       " 'quite': 0.1440443213296399,\n",
       " 'much': 0.14127423822714683,\n",
       " 'first': 0.14127423822714683,\n",
       " 'go': 0.13850415512465375,\n",
       " 'thought': 0.13573407202216067,\n",
       " 'come': 0.1329639889196676,\n",
       " 'never': 0.13019390581717452,\n",
       " 'get': 0.12742382271468145,\n",
       " \"I'm\": 0.12742382271468145,\n",
       " 'voice': 0.12742382271468145,\n",
       " 'looked': 0.12465373961218837,\n",
       " 'must': 0.12188365650969529,\n",
       " 'Cat': 0.12188365650969529,\n",
       " 'Mouse': 0.12188365650969529,\n",
       " 'Duchess': 0.11634349030470914,\n",
       " 'round': 0.11357340720221606,\n",
       " 'back': 0.11080332409972299,\n",
       " 'Dormouse': 0.11080332409972299,\n",
       " 'got': 0.10803324099722991,\n",
       " 'make': 0.10526315789473684,\n",
       " 'tone': 0.10249307479224377,\n",
       " 'eye': 0.0997229916897507,\n",
       " 'Oh': 0.09695290858725762,\n",
       " 'came': 0.09695290858725762,\n",
       " 'nothing': 0.09418282548476455,\n",
       " 'That': 0.09418282548476455,\n",
       " 'tell': 0.09418282548476455,\n",
       " 'day': 0.09141274238227147,\n",
       " 'large': 0.09141274238227147,\n",
       " 'great': 0.09141274238227147,\n",
       " 'hand': 0.09141274238227147,\n",
       " 'last': 0.09141274238227147,\n",
       " 'found': 0.0886426592797784,\n",
       " 'long': 0.0886426592797784,\n",
       " 'door': 0.0886426592797784,\n",
       " 'looking': 0.0886426592797784,\n",
       " 'word': 0.08587257617728532,\n",
       " \"I'll\": 0.08587257617728532,\n",
       " 'March Hare': 0.08587257617728532,\n",
       " 'made': 0.08310249307479224,\n",
       " 'heard': 0.08310249307479224,\n",
       " 'look': 0.08033240997229917,\n",
       " 'replied': 0.08033240997229917,\n",
       " 'put': 0.07756232686980609,\n",
       " 'two': 0.07756232686980609,\n",
       " 'Caterpillar': 0.07756232686980609,\n",
       " 'seemed': 0.07479224376731301,\n",
       " 'going': 0.07479224376731301,\n",
       " 'right': 0.07479224376731301,\n",
       " 'thought Alice': 0.07479224376731301,\n",
       " 'without': 0.07202216066481995,\n",
       " 'moment': 0.07202216066481995,\n",
       " 'course': 0.07202216066481995,\n",
       " 'Rabbit': 0.06925207756232687,\n",
       " 'shall': 0.06925207756232687,\n",
       " 'next': 0.06925207756232687,\n",
       " 'rather': 0.06925207756232687,\n",
       " 'soon': 0.06925207756232687,\n",
       " 'away': 0.06925207756232687,\n",
       " 'yet': 0.06925207756232687,\n",
       " 'take': 0.0664819944598338,\n",
       " 'there': 0.0664819944598338,\n",
       " \"can't\": 0.0664819944598338,\n",
       " \"I've\": 0.06371191135734072,\n",
       " 'sort': 0.06371191135734072,\n",
       " 'felt': 0.06371191135734072,\n",
       " 'added': 0.06371191135734072,\n",
       " 'getting': 0.060941828254847646,\n",
       " 'dear': 0.060941828254847646,\n",
       " 'Let': 0.060941828254847646,\n",
       " 'three': 0.060941828254847646,\n",
       " 'find': 0.060941828254847646,\n",
       " 'White Rabbit': 0.060941828254847646,\n",
       " 'took': 0.05817174515235457,\n",
       " 'upon': 0.05817174515235457,\n",
       " 'wish': 0.05817174515235457,\n",
       " 'question': 0.05817174515235457,\n",
       " 'ever': 0.05817174515235457,\n",
       " 'till': 0.05817174515235457,\n",
       " 'arm': 0.05817174515235457,\n",
       " 'anything': 0.055401662049861494,\n",
       " 'good': 0.055401662049861494,\n",
       " 'However': 0.055401662049861494,\n",
       " 'half': 0.055401662049861494,\n",
       " 'face': 0.055401662049861494,\n",
       " 'cried': 0.055401662049861494,\n",
       " 'minute': 0.055401662049861494,\n",
       " 'even': 0.05263157894736842,\n",
       " 'house': 0.05263157894736842,\n",
       " 'tea': 0.05263157894736842,\n",
       " 'might': 0.05263157894736842,\n",
       " 'curious': 0.05263157894736842,\n",
       " 'use': 0.04986149584487535,\n",
       " 'wonder': 0.04986149584487535,\n",
       " 'end': 0.04986149584487535,\n",
       " 'table': 0.04986149584487535,\n",
       " 'enough': 0.04986149584487535,\n",
       " 'sure': 0.04986149584487535,\n",
       " 'something': 0.04986149584487535,\n",
       " 'jury': 0.04986149584487535,\n",
       " 'another': 0.04709141274238227,\n",
       " 'spoke': 0.04709141274238227,\n",
       " 'perhaps': 0.04709141274238227,\n",
       " 'talking': 0.04709141274238227,\n",
       " 'begin': 0.04709141274238227,\n",
       " 'sat': 0.04709141274238227,\n",
       " 'asked': 0.04709141274238227,\n",
       " 'Bill': 0.04709141274238227,\n",
       " 'ran': 0.0443213296398892,\n",
       " 'air': 0.0443213296398892,\n",
       " 'bit': 0.0443213296398892,\n",
       " 'turned': 0.0443213296398892,\n",
       " 'garden': 0.0443213296398892,\n",
       " 'indeed': 0.0443213296398892,\n",
       " 'hastily': 0.0443213296398892,\n",
       " 'seen': 0.04155124653739612,\n",
       " 'idea': 0.04155124653739612,\n",
       " 'eat': 0.04155124653739612,\n",
       " 'saying': 0.04155124653739612,\n",
       " 'low': 0.04155124653739612,\n",
       " 'side': 0.04155124653739612,\n",
       " 'leave': 0.04155124653739612,\n",
       " 'gave': 0.04155124653739612,\n",
       " 'speak': 0.04155124653739612,\n",
       " 'done': 0.04155124653739612,\n",
       " 'called': 0.04155124653739612,\n",
       " 'mean': 0.04155124653739612,\n",
       " 'mad': 0.04155124653739612,\n",
       " 'court': 0.04155124653739612,\n",
       " 'beginning': 0.038781163434903045,\n",
       " 'hear': 0.038781163434903045,\n",
       " 'ought': 0.038781163434903045,\n",
       " 'feet': 0.038781163434903045,\n",
       " 'tried': 0.038781163434903045,\n",
       " 'saw': 0.038781163434903045,\n",
       " 'please': 0.038781163434903045,\n",
       " 'trying': 0.038781163434903045,\n",
       " 'certainly': 0.038781163434903045,\n",
       " 'game': 0.038781163434903045,\n",
       " 'left': 0.038781163434903045,\n",
       " 'anxiously': 0.038781163434903045,\n",
       " 'everything': 0.038781163434903045,\n",
       " 'knew': 0.038781163434903045,\n",
       " 'sea': 0.038781163434903045,\n",
       " 'suppose': 0.038781163434903045,\n",
       " 'talk': 0.038781163434903045,\n",
       " 'us': 0.038781163434903045,\n",
       " 'Ye': 0.038781163434903045,\n",
       " 'turn': 0.038781163434903045,\n",
       " 'baby': 0.038781163434903045,\n",
       " 'creature': 0.038781163434903045,\n",
       " 'book': 0.036011080332409975,\n",
       " 'suddenly': 0.036011080332409975,\n",
       " 'close': 0.036011080332409975,\n",
       " 'happen': 0.036011080332409975,\n",
       " 'still': 0.036011080332409975,\n",
       " 'seem': 0.036011080332409975,\n",
       " 'people': 0.036011080332409975,\n",
       " 'behind': 0.036011080332409975,\n",
       " 'really': 0.036011080332409975,\n",
       " 'grow': 0.036011080332409975,\n",
       " 'far': 0.036011080332409975,\n",
       " 'kept': 0.036011080332409975,\n",
       " 'used': 0.036011080332409975,\n",
       " 'lesson': 0.036011080332409975,\n",
       " 'always': 0.036011080332409975,\n",
       " 'Dodo': 0.036011080332409975,\n",
       " 'whole': 0.036011080332409975,\n",
       " 'better': 0.036011080332409975,\n",
       " 'room': 0.036011080332409975,\n",
       " 'gone': 0.036011080332409975,\n",
       " 'may': 0.036011080332409975,\n",
       " \"they're\": 0.036011080332409975,\n",
       " 'remark': 0.036011080332409975,\n",
       " 'cook': 0.036011080332409975,\n",
       " 'CHAPTER': 0.0332409972299169,\n",
       " 'many': 0.0332409972299169,\n",
       " 'near': 0.0332409972299169,\n",
       " 'among': 0.0332409972299169,\n",
       " 'name': 0.0332409972299169,\n",
       " 'else': 0.0332409972299169,\n",
       " 'Dinah': 0.0332409972299169,\n",
       " 'every': 0.0332409972299169,\n",
       " 'finished': 0.0332409972299169,\n",
       " 'best': 0.0332409972299169,\n",
       " 'hardly': 0.0332409972299169,\n",
       " 'life': 0.0332409972299169,\n",
       " 'queer': 0.0332409972299169,\n",
       " 'try': 0.0332409972299169,\n",
       " 'tail': 0.0332409972299169,\n",
       " 'live': 0.0332409972299169,\n",
       " 'change': 0.0332409972299169,\n",
       " 'turning': 0.0332409972299169,\n",
       " 'bird': 0.0332409972299169,\n",
       " 'serpent': 0.0332409972299169,\n",
       " 'Pigeon': 0.0332409972299169,\n",
       " 'tree': 0.0332409972299169,\n",
       " 'minute two': 0.0332409972299169,\n",
       " 'sister': 0.030470914127423823,\n",
       " 'conversation': 0.030470914127423823,\n",
       " 'mind': 0.030470914127423823,\n",
       " 'whether': 0.030470914127423823,\n",
       " 'hurried': 0.030470914127423823,\n",
       " 'though': 0.030470914127423823,\n",
       " 'glad': 0.030470914127423823,\n",
       " 'ask': 0.030470914127423823,\n",
       " 'matter': 0.030470914127423823,\n",
       " 'read': 0.030470914127423823,\n",
       " 'waited': 0.030470914127423823,\n",
       " 'tears': 0.030470914127423823,\n",
       " 'child': 0.030470914127423823,\n",
       " 'growing': 0.030470914127423823,\n",
       " 'pool': 0.030470914127423823,\n",
       " 'want': 0.030470914127423823,\n",
       " 'thinking': 0.030470914127423823,\n",
       " 'nearly': 0.030470914127423823,\n",
       " 'silence': 0.030470914127423823,\n",
       " 'trial': 0.030470914127423823,\n",
       " \"I'd\": 0.030470914127423823,\n",
       " 'slate': 0.030470914127423823,\n",
       " 'keep': 0.030470914127423823,\n",
       " 'pig': 0.030470914127423823,\n",
       " 'Footman': 0.030470914127423823,\n",
       " 'ear': 0.030470914127423823,\n",
       " 'soldier': 0.030470914127423823,\n",
       " 'poor Alice': 0.030470914127423823,\n",
       " 'sitting': 0.027700831024930747,\n",
       " 'either': 0.027700831024930747,\n",
       " 'remember': 0.027700831024930747,\n",
       " 'answer': 0.027700831024930747,\n",
       " 'sight': 0.027700831024930747,\n",
       " 'walked': 0.027700831024930747,\n",
       " 'small': 0.027700831024930747,\n",
       " 'opened': 0.027700831024930747,\n",
       " 'bottle': 0.027700831024930747,\n",
       " 'children': 0.027700831024930747,\n",
       " 'foot': 0.027700831024930747,\n",
       " 'mine': 0.027700831024930747,\n",
       " 'party': 0.027700831024930747,\n",
       " 'explain': 0.027700831024930747,\n",
       " 'rest': 0.027700831024930747,\n",
       " 'reason': 0.027700831024930747,\n",
       " 'place': 0.027700831024930747,\n",
       " 'mouth': 0.027700831024930747,\n",
       " 'repeated': 0.027700831024930747,\n",
       " 'remarked': 0.027700831024930747,\n",
       " 'Soup': 0.027700831024930747,\n",
       " 'hedgehog': 0.027700831024930747,\n",
       " 'lobster': 0.027700831024930747,\n",
       " 'Oh dear': 0.027700831024930747,\n",
       " 'coming': 0.024930747922437674,\n",
       " 'top': 0.024930747922437674,\n",
       " 'hall': 0.024930747922437674,\n",
       " 'rate': 0.024930747922437674,\n",
       " 'waiting': 0.024930747922437674,\n",
       " 'feeling': 0.024930747922437674,\n",
       " 'size': 0.024930747922437674,\n",
       " 'give': 0.024930747922437674,\n",
       " 'help': 0.024930747922437674,\n",
       " 'different': 0.024930747922437674,\n",
       " 'sit': 0.024930747922437674,\n",
       " 'old': 0.024930747922437674,\n",
       " 'continued': 0.024930747922437674,\n",
       " 'believe': 0.024930747922437674,\n",
       " 'piece': 0.024930747922437674,\n",
       " 'call': 0.024930747922437674,\n",
       " 'angrily': 0.024930747922437674,\n",
       " 'least': 0.024930747922437674,\n",
       " 'together': 0.024930747922437674,\n",
       " 'shouted': 0.024930747922437674,\n",
       " 'timidly': 0.024930747922437674,\n",
       " 'puzzled': 0.024930747922437674,\n",
       " 'interrupted': 0.024930747922437674,\n",
       " 'moral': 0.024930747922437674,\n",
       " 'poor little': 0.024930747922437674,\n",
       " 'might well': 0.024930747922437674,\n",
       " 'join dance': 0.024930747922437674,\n",
       " 'adventures': 0.0221606648199446,\n",
       " 'feel': 0.0221606648199446,\n",
       " 'making': 0.0221606648199446,\n",
       " 'watch': 0.0221606648199446,\n",
       " 'slowly': 0.0221606648199446,\n",
       " 'noticed': 0.0221606648199446,\n",
       " 'four': 0.0221606648199446,\n",
       " 'opportunity': 0.0221606648199446,\n",
       " 'distance': 0.0221606648199446,\n",
       " \"it'll\": 0.0221606648199446,\n",
       " 'sound': 0.0221606648199446,\n",
       " 'dry': 0.0221606648199446,\n",
       " 'bright': 0.0221606648199446,\n",
       " 'fact': 0.0221606648199446,\n",
       " 'tart': 0.0221606648199446,\n",
       " 'followed': 0.0221606648199446,\n",
       " 'lying': 0.0221606648199446,\n",
       " 'set': 0.0221606648199446,\n",
       " 'ready': 0.0221606648199446,\n",
       " 'hard': 0.0221606648199446,\n",
       " 'changed': 0.0221606648199446,\n",
       " 'Five': 0.0221606648199446,\n",
       " 'eagerly': 0.0221606648199446,\n",
       " 'meaning': 0.0221606648199446,\n",
       " 'running': 0.0221606648199446,\n",
       " 'everybody': 0.0221606648199446,\n",
       " 'exactly': 0.0221606648199446,\n",
       " 'nobody': 0.0221606648199446,\n",
       " 'direction': 0.0221606648199446,\n",
       " 'window': 0.0221606648199446,\n",
       " 'appeared': 0.0221606648199446,\n",
       " 'wood': 0.0221606648199446,\n",
       " 'mushroom': 0.0221606648199446,\n",
       " 'pepper': 0.0221606648199446,\n",
       " 'fish': 0.0221606648199446,\n",
       " 'verse': 0.0221606648199446,\n",
       " 'shoulder': 0.0221606648199446,\n",
       " 'rule': 0.0221606648199446,\n",
       " 'whiting': 0.0221606648199446,\n",
       " 'beautiful Soup': 0.0221606648199446,\n",
       " 'tired': 0.019390581717451522,\n",
       " 'hot': 0.019390581717451522,\n",
       " 'world': 0.019390581717451522,\n",
       " 'deep': 0.019390581717451522,\n",
       " 'somebody': 0.019390581717451522,\n",
       " 'fall': 0.019390581717451522,\n",
       " 'listen': 0.019390581717451522,\n",
       " 'fancy': 0.019390581717451522,\n",
       " 'manage': 0.019390581717451522,\n",
       " 'begun': 0.019390581717451522,\n",
       " 'dream': 0.019390581717451522,\n",
       " 'middle': 0.019390581717451522,\n",
       " 'wondering': 0.019390581717451522,\n",
       " 'glass': 0.019390581717451522,\n",
       " 'open': 0.019390581717451522,\n",
       " 'high': 0.019390581717451522,\n",
       " 'larger': 0.019390581717451522,\n",
       " 'happened': 0.019390581717451522,\n",
       " 'neck': 0.019390581717451522,\n",
       " 'drink': 0.019390581717451522,\n",
       " 'hold': 0.019390581717451522,\n",
       " 'generally': 0.019390581717451522,\n",
       " 'surprised': 0.019390581717451522,\n",
       " 'kind': 0.019390581717451522,\n",
       " 'nonsense': 0.019390581717451522,\n",
       " 'fan': 0.019390581717451522,\n",
       " 'hair': 0.019390581717451522,\n",
       " 'goes': 0.019390581717451522,\n",
       " 'repeat': 0.019390581717451522,\n",
       " 'grin': 0.019390581717451522,\n",
       " 'learn': 0.019390581717451522,\n",
       " 'frightened': 0.019390581717451522,\n",
       " 'chin': 0.019390581717451522,\n",
       " 'history': 0.019390581717451522,\n",
       " 'fetch': 0.019390581717451522,\n",
       " 'Lory': 0.019390581717451522,\n",
       " 'important': 0.019390581717451522,\n",
       " 'others': 0.019390581717451522,\n",
       " 'chimney': 0.019390581717451522,\n",
       " 'grown': 0.019390581717451522,\n",
       " 'business': 0.019390581717451522,\n",
       " 'puppy': 0.019390581717451522,\n",
       " 'paw': 0.019390581717451522,\n",
       " 'nose': 0.019390581717451522,\n",
       " 'silent': 0.019390581717451522,\n",
       " 'pleased': 0.019390581717451522,\n",
       " 'song': 0.019390581717451522,\n",
       " 'treacle': 0.019390581717451522,\n",
       " 'Heart': 0.019390581717451522,\n",
       " \"I'm afraid\": 0.019390581717451522,\n",
       " 'good deal': 0.019390581717451522,\n",
       " 'Soo oop': 0.019390581717451522,\n",
       " 'stupid': 0.01662049861495845,\n",
       " 'trouble': 0.01662049861495845,\n",
       " 'late': 0.01662049861495845,\n",
       " 'fell': 0.01662049861495845,\n",
       " 'nice': 0.01662049861495845,\n",
       " 'written': 0.01662049861495845,\n",
       " 'jumped': 0.01662049861495845,\n",
       " 'roof': 0.01662049861495845,\n",
       " 'along': 0.01662049861495845,\n",
       " 'forgotten': 0.01662049861495845,\n",
       " 'almost': 0.01662049861495845,\n",
       " 'ten': 0.01662049861495845,\n",
       " 'box': 0.01662049861495845,\n",
       " 'cake': 0.01662049861495845,\n",
       " 'care': 0.01662049861495845,\n",
       " 'English': 0.01662049861495845,\n",
       " 'pair': 0.01662049861495845,\n",
       " 'stop': 0.01662049861495845,\n",
       " 'sir': 0.01662049861495845,\n",
       " 'Seven': 0.01662049861495845,\n",
       " 'stay': 0.01662049861495845,\n",
       " 'understand': 0.01662049861495845,\n",
       " 'sentence': 0.01662049861495845,\n",
       " 'animal': 0.01662049861495845,\n",
       " 'dog': 0.01662049861495845,\n",
       " 'politely': 0.01662049861495845,\n",
       " 'melancholy': 0.01662049861495845,\n",
       " 'liked': 0.01662049861495845,\n",
       " 'hour': 0.01662049861495845,\n",
       " 'chorus': 0.01662049861495845,\n",
       " 'prize': 0.01662049861495845,\n",
       " 'executed': 0.01662049861495845,\n",
       " 'full': 0.01662049861495845,\n",
       " 'write': 0.01662049861495845,\n",
       " 'shriek': 0.01662049861495845,\n",
       " 'loud': 0.01662049861495845,\n",
       " 'sharp': 0.01662049861495845,\n",
       " 'Lizard': 0.01662049861495845,\n",
       " 'stand': 0.01662049861495845,\n",
       " 'sleep': 0.01662049861495845,\n",
       " 'egg': 0.01662049861495845,\n",
       " 'sneezing': 0.01662049861495845,\n",
       " 'told': 0.01662049861495845,\n",
       " 'dreadfully': 0.01662049861495845,\n",
       " 'sing': 0.01662049861495845,\n",
       " 'exclaimed': 0.01662049861495845,\n",
       " 'Knave': 0.01662049861495845,\n",
       " 'procession': 0.01662049861495845,\n",
       " 'Majesty': 0.01662049861495845,\n",
       " 'executioner': 0.01662049861495845,\n",
       " 'school': 0.01662049861495845,\n",
       " \"I've got\": 0.01662049861495845,\n",
       " 'little girl': 0.01662049861495845,\n",
       " 'one side': 0.01662049861495845,\n",
       " 'golden key': 0.01662049861495845,\n",
       " 'set work': 0.01662049861495845,\n",
       " \"I'm sure\": 0.01662049861495845,\n",
       " 'great hurry': 0.01662049861495845,\n",
       " 'beg pardon': 0.01662049861495845,\n",
       " 'Cheshire Cat': 0.01662049861495845,\n",
       " 'bread butter': 0.01662049861495845,\n",
       " 'three gardeners': 0.01662049861495845,\n",
       " 'please Majesty': 0.01662049861495845,\n",
       " 'guinea pig': 0.01662049861495845,\n",
       " 'twice': 0.013850415512465374,\n",
       " 'sleepy': 0.013850415512465374,\n",
       " 'pocket': 0.013850415512465374,\n",
       " 'across': 0.013850415512465374,\n",
       " 'curiosity': 0.013850415512465374,\n",
       " 'passed': 0.013850415512465374,\n",
       " 'home': 0.013850415512465374,\n",
       " 'likely': 0.013850415512465374,\n",
       " 'aloud': 0.013850415512465374,\n",
       " 'walk': 0.013850415512465374,\n",
       " 'new': 0.013850415512465374,\n",
       " 'asking': 0.013850415512465374,\n",
       " 'night': 0.013850415512465374,\n",
       " 'afraid': 0.013850415512465374,\n",
       " 'sometimes': 0.013850415512465374,\n",
       " 'walking': 0.013850415512465374,\n",
       " 'corner': 0.013850415512465374,\n",
       " 'sadly': 0.013850415512465374,\n",
       " 'shut': 0.013850415512465374,\n",
       " 'hurry': 0.013850415512465374,\n",
       " 'simple': 0.013850415512465374,\n",
       " 'cut': 0.013850415512465374,\n",
       " 'nervous': 0.013850415512465374,\n",
       " 'altogether': 0.013850415512465374,\n",
       " 'remembered': 0.013850415512465374,\n",
       " 'person': 0.013850415512465374,\n",
       " 'deal': 0.013850415512465374,\n",
       " 'nine': 0.013850415512465374,\n",
       " 'dropped': 0.013850415512465374,\n",
       " 'usual': 0.013850415512465374,\n",
       " 'morning': 0.013850415512465374,\n",
       " 'Ah': 0.013850415512465374,\n",
       " 'wrong': 0.013850415512465374,\n",
       " 'sounded': 0.013850415512465374,\n",
       " 'strange': 0.013850415512465374,\n",
       " 'sudden': 0.013850415512465374,\n",
       " 'case': 0.013850415512465374,\n",
       " 'number': 0.013850415512465374,\n",
       " 'swam': 0.013850415512465374,\n",
       " 'nearer': 0.013850415512465374,\n",
       " 'speaking': 0.013850415512465374,\n",
       " 'shrill': 0.013850415512465374,\n",
       " 'angry': 0.013850415512465374,\n",
       " 'offended': 0.013850415512465374,\n",
       " 'crowded': 0.013850415512465374,\n",
       " 'tale': 0.013850415512465374,\n",
       " 'argument': 0.013850415512465374,\n",
       " 'notice': 0.013850415512465374,\n",
       " 'what': 0.013850415512465374,\n",
       " 'dare': 0.013850415512465374,\n",
       " 'confusion': 0.013850415512465374,\n",
       " 'reply': 0.013850415512465374,\n",
       " 'story': 0.013850415512465374,\n",
       " 'shook': 0.013850415512465374,\n",
       " 'impatiently': 0.013850415512465374,\n",
       " 'sighed': 0.013850415512465374,\n",
       " 'temper': 0.013850415512465374,\n",
       " 'moved': 0.013850415512465374,\n",
       " 'swim': 0.013850415512465374,\n",
       " 'interesting': 0.013850415512465374,\n",
       " 'become': 0.013850415512465374,\n",
       " 'taking': 0.013850415512465374,\n",
       " 'drew': 0.013850415512465374,\n",
       " 'sky': 0.013850415512465374,\n",
       " 'instantly': 0.013850415512465374,\n",
       " 'surprise': 0.013850415512465374,\n",
       " 'stick': 0.013850415512465374,\n",
       " 'height': 0.013850415512465374,\n",
       " 'quietly': 0.013850415512465374,\n",
       " 'present': 0.013850415512465374,\n",
       " 'often': 0.013850415512465374,\n",
       " 'follow': 0.013850415512465374,\n",
       " 'draw': 0.013850415512465374,\n",
       " 'sob': 0.013850415512465374,\n",
       " 'ground': 0.013850415512465374,\n",
       " 'meant': 0.013850415512465374,\n",
       " 'waving': 0.013850415512465374,\n",
       " 'asleep': 0.013850415512465374,\n",
       " 'knee': 0.013850415512465374,\n",
       " 'whispered': 0.013850415512465374,\n",
       " 'execution': 0.013850415512465374,\n",
       " 'flamingo': 0.013850415512465374,\n",
       " 'friend': 0.013850415512465374,\n",
       " 'Turtle': 0.013850415512465374,\n",
       " 'Tis': 0.013850415512465374,\n",
       " 'picture': 0.013850415512465374,\n",
       " 'juror': 0.013850415512465374,\n",
       " 'witness': 0.013850415512465374,\n",
       " 'teacup': 0.013850415512465374,\n",
       " 'unimportant': 0.013850415512465374,\n",
       " 'mile': 0.013850415512465374,\n",
       " 'another moment': 0.013850415512465374,\n",
       " 'came upon': 0.013850415512465374,\n",
       " 'little golden': 0.013850415512465374,\n",
       " 'right size': 0.013850415512465374,\n",
       " 'feet high': 0.013850415512465374,\n",
       " 'white kid': 0.013850415512465374,\n",
       " 'kid gloves': 0.013850415512465374,\n",
       " 'trembling voice': 0.013850415512465374,\n",
       " 'offended tone': 0.013850415512465374,\n",
       " \"I've tried\": 0.013850415512465374,\n",
       " 'play croquet': 0.013850415512465374,\n",
       " 'Twinkle twinkle': 0.013850415512465374,\n",
       " 'evening Beautiful': 0.013850415512465374,\n",
       " 'next witness': 0.013850415512465374,\n",
       " 'Wonderland': 0.0110803324099723,\n",
       " 'bank': 0.0110803324099723,\n",
       " 'worth': 0.0110803324099723,\n",
       " 'natural': 0.0110803324099723,\n",
       " 'fear': 0.0110803324099723,\n",
       " 'managed': 0.0110803324099723,\n",
       " \"they'll\": 0.0110803324099723,\n",
       " 'true': 0.0110803324099723,\n",
       " 'fallen': 0.0110803324099723,\n",
       " 'earth': 0.0110803324099723,\n",
       " 'several': 0.0110803324099723,\n",
       " 'Miss': 0.0110803324099723,\n",
       " 'catch': 0.0110803324099723,\n",
       " 'passage': 0.0110803324099723,\n",
       " 'except': 0.0110803324099723,\n",
       " 'tiny': 0.0110803324099723,\n",
       " 'alas': 0.0110803324099723,\n",
       " 'second': 0.0110803324099723,\n",
       " 'led': 0.0110803324099723,\n",
       " 'poor': 0.0110803324099723,\n",
       " 'telescope': 0.0110803324099723,\n",
       " 'paper': 0.0110803324099723,\n",
       " 'taught': 0.0110803324099723,\n",
       " 'deeply': 0.0110803324099723,\n",
       " 'ventured': 0.0110803324099723,\n",
       " 'reach': 0.0110803324099723,\n",
       " 'sharply': 0.0110803324099723,\n",
       " 'severely': 0.0110803324099723,\n",
       " 'fond': 0.0110803324099723,\n",
       " 'shoes': 0.0110803324099723,\n",
       " 'savage': 0.0110803324099723,\n",
       " 'violently': 0.0110803324099723,\n",
       " 'age': 0.0110803324099723,\n",
       " 'Mabel': 0.0110803324099723,\n",
       " 'besides': 0.0110803324099723,\n",
       " 'puzzling': 0.0110803324099723,\n",
       " 'twelve': 0.0110803324099723,\n",
       " 'capital': 0.0110803324099723,\n",
       " 'alone': 0.0110803324099723,\n",
       " 'escape': 0.0110803324099723,\n",
       " 'water': 0.0110803324099723,\n",
       " 'digging': 0.0110803324099723,\n",
       " 'French': 0.0110803324099723,\n",
       " 'William': 0.0110803324099723,\n",
       " 'fire': 0.0110803324099723,\n",
       " 'pale': 0.0110803324099723,\n",
       " 'shore': 0.0110803324099723,\n",
       " 'Duck': 0.0110803324099723,\n",
       " 'uncomfortable': 0.0110803324099723,\n",
       " 'wanted': 0.0110803324099723,\n",
       " 'frowning': 0.0110803324099723,\n",
       " 'solemnly': 0.0110803324099723,\n",
       " 'pointing': 0.0110803324099723,\n",
       " 'confused': 0.0110803324099723,\n",
       " 'short': 0.0110803324099723,\n",
       " 'bowed': 0.0110803324099723,\n",
       " 'noise': 0.0110803324099723,\n",
       " 'whisper': 0.0110803324099723,\n",
       " 'judge': 0.0110803324099723,\n",
       " 'breath': 0.0110803324099723,\n",
       " 'particular': 0.0110803324099723,\n",
       " 'since': 0.0110803324099723,\n",
       " 'vanished': 0.0110803324099723,\n",
       " 'run': 0.0110803324099723,\n",
       " \"they'd\": 0.0110803324099723,\n",
       " 'stood': 0.0110803324099723,\n",
       " 'elbow': 0.0110803324099723,\n",
       " 'chance': 0.0110803324099723,\n",
       " 'answered': 0.0110803324099723,\n",
       " 'outside': 0.0110803324099723,\n",
       " 'hearing': 0.0110803324099723,\n",
       " 'master': 0.0110803324099723,\n",
       " 'Thank': 0.0110803324099723,\n",
       " 'doubt': 0.0110803324099723,\n",
       " 'lay': 0.0110803324099723,\n",
       " 'crowd': 0.0110803324099723,\n",
       " 'held': 0.0110803324099723,\n",
       " 'plan': 0.0110803324099723,\n",
       " 'difficulty': 0.0110803324099723,\n",
       " 'grass': 0.0110803324099723,\n",
       " 'perfectly': 0.0110803324099723,\n",
       " 'none': 0.0110803324099723,\n",
       " 'stuff': 0.0110803324099723,\n",
       " 'decidedly': 0.0110803324099723,\n",
       " 'thoughtfully': 0.0110803324099723,\n",
       " 'green': 0.0110803324099723,\n",
       " 'screamed': 0.0110803324099723,\n",
       " 'indignantly': 0.0110803324099723,\n",
       " 'taken': 0.0110803324099723,\n",
       " 'otherwise': 0.0110803324099723,\n",
       " 'letter': 0.0110803324099723,\n",
       " 'dish': 0.0110803324099723,\n",
       " 'kitchen': 0.0110803324099723,\n",
       " 'sneeze': 0.0110803324099723,\n",
       " 'jumping': 0.0110803324099723,\n",
       " 'carried': 0.0110803324099723,\n",
       " 'growl': 0.0110803324099723,\n",
       " 'busily': 0.0110803324099723,\n",
       " 'beat': 0.0110803324099723,\n",
       " 'grunted': 0.0110803324099723,\n",
       " 'less': 0.0110803324099723,\n",
       " 'writing': 0.0110803324099723,\n",
       " 'crumbs': 0.0110803324099723,\n",
       " 'twinkling': 0.0110803324099723,\n",
       " 'sigh': 0.0110803324099723,\n",
       " 'bottom': 0.0110803324099723,\n",
       " 'flower': 0.0110803324099723,\n",
       " 'rose': 0.0110803324099723,\n",
       " 'arches': 0.0110803324099723,\n",
       " 'players': 0.0110803324099723,\n",
       " 'week': 0.0110803324099723,\n",
       " 'figure': 0.0110803324099723,\n",
       " 'porpoise': 0.0110803324099723,\n",
       " 'evidence': 0.0110803324099723,\n",
       " 'suppressed': 0.0110803324099723,\n",
       " 'jurymen': 0.0110803324099723,\n",
       " 'fit': 0.0110803324099723,\n",
       " 'rabbit hole': 0.0110803324099723,\n",
       " 'eat bat': 0.0110803324099723,\n",
       " 'inches high': 0.0110803324099723,\n",
       " 'change subject': 0.0110803324099723,\n",
       " \"can't remember\": 0.0110803324099723,\n",
       " 'one finger': 0.0110803324099723,\n",
       " 'shook head': 0.0110803324099723,\n",
       " 'Mary Ann': 0.0110803324099723,\n",
       " 'yer honour': 0.0110803324099723,\n",
       " 'old fellow': 0.0110803324099723,\n",
       " 'hookah mouth': 0.0110803324099723,\n",
       " 'FATHER WILLIAM': 0.0110803324099723,\n",
       " 'Wow wow': 0.0110803324099723,\n",
       " 'Lobster Quadrille': 0.0110803324099723,\n",
       " 'dance join': 0.0110803324099723,\n",
       " 'Beau ootiful': 0.0110803324099723,\n",
       " 'ootiful Soo': 0.0110803324099723,\n",
       " 'jury box': 0.0110803324099723,\n",
       " 'peeped': 0.008310249307479225,\n",
       " 'reading': 0.008310249307479225,\n",
       " 'considering': 0.008310249307479225,\n",
       " 'White': 0.008310249307479225,\n",
       " 'hedge': 0.008310249307479225,\n",
       " 'dark': 0.008310249307479225,\n",
       " 'filled': 0.008310249307479225,\n",
       " 'past': 0.008310249307479225,\n",
       " 'stairs': 0.008310249307479225,\n",
       " 'somewhere': 0.008310249307479225,\n",
       " 'knowledge': 0.008310249307479225,\n",
       " 'grand': 0.008310249307479225,\n",
       " 'funny': 0.008310249307479225,\n",
       " 'listening': 0.008310249307479225,\n",
       " \"she'll\": 0.008310249307479225,\n",
       " 'hope': 0.008310249307479225,\n",
       " 'bat': 0.008310249307479225,\n",
       " 'hurt': 0.008310249307479225,\n",
       " 'lost': 0.008310249307479225,\n",
       " 'whiskers': 0.008310249307479225,\n",
       " 'longer': 0.008310249307479225,\n",
       " 'hanging': 0.008310249307479225,\n",
       " 'key': 0.008310249307479225,\n",
       " 'belong': 0.008310249307479225,\n",
       " 'lock': 0.008310249307479225,\n",
       " 'delight': 0.008310249307479225,\n",
       " 'impossible': 0.008310249307479225,\n",
       " 'marked': 0.008310249307479225,\n",
       " 'red': 0.008310249307479225,\n",
       " 'knife': 0.008310249307479225,\n",
       " 'certain': 0.008310249307479225,\n",
       " 'taste': 0.008310249307479225,\n",
       " 'finding': 0.008310249307479225,\n",
       " 'apple': 0.008310249307479225,\n",
       " 'candle': 0.008310249307479225,\n",
       " 'decided': 0.008310249307479225,\n",
       " 'possibly': 0.008310249307479225,\n",
       " 'legs': 0.008310249307479225,\n",
       " 'bring': 0.008310249307479225,\n",
       " 'smaller': 0.008310249307479225,\n",
       " 'holding': 0.008310249307479225,\n",
       " 'remained': 0.008310249307479225,\n",
       " 'expecting': 0.008310249307479225,\n",
       " 'dull': 0.008310249307479225,\n",
       " 'work': 0.008310249307479225,\n",
       " 'opening': 0.008310249307479225,\n",
       " 'love': 0.008310249307479225,\n",
       " 'cry': 0.008310249307479225,\n",
       " 'pattering': 0.008310249307479225,\n",
       " 'gloves': 0.008310249307479225,\n",
       " 'muttering': 0.008310249307479225,\n",
       " 'timid': 0.008310249307479225,\n",
       " 'yesterday': 0.008310249307479225,\n",
       " 'twenty': 0.008310249307479225,\n",
       " 'doth': 0.008310249307479225,\n",
       " 'crossed': 0.008310249307479225,\n",
       " 'hoarse': 0.008310249307479225,\n",
       " 'spread': 0.008310249307479225,\n",
       " 'gently': 0.008310249307479225,\n",
       " 'play': 0.008310249307479225,\n",
       " 'putting': 0.008310249307479225,\n",
       " 'guess': 0.008310249307479225,\n",
       " 'cause': 0.008310249307479225,\n",
       " 'worse': 0.008310249307479225,\n",
       " 'slipped': 0.008310249307479225,\n",
       " 'general': 0.008310249307479225,\n",
       " 'notion': 0.008310249307479225,\n",
       " 'show': 0.008310249307479225,\n",
       " 'nurse': 0.008310249307479225,\n",
       " 'subject': 0.008310249307479225,\n",
       " 'throw': 0.008310249307479225,\n",
       " 'passion': 0.008310249307479225,\n",
       " 'Eaglet': 0.008310249307479225,\n",
       " 'race': 0.008310249307479225,\n",
       " 'fur': 0.008310249307479225,\n",
       " 'sulky': 0.008310249307479225,\n",
       " 'allow': 0.008310249307479225,\n",
       " 'frog': 0.008310249307479225,\n",
       " 'crown': 0.008310249307479225,\n",
       " 'move': 0.008310249307479225,\n",
       " 'pressed': 0.008310249307479225,\n",
       " 'handed': 0.008310249307479225,\n",
       " 'gravely': 0.008310249307479225,\n",
       " 'thimble': 0.008310249307479225,\n",
       " 'speech': 0.008310249307479225,\n",
       " 'cheered': 0.008310249307479225,\n",
       " 'grave': 0.008310249307479225,\n",
       " 'simply': 0.008310249307479225,\n",
       " 'solemn': 0.008310249307479225,\n",
       " 'choked': 0.008310249307479225,\n",
       " 'sad': 0.008310249307479225,\n",
       " 'sighing': 0.008310249307479225,\n",
       " 'Fury': 0.008310249307479225,\n",
       " 'met': 0.008310249307479225,\n",
       " 'attending': 0.008310249307479225,\n",
       " 'pleaded': 0.008310249307479225,\n",
       " 'easily': 0.008310249307479225,\n",
       " 'joined': 0.008310249307479225,\n",
       " 'pity': 0.008310249307479225,\n",
       " 'Crab': 0.008310249307479225,\n",
       " 'venture': 0.008310249307479225,\n",
       " 'carefully': 0.008310249307479225,\n",
       " 'suit': 0.008310249307479225,\n",
       " 'bed': 0.008310249307479225,\n",
       " 'mentioned': 0.008310249307479225,\n",
       " 'guessed': 0.008310249307479225,\n",
       " 'hunting': 0.008310249307479225,\n",
       " 'mistake': 0.008310249307479225,\n",
       " 'plate': 0.008310249307479225,\n",
       " 'knocking': 0.008310249307479225,\n",
       " 'real': 0.008310249307479225,\n",
       " 'broken': 0.008310249307479225,\n",
       " 'floor': 0.008310249307479225,\n",
       " 'effect': 0.008310249307479225,\n",
       " 'whatever': 0.008310249307479225,\n",
       " 'ordered': 0.008310249307479225,\n",
       " 'stopped': 0.008310249307479225,\n",
       " 'crash': 0.008310249307479225,\n",
       " 'Pat': 0.008310249307479225,\n",
       " 'em': 0.008310249307479225,\n",
       " 'kick': 0.008310249307479225,\n",
       " 'sense': 0.008310249307479225,\n",
       " 'moving': 0.008310249307479225,\n",
       " 'hungry': 0.008310249307479225,\n",
       " 'picked': 0.008310249307479225,\n",
       " 'edge': 0.008310249307479225,\n",
       " 'immediately': 0.008310249307479225,\n",
       " 'folded': 0.008310249307479225,\n",
       " 'confusing': 0.008310249307479225,\n",
       " 'brought': 0.008310249307479225,\n",
       " 'youth': 0.008310249307479225,\n",
       " 'Pray': 0.008310249307479225,\n",
       " 'jaw': 0.008310249307479225,\n",
       " 'eel': 0.008310249307479225,\n",
       " 'blow': 0.008310249307479225,\n",
       " 'free': 0.008310249307479225,\n",
       " 'shaking': 0.008310249307479225,\n",
       " 'succeeded': 0.008310249307479225,\n",
       " 'tasted': 0.008310249307479225,\n",
       " 'settled': 0.008310249307479225,\n",
       " 'nibbling': 0.008310249307479225,\n",
       " 'bringing': 0.008310249307479225,\n",
       " 'considered': 0.008310249307479225,\n",
       " 'loudly': 0.008310249307479225,\n",
       " 'order': 0.008310249307479225,\n",
       " 'staring': 0.008310249307479225,\n",
       " 'howling': 0.008310249307479225,\n",
       " 'instance': 0.008310249307479225,\n",
       " 'repeating': 0.008310249307479225,\n",
       " 'he': 0.008310249307479225,\n",
       " 'nursing': 0.008310249307479225,\n",
       " 'courage': 0.008310249307479225,\n",
       " 'grinned': 0.008310249307479225,\n",
       " 'faster': 0.008310249307479225,\n",
       " 'advantage': 0.008310249307479225,\n",
       " 'line': 0.008310249307479225,\n",
       " 'boy': 0.008310249307479225,\n",
       " 'tossing': 0.008310249307479225,\n",
       " 'caught': 0.008310249307479225,\n",
       " 'shaped': 0.008310249307479225,\n",
       " 'proper': 0.008310249307479225,\n",
       " 'sobbing': 0.008310249307479225,\n",
       " 'explanation': 0.008310249307479225,\n",
       " 'March': 0.008310249307479225,\n",
       " 'instead': 0.008310249307479225,\n",
       " 'civil': 0.008310249307479225,\n",
       " 'fun': 0.008310249307479225,\n",
       " 'breathe': 0.008310249307479225,\n",
       " 'butter': 0.008310249307479225,\n",
       " \"o'clock\": 0.008310249307479225,\n",
       " 'year': 0.008310249307479225,\n",
       " 'riddle': 0.008310249307479225,\n",
       " 'cautiously': 0.008310249307479225,\n",
       " 'fly': 0.008310249307479225,\n",
       " 'lived': 0.008310249307479225,\n",
       " 'upset': 0.008310249307479225,\n",
       " 'manner': 0.008310249307479225,\n",
       " 'muchness': 0.008310249307479225,\n",
       " 'beheaded': 0.008310249307479225,\n",
       " 'watching': 0.008310249307479225,\n",
       " 'checked': 0.008310249307479225,\n",
       " 'eager': 0.008310249307479225,\n",
       " 'guests': 0.008310249307479225,\n",
       " 'unfortunate': 0.008310249307479225,\n",
       " 'Hush': 0.008310249307479225,\n",
       " 'tucked': 0.008310249307479225,\n",
       " 'alive': 0.008310249307479225,\n",
       " 'anxious': 0.008310249307479225,\n",
       " 'mustard': 0.008310249307479225,\n",
       " 'sorrow': 0.008310249307479225,\n",
       " 'Tortoise': 0.008310249307479225,\n",
       " 'Drawling': 0.008310249307479225,\n",
       " 'advance': 0.008310249307479225,\n",
       " 'toes': 0.008310249307479225,\n",
       " 'mark': 0.008310249307479225,\n",
       " 'snail': 0.008310249307479225,\n",
       " 'obliged': 0.008310249307479225,\n",
       " 'part': 0.008310249307479225,\n",
       " 'around': 0.008310249307479225,\n",
       " 'Owl': 0.008310249307479225,\n",
       " 'Panther': 0.008310249307479225,\n",
       " 'pie': 0.008310249307479225,\n",
       " 'pencil': 0.008310249307479225,\n",
       " 'wrote': 0.008310249307479225,\n",
       " 'prove': 0.008310249307479225,\n",
       " 'half hoping': 0.008310249307479225,\n",
       " 'marked poison': 0.008310249307479225,\n",
       " 'fan gloves': 0.008310249307479225,\n",
       " 'Caucus race': 0.008310249307479225,\n",
       " 'finish story': 0.008310249307479225,\n",
       " 'Hold tongue': 0.008310249307479225,\n",
       " 'stood near': 0.008310249307479225,\n",
       " 'quite forgetting': 0.008310249307479225,\n",
       " 'broken glass': 0.008310249307479225,\n",
       " 'dead silence': 0.008310249307479225,\n",
       " 'took hookah': 0.008310249307479225,\n",
       " 'OLD FATHER': 0.008310249307479225,\n",
       " 'old youth': 0.008310249307479225,\n",
       " 'footman livery': 0.008310249307479225,\n",
       " 'fast asleep': 0.008310249307479225,\n",
       " 'young lady': 0.008310249307479225,\n",
       " 'croquet ground': 0.008310249307479225,\n",
       " 'rose tree': 0.008310249307479225,\n",
       " 'Knave Hearts': 0.008310249307479225,\n",
       " 'pack cards': 0.008310249307479225,\n",
       " 'BOOTS SHOES': 0.008310249307479225,\n",
       " 'oop evening': 0.008310249307479225,\n",
       " 'put spectacles': 0.008310249307479225,\n",
       " 'Consider verdict': 0.008310249307479225,\n",
       " 'Give evidence': 0.008310249307479225,\n",
       " 'officers court': 0.008310249307479225,\n",
       " 'poor man': 0.008310249307479225,\n",
       " 'pleasure': 0.00554016620498615,\n",
       " 'chain': 0.00554016620498615,\n",
       " 'picking': 0.00554016620498615,\n",
       " 'remarkable': 0.00554016620498615,\n",
       " 'afterwards': 0.00554016620498615,\n",
       " 'occurred': 0.00554016620498615,\n",
       " 'started': 0.00554016620498615,\n",
       " 'straight': 0.00554016620498615,\n",
       " 'dipped': 0.00554016620498615,\n",
       " 'falling': 0.00554016620498615,\n",
       " 'plenty': 0.00554016620498615,\n",
       " 'cupboards': 0.00554016620498615,\n",
       " 'shelves': 0.00554016620498615,\n",
       " 'jar': 0.00554016620498615,\n",
       " 'tumbling': 0.00554016620498615,\n",
       " 'thousand': 0.00554016620498615,\n",
       " 'learnt': 0.00554016620498615,\n",
       " 'showing': 0.00554016620498615,\n",
       " 'Presently': 0.00554016620498615,\n",
       " 'downward': 0.00554016620498615,\n",
       " \"Dinah'll\": 0.00554016620498615,\n",
       " 'milk': 0.00554016620498615,\n",
       " 'mice': 0.00554016620498615,\n",
       " 'earnestly': 0.00554016620498615,\n",
       " 'thump': 0.00554016620498615,\n",
       " 'wind': 0.00554016620498615,\n",
       " 'row': 0.00554016620498615,\n",
       " 'legged': 0.00554016620498615,\n",
       " 'inches': 0.00554016620498615,\n",
       " 'rat': 0.00554016620498615,\n",
       " 'longed': 0.00554016620498615,\n",
       " 'shutting': 0.00554016620498615,\n",
       " 'label': 0.00554016620498615,\n",
       " 'wise': 0.00554016620498615,\n",
       " 'unpleasant': 0.00554016620498615,\n",
       " 'burn': 0.00554016620498615,\n",
       " 'usually': 0.00554016620498615,\n",
       " 'sooner': 0.00554016620498615,\n",
       " 'mixed': 0.00554016620498615,\n",
       " 'brightened': 0.00554016620498615,\n",
       " 'lovely': 0.00554016620498615,\n",
       " 'crying': 0.00554016620498615,\n",
       " 'advice': 0.00554016620498615,\n",
       " 'playing': 0.00554016620498615,\n",
       " 'Curiouser': 0.00554016620498615,\n",
       " 'forgot': 0.00554016620498615,\n",
       " 'bye': 0.00554016620498615,\n",
       " '_I_': 0.00554016620498615,\n",
       " 'sending': 0.00554016620498615,\n",
       " 'struck': 0.00554016620498615,\n",
       " 'ashamed': 0.00554016620498615,\n",
       " 'trotting': 0.00554016620498615,\n",
       " 'ringlets': 0.00554016620498615,\n",
       " 'six': 0.00554016620498615,\n",
       " 'Paris': 0.00554016620498615,\n",
       " 'Rome': 0.00554016620498615,\n",
       " 'lap': 0.00554016620498615,\n",
       " 'neatly': 0.00554016620498615,\n",
       " 'claws': 0.00554016620498615,\n",
       " 'smiling': 0.00554016620498615,\n",
       " 'shrinking': 0.00554016620498615,\n",
       " 'narrow': 0.00554016620498615,\n",
       " 'declare': 0.00554016620498615,\n",
       " 'bad': 0.00554016620498615,\n",
       " 'railway': 0.00554016620498615,\n",
       " 'conclusion': 0.00554016620498615,\n",
       " 'wherever': 0.00554016620498615,\n",
       " 'sand': 0.00554016620498615,\n",
       " 'splashing': 0.00554016620498615,\n",
       " 'swimming': 0.00554016620498615,\n",
       " 'wink': 0.00554016620498615,\n",
       " 'Conqueror': 0.00554016620498615,\n",
       " 'clear': 0.00554016620498615,\n",
       " ...}"
      ]
     },
     "execution_count": 30,
     "metadata": {},
     "output_type": "execute_result"
    }
   ],
   "source": [
    "wc = WordCloud(background_color = 'white', max_words=2000, mask=alice_mask, stopwords = stopwords)\n",
    "wc = wc.generate(text)\n",
    "wc.words_"
   ]
  },
  {
   "cell_type": "code",
   "execution_count": 31,
   "metadata": {},
   "outputs": [
    {
     "data": {
      "text/plain": [
       "array([[0, 0, 0, ..., 0, 0, 0],\n",
       "       [0, 0, 0, ..., 0, 0, 0],\n",
       "       [0, 0, 0, ..., 0, 0, 0],\n",
       "       ...,\n",
       "       [0, 0, 0, ..., 0, 0, 0],\n",
       "       [0, 0, 0, ..., 0, 0, 0],\n",
       "       [0, 0, 0, ..., 0, 0, 0]], dtype=uint8)"
      ]
     },
     "execution_count": 31,
     "metadata": {},
     "output_type": "execute_result"
    }
   ],
   "source": [
    "alice_mask"
   ]
  },
  {
   "cell_type": "code",
   "execution_count": 32,
   "metadata": {},
   "outputs": [
    {
     "data": {
      "text/plain": [
       "<wordcloud.wordcloud.WordCloud at 0x1d4b5395608>"
      ]
     },
     "execution_count": 32,
     "metadata": {},
     "output_type": "execute_result"
    }
   ],
   "source": [
    "wc"
   ]
  },
  {
   "cell_type": "code",
   "execution_count": 33,
   "metadata": {
    "scrolled": true
   },
   "outputs": [
    {
     "data": {
      "text/plain": [
       "<Figure size 360x360 with 0 Axes>"
      ]
     },
     "execution_count": 33,
     "metadata": {},
     "output_type": "execute_result"
    },
    {
     "data": {
      "text/plain": [
       "<matplotlib.image.AxesImage at 0x1d4b57f3508>"
      ]
     },
     "execution_count": 33,
     "metadata": {},
     "output_type": "execute_result"
    },
    {
     "data": {
      "text/plain": [
       "(-0.5, 224.5, 224.5, -0.5)"
      ]
     },
     "execution_count": 33,
     "metadata": {},
     "output_type": "execute_result"
    },
    {
     "data": {
      "image/png": "[encoded data removed]",
      "text/plain": [
       "<Figure size 360x360 with 1 Axes>"
      ]
     },
     "metadata": {
      "needs_background": "light"
     },
     "output_type": "display_data"
    }
   ],
   "source": [
    "plt.figure(figsize=(5,5))\n",
    "plt.imshow(wc, interpolation = 'bilinear')\n",
    "plt.axis('off')\n",
    "plt.show()"
   ]
  },
  {
   "cell_type": "markdown",
   "metadata": {},
   "source": [
    "## 8-4. 육아 휴직 관련법안"
   ]
  },
  {
   "cell_type": "code",
   "execution_count": 34,
   "metadata": {},
   "outputs": [],
   "source": [
    "import nltk"
   ]
  },
  {
   "cell_type": "code",
   "execution_count": 35,
   "metadata": {},
   "outputs": [],
   "source": [
    "from konlpy.corpus import kobill\n",
    "files_ko = kobill.fileids()\n",
    "doc_ko = kobill.open('1809890.txt').read()"
   ]
  },
  {
   "cell_type": "code",
   "execution_count": 36,
   "metadata": {},
   "outputs": [
    {
     "data": {
      "text/plain": [
       "'지방공무원법 일부개정법률안\\n\\n(정의화의원 대표발의 )\\n\\n 의 안\\n 번 호\\n\\n9890\\n\\n발의연월일 : 2010.  11.  12.  \\n\\n발  의  자 : 정의화․이명수․김을동 \\n\\n이사철․여상규․안규백\\n\\n황영철․박영아․김정훈\\n\\n김학송 의원(10인)\\n\\n제안이유 및 주요내용\\n\\n  초등학교 저학년의 경우에도 부모의 따뜻한 사랑과 보살핌이 필요\\n\\n한 나이이나, 현재 공무원이 자녀를 양육하기 위하여 육아휴직을 할 \\n\\n수 있는 자녀의 나이는 만 6세 이하로 되어 있어 초등학교 저학년인 \\n\\n자녀를 돌보기 위해서는 해당 부모님은 일자리를 그만 두어야 하고 \\n\\n이는 곧 출산의욕을 저하시키는 문제로 이어질 수 있을 것임.\\n\\n  따라서 육아휴직이 가능한 자녀의 연령을 만 8세 이하로 개정하려\\n\\n는 것임(안 제63조제2항제4호).\\n\\n- 1 -\\n\\n\\x0c법률  제        호\\n\\n지방공무원법 일부개정법률안\\n\\n지방공무원법 일부를 다음과 같이 개정한다.\\n\\n제63조제2항제4호 중 “만 6세 이하의 초등학교 취학 전 자녀를”을 “만 \\n\\n8세 이하(취학 중인 경우에는 초등학교 2학년 이하를 말한다)의 자녀를”\\n\\n로 한다.\\n\\n부      칙\\n\\n이 법은 공포한 날부터 시행한다.\\n\\n- 3 -\\n\\n\\x0c신 ·구조문대비표\\n\\n현      행\\n\\n개   정   안\\n\\n제63조(휴직) ① (생  략)\\n\\n제63조(휴직) ① (현행과 같음)\\n\\n  ② 공무원이 다음 각 호의 어\\n\\n  ② -------------------------\\n\\n느 하나에 해당하는 사유로 휴\\n\\n----------------------------\\n\\n직을 원하면 임용권자는 휴직\\n\\n----------------------------\\n\\n을 명할 수 있다. 다만, 제4호\\n\\n-------------.---------------\\n\\n의 경우에는 대통령령으로 정\\n\\n----------------------------\\n\\n하는 특별한 사정이 없으면 휴\\n\\n----------------------------\\n\\n직을 명하여야 한다.\\n\\n--------------.\\n\\n  1. ∼ 3. (생  략)\\n\\n  1. ∼ 3. (현행과 같음)\\n\\n  4. 만 6세 이하의 초등학교 취\\n\\n  4. 만 8세 이하(취학 중인 경우\\n\\n학 전 자녀를 양육하기 위하\\n\\n에는 초등학교 2학년 이하를 \\n\\n여 필요하거나 여자공무원이 \\n\\n말한다)의 자녀를 ----------\\n\\n임신 또는 출산하게 되었을 \\n\\n---------------------------\\n\\n때\\n\\n---------------------------\\n\\n  5.⋅6. (생  략)\\n\\n  ③⋅④ (생  략)\\n\\n--------\\n\\n  5.⋅6. (현행과 같음)\\n\\n  ③⋅④ (현행과 같음)\\n\\n- 5 -\\n\\n\\x0c지방공무원법 일부개정법률안 등 비용추계서 미첨부사유서\\n1.  재정수반요인\\n\\n개정안에서 ｢국가공무원법｣  제71조제2항제4호 중 국가공무원의 육아\\n\\n휴직 가능 자녀의 연령을 만6세 이하에서 만8세 이하로 하고, ｢지방공\\n\\n무원법｣ 제63조제2항제4호 중 지방공무원의 육아휴직 가능 자녀의 연\\n\\n령을 만6세 이하에서 만8세 이하로 하고, ｢교육공무원법｣ 제44조제1항\\n\\n제7조 중 교육공무원의 육아휴직 가능 자녀의 연령을 만6세 이하에서 \\n\\n만8세 이하로 하고, ｢남녀고용평등과 일․가정 양립지원에 관한 법률｣ \\n\\n제19조제1항 중 근로자 육아휴직 가능 자녀연령을 만6세 이하에서 만\\n\\n8세 이하로 조정함에 따라 추가 재정소요가 예상됨.\\n\\n2.  미첨부  근거  규정\\n｢의안의 비용추계에 관한 규칙｣ 제3조제1항 단서 중 제1호(예상되는 비용이 연평균  10억원 미만\\n이거나  한시적인  경비로서  총  30억원  미만인  경우)에  해당함.\\n\\n3.  미첨부  사유\\n\\n개정안에서 국가․지방․교육공무원 및 근로자가 육아휴직을 신청할 \\n\\n수 있는 자녀의 연령을 만6세 이하에서 만8세 이하로 상향조정함에 \\n\\n따라 추가 재정소요가 예상된다. 동 법률 개정안이 2011년에 시행된다\\n\\n고 가정한 경우, 2010년 현재 자녀의 연령이 7세이고 육아휴직을 신청\\n\\n- 7 -\\n\\n\\x0c- 8 -\\n\\n하지 않은 국가․지방․교육공무원 및 근로자가 대상이 된다.\\n\\n대상연령의 확대됨에 따라 육아휴직신청자의 수가 어느 정도 늘어날 \\n\\n것으로 예상된다. 이 경우 발생하는 비용은 현행법에 따르면 월50만원\\n\\n이나 현재 관련법령 개정이 추진되고 있으며, 이에 따라 2011년에는 \\n\\n육아휴직자가 지급받는 월급여액에 비례하여 육아휴직급여가 지급되\\n\\n기 때문에 법령개정을 가정하고 추계한다. 이러한 경우 육아휴직급여\\n\\n액은 육아휴직자가 지급받는 월급여의 40%에 해당한다. 육아휴직자가 \\n\\n발생한 경우 발생하는 비용은 대체인력 고용인건비와 육아휴직자가 \\n\\n받는 월급여액의 40%이다. 이와 대비하여 육아휴직자에게 지급하던 \\n\\n임금은 더 이상 발생하지 않는다. 따라서 실제 발생하는 순비용은 육\\n\\n아휴직자에게 지급하던 월 급여액과 연령 확대에 따라 발생하는 비용\\n\\n인 육아휴직자가 받던 월급여액의 40%와 대체인력 고용인건비의 차\\n\\n액인데 이 값이 0보다 크면 추가 재정소요는 발생하지 않는다고 볼 \\n\\n수 있다.\\n\\n추가비용 발생여부를 정확하게 알아보기 위하여 비용에 대한 수리모\\n\\n델을 만들고 이에 따라 비용발생 여부를 알아보기로 하자. 모델에 사\\n\\n용되는 변수를 다음과 같이 정의한다.\\n\\n발생비용 : N×p×X + N×육아휴직급여액 - N×P\\n\\nN\\n\\nP\\n\\n: 육아휴직대상자의 수\\n\\n: 육아휴직대상자의 월급여액\\n\\n\\x0cp\\n\\nX\\n\\n: 육아휴직자가 발생한 경우 대체 고용할 확률\\n\\n: 대체 고용한 인력에게 지급하는 월급여액\\n\\n위의 수식에서 육아휴직급여액은 육아휴직자 월급여액의 40%까지 지\\n\\n급할 예정이므로 육아휴직급여액은 P×40%이다. 육아휴직자가 발생한 \\n\\n경우 대체 고용할 확률 p는 고용노동부의 육아휴직 관련 자료를 이용\\n\\n한다. 고용노동부에 따르면 2011년의 경우 육아휴직급여 대상자는 \\n\\n40,923명이며, 육아휴직에 따른 대체인력 고용 예상인원은 2,836명이\\n\\n다. 2007년부터 2011년까지의 현황을 정리하면 다음의 [표]와 같다.\\n\\n[표]  육아휴직급여  수급자의  수  및  대체인력  고용  현황:  2007~2011년\\n\\n(단위:  명,  % )\\n\\n2007\\n\\n2008\\n\\n2009\\n\\n2010\\n\\n2011\\n\\n평균\\n\\n육아휴직급여  수급자(A)\\n\\n21,185\\n\\n29,145\\n\\n35,400\\n\\n41,291\\n\\n43,899\\n\\n34,184\\n\\n대체인력  채용(B)\\n\\n796\\n\\n1,658\\n\\n1,957\\n\\n2,396\\n\\n2,836\\n\\n1,929\\n\\n비  율(B/A)\\n\\n3.8\\n\\n5.7\\n\\n5.5\\n\\n5.8\\n\\n6.5\\n\\n5.6\\n\\n자료: 고용노동부  자료를  바탕으로  국회예산정책처  작성\\n\\n위의 [표]의 자료에 따라 육아휴직자가 발생한 경우 대체 고용할 확률 \\n\\np의 값은 5.6%라고 가정한다. 그리고 비용이 발생한다고 가정하여 위\\n\\n의 수식을 다시 작성하면 다음의 수식과 같다.\\n\\nN×p×X + N×육아휴직급여액 - N×P > 0\\n\\n(1)\\n\\n- 9 -\\n\\n\\x0c- 10 -\\n\\nN×5.6%×X + N×P×40% - N×P > 0\\n\\n0.056×X > 0.6P\\n\\nX > 10.7×P\\n\\n(2)\\n\\n(3)\\n\\n(5)\\n\\n위의 수식에 육아휴직자가 받는 월 급여액을 대입하여 대체고용인력\\n\\n자에게 지급하는 월 급여액을 추정하여 보자. 육아휴직자가 월 200만\\n\\n원을 받는다고 가정하면, 대체고용인력자에게 육아휴직자가 받는 월 \\n\\n급여액의 10.7배에 달하는 월 21,428,571원 이상을 지급해야 추가 비용\\n\\n이 발생한다. 대체고용인력자에게 육아휴직자보다 더 많은 월급여액을 \\n\\n주지는 않을 것이고 그리고 10여배 이상 월급을 주지도 않을 것이기 \\n\\n때문에 추가 비용이 발생한다고 보기 힘들다. 위의 수식에서 대체인력 \\n\\n고용확률 p를 20%로 가정하더라도(이 경우 X > 3×P) 200만원 받는 \\n\\n육아휴직자 대체인력에게 월 600만원 이상을 지급해야 추가 비용이 \\n\\n발생한다.\\n\\n행정안전부의 통계자료(행정안전부 통계연감)에서는 지방공무원의 육\\n\\n아휴직 현황자료를 보여주고 있다. 여기서 육아휴직자가 발생한 경우 \\n\\n대체인력을 주로 임용대기자 또는 일용직을 활용하는 것으로 보인다. \\n\\n따라서 공무원의 경우에도 [표]에서 보여주는 일반기업체의 대체인력 \\n\\n고용확률과 차이는 크지 않을 것으로 보인다.\\n\\n이상의 논의를 바탕으로 육아휴직기간을 만6에서 만8세로 연장하더라\\n\\n도 법률 개정에 따른 추가 비용은 발생하지 않을 것으로 예상된다.\\n\\n\\x0c4.  작성자\\n\\n국회예산정책처 법안비용추계1팀\\n\\n팀      장   정 문 종\\n\\n예산분석관   김 태 완\\n\\n(02-788-4649, tanzania@assembly.go.kr)\\n\\n- 11 -\\n\\n\\x0c'"
      ]
     },
     "execution_count": 36,
     "metadata": {},
     "output_type": "execute_result"
    }
   ],
   "source": [
    "doc_ko"
   ]
  },
  {
   "cell_type": "code",
   "execution_count": 37,
   "metadata": {
    "scrolled": true
   },
   "outputs": [
    {
     "ename": "TypeError",
     "evalue": "startJVM() got an unexpected keyword argument 'convertStrings'",
     "output_type": "error",
     "traceback": [
      "\u001b[1;31m---------------------------------------------------------------------------\u001b[0m",
      "\u001b[1;31mTypeError\u001b[0m                                 Traceback (most recent call last)",
      "\u001b[1;32m<ipython-input-37-0c6fd3e0438d>\u001b[0m in \u001b[0;36m<module>\u001b[1;34m\u001b[0m\n\u001b[1;32m----> 1\u001b[1;33m \u001b[1;32mfrom\u001b[0m \u001b[0mkonlpy\u001b[0m\u001b[1;33m.\u001b[0m\u001b[0mtag\u001b[0m \u001b[1;32mimport\u001b[0m \u001b[0mTwitter\u001b[0m\u001b[1;33m;\u001b[0m \u001b[0mt\u001b[0m \u001b[1;33m=\u001b[0m \u001b[0mTwitter\u001b[0m\u001b[1;33m(\u001b[0m\u001b[1;33m)\u001b[0m\u001b[1;33m\u001b[0m\u001b[1;33m\u001b[0m\u001b[0m\n\u001b[0m\u001b[0;32m      2\u001b[0m \u001b[0mtokens_ko\u001b[0m \u001b[1;33m=\u001b[0m \u001b[0mt\u001b[0m\u001b[1;33m.\u001b[0m\u001b[0mnouns\u001b[0m\u001b[1;33m(\u001b[0m\u001b[0mdoc_ko\u001b[0m\u001b[1;33m)\u001b[0m\u001b[1;33m\u001b[0m\u001b[1;33m\u001b[0m\u001b[0m\n\u001b[0;32m      3\u001b[0m \u001b[0mtokens_ko\u001b[0m\u001b[1;33m\u001b[0m\u001b[1;33m\u001b[0m\u001b[0m\n",
      "\u001b[1;32mC:\\ProgramData\\Anaconda3\\lib\\site-packages\\konlpy\\tag\\_okt.py\u001b[0m in \u001b[0;36mTwitter\u001b[1;34m(jvmpath)\u001b[0m\n\u001b[0;32m     15\u001b[0m     \u001b[1;32mfrom\u001b[0m \u001b[0mwarnings\u001b[0m \u001b[1;32mimport\u001b[0m \u001b[0mwarn\u001b[0m\u001b[1;33m\u001b[0m\u001b[1;33m\u001b[0m\u001b[0m\n\u001b[0;32m     16\u001b[0m     \u001b[0mwarn\u001b[0m\u001b[1;33m(\u001b[0m\u001b[1;34m'\"Twitter\" has changed to \"Okt\" since KoNLPy v0.4.5.'\u001b[0m\u001b[1;33m)\u001b[0m\u001b[1;33m\u001b[0m\u001b[1;33m\u001b[0m\u001b[0m\n\u001b[1;32m---> 17\u001b[1;33m     \u001b[1;32mreturn\u001b[0m \u001b[0mOkt\u001b[0m\u001b[1;33m(\u001b[0m\u001b[0mjvmpath\u001b[0m\u001b[1;33m)\u001b[0m\u001b[1;33m\u001b[0m\u001b[1;33m\u001b[0m\u001b[0m\n\u001b[0m\u001b[0;32m     18\u001b[0m \u001b[1;33m\u001b[0m\u001b[0m\n\u001b[0;32m     19\u001b[0m \u001b[1;33m\u001b[0m\u001b[0m\n",
      "\u001b[1;32mC:\\ProgramData\\Anaconda3\\lib\\site-packages\\konlpy\\tag\\_okt.py\u001b[0m in \u001b[0;36m__init__\u001b[1;34m(self, jvmpath, max_heap_size)\u001b[0m\n\u001b[0;32m     89\u001b[0m     \u001b[1;32mdef\u001b[0m \u001b[0m__init__\u001b[0m\u001b[1;33m(\u001b[0m\u001b[0mself\u001b[0m\u001b[1;33m,\u001b[0m \u001b[0mjvmpath\u001b[0m\u001b[1;33m=\u001b[0m\u001b[1;32mNone\u001b[0m\u001b[1;33m,\u001b[0m \u001b[0mmax_heap_size\u001b[0m\u001b[1;33m=\u001b[0m\u001b[1;36m1024\u001b[0m\u001b[1;33m)\u001b[0m\u001b[1;33m:\u001b[0m\u001b[1;33m\u001b[0m\u001b[1;33m\u001b[0m\u001b[0m\n\u001b[0;32m     90\u001b[0m         \u001b[1;32mif\u001b[0m \u001b[1;32mnot\u001b[0m \u001b[0mjpype\u001b[0m\u001b[1;33m.\u001b[0m\u001b[0misJVMStarted\u001b[0m\u001b[1;33m(\u001b[0m\u001b[1;33m)\u001b[0m\u001b[1;33m:\u001b[0m\u001b[1;33m\u001b[0m\u001b[1;33m\u001b[0m\u001b[0m\n\u001b[1;32m---> 91\u001b[1;33m             \u001b[0mjvm\u001b[0m\u001b[1;33m.\u001b[0m\u001b[0minit_jvm\u001b[0m\u001b[1;33m(\u001b[0m\u001b[0mjvmpath\u001b[0m\u001b[1;33m,\u001b[0m \u001b[0mmax_heap_size\u001b[0m\u001b[1;33m)\u001b[0m\u001b[1;33m\u001b[0m\u001b[1;33m\u001b[0m\u001b[0m\n\u001b[0m\u001b[0;32m     92\u001b[0m \u001b[1;33m\u001b[0m\u001b[0m\n\u001b[0;32m     93\u001b[0m         \u001b[0moktJavaPackage\u001b[0m \u001b[1;33m=\u001b[0m \u001b[0mjpype\u001b[0m\u001b[1;33m.\u001b[0m\u001b[0mJPackage\u001b[0m\u001b[1;33m(\u001b[0m\u001b[1;34m'kr.lucypark.okt'\u001b[0m\u001b[1;33m)\u001b[0m\u001b[1;33m\u001b[0m\u001b[1;33m\u001b[0m\u001b[0m\n",
      "\u001b[1;32mC:\\ProgramData\\Anaconda3\\lib\\site-packages\\konlpy\\jvm.py\u001b[0m in \u001b[0;36minit_jvm\u001b[1;34m(jvmpath, max_heap_size)\u001b[0m\n\u001b[0;32m     65\u001b[0m                                 \u001b[1;34m'-Dfile.encoding=UTF8'\u001b[0m\u001b[1;33m,\u001b[0m\u001b[1;33m\u001b[0m\u001b[1;33m\u001b[0m\u001b[0m\n\u001b[0;32m     66\u001b[0m                                 \u001b[1;34m'-ea'\u001b[0m\u001b[1;33m,\u001b[0m \u001b[1;34m'-Xmx{}m'\u001b[0m\u001b[1;33m.\u001b[0m\u001b[0mformat\u001b[0m\u001b[1;33m(\u001b[0m\u001b[0mmax_heap_size\u001b[0m\u001b[1;33m)\u001b[0m\u001b[1;33m,\u001b[0m\u001b[1;33m\u001b[0m\u001b[1;33m\u001b[0m\u001b[0m\n\u001b[1;32m---> 67\u001b[1;33m                                 convertStrings=True)\n\u001b[0m\u001b[0;32m     68\u001b[0m     \u001b[1;32melse\u001b[0m\u001b[1;33m:\u001b[0m\u001b[1;33m\u001b[0m\u001b[1;33m\u001b[0m\u001b[0m\n\u001b[0;32m     69\u001b[0m         \u001b[1;32mraise\u001b[0m \u001b[0mValueError\u001b[0m\u001b[1;33m(\u001b[0m\u001b[1;34m\"Please specify the JVM path.\"\u001b[0m\u001b[1;33m)\u001b[0m\u001b[1;33m\u001b[0m\u001b[1;33m\u001b[0m\u001b[0m\n",
      "\u001b[1;31mTypeError\u001b[0m: startJVM() got an unexpected keyword argument 'convertStrings'"
     ]
    }
   ],
   "source": [
    "from konlpy.tag import Twitter; t = Twitter()\n",
    "tokens_ko = t.nouns(doc_ko)\n",
    "tokens_ko"
   ]
  },
  {
   "cell_type": "code",
   "execution_count": 38,
   "metadata": {},
   "outputs": [
    {
     "ename": "NameError",
     "evalue": "name 'tokens_ko' is not defined",
     "output_type": "error",
     "traceback": [
      "\u001b[1;31m---------------------------------------------------------------------------\u001b[0m",
      "\u001b[1;31mNameError\u001b[0m                                 Traceback (most recent call last)",
      "\u001b[1;32m<ipython-input-38-276f469f24e3>\u001b[0m in \u001b[0;36m<module>\u001b[1;34m\u001b[0m\n\u001b[1;32m----> 1\u001b[1;33m \u001b[0mlen\u001b[0m\u001b[1;33m(\u001b[0m\u001b[0mtokens_ko\u001b[0m\u001b[1;33m)\u001b[0m\u001b[1;33m\u001b[0m\u001b[1;33m\u001b[0m\u001b[0m\n\u001b[0m\u001b[0;32m      2\u001b[0m \u001b[0mlen\u001b[0m\u001b[1;33m(\u001b[0m\u001b[0mset\u001b[0m\u001b[1;33m(\u001b[0m\u001b[0mtokens_ko\u001b[0m\u001b[1;33m)\u001b[0m\u001b[1;33m)\u001b[0m\u001b[1;33m\u001b[0m\u001b[1;33m\u001b[0m\u001b[0m\n",
      "\u001b[1;31mNameError\u001b[0m: name 'tokens_ko' is not defined"
     ]
    }
   ],
   "source": [
    "len(tokens_ko)\n",
    "len(set(tokens_ko))"
   ]
  },
  {
   "cell_type": "code",
   "execution_count": 39,
   "metadata": {},
   "outputs": [
    {
     "ename": "NameError",
     "evalue": "name 'tokens_ko' is not defined",
     "output_type": "error",
     "traceback": [
      "\u001b[1;31m---------------------------------------------------------------------------\u001b[0m",
      "\u001b[1;31mNameError\u001b[0m                                 Traceback (most recent call last)",
      "\u001b[1;32m<ipython-input-39-901e24753ab0>\u001b[0m in \u001b[0;36m<module>\u001b[1;34m\u001b[0m\n\u001b[1;32m----> 1\u001b[1;33m \u001b[0mko\u001b[0m \u001b[1;33m=\u001b[0m \u001b[0mnltk\u001b[0m\u001b[1;33m.\u001b[0m\u001b[0mText\u001b[0m\u001b[1;33m(\u001b[0m\u001b[0mtokens_ko\u001b[0m\u001b[1;33m,\u001b[0m \u001b[0mname\u001b[0m\u001b[1;33m=\u001b[0m \u001b[1;34m'대한민국 국회 의안 제 1809890호'\u001b[0m\u001b[1;33m)\u001b[0m\u001b[1;33m\u001b[0m\u001b[1;33m\u001b[0m\u001b[0m\n\u001b[0m\u001b[0;32m      2\u001b[0m \u001b[1;33m\u001b[0m\u001b[0m\n\u001b[0;32m      3\u001b[0m \u001b[0mlen\u001b[0m\u001b[1;33m(\u001b[0m\u001b[0mko\u001b[0m\u001b[1;33m.\u001b[0m\u001b[0mtokens\u001b[0m\u001b[1;33m)\u001b[0m\u001b[1;33m\u001b[0m\u001b[1;33m\u001b[0m\u001b[0m\n\u001b[0;32m      4\u001b[0m \u001b[0mlen\u001b[0m\u001b[1;33m(\u001b[0m\u001b[0mset\u001b[0m\u001b[1;33m(\u001b[0m\u001b[0mko\u001b[0m\u001b[1;33m.\u001b[0m\u001b[0mtokens\u001b[0m\u001b[1;33m)\u001b[0m\u001b[1;33m)\u001b[0m\u001b[1;33m\u001b[0m\u001b[1;33m\u001b[0m\u001b[0m\n\u001b[0;32m      5\u001b[0m \u001b[1;33m\u001b[0m\u001b[0m\n",
      "\u001b[1;31mNameError\u001b[0m: name 'tokens_ko' is not defined"
     ]
    }
   ],
   "source": [
    "ko = nltk.Text(tokens_ko, name= '대한민국 국회 의안 제 1809890호')\n",
    "\n",
    "len(ko.tokens)\n",
    "len(set(ko.tokens))\n",
    "\n",
    "ko.vocab()"
   ]
  },
  {
   "cell_type": "code",
   "execution_count": 40,
   "metadata": {},
   "outputs": [
    {
     "data": {
      "text/plain": [
       "<Figure size 1080x360 with 0 Axes>"
      ]
     },
     "execution_count": 40,
     "metadata": {},
     "output_type": "execute_result"
    },
    {
     "ename": "NameError",
     "evalue": "name 'ko' is not defined",
     "output_type": "error",
     "traceback": [
      "\u001b[1;31m---------------------------------------------------------------------------\u001b[0m",
      "\u001b[1;31mNameError\u001b[0m                                 Traceback (most recent call last)",
      "\u001b[1;32m<ipython-input-40-c1f1f67fd6a8>\u001b[0m in \u001b[0;36m<module>\u001b[1;34m\u001b[0m\n\u001b[0;32m      1\u001b[0m \u001b[0mplt\u001b[0m\u001b[1;33m.\u001b[0m\u001b[0mfigure\u001b[0m\u001b[1;33m(\u001b[0m\u001b[0mfigsize\u001b[0m \u001b[1;33m=\u001b[0m\u001b[1;33m(\u001b[0m\u001b[1;36m15\u001b[0m\u001b[1;33m,\u001b[0m\u001b[1;36m5\u001b[0m\u001b[1;33m)\u001b[0m\u001b[1;33m)\u001b[0m\u001b[1;33m\u001b[0m\u001b[1;33m\u001b[0m\u001b[0m\n\u001b[1;32m----> 2\u001b[1;33m \u001b[0mko\u001b[0m\u001b[1;33m.\u001b[0m\u001b[0mplot\u001b[0m\u001b[1;33m(\u001b[0m\u001b[1;36m50\u001b[0m\u001b[1;33m)\u001b[0m\u001b[1;33m\u001b[0m\u001b[1;33m\u001b[0m\u001b[0m\n\u001b[0m\u001b[0;32m      3\u001b[0m \u001b[0mplt\u001b[0m\u001b[1;33m.\u001b[0m\u001b[0mshow\u001b[0m\u001b[1;33m(\u001b[0m\u001b[1;33m)\u001b[0m\u001b[1;33m\u001b[0m\u001b[1;33m\u001b[0m\u001b[0m\n",
      "\u001b[1;31mNameError\u001b[0m: name 'ko' is not defined"
     ]
    },
    {
     "data": {
      "text/plain": [
       "<Figure size 1080x360 with 0 Axes>"
      ]
     },
     "metadata": {},
     "output_type": "display_data"
    }
   ],
   "source": [
    "plt.figure(figsize =(15,5))\n",
    "ko.plot(50)\n",
    "plt.show()"
   ]
  },
  {
   "cell_type": "code",
   "execution_count": 41,
   "metadata": {},
   "outputs": [
    {
     "ename": "NameError",
     "evalue": "name 'ko' is not defined",
     "output_type": "error",
     "traceback": [
      "\u001b[1;31m---------------------------------------------------------------------------\u001b[0m",
      "\u001b[1;31mNameError\u001b[0m                                 Traceback (most recent call last)",
      "\u001b[1;32m<ipython-input-41-d71c41cc3c76>\u001b[0m in \u001b[0;36m<module>\u001b[1;34m\u001b[0m\n\u001b[1;32m----> 1\u001b[1;33m \u001b[0mko\u001b[0m\u001b[1;33m\u001b[0m\u001b[1;33m\u001b[0m\u001b[0m\n\u001b[0m",
      "\u001b[1;31mNameError\u001b[0m: name 'ko' is not defined"
     ]
    }
   ],
   "source": [
    "ko"
   ]
  },
  {
   "cell_type": "code",
   "execution_count": 42,
   "metadata": {},
   "outputs": [
    {
     "ename": "NameError",
     "evalue": "name 'ko' is not defined",
     "output_type": "error",
     "traceback": [
      "\u001b[1;31m---------------------------------------------------------------------------\u001b[0m",
      "\u001b[1;31mNameError\u001b[0m                                 Traceback (most recent call last)",
      "\u001b[1;32m<ipython-input-42-92e25715884a>\u001b[0m in \u001b[0;36m<module>\u001b[1;34m\u001b[0m\n\u001b[0;32m      1\u001b[0m \u001b[0mstop_words\u001b[0m \u001b[1;33m=\u001b[0m \u001b[1;33m[\u001b[0m\u001b[1;34m'.'\u001b[0m\u001b[1;33m,\u001b[0m \u001b[1;34m'('\u001b[0m\u001b[1;33m,\u001b[0m \u001b[1;34m')'\u001b[0m\u001b[1;33m,\u001b[0m \u001b[1;34m','\u001b[0m\u001b[1;33m,\u001b[0m \u001b[1;34m'%'\u001b[0m\u001b[1;33m,\u001b[0m \u001b[1;34m'-'\u001b[0m\u001b[1;33m,\u001b[0m \u001b[1;34m'X'\u001b[0m\u001b[1;33m,\u001b[0m \u001b[1;34m').'\u001b[0m\u001b[1;33m,\u001b[0m \u001b[1;34m'x'\u001b[0m\u001b[1;33m,\u001b[0m \u001b[1;34m'의'\u001b[0m\u001b[1;33m,\u001b[0m \u001b[1;34m'을'\u001b[0m\u001b[1;33m,\u001b[0m \u001b[1;34m'다'\u001b[0m\u001b[1;33m,\u001b[0m \u001b[1;34m'만'\u001b[0m\u001b[1;33m,\u001b[0m \u001b[1;34m'로'\u001b[0m\u001b[1;33m,\u001b[0m \u001b[1;34m'가'\u001b[0m\u001b[1;33m,\u001b[0m \u001b[1;34m'를'\u001b[0m\u001b[1;33m]\u001b[0m\u001b[1;33m\u001b[0m\u001b[1;33m\u001b[0m\u001b[0m\n\u001b[1;32m----> 2\u001b[1;33m \u001b[0mko\u001b[0m \u001b[1;33m=\u001b[0m \u001b[1;33m[\u001b[0m \u001b[0meach_word\u001b[0m \u001b[1;32mfor\u001b[0m \u001b[0meach_word\u001b[0m \u001b[1;32min\u001b[0m \u001b[0mko\u001b[0m \u001b[1;32mif\u001b[0m \u001b[0meach_word\u001b[0m \u001b[1;32mnot\u001b[0m \u001b[1;32min\u001b[0m \u001b[0mstop_words\u001b[0m\u001b[1;33m]\u001b[0m\u001b[1;33m\u001b[0m\u001b[1;33m\u001b[0m\u001b[0m\n\u001b[0m",
      "\u001b[1;31mNameError\u001b[0m: name 'ko' is not defined"
     ]
    }
   ],
   "source": [
    "stop_words = ['.', '(', ')', ',', '%', '-', 'X', ').', 'x', '의', '을', '다', '만', '로', '가', '를']\n",
    "ko = [ each_word for each_word in ko if each_word not in stop_words]"
   ]
  },
  {
   "cell_type": "code",
   "execution_count": 43,
   "metadata": {},
   "outputs": [
    {
     "ename": "NameError",
     "evalue": "name 'ko' is not defined",
     "output_type": "error",
     "traceback": [
      "\u001b[1;31m---------------------------------------------------------------------------\u001b[0m",
      "\u001b[1;31mNameError\u001b[0m                                 Traceback (most recent call last)",
      "\u001b[1;32m<ipython-input-43-c2f85ce40daf>\u001b[0m in \u001b[0;36m<module>\u001b[1;34m\u001b[0m\n\u001b[1;32m----> 1\u001b[1;33m \u001b[0mko\u001b[0m \u001b[1;33m=\u001b[0m \u001b[0mnltk\u001b[0m\u001b[1;33m.\u001b[0m\u001b[0mText\u001b[0m\u001b[1;33m(\u001b[0m\u001b[0mko\u001b[0m\u001b[1;33m,\u001b[0m \u001b[0mname\u001b[0m\u001b[1;33m=\u001b[0m \u001b[1;34m'대한민국 국회 의안 제 1809890호'\u001b[0m\u001b[1;33m)\u001b[0m\u001b[1;33m\u001b[0m\u001b[1;33m\u001b[0m\u001b[0m\n\u001b[0m\u001b[0;32m      2\u001b[0m \u001b[0mplt\u001b[0m\u001b[1;33m.\u001b[0m\u001b[0mfigure\u001b[0m\u001b[1;33m(\u001b[0m\u001b[0mfigsize\u001b[0m \u001b[1;33m=\u001b[0m\u001b[1;33m(\u001b[0m\u001b[1;36m15\u001b[0m\u001b[1;33m,\u001b[0m\u001b[1;36m5\u001b[0m\u001b[1;33m)\u001b[0m\u001b[1;33m)\u001b[0m\u001b[1;33m\u001b[0m\u001b[1;33m\u001b[0m\u001b[0m\n\u001b[0;32m      3\u001b[0m \u001b[0mko\u001b[0m\u001b[1;33m.\u001b[0m\u001b[0mplot\u001b[0m\u001b[1;33m(\u001b[0m\u001b[1;36m50\u001b[0m\u001b[1;33m)\u001b[0m\u001b[1;33m\u001b[0m\u001b[1;33m\u001b[0m\u001b[0m\n\u001b[0;32m      4\u001b[0m \u001b[0mplt\u001b[0m\u001b[1;33m.\u001b[0m\u001b[0mshow\u001b[0m\u001b[1;33m(\u001b[0m\u001b[1;33m)\u001b[0m\u001b[1;33m\u001b[0m\u001b[1;33m\u001b[0m\u001b[0m\n",
      "\u001b[1;31mNameError\u001b[0m: name 'ko' is not defined"
     ]
    }
   ],
   "source": [
    "ko = nltk.Text(ko, name= '대한민국 국회 의안 제 1809890호')\n",
    "plt.figure(figsize =(15,5))\n",
    "ko.plot(50)\n",
    "plt.show()"
   ]
  },
  {
   "cell_type": "code",
   "execution_count": 149,
   "metadata": {},
   "outputs": [
    {
     "data": {
      "text/plain": [
       "6"
      ]
     },
     "execution_count": 149,
     "metadata": {},
     "output_type": "execute_result"
    },
    {
     "name": "stdout",
     "output_type": "stream",
     "text": [
      "Displaying 6 of 6 matches:\n",
      " 안규백 황영철 박영아 김정훈 김학송 의원 인 제안 이유 및 내용 초등학교 저학년 경우 부모 사랑 필요 나이 현재 공무원 자녀 양육 위 육아\n",
      " 나이 현재 공무원 자녀 양육 위 육아휴직 수 자녀 나이 세 이하 초등학교 저학년 자녀 위 해당 부모님 일자리 곧 출산 의욕 저하 문제 수 \n",
      "정 법률 안 지방공무원법 일부 다음 개정 제 항제 호 중 세 이하 초등학교 취학 전 자녀 세 이하 취학 중인 경우 초등학교 학년 이하 말 자\n",
      " 호 중 세 이하 초등학교 취학 전 자녀 세 이하 취학 중인 경우 초등학교 학년 이하 말 자녀 부 칙 이 법 공포 날 시행 신 구조 문대비 \n",
      " 다만 제 호 경우 대통령령 정 사정 직 명 생 략 현행 세 이하 초등학교 취 세 이하 취학 중인 경우 학 전 자녀 양육 위 초등학교 학년 \n",
      " 이하 초등학교 취 세 이하 취학 중인 경우 학 전 자녀 양육 위 초등학교 학년 이하 여 여자 공무원 말 자녀 임신 출산 때 생 략 생 략 \n"
     ]
    }
   ],
   "source": [
    "ko.count('초등학교')\n",
    "ko.concordance('초등학교')"
   ]
  },
  {
   "cell_type": "code",
   "execution_count": 143,
   "metadata": {},
   "outputs": [
    {
     "data": {
      "text/plain": [
       "<Figure size 864x432 with 0 Axes>"
      ]
     },
     "execution_count": 143,
     "metadata": {},
     "output_type": "execute_result"
    },
    {
     "data": {
      "image/png": "[encoded data removed]",
      "text/plain": [
       "<Figure size 864x432 with 1 Axes>"
      ]
     },
     "metadata": {
      "needs_background": "light"
     },
     "output_type": "display_data"
    }
   ],
   "source": [
    "plt.figure(figsize =(12,6))\n",
    "ko.dispersion_plot(['육아휴직', '초등학교', '공무원'])"
   ]
  },
  {
   "cell_type": "code",
   "execution_count": 152,
   "metadata": {},
   "outputs": [
    {
     "data": {
      "text/plain": [
       "<nltk.collocations.BigramCollocationFinder at 0x14cf7a53dc8>"
      ]
     },
     "execution_count": 152,
     "metadata": {},
     "output_type": "execute_result"
    }
   ],
   "source": [
    "from nltk import collocations\n",
    "collocations.BigramCollocationFinder.from_words(ko)"
   ]
  },
  {
   "cell_type": "code",
   "execution_count": 153,
   "metadata": {},
   "outputs": [
    {
     "ename": "ValueError",
     "evalue": "too many values to unpack (expected 2)",
     "output_type": "error",
     "traceback": [
      "\u001b[1;31m---------------------------------------------------------------------------\u001b[0m",
      "\u001b[1;31mValueError\u001b[0m                                Traceback (most recent call last)",
      "\u001b[1;32m<ipython-input-153-3298cf9043ac>\u001b[0m in \u001b[0;36m<module>\u001b[1;34m\u001b[0m\n\u001b[1;32m----> 1\u001b[1;33m \u001b[0mko\u001b[0m\u001b[1;33m.\u001b[0m\u001b[0mcollocations\u001b[0m\u001b[1;33m(\u001b[0m\u001b[1;33m)\u001b[0m\u001b[1;33m\u001b[0m\u001b[1;33m\u001b[0m\u001b[0m\n\u001b[0m",
      "\u001b[1;32mC:\\ProgramData\\Anaconda3\\lib\\site-packages\\nltk\\text.py\u001b[0m in \u001b[0;36mcollocations\u001b[1;34m(self, num, window_size)\u001b[0m\n\u001b[0;32m    442\u001b[0m \u001b[1;33m\u001b[0m\u001b[0m\n\u001b[0;32m    443\u001b[0m         collocation_strings = [\n\u001b[1;32m--> 444\u001b[1;33m             \u001b[0mw1\u001b[0m \u001b[1;33m+\u001b[0m \u001b[1;34m\" \"\u001b[0m \u001b[1;33m+\u001b[0m \u001b[0mw2\u001b[0m \u001b[1;32mfor\u001b[0m \u001b[0mw1\u001b[0m\u001b[1;33m,\u001b[0m \u001b[0mw2\u001b[0m \u001b[1;32min\u001b[0m \u001b[0mself\u001b[0m\u001b[1;33m.\u001b[0m\u001b[0mcollocation_list\u001b[0m\u001b[1;33m(\u001b[0m\u001b[0mnum\u001b[0m\u001b[1;33m,\u001b[0m \u001b[0mwindow_size\u001b[0m\u001b[1;33m)\u001b[0m\u001b[1;33m\u001b[0m\u001b[1;33m\u001b[0m\u001b[0m\n\u001b[0m\u001b[0;32m    445\u001b[0m         ]\n\u001b[0;32m    446\u001b[0m         \u001b[0mprint\u001b[0m\u001b[1;33m(\u001b[0m\u001b[0mtokenwrap\u001b[0m\u001b[1;33m(\u001b[0m\u001b[0mcollocation_strings\u001b[0m\u001b[1;33m,\u001b[0m \u001b[0mseparator\u001b[0m\u001b[1;33m=\u001b[0m\u001b[1;34m\"; \"\u001b[0m\u001b[1;33m)\u001b[0m\u001b[1;33m)\u001b[0m\u001b[1;33m\u001b[0m\u001b[1;33m\u001b[0m\u001b[0m\n",
      "\u001b[1;32mC:\\ProgramData\\Anaconda3\\lib\\site-packages\\nltk\\text.py\u001b[0m in \u001b[0;36m<listcomp>\u001b[1;34m(.0)\u001b[0m\n\u001b[0;32m    442\u001b[0m \u001b[1;33m\u001b[0m\u001b[0m\n\u001b[0;32m    443\u001b[0m         collocation_strings = [\n\u001b[1;32m--> 444\u001b[1;33m             \u001b[0mw1\u001b[0m \u001b[1;33m+\u001b[0m \u001b[1;34m\" \"\u001b[0m \u001b[1;33m+\u001b[0m \u001b[0mw2\u001b[0m \u001b[1;32mfor\u001b[0m \u001b[0mw1\u001b[0m\u001b[1;33m,\u001b[0m \u001b[0mw2\u001b[0m \u001b[1;32min\u001b[0m \u001b[0mself\u001b[0m\u001b[1;33m.\u001b[0m\u001b[0mcollocation_list\u001b[0m\u001b[1;33m(\u001b[0m\u001b[0mnum\u001b[0m\u001b[1;33m,\u001b[0m \u001b[0mwindow_size\u001b[0m\u001b[1;33m)\u001b[0m\u001b[1;33m\u001b[0m\u001b[1;33m\u001b[0m\u001b[0m\n\u001b[0m\u001b[0;32m    445\u001b[0m         ]\n\u001b[0;32m    446\u001b[0m         \u001b[0mprint\u001b[0m\u001b[1;33m(\u001b[0m\u001b[0mtokenwrap\u001b[0m\u001b[1;33m(\u001b[0m\u001b[0mcollocation_strings\u001b[0m\u001b[1;33m,\u001b[0m \u001b[0mseparator\u001b[0m\u001b[1;33m=\u001b[0m\u001b[1;34m\"; \"\u001b[0m\u001b[1;33m)\u001b[0m\u001b[1;33m)\u001b[0m\u001b[1;33m\u001b[0m\u001b[1;33m\u001b[0m\u001b[0m\n",
      "\u001b[1;31mValueError\u001b[0m: too many values to unpack (expected 2)"
     ]
    }
   ],
   "source": [
    "ko.collocations()"
   ]
  },
  {
   "cell_type": "code",
   "execution_count": 156,
   "metadata": {},
   "outputs": [
    {
     "data": {
      "text/plain": [
       "<Figure size 864x576 with 0 Axes>"
      ]
     },
     "execution_count": 156,
     "metadata": {},
     "output_type": "execute_result"
    },
    {
     "data": {
      "text/plain": [
       "<matplotlib.image.AxesImage at 0x14cf8524908>"
      ]
     },
     "execution_count": 156,
     "metadata": {},
     "output_type": "execute_result"
    },
    {
     "data": {
      "text/plain": [
       "(-0.5, 399.5, 199.5, -0.5)"
      ]
     },
     "execution_count": 156,
     "metadata": {},
     "output_type": "execute_result"
    },
    {
     "data": {
      "image/png": "[encoded data removed]",
      "text/plain": [
       "<Figure size 864x576 with 1 Axes>"
      ]
     },
     "metadata": {
      "needs_background": "light"
     },
     "output_type": "display_data"
    }
   ],
   "source": [
    "data = ko.vocab().most_common(150)\n",
    "\n",
    "wordcolud = WordCloud(font_path = 'c:/Windows/Fonts/malgun.ttf').generate_from_frequencies(dict(data))\n",
    "#wc = WordCloud(background_color = 'white', max_words=2000, mask=alice_mask, stopwords = stopwords)\n",
    "\n",
    "plt.figure(figsize=(12,8))\n",
    "plt.imshow(wordcolud)\n",
    "plt.axis('off')\n",
    "plt.show()"
   ]
  },
  {
   "cell_type": "markdown",
   "metadata": {},
   "source": [
    "## 8-5. GNB"
   ]
  },
  {
   "cell_type": "code",
   "execution_count": 157,
   "metadata": {},
   "outputs": [],
   "source": [
    "from nltk.tokenize import word_tokenize\n",
    "import nltk"
   ]
  },
  {
   "cell_type": "code",
   "execution_count": 160,
   "metadata": {
    "scrolled": true
   },
   "outputs": [
    {
     "data": {
      "text/plain": [
       "[('i like you', 'pos'),\n",
       " ('i hate you', 'neg'),\n",
       " ('you like me', 'neg'),\n",
       " ('i like her', 'pos')]"
      ]
     },
     "execution_count": 160,
     "metadata": {},
     "output_type": "execute_result"
    }
   ],
   "source": [
    "train = [('i like you', 'pos'), ('i hate you', 'neg'), ('you like me', 'neg'), ('i like her', 'pos')]\n",
    "train"
   ]
  },
  {
   "cell_type": "markdown",
   "metadata": {},
   "source": [
    "조금 복잡하지만 for문을 2개 이상 사용하는 것도 가능하다. for문을 여러 개 사용할 때의 문법은 다음과 같다."
   ]
  },
  {
   "cell_type": "code",
   "execution_count": 185,
   "metadata": {},
   "outputs": [
    {
     "data": {
      "text/plain": [
       "4"
      ]
     },
     "execution_count": 185,
     "metadata": {},
     "output_type": "execute_result"
    },
    {
     "data": {
      "text/plain": [
       "5"
      ]
     },
     "execution_count": 185,
     "metadata": {},
     "output_type": "execute_result"
    },
    {
     "data": {
      "text/plain": [
       "6"
      ]
     },
     "execution_count": 185,
     "metadata": {},
     "output_type": "execute_result"
    },
    {
     "data": {
      "text/plain": [
       "8"
      ]
     },
     "execution_count": 185,
     "metadata": {},
     "output_type": "execute_result"
    },
    {
     "data": {
      "text/plain": [
       "10"
      ]
     },
     "execution_count": 185,
     "metadata": {},
     "output_type": "execute_result"
    },
    {
     "data": {
      "text/plain": [
       "12"
      ]
     },
     "execution_count": 185,
     "metadata": {},
     "output_type": "execute_result"
    },
    {
     "data": {
      "text/plain": [
       "[4, 5, 6, 8, 10, 12]"
      ]
     },
     "execution_count": 185,
     "metadata": {},
     "output_type": "execute_result"
    }
   ],
   "source": [
    "for x in range(1,3) :\n",
    "    for y in range(4,7):\n",
    "        x*y\n",
    "        \n",
    "[x*y for x in range(1,3) for y in range(4, 7)]"
   ]
  },
  {
   "cell_type": "code",
   "execution_count": 194,
   "metadata": {},
   "outputs": [
    {
     "data": {
      "text/plain": [
       "('i like you', 'pos')"
      ]
     },
     "execution_count": 194,
     "metadata": {},
     "output_type": "execute_result"
    },
    {
     "data": {
      "text/plain": [
       "'i like you'"
      ]
     },
     "execution_count": 194,
     "metadata": {},
     "output_type": "execute_result"
    },
    {
     "data": {
      "text/plain": [
       "'i'"
      ]
     },
     "execution_count": 194,
     "metadata": {},
     "output_type": "execute_result"
    },
    {
     "data": {
      "text/plain": [
       "'i'"
      ]
     },
     "execution_count": 194,
     "metadata": {},
     "output_type": "execute_result"
    },
    {
     "data": {
      "text/plain": [
       "'like'"
      ]
     },
     "execution_count": 194,
     "metadata": {},
     "output_type": "execute_result"
    },
    {
     "data": {
      "text/plain": [
       "'like'"
      ]
     },
     "execution_count": 194,
     "metadata": {},
     "output_type": "execute_result"
    },
    {
     "data": {
      "text/plain": [
       "'you'"
      ]
     },
     "execution_count": 194,
     "metadata": {},
     "output_type": "execute_result"
    },
    {
     "data": {
      "text/plain": [
       "'you'"
      ]
     },
     "execution_count": 194,
     "metadata": {},
     "output_type": "execute_result"
    },
    {
     "data": {
      "text/plain": [
       "('i hate you', 'neg')"
      ]
     },
     "execution_count": 194,
     "metadata": {},
     "output_type": "execute_result"
    },
    {
     "data": {
      "text/plain": [
       "'i hate you'"
      ]
     },
     "execution_count": 194,
     "metadata": {},
     "output_type": "execute_result"
    },
    {
     "data": {
      "text/plain": [
       "'i'"
      ]
     },
     "execution_count": 194,
     "metadata": {},
     "output_type": "execute_result"
    },
    {
     "data": {
      "text/plain": [
       "'i'"
      ]
     },
     "execution_count": 194,
     "metadata": {},
     "output_type": "execute_result"
    },
    {
     "data": {
      "text/plain": [
       "'hate'"
      ]
     },
     "execution_count": 194,
     "metadata": {},
     "output_type": "execute_result"
    },
    {
     "data": {
      "text/plain": [
       "'hate'"
      ]
     },
     "execution_count": 194,
     "metadata": {},
     "output_type": "execute_result"
    },
    {
     "data": {
      "text/plain": [
       "'you'"
      ]
     },
     "execution_count": 194,
     "metadata": {},
     "output_type": "execute_result"
    },
    {
     "data": {
      "text/plain": [
       "'you'"
      ]
     },
     "execution_count": 194,
     "metadata": {},
     "output_type": "execute_result"
    },
    {
     "data": {
      "text/plain": [
       "('you like me', 'neg')"
      ]
     },
     "execution_count": 194,
     "metadata": {},
     "output_type": "execute_result"
    },
    {
     "data": {
      "text/plain": [
       "'you like me'"
      ]
     },
     "execution_count": 194,
     "metadata": {},
     "output_type": "execute_result"
    },
    {
     "data": {
      "text/plain": [
       "'you'"
      ]
     },
     "execution_count": 194,
     "metadata": {},
     "output_type": "execute_result"
    },
    {
     "data": {
      "text/plain": [
       "'you'"
      ]
     },
     "execution_count": 194,
     "metadata": {},
     "output_type": "execute_result"
    },
    {
     "data": {
      "text/plain": [
       "'like'"
      ]
     },
     "execution_count": 194,
     "metadata": {},
     "output_type": "execute_result"
    },
    {
     "data": {
      "text/plain": [
       "'like'"
      ]
     },
     "execution_count": 194,
     "metadata": {},
     "output_type": "execute_result"
    },
    {
     "data": {
      "text/plain": [
       "'me'"
      ]
     },
     "execution_count": 194,
     "metadata": {},
     "output_type": "execute_result"
    },
    {
     "data": {
      "text/plain": [
       "'me'"
      ]
     },
     "execution_count": 194,
     "metadata": {},
     "output_type": "execute_result"
    },
    {
     "data": {
      "text/plain": [
       "('i like her', 'pos')"
      ]
     },
     "execution_count": 194,
     "metadata": {},
     "output_type": "execute_result"
    },
    {
     "data": {
      "text/plain": [
       "'i like her'"
      ]
     },
     "execution_count": 194,
     "metadata": {},
     "output_type": "execute_result"
    },
    {
     "data": {
      "text/plain": [
       "'i'"
      ]
     },
     "execution_count": 194,
     "metadata": {},
     "output_type": "execute_result"
    },
    {
     "data": {
      "text/plain": [
       "'i'"
      ]
     },
     "execution_count": 194,
     "metadata": {},
     "output_type": "execute_result"
    },
    {
     "data": {
      "text/plain": [
       "'like'"
      ]
     },
     "execution_count": 194,
     "metadata": {},
     "output_type": "execute_result"
    },
    {
     "data": {
      "text/plain": [
       "'like'"
      ]
     },
     "execution_count": 194,
     "metadata": {},
     "output_type": "execute_result"
    },
    {
     "data": {
      "text/plain": [
       "'her'"
      ]
     },
     "execution_count": 194,
     "metadata": {},
     "output_type": "execute_result"
    },
    {
     "data": {
      "text/plain": [
       "'her'"
      ]
     },
     "execution_count": 194,
     "metadata": {},
     "output_type": "execute_result"
    }
   ],
   "source": [
    "for sentence in train :\n",
    "    sentence\n",
    "    sentence[0]\n",
    "    for word in word_tokenize(sentence[0]) :\n",
    "        word\n",
    "        word.lower()\n",
    "    "
   ]
  },
  {
   "cell_type": "code",
   "execution_count": 196,
   "metadata": {},
   "outputs": [
    {
     "data": {
      "text/plain": [
       "{'hate', 'her', 'i', 'like', 'me', 'you'}"
      ]
     },
     "execution_count": 196,
     "metadata": {},
     "output_type": "execute_result"
    }
   ],
   "source": [
    "all_words = set(word.lower() for sentence in train for word in word_tokenize(sentence[0]))\n",
    "all_words"
   ]
  },
  {
   "cell_type": "code",
   "execution_count": null,
   "metadata": {},
   "outputs": [],
   "source": []
  },
  {
   "cell_type": "code",
   "execution_count": null,
   "metadata": {},
   "outputs": [],
   "source": []
  },
  {
   "cell_type": "code",
   "execution_count": null,
   "metadata": {},
   "outputs": [],
   "source": []
  },
  {
   "cell_type": "code",
   "execution_count": null,
   "metadata": {},
   "outputs": [],
   "source": []
  },
  {
   "cell_type": "code",
   "execution_count": null,
   "metadata": {},
   "outputs": [],
   "source": []
  },
  {
   "cell_type": "code",
   "execution_count": null,
   "metadata": {},
   "outputs": [],
   "source": []
  },
  {
   "cell_type": "code",
   "execution_count": null,
   "metadata": {},
   "outputs": [],
   "source": []
  },
  {
   "cell_type": "code",
   "execution_count": null,
   "metadata": {},
   "outputs": [],
   "source": []
  },
  {
   "cell_type": "code",
   "execution_count": null,
   "metadata": {},
   "outputs": [],
   "source": []
  },
  {
   "cell_type": "code",
   "execution_count": null,
   "metadata": {},
   "outputs": [],
   "source": []
  },
  {
   "cell_type": "code",
   "execution_count": null,
   "metadata": {},
   "outputs": [],
   "source": []
  },
  {
   "cell_type": "code",
   "execution_count": null,
   "metadata": {},
   "outputs": [],
   "source": []
  },
  {
   "cell_type": "code",
   "execution_count": null,
   "metadata": {},
   "outputs": [],
   "source": []
  },
  {
   "cell_type": "markdown",
   "metadata": {},
   "source": [
    "## 인덱스 파일 로드 \n",
    "- ./data/indexing.txt : 인덱싱 파일\n",
    "- ./data/*.txt : 그외 파일은 기사 제목 및 내용"
   ]
  },
  {
   "cell_type": "code",
   "execution_count": 44,
   "metadata": {},
   "outputs": [],
   "source": [
    "dir_path = './data/'\n",
    "\n",
    "idx_result_df = pd.read_csv(dir_path + 'indexing.txt',encoding=\"UTF8\",header=None)\n",
    "idx_result_df.columns = ['date','title','content_url_list','file_list']\n",
    "\n",
    "# 인덱스 파일 날짜로 정렬\n",
    "idx_result_df = idx_result_df.sort_values('date')\n",
    "\n",
    "# 제목이 같은 항목 삭제 및 마지막 레코드만 남김\n",
    "idx_result_df = idx_result_df.drop_duplicates(subset=['date','title'],keep=\"last\")\n",
    "\n",
    "# 인덱스 파일 인덱스 정리\n",
    "idx_result_df = idx_result_df.reset_index(drop=True)\n",
    "\n",
    "#idx_result_df"
   ]
  },
  {
   "cell_type": "markdown",
   "metadata": {},
   "source": [
    "## 결과저장 디렉토리 생성"
   ]
  },
  {
   "cell_type": "code",
   "execution_count": 45,
   "metadata": {},
   "outputs": [],
   "source": [
    "dirname = './result'\n",
    "if ((os.path.isdir('./' + dirname + '/')) == False):\n",
    "    os.mkdir('./' + dirname + '/')\n",
    "\n",
    "dirname = './noun_recognition'\n",
    "if ((os.path.isdir('./' + dirname + '/')) == False):\n",
    "    os.mkdir('./' + dirname + '/')  \n",
    "    \n",
    "    \n",
    "dirname = './lda_result'\n",
    "if ((os.path.isdir('./' + dirname + '/')) == False):\n",
    "    os.mkdir('./' + dirname + '/')\n",
    "\n",
    "dirname = './doc_trend_result'\n",
    "if ((os.path.isdir('./' + dirname + '/')) == False):\n",
    "    os.mkdir('./' + dirname + '/')\n",
    "\n",
    "dirname = './keyword_frequency_result'\n",
    "if ((os.path.isdir('./' + dirname + '/')) == False):\n",
    "    os.mkdir('./' + dirname + '/')\n",
    "\n",
    "dirname = './keyword_frequency_yearly_basis_result/'\n",
    "if ((os.path.isdir('./' + dirname + '/')) == False):\n",
    "    os.mkdir('./' + dirname + '/')   \n",
    "\n",
    "dirname = './keyword_trend_result'\n",
    "if ((os.path.isdir('./' + dirname + '/')) == False):\n",
    "    os.mkdir('./' + dirname + '/')\n",
    "\n",
    "dirname = './lda_stat'\n",
    "if ((os.path.isdir('./' + dirname + '/')) == False):\n",
    "    os.mkdir('./' + dirname + '/')    \n",
    "\n",
    "dirname = './lda_result'\n",
    "if ((os.path.isdir('./' + dirname + '/')) == False):\n",
    "    os.mkdir('./' + dirname + '/')\n",
    "\n",
    "dirname = './sentence_level_cowords'\n",
    "if ((os.path.isdir('./' + dirname + '/')) == False):\n",
    "    os.mkdir('./' + dirname + '/')\n",
    "\n",
    "dirname = './doc_level_cowords'\n",
    "if ((os.path.isdir('./' + dirname + '/')) == False):\n",
    "    os.mkdir('./' + dirname + '/')\n",
    "\n",
    "dirname = './w2v_result'\n",
    "if ((os.path.isdir('./' + dirname + '/')) == False):\n",
    "    os.mkdir('./' + dirname + '/')\n",
    "\n",
    "dirname = './filtered_sentence_result'\n",
    "if ((os.path.isdir('./' + dirname + '/')) == False):\n",
    "    os.mkdir('./' + dirname + '/')    \n",
    "\n",
    "dirname = './sentence_summary_result'\n",
    "if ((os.path.isdir('./' + dirname + '/')) == False):\n",
    "    os.mkdir('./' + dirname + '/')  "
   ]
  },
  {
   "cell_type": "markdown",
   "metadata": {},
   "source": [
    "##  형태소 분석기 설정 : Customized 트위터 분석기 사용함\n",
    "- from ckonlpy.tag import Twitter : 명사 추가 기능이 추가된 트위터 분석기"
   ]
  },
  {
   "cell_type": "code",
   "execution_count": 46,
   "metadata": {
    "scrolled": true
   },
   "outputs": [
    {
     "ename": "TypeError",
     "evalue": "startJVM() got an unexpected keyword argument 'convertStrings'",
     "output_type": "error",
     "traceback": [
      "\u001b[1;31m---------------------------------------------------------------------------\u001b[0m",
      "\u001b[1;31mTypeError\u001b[0m                                 Traceback (most recent call last)",
      "\u001b[1;32m<ipython-input-46-347b29f2ef14>\u001b[0m in \u001b[0;36m<module>\u001b[1;34m\u001b[0m\n\u001b[1;32m----> 1\u001b[1;33m \u001b[0mtwitter\u001b[0m \u001b[1;33m=\u001b[0m \u001b[0mTwitter\u001b[0m\u001b[1;33m(\u001b[0m\u001b[1;33m)\u001b[0m\u001b[1;33m\u001b[0m\u001b[1;33m\u001b[0m\u001b[0m\n\u001b[0m\u001b[0;32m      2\u001b[0m \u001b[1;31m#mecab = Mecab()\u001b[0m\u001b[1;33m\u001b[0m\u001b[1;33m\u001b[0m\u001b[1;33m\u001b[0m\u001b[0m\n",
      "\u001b[1;32mC:\\ProgramData\\Anaconda3\\lib\\site-packages\\konlpy\\tag\\_okt.py\u001b[0m in \u001b[0;36mTwitter\u001b[1;34m(jvmpath)\u001b[0m\n\u001b[0;32m     15\u001b[0m     \u001b[1;32mfrom\u001b[0m \u001b[0mwarnings\u001b[0m \u001b[1;32mimport\u001b[0m \u001b[0mwarn\u001b[0m\u001b[1;33m\u001b[0m\u001b[1;33m\u001b[0m\u001b[0m\n\u001b[0;32m     16\u001b[0m     \u001b[0mwarn\u001b[0m\u001b[1;33m(\u001b[0m\u001b[1;34m'\"Twitter\" has changed to \"Okt\" since KoNLPy v0.4.5.'\u001b[0m\u001b[1;33m)\u001b[0m\u001b[1;33m\u001b[0m\u001b[1;33m\u001b[0m\u001b[0m\n\u001b[1;32m---> 17\u001b[1;33m     \u001b[1;32mreturn\u001b[0m \u001b[0mOkt\u001b[0m\u001b[1;33m(\u001b[0m\u001b[0mjvmpath\u001b[0m\u001b[1;33m)\u001b[0m\u001b[1;33m\u001b[0m\u001b[1;33m\u001b[0m\u001b[0m\n\u001b[0m\u001b[0;32m     18\u001b[0m \u001b[1;33m\u001b[0m\u001b[0m\n\u001b[0;32m     19\u001b[0m \u001b[1;33m\u001b[0m\u001b[0m\n",
      "\u001b[1;32mC:\\ProgramData\\Anaconda3\\lib\\site-packages\\konlpy\\tag\\_okt.py\u001b[0m in \u001b[0;36m__init__\u001b[1;34m(self, jvmpath, max_heap_size)\u001b[0m\n\u001b[0;32m     89\u001b[0m     \u001b[1;32mdef\u001b[0m \u001b[0m__init__\u001b[0m\u001b[1;33m(\u001b[0m\u001b[0mself\u001b[0m\u001b[1;33m,\u001b[0m \u001b[0mjvmpath\u001b[0m\u001b[1;33m=\u001b[0m\u001b[1;32mNone\u001b[0m\u001b[1;33m,\u001b[0m \u001b[0mmax_heap_size\u001b[0m\u001b[1;33m=\u001b[0m\u001b[1;36m1024\u001b[0m\u001b[1;33m)\u001b[0m\u001b[1;33m:\u001b[0m\u001b[1;33m\u001b[0m\u001b[1;33m\u001b[0m\u001b[0m\n\u001b[0;32m     90\u001b[0m         \u001b[1;32mif\u001b[0m \u001b[1;32mnot\u001b[0m \u001b[0mjpype\u001b[0m\u001b[1;33m.\u001b[0m\u001b[0misJVMStarted\u001b[0m\u001b[1;33m(\u001b[0m\u001b[1;33m)\u001b[0m\u001b[1;33m:\u001b[0m\u001b[1;33m\u001b[0m\u001b[1;33m\u001b[0m\u001b[0m\n\u001b[1;32m---> 91\u001b[1;33m             \u001b[0mjvm\u001b[0m\u001b[1;33m.\u001b[0m\u001b[0minit_jvm\u001b[0m\u001b[1;33m(\u001b[0m\u001b[0mjvmpath\u001b[0m\u001b[1;33m,\u001b[0m \u001b[0mmax_heap_size\u001b[0m\u001b[1;33m)\u001b[0m\u001b[1;33m\u001b[0m\u001b[1;33m\u001b[0m\u001b[0m\n\u001b[0m\u001b[0;32m     92\u001b[0m \u001b[1;33m\u001b[0m\u001b[0m\n\u001b[0;32m     93\u001b[0m         \u001b[0moktJavaPackage\u001b[0m \u001b[1;33m=\u001b[0m \u001b[0mjpype\u001b[0m\u001b[1;33m.\u001b[0m\u001b[0mJPackage\u001b[0m\u001b[1;33m(\u001b[0m\u001b[1;34m'kr.lucypark.okt'\u001b[0m\u001b[1;33m)\u001b[0m\u001b[1;33m\u001b[0m\u001b[1;33m\u001b[0m\u001b[0m\n",
      "\u001b[1;32mC:\\ProgramData\\Anaconda3\\lib\\site-packages\\konlpy\\jvm.py\u001b[0m in \u001b[0;36minit_jvm\u001b[1;34m(jvmpath, max_heap_size)\u001b[0m\n\u001b[0;32m     65\u001b[0m                                 \u001b[1;34m'-Dfile.encoding=UTF8'\u001b[0m\u001b[1;33m,\u001b[0m\u001b[1;33m\u001b[0m\u001b[1;33m\u001b[0m\u001b[0m\n\u001b[0;32m     66\u001b[0m                                 \u001b[1;34m'-ea'\u001b[0m\u001b[1;33m,\u001b[0m \u001b[1;34m'-Xmx{}m'\u001b[0m\u001b[1;33m.\u001b[0m\u001b[0mformat\u001b[0m\u001b[1;33m(\u001b[0m\u001b[0mmax_heap_size\u001b[0m\u001b[1;33m)\u001b[0m\u001b[1;33m,\u001b[0m\u001b[1;33m\u001b[0m\u001b[1;33m\u001b[0m\u001b[0m\n\u001b[1;32m---> 67\u001b[1;33m                                 convertStrings=True)\n\u001b[0m\u001b[0;32m     68\u001b[0m     \u001b[1;32melse\u001b[0m\u001b[1;33m:\u001b[0m\u001b[1;33m\u001b[0m\u001b[1;33m\u001b[0m\u001b[0m\n\u001b[0;32m     69\u001b[0m         \u001b[1;32mraise\u001b[0m \u001b[0mValueError\u001b[0m\u001b[1;33m(\u001b[0m\u001b[1;34m\"Please specify the JVM path.\"\u001b[0m\u001b[1;33m)\u001b[0m\u001b[1;33m\u001b[0m\u001b[1;33m\u001b[0m\u001b[0m\n",
      "\u001b[1;31mTypeError\u001b[0m: startJVM() got an unexpected keyword argument 'convertStrings'"
     ]
    }
   ],
   "source": [
    "twitter = Twitter()\n",
    "#mecab = Mecab()"
   ]
  },
  {
   "cell_type": "code",
   "execution_count": 47,
   "metadata": {},
   "outputs": [
    {
     "ename": "NameError",
     "evalue": "name 'twitter' is not defined",
     "output_type": "error",
     "traceback": [
      "\u001b[1;31m---------------------------------------------------------------------------\u001b[0m",
      "\u001b[1;31mNameError\u001b[0m                                 Traceback (most recent call last)",
      "\u001b[1;32m<ipython-input-47-e65397721038>\u001b[0m in \u001b[0;36m<module>\u001b[1;34m\u001b[0m\n\u001b[0;32m      1\u001b[0m \u001b[1;31m#twitter.pos('아버지가 방에 들어가신다.')\u001b[0m\u001b[1;33m\u001b[0m\u001b[1;33m\u001b[0m\u001b[1;33m\u001b[0m\u001b[0m\n\u001b[1;32m----> 2\u001b[1;33m \u001b[0mtwitter\u001b[0m\u001b[1;33m.\u001b[0m\u001b[0mnouns\u001b[0m\u001b[1;33m(\u001b[0m\u001b[1;34m'아버지가 방에 들어가신다.'\u001b[0m\u001b[1;33m)\u001b[0m\u001b[1;33m\u001b[0m\u001b[1;33m\u001b[0m\u001b[0m\n\u001b[0m\u001b[0;32m      3\u001b[0m \u001b[1;31m#mecab.pos('아버지가 방에 들어가신다')\u001b[0m\u001b[1;33m\u001b[0m\u001b[1;33m\u001b[0m\u001b[1;33m\u001b[0m\u001b[0m\n",
      "\u001b[1;31mNameError\u001b[0m: name 'twitter' is not defined"
     ]
    }
   ],
   "source": [
    "#twitter.pos('아버지가 방에 들어가신다.')\n",
    "twitter.nouns('아버지가 방에 들어가신다.')\n",
    "#mecab.pos('아버지가 방에 들어가신다')"
   ]
  },
  {
   "cell_type": "markdown",
   "metadata": {},
   "source": [
    "## 분석 범위 설정 1 : 날짜 필터링 \n",
    "\n",
    "- 시작 날짜 및 끝 날짜 설정 필요"
   ]
  },
  {
   "cell_type": "code",
   "execution_count": 48,
   "metadata": {},
   "outputs": [],
   "source": [
    "# 시작 날짜 및 끝 날짜 설정\n",
    "start_date = '2015-01-01'\n",
    "end_date = '2018-12-31'\n",
    "\n",
    "idx_result_df['date'] = pd.to_datetime(idx_result_df['date'])\n",
    "# 날짜에 해당하는 인덱스 내용만 추출\n",
    "\n",
    "dt_idx = (idx_result_df['date'] >= start_date) & (idx_result_df['date'] <= end_date)\n",
    "\n",
    "filtered_idx_result_df = idx_result_df.loc[dt_idx]\n",
    "filtered_idx_result_df = filtered_idx_result_df.reset_index(drop=True)\n",
    "\n",
    "#filtered_idx_result_df"
   ]
  },
  {
   "cell_type": "markdown",
   "metadata": {},
   "source": [
    "## 분석 범위 설정 2 : 내용 기반 필터링\n",
    "- 정규표현식 기반 문자열 매칭 방식 (예를 들어 '미세먼지'로 필터링을 할경우 '초미세먼지'의 경우에도 '미세먼지' 글자를 포함하므로 필터링에 포함\n",
    "- 전체 문서에서 필요없는 문서 제거(is_del = True) 하거나 특정단어가 들어간 문서만 활용(is_del=False) 설정\n",
    "- 생략할경우 전체문서 사용"
   ]
  },
  {
   "cell_type": "code",
   "execution_count": 49,
   "metadata": {},
   "outputs": [],
   "source": [
    "# is_del = True : 특정단어가 들어간 문서제거, is_del = False : 특정단어가 들어간 문서만 활용\n",
    "\n",
    "is_del = True\n",
    "\n",
    "# 정규표현식 \n",
    "rexp = \"인사발령|공개모집|필기시험|발령|인사 발령|과장|전보 일자|공무원|대변인|국장|승진|공모전|캠프 캐롤|고엽제 매립\"\n",
    "\n",
    "\n",
    "# 정규표현식 기반 문서 필터링\n",
    "\n",
    "file_list = filtered_idx_result_df['file_list'].tolist()\n",
    "\n",
    "fidx = []\n",
    "didx = []\n",
    "\n",
    "# 각 파일 문서 내용 체크 및 필터링\n",
    "for i,fn in enumerate(file_list):\n",
    "    \n",
    "    # 각 파일 읽기\n",
    "    f = open(fn, 'r',encoding='utf-8',errors=\"ignore\")\n",
    "    \n",
    "    # 파일을 읽어서 doc변수에 문서내용 저장\n",
    "    doc = f.read()\n",
    "    f.close()\n",
    "    \n",
    "    # 정규표현식 활용 문서 내용 체크\n",
    "    p = re.compile(rexp)\n",
    "    ridx = p.search(doc)\n",
    "\n",
    "    if(ridx == None):\n",
    "        didx.append(i)\n",
    "    else:\n",
    "        fidx.append(i)\n",
    "\n",
    "# 삭제하는 경우\n",
    "if is_del == True:  \n",
    "    filtered_idx_result_df = filtered_idx_result_df.loc[didx]\n",
    "    filtered_idx_result_df = filtered_idx_result_df.reset_index(drop=True)\n",
    "    \n",
    "# 추가하는 경우\n",
    "else :\n",
    "    filtered_idx_result_df = filtered_idx_result_df.loc[fidx]\n",
    "    filtered_idx_result_df = filtered_idx_result_df.reset_index(drop=True)   \n",
    "    \n",
    "# filtered_idx_result_df"
   ]
  },
  {
   "cell_type": "markdown",
   "metadata": {},
   "source": [
    "## 명사인식 및 명사 추출 (생략 가능)\n",
    "- Out of Vocabuluary Problem\n",
    "- 참고: 서울대학교 산업공학과 김형중 박사 구현 라이브러리(soynlp), 상세사항은 https://github.com/lovit/soynlp 참조)\n",
    "- 코퍼스가 너무 큰 경우에는 사용이 어려움 (한개의 데이터 프레임이 모든 내용을 넣기 때문임, 문서를 나누어서 실행 등의 방법 필요\n",
    "- (예) 네이버 뉴스 20만건 등)"
   ]
  },
  {
   "cell_type": "code",
   "execution_count": 50,
   "metadata": {
    "scrolled": true
   },
   "outputs": [
    {
     "name": "stdout",
     "output_type": "stream",
     "text": [
      "[Noun Extractor] use default predictors\n",
      "[Noun Extractor] num features: pos=3929, neg=2321, common=107\n",
      "[Noun Extractor] counting eojeols\n",
      "[EojeolCounter] n eojeol = 565980 from 10524 sents. mem=0.308 Gb                    \n",
      "[Noun Extractor] complete eojeol counter -> lr graph\n",
      "[Noun Extractor] has been trained. #eojeols=3023973, mem=1.909 Gb\n",
      "[Noun Extractor] batch prediction was completed for 173225 words\n",
      "[Noun Extractor] checked compounds. discovered 108453 compounds\n",
      "[Noun Extractor] postprocessing detaching_features : 17154 -> 17089\n",
      "[Noun Extractor] postprocessing ignore_features : 17089 -> 16972\n",
      "[Noun Extractor] postprocessing ignore_NJ : 16972 -> 16826\n",
      "[Noun Extractor] 16826 nouns (108453 compounds) with min frequency=10\n",
      "[Noun Extractor] flushing was done. mem=2.231 Gb                    \n",
      "[Noun Extractor] 80.46 % eojeols are covered\n"
     ]
    }
   ],
   "source": [
    "# 명사 인식을 위한 사전 준비\n",
    "\n",
    "corpus = [] \n",
    "\n",
    "file_list = idx_result_df['file_list'].tolist()\n",
    "\n",
    "for fn in file_list:\n",
    "    f = open(fn, 'r',encoding='utf-8',errors=\"ignore\")\n",
    "    \n",
    "    # 파일을 읽어서 doc변수에 문서내용 저장\n",
    "    doc = f.read()\n",
    "    doc = doc.replace(\"\\n\",\"\")\n",
    "    corpus.append(\"\".join(doc))\n",
    "\n",
    "corpus = pd.DataFrame(corpus)\n",
    "corpus_fname = './noun_recognition/corpus.txt'\n",
    "corpus.to_csv(corpus_fname, sep=\" \",header=None)\n",
    "\n",
    "sents = DoublespaceLineCorpus(corpus_fname, iter_sent=True)\n",
    "\n",
    "# 명사 인식기 생성\n",
    "noun_extractor = LRNounExtractor_v2(verbose=True,max_left_length=30, min_num_of_features=20)\n",
    "\n",
    "# 명사 인식기 학습\n",
    "noun_extractor.train(sents)\n",
    "\n",
    "# 명사추출\n",
    "nouns = noun_extractor.extract(min_noun_frequency=10)\n",
    "nouns = list(nouns.keys())\n",
    "noun_list = []\n",
    "\n",
    "# 특수문자 제거 및 불용어 제거 (각 명사에 대해)\n",
    "for w in list(nouns):\n",
    "    w = re.sub('\\'', '', w)\n",
    "    w = re.sub('\\「', '', w)\n",
    "    w = re.sub('\\」', '', w)\n",
    "    w = re.sub(' ', '', w)\n",
    "    if((\".\" in w) | w.endswith(\"?\")):\n",
    "        pass\n",
    "    else:\n",
    "        noun_list.append(w.replace('\\\"', ''))\n",
    "        \n",
    "# 팔요시 파일로 저장, 잘못 인식된 단어가 많으므로 수작업을 통해 필요한 단어 정리 필요\n",
    "nouns_df = pd.DataFrame(noun_list)\n",
    "nouns_df.to_csv(\"./noun_recognition/nouns.csv\",sep=\" \", header=None, index=None)"
   ]
  },
  {
   "cell_type": "code",
   "execution_count": 51,
   "metadata": {},
   "outputs": [
    {
     "data": {
      "text/html": [
       "<div>\n",
       "<style scoped>\n",
       "    .dataframe tbody tr th:only-of-type {\n",
       "        vertical-align: middle;\n",
       "    }\n",
       "\n",
       "    .dataframe tbody tr th {\n",
       "        vertical-align: top;\n",
       "    }\n",
       "\n",
       "    .dataframe thead th {\n",
       "        text-align: right;\n",
       "    }\n",
       "</style>\n",
       "<table border=\"1\" class=\"dataframe\">\n",
       "  <thead>\n",
       "    <tr style=\"text-align: right;\">\n",
       "      <th></th>\n",
       "      <th>0</th>\n",
       "    </tr>\n",
       "  </thead>\n",
       "  <tbody>\n",
       "    <tr>\n",
       "      <td>0</td>\n",
       "      <td>Pre-Qualification)</td>\n",
       "    </tr>\n",
       "    <tr>\n",
       "      <td>1</td>\n",
       "      <td>굴뚝원격감시체계(CleanSYS)</td>\n",
       "    </tr>\n",
       "    <tr>\n",
       "      <td>2</td>\n",
       "      <td>한국환경정책·평가연구원(KEI)</td>\n",
       "    </tr>\n",
       "    <tr>\n",
       "      <td>3</td>\n",
       "      <td>유엔기후변화협약(UNFCCC)</td>\n",
       "    </tr>\n",
       "    <tr>\n",
       "      <td>4</td>\n",
       "      <td>한국환경정책평가연구원(KEI)</td>\n",
       "    </tr>\n",
       "    <tr>\n",
       "      <td>...</td>\n",
       "      <td>...</td>\n",
       "    </tr>\n",
       "    <tr>\n",
       "      <td>16404</td>\n",
       "      <td>∙</td>\n",
       "    </tr>\n",
       "    <tr>\n",
       "      <td>16405</td>\n",
       "      <td>②</td>\n",
       "    </tr>\n",
       "    <tr>\n",
       "      <td>16406</td>\n",
       "      <td>①</td>\n",
       "    </tr>\n",
       "    <tr>\n",
       "      <td>16407</td>\n",
       "      <td>또</td>\n",
       "    </tr>\n",
       "    <tr>\n",
       "      <td>16408</td>\n",
       "      <td>혹</td>\n",
       "    </tr>\n",
       "  </tbody>\n",
       "</table>\n",
       "<p>16409 rows × 1 columns</p>\n",
       "</div>"
      ],
      "text/plain": [
       "                        0\n",
       "0      Pre-Qualification)\n",
       "1      굴뚝원격감시체계(CleanSYS)\n",
       "2       한국환경정책·평가연구원(KEI)\n",
       "3        유엔기후변화협약(UNFCCC)\n",
       "4        한국환경정책평가연구원(KEI)\n",
       "...                   ...\n",
       "16404                   ∙\n",
       "16405                   ②\n",
       "16406                   ①\n",
       "16407                   또\n",
       "16408                   혹\n",
       "\n",
       "[16409 rows x 1 columns]"
      ]
     },
     "execution_count": 51,
     "metadata": {},
     "output_type": "execute_result"
    }
   ],
   "source": [
    "nouns_df"
   ]
  },
  {
   "cell_type": "markdown",
   "metadata": {},
   "source": [
    "## 명사인식 및 명사 추출 (생략 가능, 수작업을 통해 필요한 단어 정리 후)"
   ]
  },
  {
   "cell_type": "code",
   "execution_count": 20,
   "metadata": {},
   "outputs": [],
   "source": [
    "# 정제된 명사 파일을 로드후 형태소 분석기 사전에 넣기 (연구자가 추가할 단어 선정후 refined.nouns.csv 파일로 저장하였음)\n",
    "\n",
    "nouns_df = pd.read_csv(\"./noun_recognition/refined_nouns.csv\",header=None)\n",
    "nouns = nouns_df[0].tolist()\n",
    "#twitter.add_dictionary(nouns, 'Noun')"
   ]
  },
  {
   "cell_type": "markdown",
   "metadata": {},
   "source": [
    "## 키워드 빈도수 분석"
   ]
  },
  {
   "cell_type": "code",
   "execution_count": 21,
   "metadata": {},
   "outputs": [],
   "source": [
    "# 옵션 설정 \n",
    "# is_tfidf = False (단순빈도수), is_tfidf = Ture (TF-IDF 사용)\n",
    "\n",
    "is_tfidf = True\n",
    "num = 50\n",
    "\n",
    "corpus = []\n",
    "\n",
    "file_list = filtered_idx_result_df['file_list'].tolist()\n",
    "\n",
    "for fn in file_list:\n",
    "\n",
    "    f = open(fn, 'r',encoding='utf-8',errors=\"ignore\")\n",
    "    doc = f.read()\n",
    "    corpus.append(\" \".join(twitter.nouns(doc)))\n",
    "\n",
    "# Stop word 설정\n",
    "stop_words = [\"전략\", \"연구\", \"평가\", \"마련\", \"조사\", \"관리\", \"보다\", \"관련\",\"전문가\",\"예정\",\"이번\",\"환경부\", \"환경\", \"기술\", \"사업\", \"산업\", \"기업\",\"우리나라\", \"또한\",\n",
    "            \"총회\", \"대한\", \"통해\", \"한국\",\"국내\",\"개최\",\"행사\",\"우수\",\"장관\",\"피해\",\"해외\",\"일자리\",\"박람회\", \"지원\", \"위해\", \"총회\",\"국제\",\"분야\",\"물의\",\"세계\",\n",
    "            \"환경과학\",\"국립\",\"시민\",\"통합\"]\n",
    "\n",
    "stop_words = list(set(stop_words))\n",
    "\n",
    "# ngram_range를 (1,2)를 사용할 경우 unigram 및 bigram 혼합 활용\n",
    "vect = CountVectorizer(stop_words = stop_words,ngram_range=(1, 2),min_df=0.005,max_df=0.3)\n",
    "\n",
    "# Doc-Term Matrix 계산\n",
    "X = vect.fit_transform(corpus)\n",
    "X = TfidfTransformer().fit_transform(X)\n",
    "\n",
    "# 저장 파일 이름 설정\n",
    "fn = \"./keyword_frequency_result/KF_\"\n",
    "if is_tfidf == True:\n",
    "    fn = fn + \"norm_TF.txt\"\n",
    "else :\n",
    "    fn = fn + \"_TF.txt\"\n",
    "\n",
    "# Doc-Term Matrix 각 단어에 대한 합\n",
    "count = X.toarray().sum(axis=0)\n",
    "idx = np.argsort(-count)\n",
    "count = count[idx]\n",
    "\n",
    "feature_name = np.array(vect.get_feature_names())[idx]\n",
    "\n",
    "keyword_list = list(zip(feature_name[:num], count[:num]))\n",
    "\n",
    "result_df = pd.DataFrame(keyword_list)\n",
    "# result_df.to_csv(fn,header=None)\n",
    "# result"
   ]
  },
  {
   "cell_type": "code",
   "execution_count": 22,
   "metadata": {},
   "outputs": [
    {
     "data": {
      "text/html": [
       "<div>\n",
       "<style scoped>\n",
       "    .dataframe tbody tr th:only-of-type {\n",
       "        vertical-align: middle;\n",
       "    }\n",
       "\n",
       "    .dataframe tbody tr th {\n",
       "        vertical-align: top;\n",
       "    }\n",
       "\n",
       "    .dataframe thead th {\n",
       "        text-align: right;\n",
       "    }\n",
       "</style>\n",
       "<table border=\"1\" class=\"dataframe\">\n",
       "  <thead>\n",
       "    <tr style=\"text-align: right;\">\n",
       "      <th></th>\n",
       "      <th>0</th>\n",
       "      <th>1</th>\n",
       "    </tr>\n",
       "  </thead>\n",
       "  <tbody>\n",
       "    <tr>\n",
       "      <td>0</td>\n",
       "      <td>국립공원</td>\n",
       "      <td>70.155917</td>\n",
       "    </tr>\n",
       "    <tr>\n",
       "      <td>1</td>\n",
       "      <td>생물</td>\n",
       "      <td>54.100907</td>\n",
       "    </tr>\n",
       "    <tr>\n",
       "      <td>2</td>\n",
       "      <td>국립생태원</td>\n",
       "      <td>32.179188</td>\n",
       "    </tr>\n",
       "    <tr>\n",
       "      <td>3</td>\n",
       "      <td>생태</td>\n",
       "      <td>30.935300</td>\n",
       "    </tr>\n",
       "    <tr>\n",
       "      <td>4</td>\n",
       "      <td>시설</td>\n",
       "      <td>30.332304</td>\n",
       "    </tr>\n",
       "    <tr>\n",
       "      <td>5</td>\n",
       "      <td>공단</td>\n",
       "      <td>30.097510</td>\n",
       "    </tr>\n",
       "    <tr>\n",
       "      <td>6</td>\n",
       "      <td>자원</td>\n",
       "      <td>29.162262</td>\n",
       "    </tr>\n",
       "    <tr>\n",
       "      <td>7</td>\n",
       "      <td>배출</td>\n",
       "      <td>29.010329</td>\n",
       "    </tr>\n",
       "    <tr>\n",
       "      <td>8</td>\n",
       "      <td>제품</td>\n",
       "      <td>25.485954</td>\n",
       "    </tr>\n",
       "    <tr>\n",
       "      <td>9</td>\n",
       "      <td>안전</td>\n",
       "      <td>25.429713</td>\n",
       "    </tr>\n",
       "    <tr>\n",
       "      <td>10</td>\n",
       "      <td>미세먼지</td>\n",
       "      <td>25.210228</td>\n",
       "    </tr>\n",
       "    <tr>\n",
       "      <td>11</td>\n",
       "      <td>탐방</td>\n",
       "      <td>24.023625</td>\n",
       "    </tr>\n",
       "    <tr>\n",
       "      <td>12</td>\n",
       "      <td>생물 자원</td>\n",
       "      <td>23.604146</td>\n",
       "    </tr>\n",
       "    <tr>\n",
       "      <td>13</td>\n",
       "      <td>개발</td>\n",
       "      <td>22.885936</td>\n",
       "    </tr>\n",
       "    <tr>\n",
       "      <td>14</td>\n",
       "      <td>협력</td>\n",
       "      <td>22.868426</td>\n",
       "    </tr>\n",
       "    <tr>\n",
       "      <td>15</td>\n",
       "      <td>국립공원 공단</td>\n",
       "      <td>22.772890</td>\n",
       "    </tr>\n",
       "    <tr>\n",
       "      <td>16</td>\n",
       "      <td>국립생물자원관</td>\n",
       "      <td>22.451551</td>\n",
       "    </tr>\n",
       "    <tr>\n",
       "      <td>17</td>\n",
       "      <td>기준</td>\n",
       "      <td>22.411048</td>\n",
       "    </tr>\n",
       "    <tr>\n",
       "      <td>18</td>\n",
       "      <td>야생</td>\n",
       "      <td>22.367553</td>\n",
       "    </tr>\n",
       "    <tr>\n",
       "      <td>19</td>\n",
       "      <td>인증</td>\n",
       "      <td>21.703040</td>\n",
       "    </tr>\n",
       "    <tr>\n",
       "      <td>20</td>\n",
       "      <td>발견</td>\n",
       "      <td>21.645776</td>\n",
       "    </tr>\n",
       "    <tr>\n",
       "      <td>21</td>\n",
       "      <td>교육</td>\n",
       "      <td>21.236724</td>\n",
       "    </tr>\n",
       "    <tr>\n",
       "      <td>22</td>\n",
       "      <td>물질</td>\n",
       "      <td>20.768799</td>\n",
       "    </tr>\n",
       "    <tr>\n",
       "      <td>23</td>\n",
       "      <td>마리</td>\n",
       "      <td>20.205126</td>\n",
       "    </tr>\n",
       "    <tr>\n",
       "      <td>24</td>\n",
       "      <td>정책</td>\n",
       "      <td>19.928867</td>\n",
       "    </tr>\n",
       "    <tr>\n",
       "      <td>25</td>\n",
       "      <td>협약</td>\n",
       "      <td>19.679023</td>\n",
       "    </tr>\n",
       "    <tr>\n",
       "      <td>26</td>\n",
       "      <td>발생</td>\n",
       "      <td>19.612558</td>\n",
       "    </tr>\n",
       "    <tr>\n",
       "      <td>27</td>\n",
       "      <td>식물</td>\n",
       "      <td>19.508515</td>\n",
       "    </tr>\n",
       "    <tr>\n",
       "      <td>28</td>\n",
       "      <td>국민</td>\n",
       "      <td>19.306897</td>\n",
       "    </tr>\n",
       "    <tr>\n",
       "      <td>29</td>\n",
       "      <td>조류</td>\n",
       "      <td>18.780527</td>\n",
       "    </tr>\n",
       "    <tr>\n",
       "      <td>30</td>\n",
       "      <td>화학물질</td>\n",
       "      <td>18.652361</td>\n",
       "    </tr>\n",
       "    <tr>\n",
       "      <td>31</td>\n",
       "      <td>낙동강</td>\n",
       "      <td>18.099202</td>\n",
       "    </tr>\n",
       "    <tr>\n",
       "      <td>32</td>\n",
       "      <td>국가</td>\n",
       "      <td>17.883875</td>\n",
       "    </tr>\n",
       "    <tr>\n",
       "      <td>33</td>\n",
       "      <td>친환경</td>\n",
       "      <td>17.831885</td>\n",
       "    </tr>\n",
       "    <tr>\n",
       "      <td>34</td>\n",
       "      <td>체험</td>\n",
       "      <td>17.714968</td>\n",
       "    </tr>\n",
       "    <tr>\n",
       "      <td>35</td>\n",
       "      <td>생물다양성</td>\n",
       "      <td>17.575743</td>\n",
       "    </tr>\n",
       "    <tr>\n",
       "      <td>36</td>\n",
       "      <td>이용</td>\n",
       "      <td>17.573827</td>\n",
       "    </tr>\n",
       "    <tr>\n",
       "      <td>37</td>\n",
       "      <td>생태계</td>\n",
       "      <td>17.494984</td>\n",
       "    </tr>\n",
       "    <tr>\n",
       "      <td>38</td>\n",
       "      <td>참여</td>\n",
       "      <td>17.467733</td>\n",
       "    </tr>\n",
       "    <tr>\n",
       "      <td>39</td>\n",
       "      <td>대응</td>\n",
       "      <td>17.162686</td>\n",
       "    </tr>\n",
       "    <tr>\n",
       "      <td>40</td>\n",
       "      <td>활동</td>\n",
       "      <td>17.094185</td>\n",
       "    </tr>\n",
       "    <tr>\n",
       "      <td>41</td>\n",
       "      <td>위원회</td>\n",
       "      <td>16.839855</td>\n",
       "    </tr>\n",
       "    <tr>\n",
       "      <td>42</td>\n",
       "      <td>사고</td>\n",
       "      <td>16.658283</td>\n",
       "    </tr>\n",
       "    <tr>\n",
       "      <td>43</td>\n",
       "      <td>정부</td>\n",
       "      <td>16.464237</td>\n",
       "    </tr>\n",
       "    <tr>\n",
       "      <td>44</td>\n",
       "      <td>분석</td>\n",
       "      <td>16.184652</td>\n",
       "    </tr>\n",
       "    <tr>\n",
       "      <td>45</td>\n",
       "      <td>복원</td>\n",
       "      <td>16.118513</td>\n",
       "    </tr>\n",
       "    <tr>\n",
       "      <td>46</td>\n",
       "      <td>영향</td>\n",
       "      <td>15.920790</td>\n",
       "    </tr>\n",
       "    <tr>\n",
       "      <td>47</td>\n",
       "      <td>제도</td>\n",
       "      <td>15.851049</td>\n",
       "    </tr>\n",
       "    <tr>\n",
       "      <td>48</td>\n",
       "      <td>사용</td>\n",
       "      <td>15.795831</td>\n",
       "    </tr>\n",
       "    <tr>\n",
       "      <td>49</td>\n",
       "      <td>설치</td>\n",
       "      <td>15.613417</td>\n",
       "    </tr>\n",
       "  </tbody>\n",
       "</table>\n",
       "</div>"
      ],
      "text/plain": [
       "          0          1\n",
       "0      국립공원  70.155917\n",
       "1        생물  54.100907\n",
       "2     국립생태원  32.179188\n",
       "3        생태  30.935300\n",
       "4        시설  30.332304\n",
       "5        공단  30.097510\n",
       "6        자원  29.162262\n",
       "7        배출  29.010329\n",
       "8        제품  25.485954\n",
       "9        안전  25.429713\n",
       "10     미세먼지  25.210228\n",
       "11       탐방  24.023625\n",
       "12    생물 자원  23.604146\n",
       "13       개발  22.885936\n",
       "14       협력  22.868426\n",
       "15  국립공원 공단  22.772890\n",
       "16  국립생물자원관  22.451551\n",
       "17       기준  22.411048\n",
       "18       야생  22.367553\n",
       "19       인증  21.703040\n",
       "20       발견  21.645776\n",
       "21       교육  21.236724\n",
       "22       물질  20.768799\n",
       "23       마리  20.205126\n",
       "24       정책  19.928867\n",
       "25       협약  19.679023\n",
       "26       발생  19.612558\n",
       "27       식물  19.508515\n",
       "28       국민  19.306897\n",
       "29       조류  18.780527\n",
       "30     화학물질  18.652361\n",
       "31      낙동강  18.099202\n",
       "32       국가  17.883875\n",
       "33      친환경  17.831885\n",
       "34       체험  17.714968\n",
       "35    생물다양성  17.575743\n",
       "36       이용  17.573827\n",
       "37      생태계  17.494984\n",
       "38       참여  17.467733\n",
       "39       대응  17.162686\n",
       "40       활동  17.094185\n",
       "41      위원회  16.839855\n",
       "42       사고  16.658283\n",
       "43       정부  16.464237\n",
       "44       분석  16.184652\n",
       "45       복원  16.118513\n",
       "46       영향  15.920790\n",
       "47       제도  15.851049\n",
       "48       사용  15.795831\n",
       "49       설치  15.613417"
      ]
     },
     "execution_count": 22,
     "metadata": {},
     "output_type": "execute_result"
    }
   ],
   "source": [
    "result_df"
   ]
  },
  {
   "cell_type": "markdown",
   "metadata": {},
   "source": [
    "## 연도별 키워드 빈도수 분석\n",
    "- 연도별로 나누어서 주요 키워드 출력\n",
    "- 시작년도, 끝년도 지정"
   ]
  },
  {
   "cell_type": "code",
   "execution_count": 23,
   "metadata": {},
   "outputs": [],
   "source": [
    "# 시작년도, 끝년도 지정\n",
    "start_year = 2015\n",
    "end_year = 2018\n",
    "num = 500\n",
    "file_list = filtered_idx_result_df['file_list'].tolist()\n",
    "\n",
    "corpus = [\"\"] * len(file_list)\n",
    "\n",
    "result_df = pd.DataFrame()\n",
    "\n",
    "# 녇도별 문서 추출 후 키워드 빈도수 분석\n",
    "\n",
    "for year in range(int(start_year),int(end_year)+1):\n",
    "    start_date = str(year) + \"-01-01\"\n",
    "    end_date = str(year) + \"-12-31\"\n",
    "    dt_index = (filtered_idx_result_df['date'] >= start_date) & (filtered_idx_result_df['date'] <= end_date)\n",
    "    temp_filtered_idx_result_df = filtered_idx_result_df[dt_index]\n",
    "    file_list = temp_filtered_idx_result_df['file_list'].tolist()\n",
    "\n",
    "    for i in range(len(file_list)):\n",
    "        f = open(file_list[i], 'r',encoding='utf-8',errors=\"ignore\")\n",
    "        doc = f.read()\n",
    "        f.close()\n",
    "        corpus[i] = \" \".join(twitter.nouns(doc))\n",
    "\n",
    "\n",
    "    stop_words = [\"전략\", \"연구\", \"평가\", \"마련\", \"조사\", \"관리\", \"보다\", \"관련\",\"전문가\",\"예정\",\"이번\",\"환경부\", \"환경\", \"기술\", \"사업\", \"산업\", \"기업\",\"우리나라\", \"또한\",\n",
    "            \"총회\", \"대한\", \"통해\", \"한국\",\"국내\",\"개최\",\"행사\",\"우수\",\"장관\",\"피해\",\"해외\",\"일자리\",\"박람회\", \"지원\", \"위해\", \"총회\",\"국제\",\"분야\",\"물의\",\"세계\",\n",
    "            \"환경과학\",\"국립\",\"시민\",\"통합\",\"까지\"]\n",
    "\n",
    "    stop_words = list(set(stop_words))\n",
    "\n",
    "\n",
    "    vect = CountVectorizer(stop_words = stop_words,ngram_range=(1, 2),min_df=0.005,max_df=0.5)\n",
    "    X = vect.fit_transform(corpus)\n",
    "    if(is_tfidf == True):\n",
    "        X = TfidfTransformer().fit_transform(X)\n",
    "        \n",
    "    count = X.toarray().sum(axis=0)\n",
    "    idx = np.argsort(-count)\n",
    "    count = count[idx]\n",
    "\n",
    "    feature_name = np.array(vect.get_feature_names())[idx]\n",
    "\n",
    "    result = list(zip(feature_name[:num], count[:num]))\n",
    "    result = pd.DataFrame(result)\n",
    "    result.columns=[str(year) + ' 키워드','빈도수']\n",
    "    result_df = pd.concat([result_df,result],axis=1)\n",
    "\n",
    "    \n",
    "# 저장 파일 이름 설정\n",
    "\n",
    "fn = \"./keyword_frequency_yearly_basis_result/KF_yearly_TF_\"\n",
    "if is_tfidf == True:\n",
    "    fn = fn + \"norm_TF.txt\"\n",
    "else :\n",
    "    fn = fn + \"_TF.txt\"\n",
    "    \n",
    "result_df.to_csv(fn,encoding=\"UTF8\")"
   ]
  },
  {
   "cell_type": "markdown",
   "metadata": {},
   "source": [
    "## 연도별 키워드 특정 키워드 트랜드 분석\n",
    "- 연도별로 나누어서 주요 키워드 트랜드 출력\n",
    "- 시작년도, 끝년도 지정"
   ]
  },
  {
   "cell_type": "code",
   "execution_count": 68,
   "metadata": {},
   "outputs": [
    {
     "name": "stdout",
     "output_type": "stream",
     "text": [
      "2015\n",
      "2016\n",
      "2017\n",
      "2018\n"
     ]
    },
    {
     "data": {
      "text/html": [
       "<div>\n",
       "<style scoped>\n",
       "    .dataframe tbody tr th:only-of-type {\n",
       "        vertical-align: middle;\n",
       "    }\n",
       "\n",
       "    .dataframe tbody tr th {\n",
       "        vertical-align: top;\n",
       "    }\n",
       "\n",
       "    .dataframe thead th {\n",
       "        text-align: right;\n",
       "    }\n",
       "</style>\n",
       "<table border=\"1\" class=\"dataframe\">\n",
       "  <thead>\n",
       "    <tr style=\"text-align: right;\">\n",
       "      <th></th>\n",
       "      <th>2015</th>\n",
       "      <th>2016</th>\n",
       "      <th>2017</th>\n",
       "      <th>2018</th>\n",
       "    </tr>\n",
       "  </thead>\n",
       "  <tbody>\n",
       "    <tr>\n",
       "      <th>친환경</th>\n",
       "      <td>0.737265</td>\n",
       "      <td>0.898123</td>\n",
       "      <td>0.571754</td>\n",
       "      <td>0.542857</td>\n",
       "    </tr>\n",
       "    <tr>\n",
       "      <th>미세먼지</th>\n",
       "      <td>0.595174</td>\n",
       "      <td>0.571046</td>\n",
       "      <td>0.665148</td>\n",
       "      <td>1.306122</td>\n",
       "    </tr>\n",
       "    <tr>\n",
       "      <th>쓰레기</th>\n",
       "      <td>0.136729</td>\n",
       "      <td>0.136729</td>\n",
       "      <td>0.052392</td>\n",
       "      <td>0.089796</td>\n",
       "    </tr>\n",
       "  </tbody>\n",
       "</table>\n",
       "</div>"
      ],
      "text/plain": [
       "          2015      2016      2017      2018\n",
       "친환경   0.737265  0.898123  0.571754  0.542857\n",
       "미세먼지  0.595174  0.571046  0.665148  1.306122\n",
       "쓰레기   0.136729  0.136729  0.052392  0.089796"
      ]
     },
     "execution_count": 68,
     "metadata": {},
     "output_type": "execute_result"
    }
   ],
   "source": [
    "# 시작년도, 끝년도 지정\n",
    "start_year = 2015\n",
    "end_year = 2018\n",
    "num = 500\n",
    "file_list = filtered_idx_result_df['file_list'].tolist()\n",
    "\n",
    "\n",
    "result_df = pd.DataFrame()\n",
    "keyword_list = ['친환경','미세먼지','쓰레기']\n",
    "\n",
    "# 녇도별 문서 추출 후 키워드 빈도수 분석\n",
    "\n",
    "    \n",
    "result_df = pd.DataFrame()\n",
    "result_df2  = pd.DataFrame()\n",
    "\n",
    "for year in range(int(start_year),int(end_year)+1):\n",
    "    print(year)\n",
    "    start_date = str(year) + \"-01-01\"\n",
    "    end_date = str(year) + \"-12-31\"\n",
    "    dt_idx = (filtered_idx_result_df['date'] >= start_date) & (filtered_idx_result_df['date'] <= end_date)\n",
    "    temp_filtered_idx_result_df = filtered_idx_result_df[dt_idx]\n",
    "    s_ndocs = temp_filtered_idx_result_df.shape[0]\n",
    "    file_list = temp_filtered_idx_result_df['file_list'].tolist()\n",
    "\n",
    "    for i in range(len(file_list)):\n",
    "        f = open(file_list[i], 'r',encoding='utf-8',errors=\"ignore\")\n",
    "        doc = f.read()\n",
    "        f.close()\n",
    "        corpus[i] = doc\n",
    "    \n",
    "    s_corpus_str = \"\".join(corpus)\n",
    "\n",
    "    \n",
    "    result_list = []\n",
    "    result_list2 = []\n",
    "\n",
    "    for k in keyword_list:\n",
    "        result_list.append(s_corpus_str.count(k))  \n",
    "        result_list2.append(s_corpus_str.count(k) / (s_ndocs+1))  \n",
    "        \n",
    "    temp_df = pd.DataFrame(result_list,columns=[str(year)])\n",
    "    temp_df2 = pd.DataFrame(result_list2,columns=[str(year)])\n",
    "    \n",
    "    result_df = pd.concat([result_df,temp_df],axis=1)\n",
    "    result_df2 = pd.concat([result_df2,temp_df2],axis=1)\n",
    "    \n",
    "result_df.index=  keyword_list\n",
    "result_df\n",
    "result_df2.index=  keyword_list\n",
    "result_df2"
   ]
  },
  {
   "cell_type": "code",
   "execution_count": 25,
   "metadata": {},
   "outputs": [
    {
     "data": {
      "text/html": [
       "<div>\n",
       "<style scoped>\n",
       "    .dataframe tbody tr th:only-of-type {\n",
       "        vertical-align: middle;\n",
       "    }\n",
       "\n",
       "    .dataframe tbody tr th {\n",
       "        vertical-align: top;\n",
       "    }\n",
       "\n",
       "    .dataframe thead th {\n",
       "        text-align: right;\n",
       "    }\n",
       "</style>\n",
       "<table border=\"1\" class=\"dataframe\">\n",
       "  <thead>\n",
       "    <tr style=\"text-align: right;\">\n",
       "      <th></th>\n",
       "      <th>2015 키워드</th>\n",
       "      <th>빈도수</th>\n",
       "      <th>2016 키워드</th>\n",
       "      <th>빈도수</th>\n",
       "      <th>2017 키워드</th>\n",
       "      <th>빈도수</th>\n",
       "      <th>2018 키워드</th>\n",
       "      <th>빈도수</th>\n",
       "    </tr>\n",
       "  </thead>\n",
       "  <tbody>\n",
       "    <tr>\n",
       "      <td>0</td>\n",
       "      <td>국립공원</td>\n",
       "      <td>21.143649</td>\n",
       "      <td>국립공원</td>\n",
       "      <td>26.169889</td>\n",
       "      <td>국립공원</td>\n",
       "      <td>27.400513</td>\n",
       "      <td>국립공원</td>\n",
       "      <td>26.467046</td>\n",
       "    </tr>\n",
       "    <tr>\n",
       "      <td>1</td>\n",
       "      <td>생물</td>\n",
       "      <td>17.906115</td>\n",
       "      <td>생물</td>\n",
       "      <td>21.637219</td>\n",
       "      <td>생물</td>\n",
       "      <td>22.542176</td>\n",
       "      <td>생물</td>\n",
       "      <td>17.089152</td>\n",
       "    </tr>\n",
       "    <tr>\n",
       "      <td>2</td>\n",
       "      <td>시설</td>\n",
       "      <td>14.255000</td>\n",
       "      <td>계획</td>\n",
       "      <td>13.442482</td>\n",
       "      <td>국립생태원</td>\n",
       "      <td>16.641167</td>\n",
       "      <td>계획</td>\n",
       "      <td>16.692910</td>\n",
       "    </tr>\n",
       "    <tr>\n",
       "      <td>3</td>\n",
       "      <td>계획</td>\n",
       "      <td>11.206620</td>\n",
       "      <td>지역</td>\n",
       "      <td>12.796866</td>\n",
       "      <td>지역</td>\n",
       "      <td>14.132076</td>\n",
       "      <td>미세먼지</td>\n",
       "      <td>15.369576</td>\n",
       "    </tr>\n",
       "    <tr>\n",
       "      <td>4</td>\n",
       "      <td>공단</td>\n",
       "      <td>11.108979</td>\n",
       "      <td>자원</td>\n",
       "      <td>12.091748</td>\n",
       "      <td>생태</td>\n",
       "      <td>13.689286</td>\n",
       "      <td>지역</td>\n",
       "      <td>15.071264</td>\n",
       "    </tr>\n",
       "    <tr>\n",
       "      <td>...</td>\n",
       "      <td>...</td>\n",
       "      <td>...</td>\n",
       "      <td>...</td>\n",
       "      <td>...</td>\n",
       "      <td>...</td>\n",
       "      <td>...</td>\n",
       "      <td>...</td>\n",
       "      <td>...</td>\n",
       "    </tr>\n",
       "    <tr>\n",
       "      <td>495</td>\n",
       "      <td>발간</td>\n",
       "      <td>1.525294</td>\n",
       "      <td>청사</td>\n",
       "      <td>1.519918</td>\n",
       "      <td>순환</td>\n",
       "      <td>1.779309</td>\n",
       "      <td>집단</td>\n",
       "      <td>1.963810</td>\n",
       "    </tr>\n",
       "    <tr>\n",
       "      <td>496</td>\n",
       "      <td>이전</td>\n",
       "      <td>1.522407</td>\n",
       "      <td>처리 시설</td>\n",
       "      <td>1.518557</td>\n",
       "      <td>워크숍</td>\n",
       "      <td>1.777599</td>\n",
       "      <td>기획</td>\n",
       "      <td>1.963657</td>\n",
       "    </tr>\n",
       "    <tr>\n",
       "      <td>497</td>\n",
       "      <td>처리 시설</td>\n",
       "      <td>1.518283</td>\n",
       "      <td>월악산</td>\n",
       "      <td>1.515177</td>\n",
       "      <td>상수도</td>\n",
       "      <td>1.776748</td>\n",
       "      <td>리움</td>\n",
       "      <td>1.963501</td>\n",
       "    </tr>\n",
       "    <tr>\n",
       "      <td>498</td>\n",
       "      <td>원장 김용주</td>\n",
       "      <td>1.515044</td>\n",
       "      <td>개방</td>\n",
       "      <td>1.514014</td>\n",
       "      <td>의결</td>\n",
       "      <td>1.772255</td>\n",
       "      <td>부장</td>\n",
       "      <td>1.963283</td>\n",
       "    </tr>\n",
       "    <tr>\n",
       "      <td>499</td>\n",
       "      <td>행위</td>\n",
       "      <td>1.513502</td>\n",
       "      <td>관계자</td>\n",
       "      <td>1.508841</td>\n",
       "      <td>중요성</td>\n",
       "      <td>1.764545</td>\n",
       "      <td>대기오염 물질</td>\n",
       "      <td>1.960035</td>\n",
       "    </tr>\n",
       "  </tbody>\n",
       "</table>\n",
       "<p>500 rows × 8 columns</p>\n",
       "</div>"
      ],
      "text/plain": [
       "    2015 키워드        빈도수 2016 키워드        빈도수 2017 키워드        빈도수 2018 키워드  \\\n",
       "0       국립공원  21.143649     국립공원  26.169889     국립공원  27.400513     국립공원   \n",
       "1         생물  17.906115       생물  21.637219       생물  22.542176       생물   \n",
       "2         시설  14.255000       계획  13.442482    국립생태원  16.641167       계획   \n",
       "3         계획  11.206620       지역  12.796866       지역  14.132076     미세먼지   \n",
       "4         공단  11.108979       자원  12.091748       생태  13.689286       지역   \n",
       "..       ...        ...      ...        ...      ...        ...      ...   \n",
       "495       발간   1.525294       청사   1.519918       순환   1.779309       집단   \n",
       "496       이전   1.522407    처리 시설   1.518557      워크숍   1.777599       기획   \n",
       "497    처리 시설   1.518283      월악산   1.515177      상수도   1.776748       리움   \n",
       "498   원장 김용주   1.515044       개방   1.514014       의결   1.772255       부장   \n",
       "499       행위   1.513502      관계자   1.508841      중요성   1.764545  대기오염 물질   \n",
       "\n",
       "           빈도수  \n",
       "0    26.467046  \n",
       "1    17.089152  \n",
       "2    16.692910  \n",
       "3    15.369576  \n",
       "4    15.071264  \n",
       "..         ...  \n",
       "495   1.963810  \n",
       "496   1.963657  \n",
       "497   1.963501  \n",
       "498   1.963283  \n",
       "499   1.960035  \n",
       "\n",
       "[500 rows x 8 columns]"
      ]
     },
     "execution_count": 25,
     "metadata": {},
     "output_type": "execute_result"
    }
   ],
   "source": [
    "result_df"
   ]
  },
  {
   "cell_type": "code",
   "execution_count": 27,
   "metadata": {
    "scrolled": false
   },
   "outputs": [
    {
     "data": {
      "text/plain": [
       "<matplotlib.axes._subplots.AxesSubplot at 0x185a8492408>"
      ]
     },
     "execution_count": 27,
     "metadata": {},
     "output_type": "execute_result"
    },
    {
     "data": {
      "image/png": "[encoded data removed]",
      "text/plain": [
       "<Figure size 432x288 with 1 Axes>"
      ]
     },
     "metadata": {
      "needs_background": "light"
     },
     "output_type": "display_data"
    }
   ],
   "source": [
    "# 막대그래프\n",
    "result_df['빈도수'].T.plot.bar()\n",
    "\n",
    "# 라인그래프\n",
    "#result_df.T.plot.line()"
   ]
  },
  {
   "cell_type": "markdown",
   "metadata": {},
   "source": [
    "## 특정 키워드 빈도수 및 트랜드 (그래프) : 특정 키워드 포함 문서 빈도수 및 트랜드 (그래프)\n",
    "- keywords : 조사할 키워드 목록"
   ]
  },
  {
   "cell_type": "code",
   "execution_count": 96,
   "metadata": {},
   "outputs": [
    {
     "data": {
      "text/html": [
       "<div>\n",
       "<style scoped>\n",
       "    .dataframe tbody tr th:only-of-type {\n",
       "        vertical-align: middle;\n",
       "    }\n",
       "\n",
       "    .dataframe tbody tr th {\n",
       "        vertical-align: top;\n",
       "    }\n",
       "\n",
       "    .dataframe thead th {\n",
       "        text-align: right;\n",
       "    }\n",
       "</style>\n",
       "<table border=\"1\" class=\"dataframe\">\n",
       "  <thead>\n",
       "    <tr style=\"text-align: right;\">\n",
       "      <th></th>\n",
       "      <th>2015</th>\n",
       "      <th>2016</th>\n",
       "      <th>2017</th>\n",
       "      <th>2018</th>\n",
       "    </tr>\n",
       "  </thead>\n",
       "  <tbody>\n",
       "    <tr>\n",
       "      <th>친환경</th>\n",
       "      <td>0.136729</td>\n",
       "      <td>0.168901</td>\n",
       "      <td>0.125285</td>\n",
       "      <td>0.169388</td>\n",
       "    </tr>\n",
       "    <tr>\n",
       "      <th>초미세먼지</th>\n",
       "      <td>0.061662</td>\n",
       "      <td>0.056300</td>\n",
       "      <td>0.107062</td>\n",
       "      <td>0.144898</td>\n",
       "    </tr>\n",
       "    <tr>\n",
       "      <th>쓰레기</th>\n",
       "      <td>0.026810</td>\n",
       "      <td>0.034853</td>\n",
       "      <td>0.022779</td>\n",
       "      <td>0.046939</td>\n",
       "    </tr>\n",
       "  </tbody>\n",
       "</table>\n",
       "</div>"
      ],
      "text/plain": [
       "           2015      2016      2017      2018\n",
       "친환경    0.136729  0.168901  0.125285  0.169388\n",
       "초미세먼지  0.061662  0.056300  0.107062  0.144898\n",
       "쓰레기    0.026810  0.034853  0.022779  0.046939"
      ]
     },
     "execution_count": 96,
     "metadata": {},
     "output_type": "execute_result"
    }
   ],
   "source": [
    "# 시작년도, 끝년도 지정\n",
    "start_year = 2015\n",
    "end_year = 2018\n",
    "num = 500\n",
    "file_list = filtered_idx_result_df['file_list'].tolist()\n",
    "\n",
    "result_df = pd.DataFrame()\n",
    "result_df2 = pd.DataFrame()\n",
    "keyword_list = ['친환경','초미세먼지','쓰레기']\n",
    "\n",
    "for year in range(int(start_year),int(end_year)+1):\n",
    "    result_list = [0]*len(keyword_list)\n",
    "    result_list2 = [0]*len(keyword_list)\n",
    "    \n",
    "    start_date = str(year) + \"-01-01\"\n",
    "    end_date = str(year) + \"-12-31\"\n",
    "    dt_idx = (filtered_idx_result_df['date'] >= start_date) & (filtered_idx_result_df['date'] <= end_date)\n",
    "    temp_filtered_idx_result_df = filtered_idx_result_df[dt_idx]\n",
    "    \n",
    "    s_ndocs = temp_filtered_idx_result_df.shape[0]\n",
    "    file_list = temp_filtered_idx_result_df['file_list'].tolist()\n",
    "\n",
    "    for i in range(len(file_list)):\n",
    "        f = open(file_list[i], 'r',encoding='utf-8',errors=\"ignore\")\n",
    "        doc = f.read()\n",
    "        f.close()\n",
    "        corpus[i] = doc\n",
    "        \n",
    "        for kidx,k in enumerate(keywords):\n",
    "            p = re.compile(k)\n",
    "            ridx = p.search(doc)\n",
    "            if(ridx != None):\n",
    "                result_list[kidx] =  result_list[kidx] + 1\n",
    "                result_list2[kidx] =  result_list2[kidx] + 1\n",
    "                \n",
    "    result_list2 = list(map(lambda x: x / (s_ndocs+1), result_list2))\n",
    "    temp_df = pd.DataFrame(result_list,columns=[str(year)])\n",
    "    temp_df2 = pd.DataFrame(result_list2,columns=[str(year)])\n",
    "    \n",
    "    result_df = pd.concat([result_df,temp_df],axis=1)\n",
    "    result_df2 = pd.concat([result_df2,temp_df2],axis=1)\n",
    "    \n",
    "result_df.index=  keyword_list\n",
    "result_df\n",
    "result_df2.index=  keyword_list\n",
    "result_df2"
   ]
  },
  {
   "cell_type": "code",
   "execution_count": 99,
   "metadata": {},
   "outputs": [
    {
     "data": {
      "text/plain": [
       "<matplotlib.axes._subplots.AxesSubplot at 0x32c2e128>"
      ]
     },
     "execution_count": 99,
     "metadata": {},
     "output_type": "execute_result"
    },
    {
     "name": "stderr",
     "output_type": "stream",
     "text": [
      "C:\\Anaconda\\lib\\site-packages\\matplotlib\\font_manager.py:1320: UserWarning: findfont: Font family ['nanumbarungothic'] not found. Falling back to DejaVu Sans\n",
      "  (prop.get_family(), self.defaultFamily[fontext]))\n"
     ]
    },
    {
     "data": {
      "image/png": "[encoded data removed]",
      "text/plain": [
       "<matplotlib.figure.Figure at 0x1c056a90>"
      ]
     },
     "metadata": {},
     "output_type": "display_data"
    },
    {
     "data": {
      "image/png": "[encoded data removed]",
      "text/plain": [
       "<matplotlib.figure.Figure at 0x189e16d8>"
      ]
     },
     "metadata": {},
     "output_type": "display_data"
    }
   ],
   "source": [
    "# 막대그래프\n",
    "result_df.T.plot.bar()\n",
    "\n",
    "# 라인그래프\n",
    "result_df.T.plot.line()"
   ]
  },
  {
   "cell_type": "markdown",
   "metadata": {},
   "source": [
    "## LDA 분석 : 토픽 모델링 분석\n",
    "- topic_words 변수를 통해 각 주제별 단어 확인 가능"
   ]
  },
  {
   "cell_type": "code",
   "execution_count": 101,
   "metadata": {},
   "outputs": [
    {
     "name": "stderr",
     "output_type": "stream",
     "text": [
      "C:\\Anaconda\\lib\\site-packages\\pyLDAvis\\_prepare.py:387: DeprecationWarning: \n",
      ".ix is deprecated. Please use\n",
      ".loc for label based indexing or\n",
      ".iloc for positional indexing\n",
      "\n",
      "See the documentation here:\n",
      "http://pandas.pydata.org/pandas-docs/stable/indexing.html#ix-indexer-is-deprecated\n",
      "  topic_term_dists = topic_term_dists.ix[topic_order]\n"
     ]
    }
   ],
   "source": [
    "# 인자 설정\n",
    "# Random Seed 값 설정, 이값에 따라 결과 달라짐\n",
    "# 토픽 갯수, 리스트 타입으로 한번에 설정 [5,6,7] 등 한번에 실행도 가능\n",
    "\n",
    "n_topics = [7]\n",
    "random_seed = 1004\n",
    "n_words = 50\n",
    "\n",
    "file_list = filtered_idx_result_df['file_list'].tolist()\n",
    "corpus = [\"\"] * len(file_list)\n",
    "\n",
    "# 파일 내용 읽어서 코퍼스에 저장\n",
    "\n",
    "for i in range(len(file_list)):\n",
    "    f = open(file_list[i], 'r',encoding='utf-8',errors=\"ignore\")\n",
    "    doc = f.read()\n",
    "    f.close()\n",
    "    corpus[i] = \" \".join(twitter.nouns(doc))\n",
    "\n",
    "# Stop words \n",
    "stop_words = [\"전략\", \"연구\", \"평가\", \"마련\", \"조사\", \"관리\", \"보다\", \"분석\", \"구축\",\"개발\",\"정책\",\"대책\",\n",
    "              \"관련\",\"전문가\",\"예정\",\"이번\",\"환경부\", \"환경\", \"기술\", \"사업\", \"산업\", \"기업\",\"우리나라\", \"또한\",\n",
    "              \"총회\", \"대한\", \"통해\", \"한국\",\"국내\",\"개최\",\"행사\",\"우수\",\"서울\",\"장관\",\"호남권\",\"피해\",\"해외\",\"일자리\",\"박람회\",\n",
    "              \"지원\", \"위해\", \"총회\",\"국제\",\"분야\",\"환경기술\"]\n",
    "\n",
    "stop_words = list(set(stop_words))\n",
    "\n",
    "vect = CountVectorizer(stop_words = stop_words,ngram_range=(1, 1),min_df=0.05,max_df=0.3)\n",
    "X = vect.fit_transform(corpus)\n",
    "X = TfidfTransformer().fit_transform(X)\n",
    "\n",
    "\n",
    "for i in n_topics:\n",
    "        \n",
    "    # LDA 수횅\n",
    "    lda = LatentDirichletAllocation(n_components = i,learning_method=\"batch\",random_state=random_seed)\n",
    "    document_topics = lda.fit_transform(X)\n",
    "\n",
    "    sorting = np.argsort(lda.components_, axis=1)[:,::-1]\n",
    "    feature_names = np.array(vect.get_feature_names())\n",
    "\n",
    "    # 각 문서별 주제번호 할당\n",
    "    topic_list = np.argmax(document_topics,axis=1).tolist()\n",
    "\n",
    "    topic_words = pd.DataFrame(feature_names[sorting])\n",
    "    topic_words = topic_words.T\n",
    "    topic_words = topic_words[:n_words]\n",
    "\n",
    "    # 파일경로 지정\n",
    "    fpath =  \"./lda_result/\"  + \"lda_result_n_\" + str(i) + \"_\" + str(random_seed) + \"_\"\n",
    "\n",
    "    # 파일 저장\n",
    "    document_topics = pd.DataFrame(document_topics)\n",
    "    document_topics.to_csv(fpath + \"document_topic.csv\",header=None,index=False,encoding=\"UTF8\")\n",
    "    topic_words.to_csv(fpath + \"topic_words.csv\",header=None,index=False,encoding=\"UTF8\")\n",
    "\n",
    "    # 시각화 및 저장\n",
    "    pyldavis = pyLDAvis.sklearn.prepare(lda, X, vect)\n",
    "    pyLDAvis.save_html(pyldavis,fpath + \"lda.html\")\n"
   ]
  },
  {
   "cell_type": "markdown",
   "metadata": {},
   "source": [
    "## LDA 연도별 추세 : 토픽 모델링 분포 분석\n",
    "- 앞에서 topic_list 에는 각 문서의 주제 번호가 할당되어있음"
   ]
  },
  {
   "cell_type": "code",
   "execution_count": 131,
   "metadata": {},
   "outputs": [],
   "source": [
    "# LDA 년도별 문서 분포 결과 출력\n",
    "\n",
    "topic_list = pd.Series(topic_list)\n",
    "result_df = pd.DataFrame()\n",
    "\n",
    "for year in range(int(start_year),int(end_year)+1):\n",
    "    start_date = str(year) + \"-01-01\"\n",
    "    end_date = str(year) + \"-12-31\"\n",
    "    dt_idx = (filtered_idx_result_df['date'] >= start_date) & (filtered_idx_result_df['date'] <= end_date)\n",
    "    sub_filtered_idx_result_df = filtered_idx_result_df[dt_idx]\n",
    "    sub_topic_list = topic_list[dt_idx]\n",
    "    \n",
    "    result = []\n",
    "    for t in range(max(topic_list) + 1):\n",
    "        num = len(sub_topic_list[sub_topic_list==t])\n",
    "        result.append(num)\n",
    "    \n",
    "    result = pd.Series(result,name=str(year))\n",
    "    result_df = pd.concat([result_df,result],axis=1)            \n",
    "\n",
    "\n",
    "# 비율로 만들기\n",
    "result_df = result_df.T.apply(lambda x: x / x.sum(),axis=1)"
   ]
  },
  {
   "cell_type": "code",
   "execution_count": 132,
   "metadata": {},
   "outputs": [
    {
     "data": {
      "text/html": [
       "<div>\n",
       "<style scoped>\n",
       "    .dataframe tbody tr th:only-of-type {\n",
       "        vertical-align: middle;\n",
       "    }\n",
       "\n",
       "    .dataframe tbody tr th {\n",
       "        vertical-align: top;\n",
       "    }\n",
       "\n",
       "    .dataframe thead th {\n",
       "        text-align: right;\n",
       "    }\n",
       "</style>\n",
       "<table border=\"1\" class=\"dataframe\">\n",
       "  <thead>\n",
       "    <tr style=\"text-align: right;\">\n",
       "      <th></th>\n",
       "      <th>0</th>\n",
       "      <th>1</th>\n",
       "      <th>2</th>\n",
       "      <th>3</th>\n",
       "      <th>4</th>\n",
       "      <th>5</th>\n",
       "      <th>6</th>\n",
       "    </tr>\n",
       "  </thead>\n",
       "  <tbody>\n",
       "    <tr>\n",
       "      <th>2015</th>\n",
       "      <td>0.166667</td>\n",
       "      <td>0.169355</td>\n",
       "      <td>0.456989</td>\n",
       "      <td>0.002688</td>\n",
       "      <td>0.021505</td>\n",
       "      <td>0.110215</td>\n",
       "      <td>0.072581</td>\n",
       "    </tr>\n",
       "    <tr>\n",
       "      <th>2016</th>\n",
       "      <td>0.155914</td>\n",
       "      <td>0.161290</td>\n",
       "      <td>0.438172</td>\n",
       "      <td>0.005376</td>\n",
       "      <td>0.051075</td>\n",
       "      <td>0.104839</td>\n",
       "      <td>0.083333</td>\n",
       "    </tr>\n",
       "    <tr>\n",
       "      <th>2017</th>\n",
       "      <td>0.237443</td>\n",
       "      <td>0.155251</td>\n",
       "      <td>0.358447</td>\n",
       "      <td>0.015982</td>\n",
       "      <td>0.061644</td>\n",
       "      <td>0.066210</td>\n",
       "      <td>0.105023</td>\n",
       "    </tr>\n",
       "    <tr>\n",
       "      <th>2018</th>\n",
       "      <td>0.167689</td>\n",
       "      <td>0.147239</td>\n",
       "      <td>0.402863</td>\n",
       "      <td>0.024540</td>\n",
       "      <td>0.032720</td>\n",
       "      <td>0.094070</td>\n",
       "      <td>0.130879</td>\n",
       "    </tr>\n",
       "  </tbody>\n",
       "</table>\n",
       "</div>"
      ],
      "text/plain": [
       "             0         1         2         3         4         5         6\n",
       "2015  0.166667  0.169355  0.456989  0.002688  0.021505  0.110215  0.072581\n",
       "2016  0.155914  0.161290  0.438172  0.005376  0.051075  0.104839  0.083333\n",
       "2017  0.237443  0.155251  0.358447  0.015982  0.061644  0.066210  0.105023\n",
       "2018  0.167689  0.147239  0.402863  0.024540  0.032720  0.094070  0.130879"
      ]
     },
     "execution_count": 132,
     "metadata": {},
     "output_type": "execute_result"
    }
   ],
   "source": [
    "result_df"
   ]
  },
  {
   "cell_type": "markdown",
   "metadata": {},
   "source": [
    "## LDA 토픽 비율 그래프 그리기\n",
    "- https://dailyheumsi.tistory.com/98 참조"
   ]
  },
  {
   "cell_type": "code",
   "execution_count": 133,
   "metadata": {},
   "outputs": [
    {
     "name": "stderr",
     "output_type": "stream",
     "text": [
      "C:\\Anaconda\\lib\\site-packages\\matplotlib\\font_manager.py:1320: UserWarning: findfont: Font family ['nanumbarungothic'] not found. Falling back to DejaVu Sans\n",
      "  (prop.get_family(), self.defaultFamily[fontext]))\n"
     ]
    },
    {
     "data": {
      "image/png": "[encoded data removed]",
      "text/plain": [
       "<matplotlib.figure.Figure at 0x32cbb048>"
      ]
     },
     "metadata": {},
     "output_type": "display_data"
    }
   ],
   "source": [
    "ax = result_df.plot.barh(stacked=True,legend=False,figsize=(20, 8), title=\"Topic Proportion(%)\")\n",
    "ax.legend(bbox_to_anchor=(1.03, 1),loc=2, borderaxespad=0.)\n",
    "\n",
    "for p in ax.patches: \n",
    "    left, bottom, width, height = p.get_bbox().bounds \n",
    "    ax.annotate(\"%.1f\"%(width*100), xy=(left+width/2, bottom+height/2), ha='center', va='center')"
   ]
  },
  {
   "cell_type": "markdown",
   "metadata": {},
   "source": [
    "## 연관 키워드 분석 (4가지 방법)\n",
    "- 예시로 '친환경' 관련 연관 키워드 분석"
   ]
  },
  {
   "cell_type": "code",
   "execution_count": 134,
   "metadata": {},
   "outputs": [],
   "source": [
    "# Word2vec 학습\n",
    "\n",
    "file_list = filtered_idx_result_df['file_list'].tolist()\n",
    "corpus = [\"\"] * len(file_list)\n",
    "\n",
    "# 파일 내용 읽어서 코퍼스에 저장\n",
    "for i in range(len(file_list)):\n",
    "    #print(i)\n",
    "    f = open(file_list[i], 'r',encoding='utf-8',errors=\"ignore\")\n",
    "    doc = f.read()\n",
    "    f.close()\n",
    "    doc = re.sub('[^가-힝0-9a-zA-Z\\\\s]', '', doc)\n",
    "    temp = twitter.nouns(doc)\n",
    "    \n",
    "    # 1글자 단어 제거\n",
    "    widx_list = list(map(lambda x : len(x) > 1 ,temp))\n",
    "    corpus[i] = list(np.array(temp)[widx_list])\n",
    "\n",
    "model = Word2Vec(corpus)\n",
    "model.init_sims(replace=True)\n",
    "w2v_model = model"
   ]
  },
  {
   "cell_type": "code",
   "execution_count": 135,
   "metadata": {},
   "outputs": [],
   "source": [
    "# 연관 키워드 분석을 수행할 단어 설정 \n",
    "word = '친환경'\n",
    "num = 30"
   ]
  },
  {
   "cell_type": "markdown",
   "metadata": {},
   "source": [
    "## 연관 키워드 분석 1 : word2vec cosine similarity"
   ]
  },
  {
   "cell_type": "code",
   "execution_count": 136,
   "metadata": {},
   "outputs": [],
   "source": [
    "result = pd.DataFrame(w2v_model.most_similar(word,topn=num))\n",
    "result.to_csv(\"./w2v_result/\" + \"w2v_\" + str(word) + \".csv\",encoding=\"UTF8\")\n",
    "#reuslt"
   ]
  },
  {
   "cell_type": "markdown",
   "metadata": {},
   "source": [
    "## 연관 키워드 분석 2 : 연관 단어가 특정단어 근처에서 나타날 확률"
   ]
  },
  {
   "cell_type": "code",
   "execution_count": 138,
   "metadata": {},
   "outputs": [],
   "source": [
    "# 반드시 리스트 타입 사용\n",
    "result2 = pd.DataFrame(w2v_model.predict_output_word([word], topn=num))\n",
    "result2.to_csv(\"./w2v_result/\" + \"w2v2_\"+ str(word) +  \".csv\",encoding=\"UTF8\")\n",
    "#result2"
   ]
  },
  {
   "cell_type": "markdown",
   "metadata": {},
   "source": [
    "## 연관 키워드 분석 3 : 키워드 포함 문장 추출 ⇒ 키워드 빈도수 분석"
   ]
  },
  {
   "cell_type": "code",
   "execution_count": 140,
   "metadata": {},
   "outputs": [
    {
     "data": {
      "text/plain": [
       "[]"
      ]
     },
     "execution_count": 140,
     "metadata": {},
     "output_type": "execute_result"
    }
   ],
   "source": [
    "kkma = Kkma()\n",
    "kkma.pos('')"
   ]
  },
  {
   "cell_type": "code",
   "execution_count": 141,
   "metadata": {},
   "outputs": [],
   "source": [
    "# 문장 최소길이\n",
    "slen = 10\n",
    "\n",
    "# 리스트 타입 사용\n",
    "\n",
    "file_list = filtered_idx_result_df['file_list'].tolist()\n",
    "filtered_sentences= []\n",
    "\n",
    "for i in range(len(file_list)):\n",
    "    f = open(file_list[i], 'r',encoding='utf-8',errors=\"ignore\")\n",
    "    doc = f.read()\n",
    "    new_text = doc.replace(\".\",\".\\n\").replace(\"?\",\"?\\n\").replace(\"!\",\"!\\n\")\n",
    "    sentences = new_text.splitlines()\n",
    "\n",
    "    for s in sentences:\n",
    "        filtered_sentences.append(s)\n",
    "        \n",
    "temp_df = pd.DataFrame(filtered_sentences)\n",
    "temp = []\n",
    "\n",
    "# 특정단어가 포함된 문장만 추출\n",
    "for s in filtered_sentences :\n",
    "    p = re.compile(word)\n",
    "    ridx = p.search(s)\n",
    "\n",
    "    if(ridx == None):\n",
    "        continue   \n",
    "    s = s.strip()\n",
    "    \n",
    "    if len(s) > slen :\n",
    "        temp.append(s)\n",
    "\n",
    "filtered_sentences = temp\n",
    "\n",
    "temp_df = pd.DataFrame(filtered_sentences)\n",
    "\n",
    "# 파일 내용 읽어서 코퍼스에 저장\n",
    "\n",
    "corpus = []     \n",
    "for i in range(len(filtered_sentences)):\n",
    "    corpus.append(\" \".join(twitter.nouns(filtered_sentences[i])))\n",
    "\n",
    "# Stop words \n",
    "stop_words = [\"전략\", \"연구\", \"평가\", \"마련\", \"조사\", \"관리\", \"보다\", \"분석\", \"구축\",\"개발\",\"정책\",\"대책\",\n",
    "              \"관련\",\"전문가\",\"예정\",\"이번\",\"환경부\", \"환경\", \"기술\", \"사업\", \"산업\", \"기업\",\"우리나라\", \"또한\",\n",
    "              \"총회\", \"대한\", \"통해\", \"한국\",\"국내\",\"개최\",\"행사\",\"우수\",\"서울\",\"장관\",\"호남권\",\"피해\",\"해외\",\"일자리\",\"박람회\",\n",
    "              \"지원\", \"위해\", \"총회\",\"국제\",\"분야\",\"환경기술\"]\n",
    "\n",
    "\n",
    "vect = CountVectorizer(stop_words = stop_words,ngram_range=(1, 2),min_df=0.005,max_df=0.3)\n",
    "\n",
    "X = vect.fit_transform(corpus)\n",
    "\n",
    "count = X.toarray().sum(axis=0)\n",
    "idx = np.argsort(-count)\n",
    "count = count[idx]\n",
    "\n",
    "feature_name = np.array(vect.get_feature_names())[idx]\n",
    "\n",
    "co_word_list = list(zip(feature_name[:num], count[:num]))\n",
    "co_word_list = pd.DataFrame(co_word_list)\n",
    "\n",
    "\n",
    "co_word_list.to_csv(\"./sentence_level_cowords/\" +  word + \"_scowords\" + \".csv\",encoding=\"UTF8\")\n",
    "# co_word_list"
   ]
  },
  {
   "cell_type": "markdown",
   "metadata": {},
   "source": [
    "## 연관 키워드 분석 4 : 키워드 포함 문서 추출 ⇒ 키워드 빈도수 분석"
   ]
  },
  {
   "cell_type": "code",
   "execution_count": 143,
   "metadata": {},
   "outputs": [],
   "source": [
    "# 문서추출\n",
    "\n",
    "file_list =  filtered_idx_result_df['file_list'].tolist()\n",
    "temp_idx_result_df = pd.DataFrame()\n",
    "\n",
    "fidx = []\n",
    "didx = []\n",
    "\n",
    "for i in range(len(file_list)):\n",
    "    f = open(file_list[i], 'r',encoding='utf-8',errors=\"ignore\")\n",
    "    doc = f.read() \n",
    "\n",
    "    p = re.compile(word)\n",
    "    ridx = p.search(doc)\n",
    "\n",
    "    if(ridx == None):\n",
    "        next\n",
    "    else:\n",
    "        fidx.append(i)\n",
    "\n",
    "fidx = list(set(fidx))\n",
    "\n",
    "temp_idx_result_df = filtered_idx_result_df.iloc[fidx]\n",
    "temp_idx_result_df = temp_idx_result_df.reset_index(drop=True)\n",
    "\n",
    "file_list =  temp_idx_result_df['file_list'].tolist()\n",
    "\n",
    "corpus = []     \n",
    "for i in range(len(file_list)):\n",
    "    f = open(file_list[i], 'r',encoding='utf-8',errors=\"ignore\")\n",
    "    doc = f.read()\n",
    "    \n",
    "    # 파일 내용 읽어서 코퍼스에 저장\n",
    "    corpus.append(\" \".join(twitter.nouns(doc)))\n",
    "    f.close()\n",
    "\n",
    "# Stop words \n",
    "stop_words = [\"전략\", \"연구\", \"평가\", \"마련\", \"조사\", \"관리\", \"보다\", \"분석\", \"구축\",\"개발\",\"정책\",\"대책\",\n",
    "              \"관련\",\"전문가\",\"예정\",\"이번\",\"환경부\", \"환경\", \"기술\", \"사업\", \"산업\", \"기업\",\"우리나라\", \"또한\",\n",
    "              \"총회\", \"대한\", \"통해\", \"한국\",\"국내\",\"개최\",\"행사\",\"우수\",\"서울\",\"장관\",\"호남권\",\"피해\",\"해외\",\"일자리\",\"박람회\",\n",
    "              \"지원\", \"위해\", \"총회\",\"국제\",\"분야\",\"환경기술\"]\n",
    "\n",
    "stop_words = list(set(stop_words))\n",
    "\n",
    "\n",
    "vect = CountVectorizer(stop_words = stop_words,ngram_range=(1, 2),min_df=0.005,max_df=0.3)\n",
    "\n",
    "X = vect.fit_transform(corpus)\n",
    "\n",
    "count = X.toarray().sum(axis=0)\n",
    "idx = np.argsort(-count)\n",
    "count = count[idx]\n",
    "\n",
    "feature_name = np.array(vect.get_feature_names())[idx]\n",
    "\n",
    "co_word_list = list(zip(feature_name[:num], count[:num]))\n",
    "co_word_list = pd.DataFrame(co_word_list)\n",
    "\n",
    "co_word_list.to_csv(\"./doc_level_cowords/\" + word + \"_cowords\" + \".csv\",encoding=\"UTF8\")"
   ]
  },
  {
   "cell_type": "markdown",
   "metadata": {},
   "source": [
    "## 문서 요약 알고리즘 (TextRank)\n",
    "- 문서양이 많아지고, 문서길이가 속도가 급격하게 느려짐\n",
    "- Cooccurence 행렬의 형태가 단어수*단어수 형태이어서 데이터가 엄청 커질수 있음\n",
    "- 예시로 친환경 키워드가 포함된 제목에 대해서 요약 수행"
   ]
  },
  {
   "cell_type": "code",
   "execution_count": 146,
   "metadata": {},
   "outputs": [],
   "source": [
    "# 문장 요약 갯수 설정\n",
    "\n",
    "cnt = 10\n",
    "# 여기에서는 '친환경'이 포함된 제목만 활용하여 작업 수행\n",
    "\n",
    "s_list = filtered_idx_result_df['title'].tolist()\n",
    "\n",
    "result = []\n",
    "fidx = []\n",
    "\n",
    "for sidx in range(len(s_list)):\n",
    "    p = re.compile(word)\n",
    "    ridx = p.search(s_list[sidx])\n",
    "\n",
    "    if(ridx == None):\n",
    "        next\n",
    "    else:\n",
    "        fidx.append(sidx)\n",
    "    \n",
    "t_list = filtered_idx_result_df['title']\n",
    "t_list = list(t_list.loc[fidx])\n",
    "\n",
    "\n",
    "for idx,t in enumerate(t_list):\n",
    "    t_list[idx] = re.sub('[^가-힝0-9a-zA-Z\\\\s]', '', t)\n",
    "\n",
    "p_sentences = \". \".join(t_list)\n",
    "textrank = TextRank(p_sentences)\n",
    "t = textrank.summarize(count=cnt)\n",
    "t = t.split(\"\\n\")\n",
    "\n",
    "result = pd.DataFrame(t)\n",
    "result.columns=['Sentences']\n",
    "result.to_csv(\"./sentence_summary_result/\" + \"ss_\" + \"친환경\" + \".csv\",encoding=\"UTF8\")"
   ]
  },
  {
   "cell_type": "code",
   "execution_count": 147,
   "metadata": {},
   "outputs": [
    {
     "data": {
      "text/html": [
       "<div>\n",
       "<style scoped>\n",
       "    .dataframe tbody tr th:only-of-type {\n",
       "        vertical-align: middle;\n",
       "    }\n",
       "\n",
       "    .dataframe tbody tr th {\n",
       "        vertical-align: top;\n",
       "    }\n",
       "\n",
       "    .dataframe thead th {\n",
       "        text-align: right;\n",
       "    }\n",
       "</style>\n",
       "<table border=\"1\" class=\"dataframe\">\n",
       "  <thead>\n",
       "    <tr style=\"text-align: right;\">\n",
       "      <th></th>\n",
       "      <th>Sentences</th>\n",
       "    </tr>\n",
       "  </thead>\n",
       "  <tbody>\n",
       "    <tr>\n",
       "      <th>0</th>\n",
       "      <td>친환경자동차 구매 지원 대폭 확대.</td>\n",
       "    </tr>\n",
       "    <tr>\n",
       "      <th>1</th>\n",
       "      <td>친환경에너지타운사업 전국으로 본격 확산.</td>\n",
       "    </tr>\n",
       "    <tr>\n",
       "      <th>2</th>\n",
       "      <td>그린카드 저탄소친환경생활 확산에 앞장서다.</td>\n",
       "    </tr>\n",
       "    <tr>\n",
       "      <th>3</th>\n",
       "      <td>환경부 설 귀성객 대상 친환경 생활 캠페인 펼쳐.</td>\n",
       "    </tr>\n",
       "    <tr>\n",
       "      <th>4</th>\n",
       "      <td>환경산업기술원 친환경 가구문화 선도한다.</td>\n",
       "    </tr>\n",
       "    <tr>\n",
       "      <th>5</th>\n",
       "      <td>친환경에너지타운을 제2의 새마을운동으로 확산.</td>\n",
       "    </tr>\n",
       "    <tr>\n",
       "      <th>6</th>\n",
       "      <td>친환경 소비생활 새로운 그린카드v2와 함께 해요.</td>\n",
       "    </tr>\n",
       "    <tr>\n",
       "      <th>7</th>\n",
       "      <td>그린카드친환경인증농산물 손잡는다.</td>\n",
       "    </tr>\n",
       "    <tr>\n",
       "      <th>8</th>\n",
       "      <td>친환경 국회 함께 만들어 가요.</td>\n",
       "    </tr>\n",
       "    <tr>\n",
       "      <th>9</th>\n",
       "      <td>환경공단 매달 친환경 생활 실천 캠페인 펼쳐.</td>\n",
       "    </tr>\n",
       "  </tbody>\n",
       "</table>\n",
       "</div>"
      ],
      "text/plain": [
       "                     Sentences\n",
       "0          친환경자동차 구매 지원 대폭 확대.\n",
       "1       친환경에너지타운사업 전국으로 본격 확산.\n",
       "2      그린카드 저탄소친환경생활 확산에 앞장서다.\n",
       "3  환경부 설 귀성객 대상 친환경 생활 캠페인 펼쳐.\n",
       "4       환경산업기술원 친환경 가구문화 선도한다.\n",
       "5    친환경에너지타운을 제2의 새마을운동으로 확산.\n",
       "6  친환경 소비생활 새로운 그린카드v2와 함께 해요.\n",
       "7           그린카드친환경인증농산물 손잡는다.\n",
       "8            친환경 국회 함께 만들어 가요.\n",
       "9    환경공단 매달 친환경 생활 실천 캠페인 펼쳐."
      ]
     },
     "execution_count": 147,
     "metadata": {},
     "output_type": "execute_result"
    }
   ],
   "source": [
    "result"
   ]
  }
 ],
 "metadata": {
  "kernelspec": {
   "display_name": "Python 3",
   "language": "python",
   "name": "python3"
  },
  "language_info": {
   "codemirror_mode": {
    "name": "ipython",
    "version": 3
   },
   "file_extension": ".py",
   "mimetype": "text/x-python",
   "name": "python",
   "nbconvert_exporter": "python",
   "pygments_lexer": "ipython3",
   "version": "3.7.4"
  }
 },
 "nbformat": 4,
 "nbformat_minor": 2
}
