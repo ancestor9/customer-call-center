{
 "cells": [
  {
   "cell_type": "code",
   "execution_count": 3,
   "metadata": {},
   "outputs": [],
   "source": [
    "from IPython.core.interactiveshell import InteractiveShell\n",
    "InteractiveShell.ast_node_interactivity = 'all'\n",
    "import numpy as np\n",
    "import pandas as pd\n",
    "import matplotlib.pyplot as plt\n",
    "get_ipython().run_line_magic('matplotlib', 'inline')\n",
    "import seaborn as sns\n",
    "#Configure Defaults\n",
    "import warnings\n",
    "warnings.filterwarnings('ignore')\n",
    "plt.rcParams['font.family']='Malgun Gothic'\n",
    "import missingno as msno\n",
    "from tqdm import tqdm_notebook"
   ]
  },
  {
   "cell_type": "code",
   "execution_count": 4,
   "metadata": {},
   "outputs": [
    {
     "data": {
      "text/html": [
       "<div>\n",
       "<style scoped>\n",
       "    .dataframe tbody tr th:only-of-type {\n",
       "        vertical-align: middle;\n",
       "    }\n",
       "\n",
       "    .dataframe tbody tr th {\n",
       "        vertical-align: top;\n",
       "    }\n",
       "\n",
       "    .dataframe thead th {\n",
       "        text-align: right;\n",
       "    }\n",
       "</style>\n",
       "<table border=\"1\" class=\"dataframe\">\n",
       "  <thead>\n",
       "    <tr style=\"text-align: right;\">\n",
       "      <th></th>\n",
       "      <th>내부고발여부</th>\n",
       "      <th>문서번호</th>\n",
       "      <th>소비자 성명</th>\n",
       "      <th>소비자 주소</th>\n",
       "      <th>식품유형</th>\n",
       "      <th>신고내용</th>\n",
       "      <th>신고내용(내용기재) 200자</th>\n",
       "      <th>신고분류</th>\n",
       "      <th>신고소분류</th>\n",
       "      <th>신고일시</th>\n",
       "      <th>...</th>\n",
       "      <th>조사불가</th>\n",
       "      <th>년도</th>\n",
       "      <th>월</th>\n",
       "      <th>요일</th>\n",
       "      <th>시도</th>\n",
       "      <th>시군구</th>\n",
       "      <th>소시도</th>\n",
       "      <th>소시군구</th>\n",
       "      <th>조시도</th>\n",
       "      <th>조시군구</th>\n",
       "    </tr>\n",
       "  </thead>\n",
       "  <tbody>\n",
       "    <tr>\n",
       "      <td>0</td>\n",
       "      <td>N</td>\n",
       "      <td>A12015-0000108455</td>\n",
       "      <td>최은순</td>\n",
       "      <td>경기도 수원시 영통구 효원로 363 매탄 위브 하늘채 102동 1501호</td>\n",
       "      <td>NaN</td>\n",
       "      <td>이물발견</td>\n",
       "      <td>2014-01-01, `오뚜기옛날자른당면`을 개봉하여 조리를 하기 위해 물에 담가보...</td>\n",
       "      <td>기타</td>\n",
       "      <td>NaN</td>\n",
       "      <td>2015-01-02</td>\n",
       "      <td>...</td>\n",
       "      <td>0</td>\n",
       "      <td>2015.0</td>\n",
       "      <td>1.0</td>\n",
       "      <td>4.0</td>\n",
       "      <td>NaN</td>\n",
       "      <td>NaN</td>\n",
       "      <td>경기도</td>\n",
       "      <td>수원시</td>\n",
       "      <td>경기도</td>\n",
       "      <td>수원시</td>\n",
       "    </tr>\n",
       "    <tr>\n",
       "      <td>1</td>\n",
       "      <td>N</td>\n",
       "      <td>A12015-0000108456</td>\n",
       "      <td>이종범</td>\n",
       "      <td>강원도 원주시 흥업면 한촌길 17 101호</td>\n",
       "      <td>NaN</td>\n",
       "      <td>이물발견</td>\n",
       "      <td>12/30 여주마트에서 땅콩을 구매하심.\\n1/1 제품을 개봉하여 드심.\\n일부가 ...</td>\n",
       "      <td>기타</td>\n",
       "      <td>NaN</td>\n",
       "      <td>2015-01-02</td>\n",
       "      <td>...</td>\n",
       "      <td>0</td>\n",
       "      <td>2015.0</td>\n",
       "      <td>1.0</td>\n",
       "      <td>4.0</td>\n",
       "      <td>NaN</td>\n",
       "      <td>NaN</td>\n",
       "      <td>강원도</td>\n",
       "      <td>원주시</td>\n",
       "      <td>경기도</td>\n",
       "      <td>여주시</td>\n",
       "    </tr>\n",
       "    <tr>\n",
       "      <td>2</td>\n",
       "      <td>N</td>\n",
       "      <td>A12015-0000108451</td>\n",
       "      <td>김민규</td>\n",
       "      <td>경기도 화성시 병점동 느치미마을 주공3단지 301동 203호</td>\n",
       "      <td>NaN</td>\n",
       "      <td>이물검출외(축산물)</td>\n",
       "      <td>*유통기한경과*\\n민원인이 1월 1일 오전 8시 47분경 세븐일레븐 강남2호점에서 ...</td>\n",
       "      <td>기타</td>\n",
       "      <td>NaN</td>\n",
       "      <td>2015-01-02</td>\n",
       "      <td>...</td>\n",
       "      <td>0</td>\n",
       "      <td>2015.0</td>\n",
       "      <td>1.0</td>\n",
       "      <td>4.0</td>\n",
       "      <td>NaN</td>\n",
       "      <td>NaN</td>\n",
       "      <td>경기도</td>\n",
       "      <td>화성시</td>\n",
       "      <td>서울특별시</td>\n",
       "      <td>서초구</td>\n",
       "    </tr>\n",
       "  </tbody>\n",
       "</table>\n",
       "<p>3 rows × 66 columns</p>\n",
       "</div>"
      ],
      "text/plain": [
       "  내부고발여부               문서번호 소비자 성명                                    소비자 주소  \\\n",
       "0      N  A12015-0000108455    최은순  경기도 수원시 영통구 효원로 363 매탄 위브 하늘채 102동 1501호   \n",
       "1      N  A12015-0000108456    이종범                   강원도 원주시 흥업면 한촌길 17 101호   \n",
       "2      N  A12015-0000108451    김민규         경기도 화성시 병점동 느치미마을 주공3단지 301동 203호   \n",
       "\n",
       "  식품유형        신고내용                                    신고내용(내용기재) 200자 신고분류  \\\n",
       "0  NaN        이물발견  2014-01-01, `오뚜기옛날자른당면`을 개봉하여 조리를 하기 위해 물에 담가보...   기타   \n",
       "1  NaN        이물발견  12/30 여주마트에서 땅콩을 구매하심.\\n1/1 제품을 개봉하여 드심.\\n일부가 ...   기타   \n",
       "2  NaN  이물검출외(축산물)  *유통기한경과*\\n민원인이 1월 1일 오전 8시 47분경 세븐일레븐 강남2호점에서 ...   기타   \n",
       "\n",
       "  신고소분류       신고일시  ... 조사불가      년도    월   요일   시도  시군구  소시도 소시군구    조시도 조시군구  \n",
       "0   NaN 2015-01-02  ...    0  2015.0  1.0  4.0  NaN  NaN  경기도  수원시    경기도  수원시  \n",
       "1   NaN 2015-01-02  ...    0  2015.0  1.0  4.0  NaN  NaN  강원도  원주시    경기도  여주시  \n",
       "2   NaN 2015-01-02  ...    0  2015.0  1.0  4.0  NaN  NaN  경기도  화성시  서울특별시  서초구  \n",
       "\n",
       "[3 rows x 66 columns]"
      ]
     },
     "execution_count": 4,
     "metadata": {},
     "output_type": "execute_result"
    }
   ],
   "source": [
    "df = pd.read_pickle('../1399_data/1399_dataset.pkl')\n",
    "df.head(3)"
   ]
  },
  {
   "cell_type": "code",
   "execution_count": 5,
   "metadata": {},
   "outputs": [
    {
     "data": {
      "text/plain": [
       "Index(['내부고발여부', '문서번호', '소비자 성명', '소비자 주소', '식품유형', '신고내용', '신고내용(내용기재) 200자',\n",
       "       '신고분류', '신고소분류', '신고일시', '이물검출기타', '이물검출명', '이물검출코드', '제조원', '제조원 소재지',\n",
       "       '제조원업종', '제품구입장소', '제품명', '조사결과(이물보고)', '조사결과(접수원본) 200자', '조사종결내용',\n",
       "       '종결일시', '진행상태', '처리기간', '행정처분', '현재 처리부서', '시정명령', '과태료', '과징금', '시설개수',\n",
       "       '경고', '음식품폐기', '제품폐기', '원료폐기', '품목정지', '품목류정지', '품목제조정지', '품목류제조정지',\n",
       "       '영업정지', '해당차량영업정지', '영업허가취소', '영업취소', '허가취소', '영업등록취소', '등록취소', '업체폐쇄',\n",
       "       '업소폐쇄', '영업소폐쇄', '폐쇄', '형사고발', '고발', '적발조치', '진행', '진행중', '취하', '이첩',\n",
       "       '조사불가', '년도', '월', '요일', '시도', '시군구', '소시도', '소시군구', '조시도', '조시군구'],\n",
       "      dtype='object')"
      ]
     },
     "execution_count": 5,
     "metadata": {},
     "output_type": "execute_result"
    }
   ],
   "source": [
    "df.columns"
   ]
  },
  {
   "cell_type": "markdown",
   "metadata": {},
   "source": [
    "# <font color='blue'> 1.  검색어(57개)로 수집정보의 제목과 내용 count"
   ]
  },
  {
   "cell_type": "code",
   "execution_count": 25,
   "metadata": {
    "scrolled": true
   },
   "outputs": [
    {
     "data": {
      "text/plain": [
       "332"
      ]
     },
     "execution_count": 25,
     "metadata": {},
     "output_type": "execute_result"
    },
    {
     "data": {
      "text/plain": [
       "0     상한\n",
       "1     변질\n",
       "2     썩은\n",
       "3    곰팡이\n",
       "4     벌레\n",
       "Name: 주제어, dtype: object"
      ]
     },
     "execution_count": 25,
     "metadata": {},
     "output_type": "execute_result"
    }
   ],
   "source": [
    "interest_keywors = pd.read_excel(\"../1399_data/관심주제어.xlsx\")\n",
    "interest_keywors['주제어'] = interest_keywors['주제어'].apply(lambda x : str(x).strip()) # ' 껌' 공백제거\n",
    "interest_keywors = interest_keywors['주제어']\n",
    "len(interest_keywors)\n",
    "interest_keywors.head()"
   ]
  },
  {
   "cell_type": "markdown",
   "metadata": {},
   "source": [
    "# <font color='blue'> 2.  관심주제어(332개, key_words)를 주제어로 TF-IDF 생성\n",
    "## 2.1 DF 만들기"
   ]
  },
  {
   "cell_type": "code",
   "execution_count": 26,
   "metadata": {},
   "outputs": [
    {
     "data": {
      "text/plain": [
       "'상한,변질,썩은,곰팡이,벌레,구더기,부패,불량,냄새,악취,유해,농약,독성,항생제,발암물질,방부제,색소,동물용의약품,곰팡이독소,유독물질,패독,버섯독,마약류,GMO,유전자조작,비식용,불법첨가제,멜라민,색소,사용금지,미승인,의약품,비식품,유통기한경과,기생충,불법도축,밀도축,병든,밀도살,불법도살,불량고기,질병감염동물,병사동물,기생충,포장,용기,가소재,중금속용출,증발잔류물,가소제용출,총용출량,원료성분용출,잔류규격위반,기준치초과,부적합,이물혼입,이물질,위반,첨가물,잔류농약,동물용의약품,방사능,중금속,벤조피렌,다이옥신,곰팡이,벌레,금속,유리,플라스틱,성분검사,이미,이취,이물감,재사용,기준치초과,위생불량,비위생,대장균,세균수,위생제조기준위반,반찬 재사용,강아지, 개, 고양이, 애완동물,밀수입,밀반입,수입신고,가짜,짝퉁,중량미달,불법증량,함량미달,거짓,카라멜,불량품질,불향성분,상표도용,원료건전성불량,저급원료혼합,유사성분혼입,품질위조,허위표시,영양,영양표시,미표시,식중독,대장균,장염,바이러스,살모넬라,병원성균,식중독,규격미달,기준미달,부적합 성분,성분함량 규격위반,품질규격위반,무허가,무신고,원산지허위,원산지 속인,원산지 미표시,원산지 미표기,유통기한,유통기한 미표시,유통기한 위변조,유통기한 경과제품,허위과장,과대광고,소비자혼동,허위과대광고,어린이,정서저해,미끼,피해,설사,식중독,알레르기,병원,입원,구토,두드러기,복통,배탈,내과,치과,응급실,진료,약국,음료,캔,콜라,병,뚜껑,커피,차,탄산,과.채주스,주스,과.채음료,두유,건강관련식품,건강,다이어트,건강기능식품,비타민,효능,효과,크릴오일,새싹보리,노니,즉석식품,도시락,햇반,데워먹는,레토르트,전자레인지,축산물,스팸,곰탕,고기,우유,치즈,영아용조제유,성장기용조제유,햄버거,버거,패티,맥도날드,롯데리아,맘스터치,버거킹,간식,과자,사탕,껌,빵,케이크,면류,라면,컵라면,라면봉지,유탕면,건면,숙면,생면,인터넷,모바일,온라인,카페,블로그,인스타,해외직구,앱,어플,몰,홈쇼핑,인터넷,배송,해외사업자,인터넷사이트,G마켓,11번가,쿠팡,위메프,티몬,인터파크,옥션,마켓컬리,편의점,GS25,세븐일레븐,CU,미니스톱,이마트24,마트,롯데마트,이마트,홈플러스,코스트코,GS슈퍼마켓,홈플러스익스프레스,이마트애브리데이,PC방,카페,스터디카페,구내식당,노래방,병원,애견카페,단란주점,유흥업소,문방구,문구점,배달,치킨,피자,포장,시켜먹음,오토바이,배달앱,요기요,짜장면,외식,예식장,휴게소,뷔페,레스토랑,푸드트럭,맛집,모범업소,추석,설,명절,케이크,휴게소,여행,관광,선물,빼빼로,붕어빵,아이스크림,발렌타인데이,화이트데이,빼빼로데이,김치,절임배추,김장,군인,군부대,사서함,대대,노인,요양,노인,어르신,할머니,할아버지,어린이,영유아,영아,유아,아이,임산부,식중독,사고,대장균 검출,적발,식품위생법,쇳가루,방송,TV,티브이,내부고발,근무,아르바이트,알바,동종업계,행정처분,영업정지,과태료,고발,품목제조정지,시정명령,적합,부적합,회수,폐기,판매중단,시험검사,반복,오인,차단'"
      ]
     },
     "execution_count": 26,
     "metadata": {},
     "output_type": "execute_result"
    },
    {
     "data": {
      "text/plain": [
       "332"
      ]
     },
     "execution_count": 26,
     "metadata": {},
     "output_type": "execute_result"
    },
    {
     "data": {
      "text/plain": [
       "313"
      ]
     },
     "execution_count": 26,
     "metadata": {},
     "output_type": "execute_result"
    }
   ],
   "source": [
    "key_words = pd.read_excel(\"../1399_data/관심주제어.xlsx\")\n",
    "key_words['주제어'] = key_words['주제어'].apply(lambda x : str(x).strip()) # ' 껌' 공백제거\n",
    "key_words = key_words['주제어']\n",
    "\n",
    "','.join(key_words)\n",
    "len(key_words)\n",
    "len(set(key_words))"
   ]
  },
  {
   "cell_type": "code",
   "execution_count": 27,
   "metadata": {},
   "outputs": [
    {
     "data": {
      "text/plain": [
       "Index(['내부고발여부', '문서번호', '소비자 성명', '소비자 주소', '식품유형', '신고내용', '신고내용(내용기재) 200자',\n",
       "       '신고분류', '신고소분류', '신고일시', '이물검출기타', '이물검출명', '이물검출코드', '제조원', '제조원 소재지',\n",
       "       '제조원업종', '제품구입장소', '제품명', '조사결과(이물보고)', '조사결과(접수원본) 200자', '조사종결내용',\n",
       "       '종결일시', '진행상태', '처리기간', '행정처분', '현재 처리부서', '시정명령', '과태료', '과징금', '시설개수',\n",
       "       '경고', '음식품폐기', '제품폐기', '원료폐기', '품목정지', '품목류정지', '품목제조정지', '품목류제조정지',\n",
       "       '영업정지', '해당차량영업정지', '영업허가취소', '영업취소', '허가취소', '영업등록취소', '등록취소', '업체폐쇄',\n",
       "       '업소폐쇄', '영업소폐쇄', '폐쇄', '형사고발', '고발', '적발조치', '진행', '진행중', '취하', '이첩',\n",
       "       '조사불가', '년도', '월', '요일', '시도', '시군구', '소시도', '소시군구', '조시도', '조시군구'],\n",
       "      dtype='object')"
      ]
     },
     "execution_count": 27,
     "metadata": {},
     "output_type": "execute_result"
    }
   ],
   "source": [
    "df.columns"
   ]
  },
  {
   "cell_type": "code",
   "execution_count": 28,
   "metadata": {},
   "outputs": [],
   "source": [
    "food_info = df[['신고일시', '신고내용(내용기재) 200자']]\n",
    "food_info.columns =['신고일시', '내용']"
   ]
  },
  {
   "cell_type": "code",
   "execution_count": 29,
   "metadata": {},
   "outputs": [],
   "source": [
    "food_info['내용'] = food_info['내용'].fillna('조상')"
   ]
  },
  {
   "cell_type": "code",
   "execution_count": 30,
   "metadata": {},
   "outputs": [],
   "source": [
    "food_info.index = np.arange(0, len(food_info)) # To avoid (can not assign duplicate index)"
   ]
  },
  {
   "cell_type": "code",
   "execution_count": 31,
   "metadata": {},
   "outputs": [],
   "source": [
    "def food_type (search_text) :\n",
    "    for i, text in enumerate(food_info['내용']) :\n",
    "        if search_text in regex.findall(text) :\n",
    "            food_info.loc[i,search_text] = 1 #len(regex.findall(text)) # 단어출현빈도인 len(regex.findall(text)) 대신 '1'"
   ]
  },
  {
   "cell_type": "code",
   "execution_count": 32,
   "metadata": {
    "scrolled": true
   },
   "outputs": [
    {
     "data": {
      "application/vnd.jupyter.widget-view+json": {
       "model_id": "74e590e3f29a48d3bef45a3b15cfcde0",
       "version_major": 2,
       "version_minor": 0
      },
      "text/plain": [
       "HBox(children=(IntProgress(value=0, max=332), HTML(value='')))"
      ]
     },
     "metadata": {},
     "output_type": "display_data"
    },
    {
     "name": "stdout",
     "output_type": "stream",
     "text": [
      "\n"
     ]
    }
   ],
   "source": [
    "import re\n",
    "\n",
    "for search_text in tqdm_notebook(key_words) :\n",
    "    regex=re.compile(search_text)\n",
    "    food_info[search_text] = 0\n",
    "    food_type (search_text)"
   ]
  },
  {
   "cell_type": "code",
   "execution_count": 35,
   "metadata": {
    "scrolled": false
   },
   "outputs": [
    {
     "data": {
      "text/html": [
       "<div>\n",
       "<style scoped>\n",
       "    .dataframe tbody tr th:only-of-type {\n",
       "        vertical-align: middle;\n",
       "    }\n",
       "\n",
       "    .dataframe tbody tr th {\n",
       "        vertical-align: top;\n",
       "    }\n",
       "\n",
       "    .dataframe thead th {\n",
       "        text-align: right;\n",
       "    }\n",
       "</style>\n",
       "<table border=\"1\" class=\"dataframe\">\n",
       "  <thead>\n",
       "    <tr style=\"text-align: right;\">\n",
       "      <th></th>\n",
       "      <th>신고일시</th>\n",
       "      <th>내용</th>\n",
       "      <th>상한</th>\n",
       "      <th>변질</th>\n",
       "      <th>썩은</th>\n",
       "      <th>곰팡이</th>\n",
       "      <th>벌레</th>\n",
       "      <th>구더기</th>\n",
       "      <th>부패</th>\n",
       "      <th>불량</th>\n",
       "      <th>...</th>\n",
       "      <th>품목제조정지</th>\n",
       "      <th>시정명령</th>\n",
       "      <th>적합</th>\n",
       "      <th>회수</th>\n",
       "      <th>폐기</th>\n",
       "      <th>판매중단</th>\n",
       "      <th>시험검사</th>\n",
       "      <th>반복</th>\n",
       "      <th>오인</th>\n",
       "      <th>차단</th>\n",
       "    </tr>\n",
       "  </thead>\n",
       "  <tbody>\n",
       "    <tr>\n",
       "      <td>0</td>\n",
       "      <td>2015-01-02 00:00:00</td>\n",
       "      <td>2014-01-01, `오뚜기옛날자른당면`을 개봉하여 조리를 하기 위해 물에 담가보...</td>\n",
       "      <td>0</td>\n",
       "      <td>0</td>\n",
       "      <td>0</td>\n",
       "      <td>0</td>\n",
       "      <td>1</td>\n",
       "      <td>0</td>\n",
       "      <td>0</td>\n",
       "      <td>0</td>\n",
       "      <td>...</td>\n",
       "      <td>0</td>\n",
       "      <td>0</td>\n",
       "      <td>0</td>\n",
       "      <td>0</td>\n",
       "      <td>0</td>\n",
       "      <td>0</td>\n",
       "      <td>0</td>\n",
       "      <td>0</td>\n",
       "      <td>0</td>\n",
       "      <td>0</td>\n",
       "    </tr>\n",
       "    <tr>\n",
       "      <td>1</td>\n",
       "      <td>2015-01-02 00:00:00</td>\n",
       "      <td>12/30 여주마트에서 땅콩을 구매하심.\\n1/1 제품을 개봉하여 드심.\\n일부가 ...</td>\n",
       "      <td>0</td>\n",
       "      <td>0</td>\n",
       "      <td>0</td>\n",
       "      <td>0</td>\n",
       "      <td>1</td>\n",
       "      <td>0</td>\n",
       "      <td>0</td>\n",
       "      <td>0</td>\n",
       "      <td>...</td>\n",
       "      <td>0</td>\n",
       "      <td>0</td>\n",
       "      <td>0</td>\n",
       "      <td>0</td>\n",
       "      <td>0</td>\n",
       "      <td>0</td>\n",
       "      <td>0</td>\n",
       "      <td>0</td>\n",
       "      <td>0</td>\n",
       "      <td>0</td>\n",
       "    </tr>\n",
       "    <tr>\n",
       "      <td>2</td>\n",
       "      <td>2015-01-02 00:00:00</td>\n",
       "      <td>*유통기한경과*\\n민원인이 1월 1일 오전 8시 47분경 세븐일레븐 강남2호점에서 ...</td>\n",
       "      <td>0</td>\n",
       "      <td>0</td>\n",
       "      <td>0</td>\n",
       "      <td>0</td>\n",
       "      <td>0</td>\n",
       "      <td>0</td>\n",
       "      <td>0</td>\n",
       "      <td>0</td>\n",
       "      <td>...</td>\n",
       "      <td>0</td>\n",
       "      <td>0</td>\n",
       "      <td>0</td>\n",
       "      <td>0</td>\n",
       "      <td>0</td>\n",
       "      <td>0</td>\n",
       "      <td>0</td>\n",
       "      <td>0</td>\n",
       "      <td>0</td>\n",
       "      <td>0</td>\n",
       "    </tr>\n",
       "    <tr>\n",
       "      <td>3</td>\n",
       "      <td>2015-01-02 00:00:00</td>\n",
       "      <td>오늘 민원인께서 공군회관 맞은편 씨유편의점에서 `롯데 아몬드 빼빼로`를 구입하였고,...</td>\n",
       "      <td>0</td>\n",
       "      <td>0</td>\n",
       "      <td>0</td>\n",
       "      <td>0</td>\n",
       "      <td>0</td>\n",
       "      <td>0</td>\n",
       "      <td>0</td>\n",
       "      <td>0</td>\n",
       "      <td>...</td>\n",
       "      <td>0</td>\n",
       "      <td>0</td>\n",
       "      <td>0</td>\n",
       "      <td>0</td>\n",
       "      <td>0</td>\n",
       "      <td>0</td>\n",
       "      <td>0</td>\n",
       "      <td>0</td>\n",
       "      <td>0</td>\n",
       "      <td>0</td>\n",
       "    </tr>\n",
       "    <tr>\n",
       "      <td>4</td>\n",
       "      <td>2015-01-02 00:00:00</td>\n",
       "      <td>12/31 소담(수입식품가게)에서 무장아찌구매하심.\\n유통기한이 13.02.28까지...</td>\n",
       "      <td>0</td>\n",
       "      <td>0</td>\n",
       "      <td>0</td>\n",
       "      <td>0</td>\n",
       "      <td>0</td>\n",
       "      <td>0</td>\n",
       "      <td>0</td>\n",
       "      <td>0</td>\n",
       "      <td>...</td>\n",
       "      <td>0</td>\n",
       "      <td>0</td>\n",
       "      <td>0</td>\n",
       "      <td>0</td>\n",
       "      <td>0</td>\n",
       "      <td>0</td>\n",
       "      <td>0</td>\n",
       "      <td>0</td>\n",
       "      <td>0</td>\n",
       "      <td>0</td>\n",
       "    </tr>\n",
       "    <tr>\n",
       "      <td>...</td>\n",
       "      <td>...</td>\n",
       "      <td>...</td>\n",
       "      <td>...</td>\n",
       "      <td>...</td>\n",
       "      <td>...</td>\n",
       "      <td>...</td>\n",
       "      <td>...</td>\n",
       "      <td>...</td>\n",
       "      <td>...</td>\n",
       "      <td>...</td>\n",
       "      <td>...</td>\n",
       "      <td>...</td>\n",
       "      <td>...</td>\n",
       "      <td>...</td>\n",
       "      <td>...</td>\n",
       "      <td>...</td>\n",
       "      <td>...</td>\n",
       "      <td>...</td>\n",
       "      <td>...</td>\n",
       "      <td>...</td>\n",
       "      <td>...</td>\n",
       "    </tr>\n",
       "    <tr>\n",
       "      <td>52879</td>\n",
       "      <td>2019-12-31 17:26:00</td>\n",
       "      <td>&lt;세븐일레븐 응암푸르지오점 유통기한 경과 제품 판매&gt;\\n민원인은 2019-12-30...</td>\n",
       "      <td>0</td>\n",
       "      <td>0</td>\n",
       "      <td>0</td>\n",
       "      <td>0</td>\n",
       "      <td>0</td>\n",
       "      <td>0</td>\n",
       "      <td>0</td>\n",
       "      <td>0</td>\n",
       "      <td>...</td>\n",
       "      <td>0</td>\n",
       "      <td>0</td>\n",
       "      <td>0</td>\n",
       "      <td>0</td>\n",
       "      <td>0</td>\n",
       "      <td>0</td>\n",
       "      <td>0</td>\n",
       "      <td>0</td>\n",
       "      <td>0</td>\n",
       "      <td>0</td>\n",
       "    </tr>\n",
       "    <tr>\n",
       "      <td>52880</td>\n",
       "      <td>2019-12-31 11:28:00</td>\n",
       "      <td>&lt;코랄칼슘마그네슘플러스비타민디 가품 의심&gt; 한글 파일 첨부</td>\n",
       "      <td>0</td>\n",
       "      <td>0</td>\n",
       "      <td>0</td>\n",
       "      <td>0</td>\n",
       "      <td>0</td>\n",
       "      <td>0</td>\n",
       "      <td>0</td>\n",
       "      <td>0</td>\n",
       "      <td>...</td>\n",
       "      <td>0</td>\n",
       "      <td>0</td>\n",
       "      <td>0</td>\n",
       "      <td>0</td>\n",
       "      <td>0</td>\n",
       "      <td>0</td>\n",
       "      <td>0</td>\n",
       "      <td>0</td>\n",
       "      <td>0</td>\n",
       "      <td>0</td>\n",
       "    </tr>\n",
       "    <tr>\n",
       "      <td>52881</td>\n",
       "      <td>2019-12-31 10:27:00</td>\n",
       "      <td>&lt;노브랜드맛있는 군밤 곰팡이 이물 발견&gt;\\n민원인은 2019-12-11 노브랜드 마...</td>\n",
       "      <td>0</td>\n",
       "      <td>0</td>\n",
       "      <td>0</td>\n",
       "      <td>0</td>\n",
       "      <td>0</td>\n",
       "      <td>0</td>\n",
       "      <td>0</td>\n",
       "      <td>0</td>\n",
       "      <td>...</td>\n",
       "      <td>0</td>\n",
       "      <td>0</td>\n",
       "      <td>0</td>\n",
       "      <td>0</td>\n",
       "      <td>0</td>\n",
       "      <td>0</td>\n",
       "      <td>0</td>\n",
       "      <td>0</td>\n",
       "      <td>0</td>\n",
       "      <td>0</td>\n",
       "    </tr>\n",
       "    <tr>\n",
       "      <td>52882</td>\n",
       "      <td>2019-12-31 09:16:00</td>\n",
       "      <td>&lt;브라질넛 위해성의심&gt; \\n민원인은 2019-12월 중순경, 이마트 트레이더스 구성...</td>\n",
       "      <td>0</td>\n",
       "      <td>0</td>\n",
       "      <td>0</td>\n",
       "      <td>0</td>\n",
       "      <td>0</td>\n",
       "      <td>0</td>\n",
       "      <td>0</td>\n",
       "      <td>0</td>\n",
       "      <td>...</td>\n",
       "      <td>0</td>\n",
       "      <td>0</td>\n",
       "      <td>0</td>\n",
       "      <td>0</td>\n",
       "      <td>0</td>\n",
       "      <td>0</td>\n",
       "      <td>0</td>\n",
       "      <td>0</td>\n",
       "      <td>0</td>\n",
       "      <td>0</td>\n",
       "    </tr>\n",
       "    <tr>\n",
       "      <td>52883</td>\n",
       "      <td>2019-12-31 17:03:00</td>\n",
       "      <td>&lt;분말한천 이취&gt;\\n민원인은 2019-12-29 쿠팡(판매처: (주)우리가스토리, ...</td>\n",
       "      <td>0</td>\n",
       "      <td>0</td>\n",
       "      <td>0</td>\n",
       "      <td>0</td>\n",
       "      <td>0</td>\n",
       "      <td>0</td>\n",
       "      <td>0</td>\n",
       "      <td>0</td>\n",
       "      <td>...</td>\n",
       "      <td>0</td>\n",
       "      <td>0</td>\n",
       "      <td>0</td>\n",
       "      <td>0</td>\n",
       "      <td>0</td>\n",
       "      <td>0</td>\n",
       "      <td>0</td>\n",
       "      <td>0</td>\n",
       "      <td>0</td>\n",
       "      <td>0</td>\n",
       "    </tr>\n",
       "  </tbody>\n",
       "</table>\n",
       "<p>52884 rows × 315 columns</p>\n",
       "</div>"
      ],
      "text/plain": [
       "                     신고일시                                                 내용  \\\n",
       "0     2015-01-02 00:00:00  2014-01-01, `오뚜기옛날자른당면`을 개봉하여 조리를 하기 위해 물에 담가보...   \n",
       "1     2015-01-02 00:00:00  12/30 여주마트에서 땅콩을 구매하심.\\n1/1 제품을 개봉하여 드심.\\n일부가 ...   \n",
       "2     2015-01-02 00:00:00  *유통기한경과*\\n민원인이 1월 1일 오전 8시 47분경 세븐일레븐 강남2호점에서 ...   \n",
       "3     2015-01-02 00:00:00  오늘 민원인께서 공군회관 맞은편 씨유편의점에서 `롯데 아몬드 빼빼로`를 구입하였고,...   \n",
       "4     2015-01-02 00:00:00  12/31 소담(수입식품가게)에서 무장아찌구매하심.\\n유통기한이 13.02.28까지...   \n",
       "...                   ...                                                ...   \n",
       "52879 2019-12-31 17:26:00  <세븐일레븐 응암푸르지오점 유통기한 경과 제품 판매>\\n민원인은 2019-12-30...   \n",
       "52880 2019-12-31 11:28:00                   <코랄칼슘마그네슘플러스비타민디 가품 의심> 한글 파일 첨부   \n",
       "52881 2019-12-31 10:27:00  <노브랜드맛있는 군밤 곰팡이 이물 발견>\\n민원인은 2019-12-11 노브랜드 마...   \n",
       "52882 2019-12-31 09:16:00  <브라질넛 위해성의심> \\n민원인은 2019-12월 중순경, 이마트 트레이더스 구성...   \n",
       "52883 2019-12-31 17:03:00  <분말한천 이취>\\n민원인은 2019-12-29 쿠팡(판매처: (주)우리가스토리, ...   \n",
       "\n",
       "       상한  변질  썩은  곰팡이  벌레  구더기  부패  불량  ...  품목제조정지  시정명령  적합  회수  폐기  판매중단  \\\n",
       "0       0   0   0    0   1    0   0   0  ...       0     0   0   0   0     0   \n",
       "1       0   0   0    0   1    0   0   0  ...       0     0   0   0   0     0   \n",
       "2       0   0   0    0   0    0   0   0  ...       0     0   0   0   0     0   \n",
       "3       0   0   0    0   0    0   0   0  ...       0     0   0   0   0     0   \n",
       "4       0   0   0    0   0    0   0   0  ...       0     0   0   0   0     0   \n",
       "...    ..  ..  ..  ...  ..  ...  ..  ..  ...     ...   ...  ..  ..  ..   ...   \n",
       "52879   0   0   0    0   0    0   0   0  ...       0     0   0   0   0     0   \n",
       "52880   0   0   0    0   0    0   0   0  ...       0     0   0   0   0     0   \n",
       "52881   0   0   0    0   0    0   0   0  ...       0     0   0   0   0     0   \n",
       "52882   0   0   0    0   0    0   0   0  ...       0     0   0   0   0     0   \n",
       "52883   0   0   0    0   0    0   0   0  ...       0     0   0   0   0     0   \n",
       "\n",
       "       시험검사  반복  오인  차단  \n",
       "0         0   0   0   0  \n",
       "1         0   0   0   0  \n",
       "2         0   0   0   0  \n",
       "3         0   0   0   0  \n",
       "4         0   0   0   0  \n",
       "...     ...  ..  ..  ..  \n",
       "52879     0   0   0   0  \n",
       "52880     0   0   0   0  \n",
       "52881     0   0   0   0  \n",
       "52882     0   0   0   0  \n",
       "52883     0   0   0   0  \n",
       "\n",
       "[52884 rows x 315 columns]"
      ]
     },
     "execution_count": 35,
     "metadata": {},
     "output_type": "execute_result"
    }
   ],
   "source": [
    "food_info"
   ]
  },
  {
   "cell_type": "code",
   "execution_count": 45,
   "metadata": {},
   "outputs": [],
   "source": [
    "## str.count()와 findall() 같은 결과"
   ]
  },
  {
   "cell_type": "code",
   "execution_count": 37,
   "metadata": {},
   "outputs": [],
   "source": [
    "from ckonlpy.tag import Twitter\n",
    "twitter = Twitter()"
   ]
  },
  {
   "cell_type": "code",
   "execution_count": 42,
   "metadata": {},
   "outputs": [],
   "source": [
    "search_text ='벌레'"
   ]
  },
  {
   "cell_type": "code",
   "execution_count": 48,
   "metadata": {},
   "outputs": [
    {
     "data": {
      "text/plain": [
       "'2014-01-01, `오뚜기옛날자른당면`을 개봉하여 조리를 하기 위해 물에 담가보니, 10마리정도 되는 벌레가 떠올랐다고 함. 업체에도 말씀을 하시고, 구입처 점장과도 제품과 이물을 확인한 상태. 해당 제품에서 이러한 이물이 발견된 부분에 대해 문제가 있다고 판단되어 1399로 신고접수. 해당 제품과 이물에 대한 원인조사 요청. \\n\\n*정확한 구입일은 확인불가. 한달이내라고 말씀하심.'"
      ]
     },
     "execution_count": 48,
     "metadata": {},
     "output_type": "execute_result"
    },
    {
     "data": {
      "text/plain": [
       "0"
      ]
     },
     "execution_count": 48,
     "metadata": {},
     "output_type": "execute_result"
    }
   ],
   "source": [
    "food_info['내용'][0]\n",
    "twitter.nouns(food_info['내용'][3]).count(search_text)"
   ]
  },
  {
   "cell_type": "code",
   "execution_count": 50,
   "metadata": {},
   "outputs": [
    {
     "data": {
      "text/plain": [
       "[]"
      ]
     },
     "execution_count": 50,
     "metadata": {},
     "output_type": "execute_result"
    }
   ],
   "source": [
    "regex=re.compile(search_text)\n",
    "regex.findall(food_info['내용'][3])"
   ]
  },
  {
   "cell_type": "code",
   "execution_count": 31,
   "metadata": {},
   "outputs": [],
   "source": [
    "def food_type (search_text) :\n",
    "    for i, text in enumerate(food_info['내용'][0:10]) :\n",
    "        if search_text in regex.findall(text) :\n",
    "            food_info.loc[i,search_text] = 1 #len(regex.findall(text)) # 단어출현빈도인 len(regex.findall(text)) 대신 '1'"
   ]
  },
  {
   "cell_type": "code",
   "execution_count": null,
   "metadata": {},
   "outputs": [],
   "source": [
    "for search_text in tqdm_notebook(key_words) :\n",
    "    regex=re.compile(search_text)\n",
    "    food_info[search_text] = 0\n",
    "    food_type (search_text)"
   ]
  },
  {
   "cell_type": "code",
   "execution_count": 34,
   "metadata": {},
   "outputs": [
    {
     "data": {
      "text/plain": [
       "Index(['신고일시', '내용', '상한', '변질', '썩은', '곰팡이', '벌레', '구더기', '부패', '불량',\n",
       "       ...\n",
       "       '품목제조정지', '시정명령', '적합', '회수', '폐기', '판매중단', '시험검사', '반복', '오인', '차단'],\n",
       "      dtype='object', length=315)"
      ]
     },
     "execution_count": 34,
     "metadata": {},
     "output_type": "execute_result"
    }
   ],
   "source": [
    "food_info.columns"
   ]
  },
  {
   "cell_type": "code",
   "execution_count": 20,
   "metadata": {},
   "outputs": [],
   "source": [
    "food_info.to_pickle('../1399_output/dataset_keywords.pkl')"
   ]
  },
  {
   "cell_type": "code",
   "execution_count": 6,
   "metadata": {},
   "outputs": [],
   "source": [
    "df = pd.read_pickle('../1399_output/dataset_keywords.pkl')"
   ]
  },
  {
   "cell_type": "code",
   "execution_count": 7,
   "metadata": {},
   "outputs": [
    {
     "data": {
      "text/html": [
       "<div>\n",
       "<style scoped>\n",
       "    .dataframe tbody tr th:only-of-type {\n",
       "        vertical-align: middle;\n",
       "    }\n",
       "\n",
       "    .dataframe tbody tr th {\n",
       "        vertical-align: top;\n",
       "    }\n",
       "\n",
       "    .dataframe thead th {\n",
       "        text-align: right;\n",
       "    }\n",
       "</style>\n",
       "<table border=\"1\" class=\"dataframe\">\n",
       "  <thead>\n",
       "    <tr style=\"text-align: right;\">\n",
       "      <th></th>\n",
       "      <th>신고일시</th>\n",
       "      <th>내용</th>\n",
       "      <th>상한</th>\n",
       "      <th>변질</th>\n",
       "      <th>썩은</th>\n",
       "      <th>곰팡이</th>\n",
       "      <th>벌레</th>\n",
       "      <th>구더기</th>\n",
       "      <th>부패</th>\n",
       "      <th>불량</th>\n",
       "      <th>...</th>\n",
       "      <th>품목제조정지</th>\n",
       "      <th>시정명령</th>\n",
       "      <th>적합</th>\n",
       "      <th>회수</th>\n",
       "      <th>폐기</th>\n",
       "      <th>판매중단</th>\n",
       "      <th>시험검사</th>\n",
       "      <th>반복</th>\n",
       "      <th>오인</th>\n",
       "      <th>차단</th>\n",
       "    </tr>\n",
       "  </thead>\n",
       "  <tbody>\n",
       "    <tr>\n",
       "      <td>0</td>\n",
       "      <td>2015-01-02</td>\n",
       "      <td>2014-01-01, `오뚜기옛날자른당면`을 개봉하여 조리를 하기 위해 물에 담가보...</td>\n",
       "      <td>0</td>\n",
       "      <td>0</td>\n",
       "      <td>0</td>\n",
       "      <td>0</td>\n",
       "      <td>1</td>\n",
       "      <td>0</td>\n",
       "      <td>0</td>\n",
       "      <td>0</td>\n",
       "      <td>...</td>\n",
       "      <td>0</td>\n",
       "      <td>0</td>\n",
       "      <td>0</td>\n",
       "      <td>0</td>\n",
       "      <td>0</td>\n",
       "      <td>0</td>\n",
       "      <td>0</td>\n",
       "      <td>0</td>\n",
       "      <td>0</td>\n",
       "      <td>0</td>\n",
       "    </tr>\n",
       "    <tr>\n",
       "      <td>1</td>\n",
       "      <td>2015-01-02</td>\n",
       "      <td>12/30 여주마트에서 땅콩을 구매하심.\\n1/1 제품을 개봉하여 드심.\\n일부가 ...</td>\n",
       "      <td>0</td>\n",
       "      <td>0</td>\n",
       "      <td>0</td>\n",
       "      <td>0</td>\n",
       "      <td>1</td>\n",
       "      <td>0</td>\n",
       "      <td>0</td>\n",
       "      <td>0</td>\n",
       "      <td>...</td>\n",
       "      <td>0</td>\n",
       "      <td>0</td>\n",
       "      <td>0</td>\n",
       "      <td>0</td>\n",
       "      <td>0</td>\n",
       "      <td>0</td>\n",
       "      <td>0</td>\n",
       "      <td>0</td>\n",
       "      <td>0</td>\n",
       "      <td>0</td>\n",
       "    </tr>\n",
       "    <tr>\n",
       "      <td>2</td>\n",
       "      <td>2015-01-02</td>\n",
       "      <td>*유통기한경과*\\n민원인이 1월 1일 오전 8시 47분경 세븐일레븐 강남2호점에서 ...</td>\n",
       "      <td>0</td>\n",
       "      <td>0</td>\n",
       "      <td>0</td>\n",
       "      <td>0</td>\n",
       "      <td>0</td>\n",
       "      <td>0</td>\n",
       "      <td>0</td>\n",
       "      <td>0</td>\n",
       "      <td>...</td>\n",
       "      <td>0</td>\n",
       "      <td>0</td>\n",
       "      <td>0</td>\n",
       "      <td>0</td>\n",
       "      <td>0</td>\n",
       "      <td>0</td>\n",
       "      <td>0</td>\n",
       "      <td>0</td>\n",
       "      <td>0</td>\n",
       "      <td>0</td>\n",
       "    </tr>\n",
       "    <tr>\n",
       "      <td>3</td>\n",
       "      <td>2015-01-02</td>\n",
       "      <td>오늘 민원인께서 공군회관 맞은편 씨유편의점에서 `롯데 아몬드 빼빼로`를 구입하였고,...</td>\n",
       "      <td>0</td>\n",
       "      <td>0</td>\n",
       "      <td>0</td>\n",
       "      <td>0</td>\n",
       "      <td>0</td>\n",
       "      <td>0</td>\n",
       "      <td>0</td>\n",
       "      <td>0</td>\n",
       "      <td>...</td>\n",
       "      <td>0</td>\n",
       "      <td>0</td>\n",
       "      <td>0</td>\n",
       "      <td>0</td>\n",
       "      <td>0</td>\n",
       "      <td>0</td>\n",
       "      <td>0</td>\n",
       "      <td>0</td>\n",
       "      <td>0</td>\n",
       "      <td>0</td>\n",
       "    </tr>\n",
       "    <tr>\n",
       "      <td>4</td>\n",
       "      <td>2015-01-02</td>\n",
       "      <td>12/31 소담(수입식품가게)에서 무장아찌구매하심.\\n유통기한이 13.02.28까지...</td>\n",
       "      <td>0</td>\n",
       "      <td>0</td>\n",
       "      <td>0</td>\n",
       "      <td>0</td>\n",
       "      <td>0</td>\n",
       "      <td>0</td>\n",
       "      <td>0</td>\n",
       "      <td>0</td>\n",
       "      <td>...</td>\n",
       "      <td>0</td>\n",
       "      <td>0</td>\n",
       "      <td>0</td>\n",
       "      <td>0</td>\n",
       "      <td>0</td>\n",
       "      <td>0</td>\n",
       "      <td>0</td>\n",
       "      <td>0</td>\n",
       "      <td>0</td>\n",
       "      <td>0</td>\n",
       "    </tr>\n",
       "  </tbody>\n",
       "</table>\n",
       "<p>5 rows × 315 columns</p>\n",
       "</div>"
      ],
      "text/plain": [
       "        신고일시                                                 내용  상한  변질  썩은  \\\n",
       "0 2015-01-02  2014-01-01, `오뚜기옛날자른당면`을 개봉하여 조리를 하기 위해 물에 담가보...   0   0   0   \n",
       "1 2015-01-02  12/30 여주마트에서 땅콩을 구매하심.\\n1/1 제품을 개봉하여 드심.\\n일부가 ...   0   0   0   \n",
       "2 2015-01-02  *유통기한경과*\\n민원인이 1월 1일 오전 8시 47분경 세븐일레븐 강남2호점에서 ...   0   0   0   \n",
       "3 2015-01-02  오늘 민원인께서 공군회관 맞은편 씨유편의점에서 `롯데 아몬드 빼빼로`를 구입하였고,...   0   0   0   \n",
       "4 2015-01-02  12/31 소담(수입식품가게)에서 무장아찌구매하심.\\n유통기한이 13.02.28까지...   0   0   0   \n",
       "\n",
       "   곰팡이  벌레  구더기  부패  불량  ...  품목제조정지  시정명령  적합  회수  폐기  판매중단  시험검사  반복  오인  차단  \n",
       "0    0   1    0   0   0  ...       0     0   0   0   0     0     0   0   0   0  \n",
       "1    0   1    0   0   0  ...       0     0   0   0   0     0     0   0   0   0  \n",
       "2    0   0    0   0   0  ...       0     0   0   0   0     0     0   0   0   0  \n",
       "3    0   0    0   0   0  ...       0     0   0   0   0     0     0   0   0   0  \n",
       "4    0   0    0   0   0  ...       0     0   0   0   0     0     0   0   0   0  \n",
       "\n",
       "[5 rows x 315 columns]"
      ]
     },
     "execution_count": 7,
     "metadata": {},
     "output_type": "execute_result"
    }
   ],
   "source": [
    "df.head()"
   ]
  },
  {
   "cell_type": "code",
   "execution_count": null,
   "metadata": {},
   "outputs": [],
   "source": []
  }
 ],
 "metadata": {
  "kernelspec": {
   "display_name": "Python 3",
   "language": "python",
   "name": "python3"
  },
  "language_info": {
   "codemirror_mode": {
    "name": "ipython",
    "version": 3
   },
   "file_extension": ".py",
   "mimetype": "text/x-python",
   "name": "python",
   "nbconvert_exporter": "python",
   "pygments_lexer": "ipython3",
   "version": "3.7.4"
  }
 },
 "nbformat": 4,
 "nbformat_minor": 2
}
