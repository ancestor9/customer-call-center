{
 "cells": [
  {
   "cell_type": "markdown",
   "metadata": {},
   "source": [
    "## 1. 조건문 (condition statement)"
   ]
  },
  {
   "cell_type": "code",
   "execution_count": 72,
   "metadata": {},
   "outputs": [
    {
     "name": "stdout",
     "output_type": "stream",
     "text": [
      "나는 학생이다.\n"
     ]
    }
   ],
   "source": [
    "# 일반적인 boolean 변수를 이용한 조건문\n",
    "is_student = True\n",
    "if is_student :\n",
    "    print('나는 학생이다.')\n",
    "else:\n",
    "    print('나는 학생이 아니다.')"
   ]
  },
  {
   "cell_type": "code",
   "execution_count": 74,
   "metadata": {},
   "outputs": [
    {
     "name": "stdout",
     "output_type": "stream",
     "text": [
      "a is 0\n",
      "b is not 0\n"
     ]
    }
   ],
   "source": [
    "# 정수형 변수에 의한 조건문\n",
    "a = 0\n",
    "b = 3\n",
    "if a :\n",
    "    print('a is not 0')\n",
    "else :\n",
    "    print('a is 0')\n",
    "\n",
    "if b :\n",
    "    print('b is not 0')\n",
    "else :\n",
    "    print('b is 0')"
   ]
  },
  {
   "cell_type": "code",
   "execution_count": 75,
   "metadata": {},
   "outputs": [],
   "source": [
    "# Q. Float 0.0은 False로 분류가 될까?\n"
   ]
  },
  {
   "cell_type": "code",
   "execution_count": 76,
   "metadata": {},
   "outputs": [
    {
     "name": "stdout",
     "output_type": "stream",
     "text": [
      "Something is not in a\n",
      "Something is in b\n",
      "h is in b\n"
     ]
    }
   ],
   "source": [
    "# 문자열 변수에 의한 조건문\n",
    "\n",
    "a = \"\"\n",
    "b = \"hello\"\n",
    "\n",
    "if a :\n",
    "    print(\"Something is in a\")\n",
    "else:\n",
    "    print(\"Something is not in a\")\n",
    "    \n",
    "if b :\n",
    "    print(\"Something is in b\")\n",
    "else:\n",
    "    print(\"Something is not in b\")\n",
    "\n",
    "if 'h' in b:\n",
    "    print('h is in b')\n"
   ]
  },
  {
   "cell_type": "code",
   "execution_count": 78,
   "metadata": {},
   "outputs": [
    {
     "name": "stdout",
     "output_type": "stream",
     "text": [
      "a is empty\n",
      "b is not empty\n",
      "1 is in b\n"
     ]
    }
   ],
   "source": [
    "# 리스트형 변수에 의한 조건문\n",
    "a = []\n",
    "b = [1,2,3]\n",
    "\n",
    "if a :\n",
    "    print(\"a is not empty\")\n",
    "else :\n",
    "    print(\"a is empty\")\n",
    "    \n",
    "if b :\n",
    "    print(\"b is not empty\")\n",
    "else :\n",
    "    print(\"b is empty\")\n",
    "    \n",
    "if 1 in b:\n",
    "    print(\"1 is in b\")"
   ]
  },
  {
   "cell_type": "code",
   "execution_count": 79,
   "metadata": {},
   "outputs": [],
   "source": [
    "# Q. 왜 다음 조건문은 True가 아닐까?\n",
    "if '1' in b:\n",
    "    print(\"1 is in b\")"
   ]
  },
  {
   "cell_type": "code",
   "execution_count": 80,
   "metadata": {},
   "outputs": [
    {
     "name": "stdout",
     "output_type": "stream",
     "text": [
      "dict a is empty\n",
      "Korea is in b\n"
     ]
    }
   ],
   "source": [
    "a = {}\n",
    "b = {\"Korea\":10, \"China\":0}\n",
    "\n",
    "if a :\n",
    "    print(\"dict a is not empty\")\n",
    "else :\n",
    "    print(\"dict a is empty\")\n",
    "\n",
    "if \"Korea\" in b:\n",
    "    print(\"Korea is in b\")"
   ]
  },
  {
   "cell_type": "code",
   "execution_count": null,
   "metadata": {},
   "outputs": [],
   "source": [
    "# Q. 10이라는 Value가 dictionary에 있는지는 어떻게 확인할까?"
   ]
  },
  {
   "cell_type": "code",
   "execution_count": 82,
   "metadata": {},
   "outputs": [
    {
     "name": "stdout",
     "output_type": "stream",
     "text": [
      "False\n"
     ]
    }
   ],
   "source": [
    "is_empty = True\n",
    "x = [1,2,3,4]\n",
    "if x :\n",
    "    is_empty = False\n",
    "else:\n",
    "    is_empty = True\n",
    "print(is_empty)"
   ]
  },
  {
   "cell_type": "code",
   "execution_count": 85,
   "metadata": {},
   "outputs": [
    {
     "name": "stdout",
     "output_type": "stream",
     "text": [
      "False\n"
     ]
    }
   ],
   "source": [
    "is_empty = False if x else True\n",
    "print(is_empty)"
   ]
  },
  {
   "cell_type": "markdown",
   "metadata": {},
   "source": [
    "## 2. 반복문 (loop statement)"
   ]
  },
  {
   "cell_type": "code",
   "execution_count": 1,
   "metadata": {},
   "outputs": [
    {
     "name": "stdout",
     "output_type": "stream",
     "text": [
      "0\n",
      "1\n",
      "2\n",
      "3\n",
      "4\n",
      "5\n",
      "6\n",
      "7\n",
      "8\n",
      "9\n"
     ]
    }
   ],
   "source": [
    "# for loop\n",
    "for i in range(0,10):\n",
    "    print(i)"
   ]
  },
  {
   "cell_type": "code",
   "execution_count": 2,
   "metadata": {},
   "outputs": [
    {
     "name": "stdout",
     "output_type": "stream",
     "text": [
      "0\n",
      "2\n",
      "4\n",
      "6\n",
      "8\n"
     ]
    }
   ],
   "source": [
    "for i in range(0,10,2):\n",
    "    print(i)"
   ]
  },
  {
   "cell_type": "code",
   "execution_count": 3,
   "metadata": {},
   "outputs": [],
   "source": [
    "# Q. 10부터 0까지는 1씩 감소하는 for loop는?"
   ]
  },
  {
   "cell_type": "code",
   "execution_count": 4,
   "metadata": {},
   "outputs": [],
   "source": [
    "list_a = ['Orange', 'Apple', 'Banana']\n",
    "dict_a = {'Orange':3, 'Apple':4, 'Banana':2}"
   ]
  },
  {
   "cell_type": "code",
   "execution_count": 5,
   "metadata": {},
   "outputs": [
    {
     "name": "stdout",
     "output_type": "stream",
     "text": [
      "Orange\n",
      "Apple\n",
      "Banana\n"
     ]
    }
   ],
   "source": [
    "for a in list_a:\n",
    "    print(a)"
   ]
  },
  {
   "cell_type": "code",
   "execution_count": 6,
   "metadata": {},
   "outputs": [
    {
     "name": "stdout",
     "output_type": "stream",
     "text": [
      "0 Orange\n",
      "1 Apple\n",
      "2 Banana\n"
     ]
    }
   ],
   "source": [
    "for index, value in enumerate(list_a):\n",
    "    print(index, value)"
   ]
  },
  {
   "cell_type": "code",
   "execution_count": 7,
   "metadata": {},
   "outputs": [
    {
     "name": "stdout",
     "output_type": "stream",
     "text": [
      "Orange\n",
      "Apple\n",
      "Banana\n"
     ]
    }
   ],
   "source": [
    "for a in dict_a:\n",
    "    print(a)"
   ]
  },
  {
   "cell_type": "code",
   "execution_count": 8,
   "metadata": {},
   "outputs": [
    {
     "name": "stdout",
     "output_type": "stream",
     "text": [
      "Orange 3\n",
      "Apple 4\n",
      "Banana 2\n"
     ]
    }
   ],
   "source": [
    "for a in dict_a:\n",
    "    print(a, dict_a[a])"
   ]
  },
  {
   "cell_type": "code",
   "execution_count": 9,
   "metadata": {},
   "outputs": [
    {
     "name": "stdout",
     "output_type": "stream",
     "text": [
      "Orange 3\n",
      "Apple 4\n",
      "Banana 2\n"
     ]
    }
   ],
   "source": [
    "for k,v in dict_a.items():\n",
    "    print(k, v)"
   ]
  },
  {
   "cell_type": "code",
   "execution_count": 10,
   "metadata": {},
   "outputs": [],
   "source": [
    "import time"
   ]
  },
  {
   "cell_type": "code",
   "execution_count": 11,
   "metadata": {},
   "outputs": [
    {
     "name": "stdout",
     "output_type": "stream",
     "text": [
      "1.60 초\n"
     ]
    }
   ],
   "source": [
    "# 0 부터 9999999까지 원소를 갖는 list x를 만들어보자 Option 1\n",
    "start_time = time.time()\n",
    "x = []\n",
    "for i in range(0,10000000):\n",
    "    x.append(i)\n",
    "\n",
    "print(f\"{time.time()-start_time:.2f} 초\")"
   ]
  },
  {
   "cell_type": "code",
   "execution_count": 12,
   "metadata": {},
   "outputs": [
    {
     "name": "stdout",
     "output_type": "stream",
     "text": [
      "0.99 초\n"
     ]
    }
   ],
   "source": [
    "# 0 부터 9999999까지 원소를 갖는 list x를 만들어보자 Option 2\n",
    "start_time = time.time()\n",
    "x = [i for i in range(0,10000000)]\n",
    "print(f\"{time.time()-start_time:.2f} 초\")"
   ]
  },
  {
   "cell_type": "code",
   "execution_count": null,
   "metadata": {},
   "outputs": [],
   "source": []
  }
 ],
 "metadata": {
  "kernelspec": {
   "display_name": "Python 3",
   "language": "python",
   "name": "python3"
  },
  "language_info": {
   "codemirror_mode": {
    "name": "ipython",
    "version": 3
   },
   "file_extension": ".py",
   "mimetype": "text/x-python",
   "name": "python",
   "nbconvert_exporter": "python",
   "pygments_lexer": "ipython3",
   "version": "3.7.4"
  }
 },
 "nbformat": 4,
 "nbformat_minor": 2
}
